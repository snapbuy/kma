{
  "cells": [
    {
      "cell_type": "code",
      "execution_count": null,
      "metadata": {
        "collapsed": false
      },
      "outputs": [],
      "source": [
        "%matplotlib inline"
      ]
    },
    {
      "cell_type": "markdown",
      "metadata": {},
      "source": [
        "\nTorchScript \uc18c\uac1c\n===========================\n\n**Author**: James Reed (jamesreed@fb.com), Michael Suo (suo@fb.com), rev2\n\n**\ubc88\uc5ed**: `\uac15\uc900\ud601 <https://github.com/k1101jh>`_\n\n\uc774 \ud29c\ud1a0\ub9ac\uc5bc\uc740 C++\uc640 \uac19\uc740 \uace0\uc131\ub2a5 \ud658\uacbd\uc5d0\uc11c \uc2e4\ud589\ub420 \uc218 \uc788\ub294\nPyTorch \ubaa8\ub378(``nn.Module`` \uc758 \ud558\uc704\ud074\ub798\uc2a4)\uc758 \uc911\uac04 \ud45c\ud604\uc778\nTorchScript\uc5d0 \ub300\ud55c \uc18c\uac1c\uc785\ub2c8\ub2e4.\n\n\uc774 \ud29c\ud1a0\ub9ac\uc5bc\uc5d0\uc11c\ub294 \ub2e4\uc74c\uc744 \ub2e4\ub8f0 \uac83\uc785\ub2c8\ub2e4:\n\n1. \ub2e4\uc74c\uc744 \ud3ec\ud568\ud55c PyTorch\uc758 \ubaa8\ub378 \uc81c\uc791\uc758 \uae30\ubcf8:\n\n-  \ubaa8\ub4c8(Modules)\n-  ``forward`` \ud568\uc218 \uc815\uc758\ud558\uae30\n-  \ubaa8\ub4c8\uc744 \uacc4\uce35 \uad6c\uc870\ub85c \uad6c\uc131\ud558\uae30\n\n2. PyTorch \ubaa8\ub4c8\uc744 \uace0\uc131\ub2a5 \ubc30\ud3ec \ub7f0\ud0c0\uc784\uc778 TorchScript\ub85c \ubcc0\ud658\ud558\ub294 \ud2b9\uc815 \ubc29\ubc95\n\n-  \uae30\uc874 \ubaa8\ub4c8 \ucd94\uc801\ud558\uae30\n-  \uc2a4\ud06c\ub9bd\ud2b8\ub97c \uc0ac\uc6a9\ud558\uc5ec \ubaa8\ub4c8\uc744 \uc9c1\uc811 \ucef4\ud30c\uc77c\ud558\uae30\n-  \ub450 \uac00\uc9c0 \uc811\uadfc \ubc29\ubc95\uc744 \uad6c\uc131\ud558\ub294 \ubc29\ubc95\n-  TorchScript \ubaa8\ub4c8 \uc800\uc7a5 \ubc0f \ubd88\ub7ec\uc624\uae30\n\n\uc774 \ud29c\ud1a0\ub9ac\uc5bc\uc744 \uc644\ub8cc\ud55c \ud6c4\uc5d0\ub294\n`\ub2e4\uc74c \ud559\uc2b5\uc11c <https://tutorials.pytorch.kr/advanced/cpp_export.html>`_\n\ub97c \ud1b5\ud574 C++\uc5d0\uc11c TorchScript \ubaa8\ub378\uc744 \uc2e4\uc81c\ub85c \ud638\ucd9c\ud558\ub294 \uc608\uc81c\ub97c \uc548\ub0b4\ud569\ub2c8\ub2e4.\n"
      ]
    },
    {
      "cell_type": "code",
      "execution_count": null,
      "metadata": {
        "collapsed": false
      },
      "outputs": [],
      "source": [
        "import torch  # This is all you need to use both PyTorch and TorchScript!\nprint(torch.__version__)"
      ]
    },
    {
      "cell_type": "markdown",
      "metadata": {},
      "source": [
        "PyTorch \ubaa8\ub378 \uc791\uc131\uc758 \uae30\ucd08\n---------------------------------\n\n\uac04\ub2e8\ud55c ``Module`` \uc744 \uc815\uc758\ud558\ub294 \uac83\ubd80\ud130 \uc2dc\uc791\ud558\uaca0\uc2b5\ub2c8\ub2e4. ``Module`` \uc740 PyTorch\uc758\n\uae30\ubcf8 \uad6c\uc131 \ub2e8\uc704\uc785\ub2c8\ub2e4. \uc774\uac83\uc740 \ub2e4\uc74c\uc744 \ud3ec\ud568\ud569\ub2c8\ub2e4:\n\n1. \ud638\ucd9c\uc744 \uc704\ud574 \ubaa8\ub4c8\uc744 \uc900\ube44\ud558\ub294 \uc0dd\uc131\uc790\n2. ``Parameters`` \uc9d1\ud569\uacfc \ud558\uc704 ``Module`` . \uc774\uac83\ub4e4\uc740 \uc0dd\uc131\uc790\uc5d0 \uc758\ud574 \ucd08\uae30\ud654\ub418\uba70\n   \ud638\ucd9c \uc911\uc5d0 \ubaa8\ub4c8\uc5d0 \uc758\ud574 \uc0ac\uc6a9\ub420 \uc218 \uc788\uc2b5\ub2c8\ub2e4.\n3. ``forward`` \ud568\uc218. \ubaa8\ub4c8\uc774 \ud638\ucd9c\ub420 \ub54c \uc2e4\ud589\ub418\ub294 \ucf54\ub4dc\uc785\ub2c8\ub2e4.\n\n\uc791\uc740 \uc608\uc81c\ub85c \uc2dc\uc791\ud574 \ubcf4\uac9f\uc2b5\ub2c8\ub2e4:\n\n\n"
      ]
    },
    {
      "cell_type": "code",
      "execution_count": null,
      "metadata": {
        "collapsed": false
      },
      "outputs": [],
      "source": [
        "class MyCell(torch.nn.Module):\n    def __init__(self):\n        super(MyCell, self).__init__()\n\n    def forward(self, x, h):\n        new_h = torch.tanh(x + h)\n        return new_h, new_h\n\nmy_cell = MyCell()\nx = torch.rand(3, 4)\nh = torch.rand(3, 4)\nprint(my_cell(x, h))"
      ]
    },
    {
      "cell_type": "markdown",
      "metadata": {},
      "source": [
        "\uc6b0\ub9ac\ub294 \ub2e4\uc74c \uc791\uc5c5\uc744 \uc218\ud589\ud588\uc2b5\ub2c8\ub2e4.:\n\n1. \ud558\uc704 \ud074\ub798\uc2a4\ub85c ``torch.nn.Module`` \uc744 \uac16\ub294 \ud074\ub798\uc2a4\ub97c \uc0dd\uc131\ud588\uc2b5\ub2c8\ub2e4.\n2. \uc0dd\uc131\uc790\ub97c \uc815\uc758\ud588\uc2b5\ub2c8\ub2e4. \uc0dd\uc131\uc790\ub294 \ub9ce\uc740 \uc791\uc5c5\uc744 \uc218\ud589\ud558\uc9c0 \uc54a\uace0 ``super`` \ub85c\n   \uc0dd\uc131\uc790\ub97c \ud638\ucd9c\ud569\ub2c8\ub2e4.\n3. \ub450 \uac1c\uc758 \uc785\ub825\uc744 \ubc1b\uc544 \ub450 \uac1c\uc758 \ucd9c\ub825\uc744 \ubc18\ud658\ud558\ub294 ``forward`` \ud568\uc218\ub97c \uc815\uc758\ud588\uc2b5\ub2c8\ub2e4.\n   ``forward`` \ud568\uc218\uc758 \uc2e4\uc81c \ub0b4\uc6a9\uc740 \ud06c\uac8c \uc911\uc694\ud558\uc9c4 \uc54a\uc9c0\ub9cc, \uac00\uc9dc `RNN\n   cell <https://colah.github.io/posts/2015-08-Understanding-LSTMs/>`__ \uc758\n   \uc77c\uc885\uc785\ub2c8\ub2e4. \uc989, \ubc18\ubcf5(loop)\uc5d0 \uc801\uc6a9\ub418\ub294 \ud568\uc218\uc785\ub2c8\ub2e4.\n\n\ubaa8\ub4c8\uc744 \uc778\uc2a4\ud134\uc2a4\ud654\ud558\uace0, 3x4 \ud06c\uae30\uc758 \ubb34\uc791\uc704 \uac12\ub4e4\ub85c \uc774\ub8e8\uc5b4\uc9c4 \ud589\ub82c ``x`` \uc640 ``h`` \ub97c\n\ub9cc\ub4e4\uc5c8\uc2b5\ub2c8\ub2e4.\n\uadf8\ub7f0 \ub2e4\uc74c, ``my_cell(x, h)`` \ub97c \uc774\uc6a9\ud574 cell\uc744 \ud638\ucd9c\ud588\uc2b5\ub2c8\ub2e4. \uc774\uac83\uc740 ``forward``\n\ud568\uc218\ub97c \ud638\ucd9c\ud569\ub2c8\ub2e4.\n\n\uc880 \ub354 \ud765\ubbf8\ub85c\uc6b4 \uac83\uc744 \ud574\ubd05\uc2dc\ub2e4:\n\n\n"
      ]
    },
    {
      "cell_type": "code",
      "execution_count": null,
      "metadata": {
        "collapsed": false
      },
      "outputs": [],
      "source": [
        "class MyCell(torch.nn.Module):\n    def __init__(self):\n        super(MyCell, self).__init__()\n        self.linear = torch.nn.Linear(4, 4)\n\n    def forward(self, x, h):\n        new_h = torch.tanh(self.linear(x) + h)\n        return new_h, new_h\n\nmy_cell = MyCell()\nprint(my_cell)\nprint(my_cell(x, h))"
      ]
    },
    {
      "cell_type": "markdown",
      "metadata": {},
      "source": [
        "\ubaa8\ub4c8 ``MyCell`` \uc744 \uc7ac\uc815\uc758\ud588\uc9c0\ub9cc, \uc774\ubc88\uc5d0\ub294 ``self.linear`` \uc18d\uc131\uc744 \ucd94\uac00\ud558\uace0\nforward \ud568\uc218\uc5d0\uc11c ``self.linear`` \uc744 \ud638\ucd9c\ud588\uc2b5\ub2c8\ub2e4.\n\n\uc5ec\uae30\uc11c \ubb34\uc2a8 \uc77c\uc774 \uc77c\uc5b4\ub0a0\uae4c\uc694? ``torch.nn.Linear`` \uc740 ``MyCell`` \uacfc\n\ub9c8\ucc2c\uac00\uc9c0\ub85c PyTorch \ud45c\uc900 \ub77c\uc774\ube0c\ub7ec\ub9ac\uc758 ``Module`` \uc785\ub2c8\ub2e4. \uc774\uac83\uc740 \ud638\ucd9c \uad6c\ubb38\uc744\n\uc0ac\uc6a9\ud558\uc5ec \ud638\ucd9c\ud560 \uc218 \uc788\uc2b5\ub2c8\ub2e4. \uc6b0\ub9ac\ub294 ``Module`` \uc758 \uacc4\uce35\uc744 \uad6c\ucd95\ud558\uace0 \uc788\uc2b5\ub2c8\ub2e4.\n\n``Module`` \uc5d0\uc11c ``print`` \ud558\ub294 \uac83\uc740 ``Module`` \uc758 \ud558\uc704 \ud074\ub798\uc2a4 \uacc4\uce35\uc5d0 \ub300\ud55c\n\uc2dc\uac01\uc801 \ud45c\ud604\uc744 \uc81c\uacf5\ud560 \uac83\uc785\ub2c8\ub2e4. \uc774 \uc608\uc81c\uc5d0\uc11c\ub294 ``Linear`` \uc758 \ud558\uc704 \ud074\ub798\uc2a4\uc640\n\ud558\uc704 \ud074\ub798\uc2a4\uc758 \ub9e4\uac1c \ubcc0\uc218\ub97c \ubcfc \uc218 \uc788\uc2b5\ub2c8\ub2e4.\n\n``Module`` \uc744 \uc774\ub7f0 \ubc29\uc2dd\uc73c\ub85c \uc791\uc131\ud558\uba74, \uc7ac\uc0ac\uc6a9 \uac00\ub2a5\ud55c \uad6c\uc131 \uc694\uc18c\ub97c \uc0ac\uc6a9\ud558\uc5ec\n\ubaa8\ub378\uc744 \uac04\uacb0\ud558\uace0 \uc77d\uae30 \uc27d\uac8c \uc791\uc131\ud560 \uc218 \uc788\uc2b5\ub2c8\ub2e4.\n\n\uc5ec\ub7ec\ubd84\uc740 \ucd9c\ub825\ub41c \ub0b4\uc6a9\uc5d0\uc11c ``grad_fn`` \uc744 \ud655\uc778\ud558\uc168\uc744 \uac83\uc785\ub2c8\ub2e4. \uc774\uac83\uc740\n`\uc624\ud1a0\uadf8\ub77c\ub4dc(autograd) <https://tutorials.pytorch.kr/beginner/blitz/autograd_tutorial.html>`__\n\ub77c \ubd88\ub9ac\ub294 PyTorch\uc758 \uc790\ub3d9 \ubbf8\ubd84 \ubc29\ubc95\uc758 \uc138\ubd80 \uc815\ubcf4\uc785\ub2c8\ub2e4. \uc694\ucee8\ub370, \uc774 \uc2dc\uc2a4\ud15c\uc740\n\uc7a0\uc7ac\uc801\uc73c\ub85c \ubcf5\uc7a1\ud55c \ud504\ub85c\uadf8\ub7a8\uc744 \ud1b5\ud574 \ubbf8\ubd84\uc744 \uacc4\uc0b0\ud560 \uc218 \uc788\uac8c \ud569\ub2c8\ub2e4. \uc774 \ub514\uc790\uc778\uc740\n\ubaa8\ub378 \uc81c\uc791\uc5d0 \uc5c4\uccad\ub09c \uc720\uc5f0\uc131\uc744 \uc81c\uacf5\ud569\ub2c8\ub2e4.\n\n\uc774\uc81c \uc720\uc5f0\uc131\uc744 \uc2dc\ud5d8\ud574 \ubcf4\uaca0\uc2b5\ub2c8\ub2e4.\n\n\n"
      ]
    },
    {
      "cell_type": "code",
      "execution_count": null,
      "metadata": {
        "collapsed": false
      },
      "outputs": [],
      "source": [
        "class MyDecisionGate(torch.nn.Module):\n    def forward(self, x):\n        if x.sum() > 0:\n            return x\n        else:\n            return -x\n\nclass MyCell(torch.nn.Module):\n    def __init__(self):\n        super(MyCell, self).__init__()\n        self.dg = MyDecisionGate()\n        self.linear = torch.nn.Linear(4, 4)\n\n    def forward(self, x, h):\n        new_h = torch.tanh(self.dg(self.linear(x)) + h)\n        return new_h, new_h\n\nmy_cell = MyCell()\nprint(my_cell)\nprint(my_cell(x, h))"
      ]
    },
    {
      "cell_type": "markdown",
      "metadata": {},
      "source": [
        "MyCell \ud074\ub798\uc2a4\ub97c \ub2e4\uc2dc \uc815\uc758\ud588\uc9c0\ub9cc, \uc5ec\uae30\uc120 ``MyDecisionGate`` \ub97c \uc815\uc758\ud588\uc2b5\ub2c8\ub2e4.\n\uc774 \ubaa8\ub4c8\uc740 **\uc81c\uc5b4 \ud750\ub984** \uc744 \ud65c\uc6a9\ud569\ub2c8\ub2e4. \uc81c\uc5b4 \ud750\ub984\uc740 \ub8e8\ud504\uc640 ``if`` \uba85\ub839\ubb38\uacfc\n\uac19\uc740 \uac83\uc73c\ub85c \uad6c\uc131\ub429\ub2c8\ub2e4.\n\n\ub9ce\uc740 \ud504\ub808\uc784\uc6cc\ud06c\ub4e4\uc740 \uc8fc\uc5b4\uc9c4 \ud504\ub85c\uadf8\ub7a8 \ucf54\ub4dc\ub85c\ubd80\ud130 \uae30\ud638\uc2dd \ubbf8\ubd84(symbolic\nderivatives)\uc744 \uacc4\uc0b0\ud558\ub294 \uc811\uadfc\ubc95\uc744 \ucde8\ud558\uace0 \uc788\uc2b5\ub2c8\ub2e4. \ud558\uc9c0\ub9cc, PyTorch\uc5d0\uc11c\ub294 \ubcc0\ud654\ub3c4\n\ud14c\uc774\ud504(gradient tape)\ub97c \uc0ac\uc6a9\ud569\ub2c8\ub2e4. \uc5f0\uc0b0\uc774 \ubc1c\uc0dd\ud560 \ub54c \uc774\ub97c \uae30\ub85d\ud558\uace0, \ubbf8\ubd84\uac12\uc744\n\uacc4\uc0b0\ud560 \ub54c \uac70\uafb8\ub85c \uc7ac\uc0dd\ud569\ub2c8\ub2e4. \uc774\ub7f0 \ubc29\uc2dd\uc73c\ub85c, \ud504\ub808\uc784\uc6cc\ud06c\ub294 \uc5b8\uc5b4\uc758 \ubaa8\ub4e0 \uad6c\ubb38\uc5d0\n\ub300\ud55c \ubbf8\ubd84\uac12\uc744 \uba85\uc2dc\uc801\uc73c\ub85c \uc815\uc758\ud560 \ud544\uc694\uac00 \uc5c6\uc2b5\ub2c8\ub2e4.\n\n.. figure:: https://github.com/pytorch/pytorch/raw/master/docs/source/_static/img/dynamic_graph.gif\n   :alt: \uc624\ud1a0\uadf8\ub77c\ub4dc\uac00 \uc791\ub3d9\ud558\ub294 \ubc29\uc2dd\n\n   \uc624\ud1a0\uadf8\ub77c\ub4dc\uac00 \uc791\ub3d9\ud558\ub294 \ubc29\uc2dd\n\n\n"
      ]
    },
    {
      "cell_type": "markdown",
      "metadata": {},
      "source": [
        "TorchScript\uc758 \uae30\ucd08\n---------------------\n\n\uc774\uc81c \uc2e4\ud589 \uc608\uc81c\ub97c \uc0b4\ud3b4\ubcf4\uace0 TorchScript\ub97c \uc801\uc6a9\ud558\ub294 \ubc29\ubc95\uc744 \uc0b4\ud3b4\ubcf4\uaca0\uc2b5\ub2c8\ub2e4.\n\n\ud55c\ub9c8\ub514\ub85c, TorchScript\ub294 PyTorch\uc758 \uc720\uc5f0\ud558\uace0 \ub3d9\uc801\uc778 \ud2b9\uc131\uc744 \uace0\ub824\ud558\uc5ec \ubaa8\ub378 \uc815\uc758\ub97c\n\ucea1\uccd0\ud560 \uc218 \uc788\ub294 \ub3c4\uad6c\ub97c \uc81c\uacf5\ud569\ub2c8\ub2e4.\n**\ucd94\uc801(tracing)** \uc774\ub77c \ubd80\ub974\ub294 \uac83\uc744 \uac80\uc0ac\ud558\ub294 \uac83\uc73c\ub85c \uc2dc\uc791\ud558\uaca0\uc2b5\ub2c8\ub2e4.\n\n``Module`` \ucd94\uc801\n~~~~~~~~~~~~~~~~~~~\n\n\n"
      ]
    },
    {
      "cell_type": "code",
      "execution_count": null,
      "metadata": {
        "collapsed": false
      },
      "outputs": [],
      "source": [
        "class MyCell(torch.nn.Module):\n    def __init__(self):\n        super(MyCell, self).__init__()\n        self.linear = torch.nn.Linear(4, 4)\n\n    def forward(self, x, h):\n        new_h = torch.tanh(self.linear(x) + h)\n        return new_h, new_h\n\nmy_cell = MyCell()\nx, h = torch.rand(3, 4), torch.rand(3, 4)\ntraced_cell = torch.jit.trace(my_cell, (x, h))\nprint(traced_cell)\ntraced_cell(x, h)"
      ]
    },
    {
      "cell_type": "markdown",
      "metadata": {},
      "source": [
        "\uc0b4\uc9dd \uc55e\uc73c\ub85c \ub3cc\uc544\uac00 ``MyCell`` \uc758 \ub450 \ubc88\uc9f8 \ubc84\uc804\uc744 \uac00\uc838\uc654\uc2b5\ub2c8\ub2e4. \uc774\uc804\uc5d0 \uc774\uac83\uc744\n\uc778\uc2a4\ud134\uc2a4\ud654 \ud588\uc9c0\ub9cc \uc774\ubc88\uc5d4 ``torch.jit.trace`` \ub97c \ud638\ucd9c\ud558\uace0, ``Module`` \uc744\n\uc804\ub2ec\ud588\uc73c\uba70, \ub124\ud2b8\uc6cc\ud06c\uac00 \ubcfc \uc218 \uc788\ub294 *\uc785\ub825 \uc608* \ub97c \uc804\ub2ec\ud588\uc2b5\ub2c8\ub2e4.\n\n\uc5ec\uae30\uc11c \ubb34\uc2a8 \uc77c\uc774 \ubc1c\uc0dd\ud588\uc2b5\ub2c8\uae4c? ``Module`` \uc744 \ud638\ucd9c\ud558\uc600\uace0, ``Module`` \uc774 \ub3cc\uc544\uac08 \ub54c\n\ubc1c\uc0dd\ud55c \uc5f0\uc0b0\uc744 \uae30\ub85d\ud558\uc600\uace0, ``torch.jit.ScriptModule`` \uc758 \uc778\uc2a4\ud130\uc2a4\ub97c \uc0dd\uc131\ud588\uc2b5\ub2c8\ub2e4.\n( ``TracedModule`` \uc740 \uc778\uc2a4\ud134\uc2a4\uc785\ub2c8\ub2e4)\n\nTorchScript\ub294 \uc77c\ubc18\uc801\uc73c\ub85c \ub525 \ub7ec\ub2dd\uc5d0\uc11c *\uadf8\ub798\ud504* \ub77c\uace0 \ud558\ub294 \uc911\uac04 \ud45c\ud604(\ub610\ub294 IR)\uc5d0\n\uc815\uc758\ub97c \uae30\ub85d\ud569\ub2c8\ub2e4. ``.graph`` \uc18d\uc131\uc73c\ub85c \uadf8\ub798\ud504\ub97c \ud655\uc778\ud574\ubcfc \uc218 \uc788\uc2b5\ub2c8\ub2e4:\n\n\n"
      ]
    },
    {
      "cell_type": "code",
      "execution_count": null,
      "metadata": {
        "collapsed": false
      },
      "outputs": [],
      "source": [
        "print(traced_cell.graph)"
      ]
    },
    {
      "cell_type": "markdown",
      "metadata": {},
      "source": [
        "\uadf8\ub7ec\ub098, \uc774\uac83\uc740 \uc800\uc218\uc900\uc758 \ud45c\ud604\uc774\uba70 \uadf8\ub798\ud504\uc5d0 \ud3ec\ud568\ub41c \ub300\ubd80\ubd84\uc758 \uc815\ubcf4\ub294\n\ucd5c\uc885 \uc0ac\uc6a9\uc790\uc5d0\uac8c \uc720\uc6a9\ud558\uc9c0 \uc54a\uc2b5\ub2c8\ub2e4. \ub300\uc2e0, ``.code`` \uc18d\uc131\uc744 \uc0ac\uc6a9\ud558\uc5ec \ucf54\ub4dc\uc5d0\n\ub300\ud55c Python \uad6c\ubb38 \ud574\uc11d\uc744 \uc81c\uacf5\ud560 \uc218 \uc788\uc2b5\ub2c8\ub2e4:\n\n\n"
      ]
    },
    {
      "cell_type": "code",
      "execution_count": null,
      "metadata": {
        "collapsed": false
      },
      "outputs": [],
      "source": [
        "print(traced_cell.code)"
      ]
    },
    {
      "cell_type": "markdown",
      "metadata": {},
      "source": [
        "**\uc5b4\uc9f8\uc11c** \uc774\ub7f0 \uc77c\ub4e4\uc744 \ud588\uc744\uae4c\uc694? \uc5ec\uae30\uc5d0\ub294 \uba87 \uac00\uc9c0 \uc774\uc720\uac00 \uc788\uc2b5\ub2c8\ub2e4:\n\n1. TorchScript \ucf54\ub4dc\ub294 \uae30\ubcf8\uc801\uc73c\ub85c \uc81c\ud55c\ub41c Python \uc778\ud130\ud504\ub9ac\ud130\uc778 \uc790\uccb4 \uc778\ud130\ud504\ub9ac\ud130\uc5d0\uc11c\n   \ud638\ucd9c\ub420 \uc218 \uc788\uc2b5\ub2c8\ub2e4. \uc774 \uc778\ud130\ud504\ub9ac\ud130\ub294 GIL(Global Interpreter Lock)\uc744 \uc5bb\uc9c0\n   \uc54a\uc73c\ubbc0\ub85c \ub3d9\uc77c\ud55c \uc778\uc2a4\ud134\uc2a4\uc5d0\uc11c \ub3d9\uc2dc\uc5d0 \ub9ce\uc740 \uc694\uccad\uc744 \ucc98\ub9ac\ud560 \uc218 \uc788\uc2b5\ub2c8\ub2e4.\n2. \uc774 \ud615\uc2dd\uc744 \uc0ac\uc6a9\ud558\uba74 \uc804\uccb4 \ubaa8\ub378\uc744 \ub514\uc2a4\ud06c\uc5d0 \uc800\uc7a5\ud558\uace0 Python \uc774\uc678\uc758 \uc5b8\uc5b4\ub85c \uc791\uc131\ub41c\n   \uc11c\ubc84\uc640 \uac19\uc740 \ub2e4\ub978 \ud658\uacbd\uc5d0\uc11c \ubd88\ub7ec\uc62c \uc218 \uc788\uc2b5\ub2c8\ub2e4.\n3. TorchScript\ub294 \ubcf4\ub2e4 \ud6a8\uc728\uc801\uc778 \uc2e4\ud589\uc744 \uc81c\uacf5\ud558\uae30 \uc704\ud574 \ucf54\ub4dc\uc5d0\uc11c \ucef4\ud30c\uc77c\ub7ec \ucd5c\uc801\ud654\ub97c\n   \uc218\ud589\ud560 \uc218 \uc788\ub294 \ud45c\ud604\uc744 \uc81c\uacf5\ud569\ub2c8\ub2e4.\n4. TorchScript\ub97c \uc0ac\uc6a9\ud558\uba74 \uac1c\ubcc4 \uc5f0\uc0b0\uc790\ubcf4\ub2e4 \ud504\ub85c\uadf8\ub7a8\uc758 \ub354 \ub113\uc740 \uad00\uc810\uc744 \uc694\uad6c\ud558\ub294 \ub9ce\uc740\n   \ubc31\uc5d4\ub4dc/\uc7a5\uce58 \ub7f0\ud0c0\uc784\uacfc \uc0c1\ud638\uc791\uc6a9(interface)\ud560 \uc218 \uc788\uc2b5\ub2c8\ub2e4.\n\n``traced_cell`` \uc744 \ud638\ucd9c\ud558\uba74 Python \ubaa8\ub4c8\uacfc \ub3d9\uc77c\ud55c \uacb0\uacfc\uac00 \uc0dd\uc131\ub429\ub2c8\ub2e4:\n\n\n"
      ]
    },
    {
      "cell_type": "code",
      "execution_count": null,
      "metadata": {
        "collapsed": false
      },
      "outputs": [],
      "source": [
        "print(my_cell(x, h))\nprint(traced_cell(x, h))"
      ]
    },
    {
      "cell_type": "markdown",
      "metadata": {},
      "source": [
        "\uc2a4\ud06c\ub9bd\ud305\uc744 \uc0ac\uc6a9\ud558\uc5ec \ubaa8\ub4c8 \ubcc0\ud658\n----------------------------------\n\n\uc81c\uc5b4 \ud750\ub984\uc774 \ud3ec\ud568\ub41c(control-flow-laden) \ud558\uc704 \ubaa8\ub4c8\uc774 \uc544\ub2cc \ubaa8\ub4c8 \ubc84\uc804 2\ub97c \uc0ac\uc6a9\ud558\ub294\n\uc774\uc720\uac00 \uc788\uc2b5\ub2c8\ub2e4. \uc9c0\uae08 \uc0b4\ud3b4\ubd05\uc2dc\ub2e4:\n\n\n"
      ]
    },
    {
      "cell_type": "code",
      "execution_count": null,
      "metadata": {
        "collapsed": false
      },
      "outputs": [],
      "source": [
        "class MyDecisionGate(torch.nn.Module):\n    def forward(self, x):\n        if x.sum() > 0:\n            return x\n        else:\n            return -x\n\nclass MyCell(torch.nn.Module):\n    def __init__(self, dg):\n        super(MyCell, self).__init__()\n        self.dg = dg\n        self.linear = torch.nn.Linear(4, 4)\n\n    def forward(self, x, h):\n        new_h = torch.tanh(self.dg(self.linear(x)) + h)\n        return new_h, new_h\n\nmy_cell = MyCell(MyDecisionGate())\ntraced_cell = torch.jit.trace(my_cell, (x, h))\n\nprint(traced_cell.dg.code)\nprint(traced_cell.code)"
      ]
    },
    {
      "cell_type": "markdown",
      "metadata": {},
      "source": [
        "``.code`` \ucd9c\ub825\uc744 \ubcf4\uba74, ``if-else`` \ubd84\uae30\uac00 \uc5b4\ub514\uc5d0\ub3c4 \uc5c6\ub2e4\ub294 \uac83\uc744 \uc54c \uc218 \uc788\uc2b5\ub2c8\ub2e4!\n\uc5b4\uc9f8\uc11c\uc77c\uae4c\uc694? \ucd94\uc801\uc740 \ucf54\ub4dc\ub97c \uc2e4\ud589\ud558\uace0 *\ubc1c\uc0dd\ud558\ub294* \uc791\uc5c5\uc744 \uae30\ub85d\ud558\uba70 \uc815\ud655\ud558\uac8c \uc218\ud589\ud558\ub294\n\uc2a4\ud06c\ub9bd\ud2b8 \ubaa8\ub4c8(ScriptModule)\uc744 \uad6c\uc131\ud558\ub294 \uc77c\uc744 \uc218\ud589\ud569\ub2c8\ub2e4. \ubd88\ud589\ud558\uac8c\ub3c4, \uc81c\uc5b4 \ud750\ub984\uacfc\n\uac19\uc740 \uac83\ub4e4\uc740 \uc9c0\uc6cc\uc9d1\ub2c8\ub2e4.\n\nTorchScript\uc5d0\uc11c \uc774 \ubaa8\ub4c8\uc744 \uc5b4\ub5bb\uac8c \ucda9\uc2e4\ud558\uac8c \ub098\ud0c0\ub0bc \uc218 \uc788\uc744\uae4c\uc694? Python \uc18c\uc2a4 \ucf54\ub4dc\ub97c\n\uc9c1\uc811 \ubd84\uc11d\ud558\uc5ec TorchScript\ub85c \ubcc0\ud658\ud558\ub294 **\uc2a4\ud06c\ub9bd\ud2b8 \ucef4\ud30c\uc77c\ub7ec(script compiler)** \ub97c\n\uc81c\uacf5\ud569\ub2c8\ub2e4. ``MyDecisionGate`` \ub97c \uc2a4\ud06c\ub9bd\ud2b8 \ucef4\ud30c\uc77c\ub7ec\ub97c \uc0ac\uc6a9\ud558\uc5ec \ubcc0\ud658\ud574 \ubd05\uc2dc\ub2e4:\n\n\n"
      ]
    },
    {
      "cell_type": "code",
      "execution_count": null,
      "metadata": {
        "collapsed": false
      },
      "outputs": [],
      "source": [
        "scripted_gate = torch.jit.script(MyDecisionGate())\n\nmy_cell = MyCell(scripted_gate)\nscripted_cell = torch.jit.script(my_cell)\n\nprint(scripted_gate.code)\nprint(scripted_cell.code)"
      ]
    },
    {
      "cell_type": "markdown",
      "metadata": {},
      "source": [
        "\ub9cc\uc138! \uc774\uc81c TorchScript\uc5d0\uc11c \ud504\ub85c\uadf8\ub7a8\uc758 \ub3d9\uc791\uc744 \ucda9\uc2e4\ud558\uac8c \ucea1\uccd0\ud588\uc2b5\ub2c8\ub2e4. \uc774\uc81c\n\ud504\ub85c\uadf8\ub7a8\uc744 \uc2e4\ud589\ud574 \ubd05\uc2dc\ub2e4:\n\n\n"
      ]
    },
    {
      "cell_type": "code",
      "execution_count": null,
      "metadata": {
        "collapsed": false
      },
      "outputs": [],
      "source": [
        "# \uc0c8\ub85c\uc6b4 \uc785\ub825\nx, h = torch.rand(3, 4), torch.rand(3, 4)\ntraced_cell(x, h)"
      ]
    },
    {
      "cell_type": "markdown",
      "metadata": {},
      "source": [
        "\uc2a4\ud06c\ub9bd\ud305\uacfc \ucd94\uc801 \ud63c\ud569\n~~~~~~~~~~~~~~~~~~~~~~~~~~~~\n\n\uc5b4\ub5a4 \uc0c1\ud669\uc5d0\uc11c\ub294 \uc2a4\ud06c\ub9bd\ud305\ubcf4\ub2e4\ub294 \ucd94\uc801\uc744 \uc0ac\uc6a9\ud574\uc57c \ud569\ub2c8\ub2e4. (\uc608: \ubaa8\ub4c8\uc5d0\ub294 TorchScript\uc5d0\n\ud45c\uc2dc\ud558\uc9c0 \uc54a\uc73c\ub824\ub294 Python \uc0c1\uc218 \uac12\uc744 \uae30\ubc18\uc73c\ub85c \ub9cc\ub4e4\uc5b4\uc9c4 \ub9ce\uc740 \uad6c\uc870\uc801\uc778\n\uacb0\uc815(architectural decisions)\uc774 \uc788\uc2b5\ub2c8\ub2e4.) \uc774 \uacbd\uc6b0, \uc2a4\ud06c\ub9bd\ud305\uc740 \ucd94\uc801\uc73c\ub85c\n\uad6c\uc131\ub420 \uc218 \uc788\uc2b5\ub2c8\ub2e4: ``torch.jit.script`` \ub294 \ucd94\uc801\ub41c \ubaa8\ub4c8\uc758 \ucf54\ub4dc\ub97c \uc778\ub77c\uc778(inline)\n\ud560 \uac83\uc774\uace0, \ucd94\uc801\uc740 \uc2a4\ud06c\ub9bd\ud2b8 \ub41c \ubaa8\ub4c8\uc758 \ucf54\ub4dc\ub97c \uc778\ub77c\uc778 \ud560 \uac83\uc785\ub2c8\ub2e4.\n\n\uccab \ubc88\uc9f8 \uacbd\uc6b0\uc758 \uc608:\n\n\n"
      ]
    },
    {
      "cell_type": "code",
      "execution_count": null,
      "metadata": {
        "collapsed": false
      },
      "outputs": [],
      "source": [
        "class MyRNNLoop(torch.nn.Module):\n    def __init__(self):\n        super(MyRNNLoop, self).__init__()\n        self.cell = torch.jit.trace(MyCell(scripted_gate), (x, h))\n\n    def forward(self, xs):\n        h, y = torch.zeros(3, 4), torch.zeros(3, 4)\n        for i in range(xs.size(0)):\n            y, h = self.cell(xs[i], h)\n        return y, h\n\nrnn_loop = torch.jit.script(MyRNNLoop())\nprint(rnn_loop.code)"
      ]
    },
    {
      "cell_type": "markdown",
      "metadata": {},
      "source": [
        "\ub450 \ubc88\uc9f8 \uacbd\uc6b0\uc758 \uc608:\n\n\n"
      ]
    },
    {
      "cell_type": "code",
      "execution_count": null,
      "metadata": {
        "collapsed": false
      },
      "outputs": [],
      "source": [
        "class WrapRNN(torch.nn.Module):\n    def __init__(self):\n        super(WrapRNN, self).__init__()\n        self.loop = torch.jit.script(MyRNNLoop())\n\n    def forward(self, xs):\n        y, h = self.loop(xs)\n        return torch.relu(y)\n\ntraced = torch.jit.trace(WrapRNN(), (torch.rand(10, 3, 4)))\nprint(traced.code)"
      ]
    },
    {
      "cell_type": "markdown",
      "metadata": {},
      "source": [
        "\uc774\ub7ec\ud55c \ubc29\uc2dd\uc73c\ub85c, \uc2a4\ud06c\ub9bd\ud305\uacfc \ucd94\uc801\uc740 \uc0c1\ud669\uc5d0 \ub530\ub77c\uc11c \ub530\ub85c \uc0ac\uc6a9\ub418\uac70\ub098, \ud568\uaed8\n\uc0ac\uc6a9\ub420 \uc218 \uc788\uc2b5\ub2c8\ub2e4.\n\n\ubaa8\ub378 \uc800\uc7a5 \ubc0f \ubd88\ub7ec\uc624\uae30\n-------------------------\n\nTorchScript \ubaa8\ub4c8\uc744 \uc544\uce74\uc774\ube0c \ud615\uc2dd\uc73c\ub85c \ub514\uc2a4\ud06c\uc5d0 \uc800\uc7a5\ud558\uace0 \ubd88\ub7ec\uc624\ub294 API\ub97c \uc81c\uacf5\ud569\ub2c8\ub2e4.\n\uc774 \ud615\uc2dd\uc740 \ucf54\ub4dc, \ub9e4\uac1c \ubcc0\uc218, \uc18d\uc131\uacfc \ub514\ubc84\uadf8 \uc815\ubcf4\ub97c \ud3ec\ud568\ud569\ub2c8\ub2e4. \uc774\uac83\uc740 \uadf8 \uc544\uce74\uc774\ube0c\uac00\n\uc644\uc804\ud788 \ubcc4\uac1c\uc758 \ud504\ub85c\uc138\uc2a4\ub85c \ub85c\ub4dc\ud560 \uc218 \uc788\ub294 \ubaa8\ub378\uc758 \ub3c5\ub9bd \ud45c\ud604\uc784\uc744 \uc758\ubbf8\ud569\ub2c8\ub2e4.\n\ub7a9\ud551 \ub41c RNN \ubaa8\ub4c8\uc744 \uc800\uc7a5\ud558\uace0 \ub85c\ub4dc\ud574 \ubd05\uc2dc\ub2e4:\n\n\n"
      ]
    },
    {
      "cell_type": "code",
      "execution_count": null,
      "metadata": {
        "collapsed": false
      },
      "outputs": [],
      "source": [
        "traced.save('wrapped_rnn.pt')\n\nloaded = torch.jit.load('wrapped_rnn.pt')\n\nprint(loaded)\nprint(loaded.code)"
      ]
    },
    {
      "cell_type": "markdown",
      "metadata": {},
      "source": [
        "\ubcf4\uc2dc\ub2e4\uc2dc\ud53c, \uc9c1\ub82c\ud654\ub294 \ubaa8\ub4c8 \uacc4\uce35\uacfc \uac80\uc0ac\ud55c \ucf54\ub4dc\ub97c \uc720\uc9c0\ud569\ub2c8\ub2e4. \ub610\ud55c \ubaa8\ub378\uc744 \ub85c\ub4dc\ud560\n\uc218 \uc788\uc2b5\ub2c8\ub2e4. \uc608\ub97c \ub4e4\uc5b4, Python \uc5c6\uc774 \uc2e4\ud589\ud558\uae30 \uc704\ud574 \ubaa8\ub378\uc744\n`C++ <https://tutorials.pytorch.kr/advanced/cpp_export.html>`__ \ub85c \ub85c\ub4dc\ud560\n\uc218 \uc788\uc2b5\ub2c8\ub2e4.\n\n\ub354 \uc77d\uc744\uac70\ub9ac\n~~~~~~~~~~~~~~~\n\ud29c\ud1a0\ub9ac\uc5bc\uc744 \uc644\ub8cc\ud588\uc2b5\ub2c8\ub2e4! \uad00\ub828 \ub370\ubaa8\ub97c \ubcf4\ub824\uba74 TorchScript\ub97c \uc0ac\uc6a9\ud558\uc5ec \uae30\uacc4 \ubc88\uc5ed\n\ubaa8\ub378\uc744 \ubcc0\ud658\ud558\uae30 \uc704\ud55c NeurIPS \ub370\ubaa8\ub97c \ud655\uc778\ud558\uc2ed\uc2dc\uc624:\nhttps://colab.research.google.com/drive/1HiICg6jRkBnr5hvK2-VnMi88Vi9pUzEJ\n\n\n"
      ]
    }
  ],
  "metadata": {
    "kernelspec": {
      "display_name": "Python 3",
      "language": "python",
      "name": "python3"
    },
    "language_info": {
      "codemirror_mode": {
        "name": "ipython",
        "version": 3
      },
      "file_extension": ".py",
      "mimetype": "text/x-python",
      "name": "python",
      "nbconvert_exporter": "python",
      "pygments_lexer": "ipython3",
      "version": "3.8.8"
    }
  },
  "nbformat": 4,
  "nbformat_minor": 0
}