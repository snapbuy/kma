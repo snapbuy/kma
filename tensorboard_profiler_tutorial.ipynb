{
  "cells": [
    {
      "cell_type": "code",
      "execution_count": null,
      "metadata": {
        "collapsed": false
      },
      "outputs": [],
      "source": [
        "%matplotlib inline"
      ]
    },
    {
      "cell_type": "markdown",
      "metadata": {},
      "source": [
        "\nPyTorch Profiler With TensorBoard\n====================================\nThis tutorial demonstrates how to use TensorBoard plugin with PyTorch Profiler\nto detect performance bottlenecks of the model.\n\nIntroduction\n------------\nPyTorch 1.8 includes an updated profiler API capable of \nrecording the CPU side operations as well as the CUDA kernel launches on the GPU side.\nThe profiler can visualize this information\nin TensorBoard Plugin and provide analysis of the performance bottlenecks.\n\nIn this tutorial, we will use a simple Resnet model to demonstrate how to\nuse TensorBoard plugin to analyze model performance.\n\nSetup\n-----\nTo install ``torch`` and ``torchvision`` use the following command:\n\n::\n\n   pip install torch torchvision\n"
      ]
    },
    {
      "cell_type": "markdown",
      "metadata": {},
      "source": [
        "Steps\n-----\n\n1. Prepare the data and model\n2. Use profiler to record execution events\n3. Run the profiler\n4. Use TensorBoard to view results and analyze model performance\n5. Improve performance with the help of profiler\n6. Analyze performance with other advanced features\n\n1. Prepare the data and model\n~~~~~~~~~~~~~~~~~~~~~~~~~~~~~~~~~~~~~~~~~~~~~~~~~~~~~~\n\nFirst, import all necessary libraries:\n\n\n"
      ]
    },
    {
      "cell_type": "code",
      "execution_count": null,
      "metadata": {
        "collapsed": false
      },
      "outputs": [],
      "source": [
        "import torch\nimport torch.nn\nimport torch.optim\nimport torch.profiler\nimport torch.utils.data\nimport torchvision.datasets\nimport torchvision.models\nimport torchvision.transforms as T"
      ]
    },
    {
      "cell_type": "markdown",
      "metadata": {},
      "source": [
        "Then prepare the input data. For this tutorial, we use the CIFAR10 dataset.\nTransform it to the desired format and use DataLoader to load each batch.\n\n"
      ]
    },
    {
      "cell_type": "code",
      "execution_count": null,
      "metadata": {
        "collapsed": false
      },
      "outputs": [],
      "source": [
        "transform = T.Compose(\n    [T.Resize(224),\n     T.ToTensor(),\n     T.Normalize((0.5, 0.5, 0.5), (0.5, 0.5, 0.5))])\ntrain_set = torchvision.datasets.CIFAR10(root='./data', train=True, download=True, transform=transform)\ntrain_loader = torch.utils.data.DataLoader(train_set, batch_size=32, shuffle=True)"
      ]
    },
    {
      "cell_type": "markdown",
      "metadata": {},
      "source": [
        "Next, create Resnet model, loss function, and optimizer objects.\nTo run on GPU, move model and loss to GPU device.\n\n"
      ]
    },
    {
      "cell_type": "code",
      "execution_count": null,
      "metadata": {
        "collapsed": false
      },
      "outputs": [],
      "source": [
        "device = torch.device(\"cuda:0\")\nmodel = torchvision.models.resnet18(pretrained=True).cuda(device)\ncriterion = torch.nn.CrossEntropyLoss().cuda(device)\noptimizer = torch.optim.SGD(model.parameters(), lr=0.001, momentum=0.9)\nmodel.train()"
      ]
    },
    {
      "cell_type": "markdown",
      "metadata": {},
      "source": [
        "Define the training step for each batch of input data.\n\n"
      ]
    },
    {
      "cell_type": "code",
      "execution_count": null,
      "metadata": {
        "collapsed": false
      },
      "outputs": [],
      "source": [
        "def train(data):\n    inputs, labels = data[0].to(device=device), data[1].to(device=device)\n    outputs = model(inputs)\n    loss = criterion(outputs, labels)\n    optimizer.zero_grad()\n    loss.backward()\n    optimizer.step()"
      ]
    },
    {
      "cell_type": "markdown",
      "metadata": {},
      "source": [
        "2. Use profiler to record execution events\n~~~~~~~~~~~~~~~~~~~~~~~~~~~~~~~~~~~~~~~~~~~~~~~~~~~~~~\n\nThe profiler is enabled through the context manager and accepts several parameters,\nsome of the most useful are:\n\n- ``schedule`` - callable that takes step (int) as a single parameter\n  and returns the profiler action to perform at each step.\n\n  In this example with ``wait=1, warmup=1, active=3, repeat=2``,\n  profiler will skip the first step/iteration,\n  start warming up on the second,\n  record the following three iterations,\n  after which the trace will become available and on_trace_ready (when set) is called.\n  In total, the cycle repeats twice. Each cycle is called a \"span\" in TensorBoard plugin.\n\n  During ``wait`` steps, the profiler is disabled.\n  During ``warmup`` steps, the profiler starts tracing but the results are discarded.\n  This is for reducing the profiling overhead.\n  The overhead at the beginning of profiling is high and easy to bring skew to the profiling result.\n  During ``active`` steps, the profiler works and records events.\n- ``on_trace_ready`` - callable that is called at the end of each cycle;\n  In this example we use ``torch.profiler.tensorboard_trace_handler`` to generate result files for TensorBoard.\n  After profiling, result files will be saved into the ``./log/resnet18`` directory.\n  Specify this directory as a ``logdir`` parameter to analyze profile in TensorBoard.\n- ``record_shapes`` - whether to record shapes of the operator inputs.\n- ``profile_memory`` - Track tensor memory allocation/deallocation.\n- ``with_stack`` - Record source information (file and line number) for the ops.\n  If the TensorBoard is launched in VSCode (`reference <https://code.visualstudio.com/docs/datascience/pytorch-support#_tensorboard-integration>`_),\n  clicking a stack frame will navigate to the specific code line.\n\n"
      ]
    },
    {
      "cell_type": "code",
      "execution_count": null,
      "metadata": {
        "collapsed": false
      },
      "outputs": [],
      "source": [
        "with torch.profiler.profile(\n        schedule=torch.profiler.schedule(wait=1, warmup=1, active=3, repeat=2),\n        on_trace_ready=torch.profiler.tensorboard_trace_handler('./log/resnet18'),\n        record_shapes=True,\n        with_stack=True\n) as prof:\n    for step, batch_data in enumerate(train_loader):\n        if step >= (1 + 1 + 3) * 2:\n            break\n        train(batch_data)\n        prof.step()  # Need to call this at the end of each step to notify profiler of steps' boundary."
      ]
    },
    {
      "cell_type": "markdown",
      "metadata": {},
      "source": [
        "3. Run the profiler\n~~~~~~~~~~~~~~~~~~~~~~~~~~~~~~~~~~~~~~~~~~~~~~~~~~~~~~~~~~~~~~\n\nRun the above code. The profiling result will be saved under ``./log/resnet18`` directory.\n\n"
      ]
    },
    {
      "cell_type": "markdown",
      "metadata": {},
      "source": [
        "4. Use TensorBoard to view results and analyze model performance\n~~~~~~~~~~~~~~~~~~~~~~~~~~~~~~~~~~~~~~~~~~~~~~~~~~~~~~~~~~~~~~\n\nInstall PyTorch Profiler TensorBoard Plugin.\n\n::\n\n    pip install torch_tb_profiler\n\n\n"
      ]
    },
    {
      "cell_type": "markdown",
      "metadata": {},
      "source": [
        "Launch the TensorBoard.\n\n::\n\n    tensorboard --logdir=./log\n\n\n"
      ]
    },
    {
      "cell_type": "markdown",
      "metadata": {},
      "source": [
        "Open the TensorBoard profile URL in Google Chrome browser or Microsoft Edge browser.\n\n::\n\n    http://localhost:6006/#pytorch_profiler\n\n\n"
      ]
    },
    {
      "cell_type": "markdown",
      "metadata": {},
      "source": [
        "You could see Profiler plugin page as shown below.\n\n- Overview\n![](../../_static/img/profiler_overview1.png)\n\n   :scale: 25 %\n\nThe overview shows a high-level summary of model performance.\n\nThe \"GPU Summary\" panel shows the GPU configuration and the GPU usage.\nIn this example, the GPU Utilization is low.\nThe details of these metrics are `here <https://github.com/guyang3532/kineto/blob/readme/tb_plugin/docs/gpu_utilization.md>`_.\n\nThe \"Step Time Breakdown\" shows distribution of time spent in each step over different categories of execution.\nIn this example, you can see the ``DataLoader`` overhead is significant.\n\nThe bottom \"Performance Recommendation\" uses the profiling data\nto automatically highlight likely bottlenecks,\nand gives you actionable optimization suggestions.\n\nYou can change the view page in left \"Views\" dropdown list.\n\n![](../../_static/img/profiler_views_list.png)\n\n\n- Operator view\nThe operator view displays the performance of every PyTorch operator\nthat is executed either on the host or device.\n\n![](../../_static/img/profiler_operator_view.png)\n\n   :scale: 25 %\nThe \"Self\" duration does not include its child operators\u2019 time.\nThe \"Total\" duration includes its child operators\u2019 time.\n\n- View call stack\nClick the \"View Callstack\" of an operator, the operators with same name but different call stacks will be shown.\nThen click a \"View Callstack\" in this sub-table, the call stack frames will be shown.\n\n![](../../_static/img/profiler_callstack.png)\n\n   :scale: 25 %\n\nIf the TensorBoard is launched inside VSCode\n(`Launch Guide <https://devblogs.microsoft.com/python/python-in-visual-studio-code-february-2021-release/#tensorboard-integration>`_),\nclicking a call stack frame will navigate to the specific code line.\n\n![](../../_static/img/profiler_vscode.png)\n\n   :scale: 25 %\n\n\n- Kernel view\nThe GPU kernel view shows all kernels\u2019 time spent on GPU.\n\n![](../../_static/img/profiler_kernel_view.png)\n\n   :scale: 25 %\nMean Blocks per SM:\nBlocks per SM = Blocks of this kernel / SM number of this GPU.\nIf this number is less than 1, it indicates the GPU multiprocessors are not fully utilized.\n\"Mean Blocks per SM\" is weighted average of all runs of this kernel name, using each run\u2019s duration as weight.\n\nMean Est. Achieved Occupancy:\nEst. Achieved Occupancy is defined in this column\u2019s tooltip.\nFor most cases such as memory bandwidth bounded kernels, the higher the better.\n\"Mean Est. Achieved Occupancy\" is weighted average of all runs of this kernel name,\nusing each run\u2019s duration as weight.\n\n- Trace view\nThe trace view shows timeline of profiled operators and GPU kernels.\nYou can select it to see details as below.\n\n![](../../_static/img/profiler_trace_view1.png)\n\n   :scale: 25 %\n\nYou can move the graph and zoom in/out with the help of right side toolbar.\nAnd keyboard can also be used to zoom and move around inside the timeline.\nThe \u2018w\u2019 and \u2018s\u2019 keys zoom in centered around the mouse,\nand the \u2018a\u2019 and \u2018d\u2019 keys move the timeline left and right.\nYou can hit these keys multiple times until you see a readable representation.\n\nIn this example, we can see the event prefixed with ``enumerate(DataLoader)`` costs a lot of time.\nAnd during most of this period, the GPU is idle.\nBecause this function is loading data and transforming data on host side,\nduring which the GPU resource is wasted.\n\n"
      ]
    },
    {
      "cell_type": "markdown",
      "metadata": {},
      "source": [
        "5. Improve performance with the help of profiler\n~~~~~~~~~~~~~~~~~~~~~~~~~~~~~~~~~~~~~~~~~~~~~~~~~~~~~~~~~~~~~~\n\nAt the bottom of \"Overview\" page, the suggestion in \"Performance Recommendation\" hints the bottleneck is DataLoader.\nThe PyTorch DataLoader uses single process by default.\nUser could enable multi-process data loading by setting the parameter ``num_workers``.\n`Here <https://pytorch.org/docs/stable/data.html#single-and-multi-process-data-loading>`_ is more details.\n\nIn this example, we follow the \"Performance Recommendation\" and set ``num_workers`` as below,\npass a different name such as ``./log/resnet18_4workers`` to ``tensorboard_trace_handler``, and run it again.\n\n::\n\n    train_loader = torch.utils.data.DataLoader(train_set, batch_size=32, shuffle=True, num_workers=4)\n\n\n"
      ]
    },
    {
      "cell_type": "markdown",
      "metadata": {},
      "source": [
        "Then let\u2019s choose the recently profiled run in left \"Runs\" dropdown list.\n\n![](../../_static/img/profiler_overview2.png)\n\n   :scale: 25 %\n\nFrom the above view, we can find the step time is reduced to about 58ms comparing with previous run's 121ms,\nand the time reduction of ``DataLoader`` mainly contributes.\n\n![](../../_static/img/profiler_trace_view2.png)\n\n   :scale: 25 %\n\nFrom the above view, we can see that the runtime of ``enumerate(DataLoader)`` is reduced,\nand the GPU utilization is increased.\n\n"
      ]
    },
    {
      "cell_type": "markdown",
      "metadata": {},
      "source": [
        "6. Analyze performance with other advanced features\n~~~~~~~~~~~~~~~~~~~~~~~~~~~~~~~~~~~~~~~~~~~~~~~~~~~~~~~~~~~~~~\n\n- Memory view\nTo profile memory, please add ``profile_memory=True`` in arguments of ``torch.profiler.profile``.\n\nNote: Because of the current non-optimized implementation of PyTorch profiler,\nenabling ``profile_memory=True`` will take about several minutes to finish.\nTo save time, you can try our existing examples first by running:\n\n::\n\n    tensorboard --logdir=https://torchtbprofiler.blob.core.windows.net/torchtbprofiler/demo/memory_demo\n\nThe profiler records all memory allocation/release events during profiling.\nFor every specific operator, the plugin aggregates all these memory events inside its life span.\n\n![](../../_static/img/profiler_memory_view.png)\n\n   :scale: 25 %\n\nThe memory type could be selected in \"Device\" selection box.\nFor example, \"GPU0\" means the following table only shows each operator\u2019s memory usage on GPU 0, not including CPU or other GPUs.\n\nThe \"Size Increase\" sums up all allocation bytes and minus all the memory release bytes.\n\nThe \"Allocation Size\" sums up all allocation bytes without considering the memory release.\n\n- Distributed view\nThe plugin now supports distributed view on profiling DDP with NCCL as backend.\n\nYou can try it by using existing example on Azure:\n\n::\n\n    tensorboard --logdir=https://torchtbprofiler.blob.core.windows.net/torchtbprofiler/demo/distributed_bert\n\n![](../../_static/img/profiler_distributed_view.png)\n\n   :scale: 25 %\n\nThe \"Computation/Communication Overview\" shows computation/communication ratio and their overlapping degree.\nFrom this view, User can figure out load balance issue among workers.\nFor example, if the computation + overlapping time of one worker is much larger than others,\nthere may be a problem of load balance or this worker may be a straggler.\n\nThe \"Synchronizing/Communication Overview\" shows the efficiency of communication.\n\"Data Transfer Time\" is the time for actual data exchanging.\n\"Synchronizing Time\" is the time for waiting and synchronizing with other workers.\n\nIf one worker\u2019s \"Synchronizing Time\" is much shorter than that of other workers\u2019,\nthis worker may be a straggler which may have more computation workload than other workers\u2019.\n\nThe \"Communication Operations Stats\" summarizes the detailed statistics of all communication ops in each worker.\n\n"
      ]
    },
    {
      "cell_type": "markdown",
      "metadata": {},
      "source": [
        "Learn More\n----------\n\nTake a look at the following documents to continue your learning,\nand feel free to open an issue `here <https://github.com/pytorch/kineto/issues>`_.\n\n-  `Pytorch TensorBoard Profiler github <https://github.com/pytorch/kineto/tree/master/tb_plugin>`_\n-  `torch.profiler API <https://pytorch.org/docs/master/profiler.html>`_\n\n"
      ]
    }
  ],
  "metadata": {
    "kernelspec": {
      "display_name": "Python 3",
      "language": "python",
      "name": "python3"
    },
    "language_info": {
      "codemirror_mode": {
        "name": "ipython",
        "version": 3
      },
      "file_extension": ".py",
      "mimetype": "text/x-python",
      "name": "python",
      "nbconvert_exporter": "python",
      "pygments_lexer": "ipython3",
      "version": "3.8.8"
    }
  },
  "nbformat": 4,
  "nbformat_minor": 0
}