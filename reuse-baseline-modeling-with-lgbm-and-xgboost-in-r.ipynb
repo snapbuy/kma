{
 "cells": [
  {
   "cell_type": "markdown",
   "id": "8a3af97b",
   "metadata": {
    "papermill": {
     "duration": null,
     "end_time": null,
     "exception": null,
     "start_time": null,
     "status": "completed"
    },
    "tags": []
   },
   "source": [
    "# 패키지 불러오기"
   ]
  },
  {
   "cell_type": "code",
   "execution_count": null,
   "id": "56f957c2",
   "metadata": {
    "_execution_state": "idle",
    "_uuid": "051d70d956493feee0c6d64651c6a088724dca2a",
    "execution": {
     "iopub.execute_input": "2021-11-02T17:02:26.456450Z",
     "iopub.status.busy": "2021-11-02T17:02:26.453596Z",
     "iopub.status.idle": "2021-11-02T17:02:30.435308Z",
     "shell.execute_reply": "2021-11-02T17:02:30.433659Z"
    },
    "papermill": {
     "duration": null,
     "end_time": null,
     "exception": null,
     "start_time": null,
     "status": "completed"
    },
    "tags": []
   },
   "outputs": [],
   "source": [
    "# This R environment comes with many helpful analytics packages installed\n",
    "# It is defined by the kaggle/rstats Docker image: https://github.com/kaggle/docker-rstats\n",
    "# For example, here's a helpful package to load\n",
    "\n",
    "library(tidyverse)\n",
    "library(skimr)\n",
    "library(GGally)\n",
    "library(plotly)\n",
    "library(viridis)\n",
    "library(caret)\n",
    "library(DT)\n",
    "library(data.table)\n",
    "library(lightgbm)\n",
    "library(xgboost)\n",
    "library(kableExtra)\n",
    "library(magrittr)\n",
    "set.seed(0)\n",
    "\n",
    "# Input data files are available in the read-only \"../input/\" directory\n",
    "# For example, running this (by clicking run or pressing Shift+Enter) will list all files under the input directory\n",
    "\n",
    "list.files(path = \"../input\")\n",
    "\n",
    "# You can write up to 20GB to the current directory (/kaggle/working/) that gets preserved as output when you create a version using \"Save & Run All\" \n",
    "# You can also write temporary files to /kaggle/temp/, but they won't be saved outside of the current session"
   ]
  },
  {
   "cell_type": "markdown",
   "id": "b340bbc4",
   "metadata": {
    "papermill": {
     "duration": null,
     "end_time": null,
     "exception": null,
     "start_time": null,
     "status": "completed"
    },
    "tags": []
   },
   "source": [
    "## 데이터 불러오기 \n",
    "- 각각의 데이터를 불러오도록 한다. "
   ]
  },
  {
   "cell_type": "code",
   "execution_count": null,
   "id": "deb9da76",
   "metadata": {
    "execution": {
     "iopub.execute_input": "2021-11-02T17:02:30.945360Z",
     "iopub.status.busy": "2021-11-02T17:02:30.913014Z",
     "iopub.status.idle": "2021-11-02T17:02:35.084542Z",
     "shell.execute_reply": "2021-11-02T17:02:35.083208Z"
    },
    "papermill": {
     "duration": null,
     "end_time": null,
     "exception": null,
     "start_time": null,
     "status": "completed"
    },
    "tags": []
   },
   "outputs": [],
   "source": [
    "cat(\"Loading data...\\n\")\n",
    "DATA_PATH = \"../input/home-credit-default-risk/\"\n",
    "na_strings = c(\"NA\", \"NaN\", \"?\", \"\")\n",
    "\n",
    "# code"
   ]
  },
  {
   "cell_type": "code",
   "execution_count": null,
   "id": "3e93d21a",
   "metadata": {
    "execution": {
     "iopub.execute_input": "2021-11-02T17:02:35.336930Z",
     "iopub.status.busy": "2021-11-02T17:02:35.335470Z",
     "iopub.status.idle": "2021-11-02T17:02:36.215342Z",
     "shell.execute_reply": "2021-11-02T17:02:36.213978Z"
    },
    "papermill": {
     "duration": null,
     "end_time": null,
     "exception": null,
     "start_time": null,
     "status": "completed"
    },
    "tags": []
   },
   "outputs": [],
   "source": [
    "# code"
   ]
  },
  {
   "cell_type": "code",
   "execution_count": null,
   "id": "779e0349",
   "metadata": {
    "execution": {
     "iopub.execute_input": "2021-11-02T17:02:36.473241Z",
     "iopub.status.busy": "2021-11-02T17:02:36.471201Z",
     "iopub.status.idle": "2021-11-02T17:02:38.949858Z",
     "shell.execute_reply": "2021-11-02T17:02:38.947855Z"
    },
    "papermill": {
     "duration": null,
     "end_time": null,
     "exception": null,
     "start_time": null,
     "status": "completed"
    },
    "tags": []
   },
   "outputs": [],
   "source": [
    "# code"
   ]
  },
  {
   "cell_type": "code",
   "execution_count": null,
   "id": "de59d52a",
   "metadata": {
    "execution": {
     "iopub.execute_input": "2021-11-02T17:02:39.216952Z",
     "iopub.status.busy": "2021-11-02T17:02:39.214914Z",
     "iopub.status.idle": "2021-11-02T17:02:44.464182Z",
     "shell.execute_reply": "2021-11-02T17:02:44.462584Z"
    },
    "papermill": {
     "duration": null,
     "end_time": null,
     "exception": null,
     "start_time": null,
     "status": "completed"
    },
    "tags": []
   },
   "outputs": [],
   "source": [
    "# code"
   ]
  },
  {
   "cell_type": "markdown",
   "id": "28bc700f",
   "metadata": {
    "papermill": {
     "duration": null,
     "end_time": null,
     "exception": null,
     "start_time": null,
     "status": "completed"
    },
    "tags": []
   },
   "source": [
    "# 데이터 전처리\n",
    "## 데이터 특징\n",
    "- 모델링을 위한 데이터 전처리에서 가장 기본이 되는 train 데이터의 id를 확인해보면, 각 ID당 1개의 행(row)만 존재하는 것을 확인할 수 있다. "
   ]
  },
  {
   "cell_type": "code",
   "execution_count": null,
   "id": "1db9be70",
   "metadata": {
    "execution": {
     "iopub.execute_input": "2021-11-02T17:02:44.991411Z",
     "iopub.status.busy": "2021-11-02T17:02:44.989816Z",
     "iopub.status.idle": "2021-11-02T17:02:45.462684Z",
     "shell.execute_reply": "2021-11-02T17:02:45.461107Z"
    },
    "papermill": {
     "duration": null,
     "end_time": null,
     "exception": null,
     "start_time": null,
     "status": "completed"
    },
    "tags": []
   },
   "outputs": [],
   "source": [
    "# code"
   ]
  },
  {
   "cell_type": "markdown",
   "id": "13bddf84",
   "metadata": {
    "papermill": {
     "duration": null,
     "end_time": null,
     "exception": null,
     "start_time": null,
     "status": "completed"
    },
    "tags": []
   },
   "source": [
    "- 그런데, 다른 데이터셋의 경우, ID마다 서로 다른 행(row) 개수가 나타나는 것을 볼 수 있다. \n",
    "- 이 때에는 우선 ID마다 Group by를 통해서 행의 결과를 단일하게 맞출 필요가 있다."
   ]
  },
  {
   "cell_type": "code",
   "execution_count": null,
   "id": "858c5480",
   "metadata": {
    "execution": {
     "iopub.execute_input": "2021-11-02T17:02:45.996572Z",
     "iopub.status.busy": "2021-11-02T17:02:45.994981Z",
     "iopub.status.idle": "2021-11-02T17:02:57.905144Z",
     "shell.execute_reply": "2021-11-02T17:02:57.903157Z"
    },
    "papermill": {
     "duration": null,
     "end_time": null,
     "exception": null,
     "start_time": null,
     "status": "completed"
    },
    "tags": []
   },
   "outputs": [],
   "source": [
    "# code"
   ]
  },
  {
   "cell_type": "markdown",
   "id": "1bdfb8eb",
   "metadata": {
    "papermill": {
     "duration": null,
     "end_time": null,
     "exception": null,
     "start_time": null,
     "status": "completed"
    },
    "tags": []
   },
   "source": [
    "## sum_bureau_balance\n",
    "- 우선 bur_balance 데이터는 매월마다 대출 잔액을 체크하고 있다. \n",
    "- 이와 같은 데이터에 대한 설명을 이해하는 것은 쉬운 건 아니다. \n",
    "  + 이럴 때는 각 데이터에 대한 부가적인 설명이 필요하다. \n",
    "  + [Discussion: Interpreting the BUREAU_BALANCE table](https://www.kaggle.com/c/home-credit-default-risk/discussion/58445)\n",
    "- 우선, STATUS는 데이터 중에서도 서열측도에 해당한다고 볼 수 있다. \n",
    "  + 따라서 문자열 데이터를 숫자로 바꾸는 코드를 진행한다. "
   ]
  },
  {
   "cell_type": "code",
   "execution_count": null,
   "id": "78082b24",
   "metadata": {
    "execution": {
     "iopub.execute_input": "2021-11-02T17:02:58.446966Z",
     "iopub.status.busy": "2021-11-02T17:02:58.445227Z",
     "iopub.status.idle": "2021-11-02T17:07:07.326619Z",
     "shell.execute_reply": "2021-11-02T17:07:07.327173Z"
    },
    "papermill": {
     "duration": null,
     "end_time": null,
     "exception": null,
     "start_time": null,
     "status": "completed"
    },
    "tags": []
   },
   "outputs": [],
   "source": [
    "# code"
   ]
  },
  {
   "cell_type": "markdown",
   "id": "363f96bf",
   "metadata": {
    "papermill": {
     "duration": null,
     "end_time": null,
     "exception": null,
     "start_time": null,
     "status": "completed"
    },
    "tags": []
   },
   "source": [
    "# 데이터 합치기\n",
    "- 이제 데이터를 합치도록 한다. \n",
    "- 각 ID가 숫자로 되어 있기 때문에 문자로 변경한다. \n",
    "- 각각의 데이터를 분리 하도록 한다. "
   ]
  },
  {
   "cell_type": "code",
   "execution_count": null,
   "id": "2d6ddeae",
   "metadata": {
    "execution": {
     "iopub.execute_input": "2021-11-02T17:07:07.897000Z",
     "iopub.status.busy": "2021-11-02T17:07:07.896316Z",
     "iopub.status.idle": "2021-11-02T17:07:07.925391Z",
     "shell.execute_reply": "2021-11-02T17:07:07.923950Z"
    },
    "papermill": {
     "duration": null,
     "end_time": null,
     "exception": null,
     "start_time": null,
     "status": "completed"
    },
    "tags": []
   },
   "outputs": [],
   "source": [
    "# code"
   ]
  },
  {
   "cell_type": "markdown",
   "id": "51ef97dd",
   "metadata": {
    "papermill": {
     "duration": null,
     "end_time": null,
     "exception": null,
     "start_time": null,
     "status": "completed"
    },
    "tags": []
   },
   "source": [
    "- 우선 `test 데이터`와 합쳐야 하기 때문에 test 데이터에는 없는 TARGET은 먼저 삭제 한다. \n",
    "- 365243 days는 1000년 이상을 의미한다. 즉, 일종의 극단 값이기 때문에, NA로 취급했다. \n",
    "- 각 데이터 상의 비율 또는 Percent를 측정하는 코드를 작성했다. "
   ]
  },
  {
   "cell_type": "code",
   "execution_count": null,
   "id": "9e0b22cf",
   "metadata": {
    "execution": {
     "iopub.execute_input": "2021-11-02T17:07:08.512177Z",
     "iopub.status.busy": "2021-11-02T17:07:08.510470Z",
     "iopub.status.idle": "2021-11-02T17:07:14.544022Z",
     "shell.execute_reply": "2021-11-02T17:07:14.541993Z"
    },
    "papermill": {
     "duration": null,
     "end_time": null,
     "exception": null,
     "start_time": null,
     "status": "completed"
    },
    "tags": []
   },
   "outputs": [],
   "source": [
    "# code %>% \n",
    "  mutate_if(is.character, funs(factor(.) %>% as.integer)) %>% \n",
    "    mutate(na = apply(., 1, function(x) sum(is.na(x))),\n",
    "         DAYS_EMPLOYED = ifelse(DAYS_EMPLOYED == 365243, NA, DAYS_EMPLOYED),\n",
    "         DAYS_EMPLOYED_PERC = sqrt(DAYS_EMPLOYED / DAYS_BIRTH),\n",
    "         INCOME_CREDIT_PERC = AMT_INCOME_TOTAL / AMT_CREDIT,\n",
    "         INCOME_PER_PERSON = log1p(AMT_INCOME_TOTAL / CNT_FAM_MEMBERS),\n",
    "         ANNUITY_INCOME_PERC = sqrt(AMT_ANNUITY / (1 + AMT_INCOME_TOTAL)),\n",
    "         LOAN_INCOME_RATIO = AMT_CREDIT / AMT_INCOME_TOTAL,\n",
    "         ANNUITY_LENGTH = AMT_CREDIT / AMT_ANNUITY,\n",
    "         CHILDREN_RATIO = CNT_CHILDREN / CNT_FAM_MEMBERS, \n",
    "         CREDIT_TO_GOODS_RATIO = AMT_CREDIT / AMT_GOODS_PRICE,\n",
    "         INC_PER_CHLD = AMT_INCOME_TOTAL / (1 + CNT_CHILDREN),\n",
    "         SOURCES_PROD = EXT_SOURCE_1 * EXT_SOURCE_2 * EXT_SOURCE_3,\n",
    "         CAR_TO_BIRTH_RATIO = OWN_CAR_AGE / DAYS_BIRTH,\n",
    "         CAR_TO_EMPLOY_RATIO = OWN_CAR_AGE / DAYS_EMPLOYED,\n",
    "         PHONE_TO_BIRTH_RATIO = DAYS_LAST_PHONE_CHANGE / DAYS_BIRTH,\n",
    "         PHONE_TO_EMPLOY_RATIO = DAYS_LAST_PHONE_CHANGE / DAYS_EMPLOYED) \n",
    "\n",
    "# code"
   ]
  },
  {
   "cell_type": "markdown",
   "id": "acb807b8",
   "metadata": {
    "papermill": {
     "duration": null,
     "end_time": null,
     "exception": null,
     "start_time": null,
     "status": "completed"
    },
    "tags": []
   },
   "source": [
    "## FLAG_DOC \n",
    "- FLAG_DOC은 고객의 문서 제공 횟수를 의미한다. \n",
    "- 이 데이터에서 `ORGANIZATION_TYPE`에 따른 `AMT_INCOME_TOTAL` 중간값을 구하도록 했다. "
   ]
  },
  {
   "cell_type": "code",
   "execution_count": null,
   "id": "eea6f329",
   "metadata": {
    "execution": {
     "iopub.execute_input": "2021-11-02T17:07:15.140346Z",
     "iopub.status.busy": "2021-11-02T17:07:15.138819Z",
     "iopub.status.idle": "2021-11-02T17:07:15.206553Z",
     "shell.execute_reply": "2021-11-02T17:07:15.205022Z"
    },
    "papermill": {
     "duration": null,
     "end_time": null,
     "exception": null,
     "start_time": null,
     "status": "completed"
    },
    "tags": []
   },
   "outputs": [],
   "source": [
    "docs = str_subset(names(train), \"FLAG_DOC\")\n",
    "live = str_subset(names(train), \"(?!NFLAG_)(?!FLAG_DOC)(?!_FLAG_)FLAG_\")\n",
    "\n",
    "# code"
   ]
  },
  {
   "cell_type": "markdown",
   "id": "39e66c19",
   "metadata": {
    "papermill": {
     "duration": null,
     "end_time": null,
     "exception": null,
     "start_time": null,
     "status": "completed"
    },
    "tags": []
   },
   "source": [
    "### 데이터 병합 및 Matrix 변환\n",
    "- 몇가지 문법적인 내용을 소개한다. "
   ]
  },
  {
   "cell_type": "code",
   "execution_count": null,
   "id": "c2eecddb",
   "metadata": {
    "execution": {
     "iopub.execute_input": "2021-11-02T17:07:15.816080Z",
     "iopub.status.busy": "2021-11-02T17:07:15.814067Z",
     "iopub.status.idle": "2021-11-02T17:07:15.840373Z",
     "shell.execute_reply": "2021-11-02T17:07:15.838539Z"
    },
    "papermill": {
     "duration": null,
     "end_time": null,
     "exception": null,
     "start_time": null,
     "status": "completed"
    },
    "tags": []
   },
   "outputs": [],
   "source": [
    "# code"
   ]
  },
  {
   "cell_type": "markdown",
   "id": "4e94310f",
   "metadata": {
    "papermill": {
     "duration": null,
     "end_time": null,
     "exception": null,
     "start_time": null,
     "status": "completed"
    },
    "tags": []
   },
   "source": [
    "- named vector를 적용할 때는 !!!를 추가로 입력한다. \n",
    "  + 관련 내용: https://adv-r.hadley.nz/quasiquotation.html\n",
    "\n",
    "- moments 패키지 내, 첨도(kurtosis)는 평균을 중심으로 얼마나 뾰족하게 분포되어 있는지를 나타냄. 양의 값일 경우 분포가 뾰족하고 음의 값일 경우 분포가 평평함."
   ]
  },
  {
   "cell_type": "code",
   "execution_count": null,
   "id": "99da2c2b",
   "metadata": {
    "execution": {
     "iopub.execute_input": "2021-11-02T17:07:16.455877Z",
     "iopub.status.busy": "2021-11-02T17:07:16.453832Z",
     "iopub.status.idle": "2021-11-02T17:07:36.565084Z",
     "shell.execute_reply": "2021-11-02T17:07:36.563214Z"
    },
    "papermill": {
     "duration": null,
     "end_time": null,
     "exception": null,
     "start_time": null,
     "status": "completed"
    },
    "tags": []
   },
   "outputs": [],
   "source": [
    "final_df <- train_test %>% \n",
    "  mutate(DOC_IND_KURT = apply(train_test[, docs], 1, moments::kurtosis),\n",
    "         LIVE_IND_SUM = apply(train_test[, live], 1, sum),\n",
    "         # code\n",
    "         NEW_EXT_SOURCES_MEAN = apply(train_test[, c(\"EXT_SOURCE_1\", \"EXT_SOURCE_2\", \"EXT_SOURCE_3\")], 1, mean),\n",
    "         NEW_SCORES_STD = apply(train_test[, c(\"EXT_SOURCE_1\", \"EXT_SOURCE_2\", \"EXT_SOURCE_3\")], 1, sd))%>%\n",
    "  mutate_all(funs(ifelse(is.nan(.), NA, .))) %>% \n",
    "  mutate_all(funs(ifelse(is.infinite(.), NA, .))) %>% \n",
    "  data.matrix()\n",
    "\n",
    "length(final_df)"
   ]
  },
  {
   "cell_type": "markdown",
   "id": "eb8675fc",
   "metadata": {
    "papermill": {
     "duration": null,
     "end_time": null,
     "exception": null,
     "start_time": null,
     "status": "completed"
    },
    "tags": []
   },
   "source": [
    "# 모델링 "
   ]
  },
  {
   "cell_type": "markdown",
   "id": "6106e3ab",
   "metadata": {
    "papermill": {
     "duration": null,
     "end_time": null,
     "exception": null,
     "start_time": null,
     "status": "completed"
    },
    "tags": []
   },
   "source": [
    "## XGBoost"
   ]
  },
  {
   "cell_type": "code",
   "execution_count": null,
   "id": "7be41596",
   "metadata": {
    "execution": {
     "iopub.execute_input": "2021-11-02T17:07:37.503964Z",
     "iopub.status.busy": "2021-11-02T17:07:37.502489Z",
     "iopub.status.idle": "2021-11-02T17:07:40.316200Z",
     "shell.execute_reply": "2021-11-02T17:07:40.314688Z"
    },
    "papermill": {
     "duration": null,
     "end_time": null,
     "exception": null,
     "start_time": null,
     "status": "completed"
    },
    "tags": []
   },
   "outputs": [],
   "source": [
    "# code"
   ]
  },
  {
   "cell_type": "markdown",
   "id": "e334b637",
   "metadata": {
    "papermill": {
     "duration": null,
     "end_time": null,
     "exception": null,
     "start_time": null,
     "status": "completed"
    },
    "tags": []
   },
   "source": [
    "- 모형학습을 진행한다. "
   ]
  },
  {
   "cell_type": "code",
   "execution_count": null,
   "id": "f077302f",
   "metadata": {
    "execution": {
     "iopub.execute_input": "2021-11-02T17:07:40.956801Z",
     "iopub.status.busy": "2021-11-02T17:07:40.955521Z",
     "iopub.status.idle": "2021-11-02T17:09:07.749680Z",
     "shell.execute_reply": "2021-11-02T17:09:07.748446Z"
    },
    "papermill": {
     "duration": null,
     "end_time": null,
     "exception": null,
     "start_time": null,
     "status": "completed"
    },
    "tags": []
   },
   "outputs": [],
   "source": [
    "# code"
   ]
  },
  {
   "cell_type": "markdown",
   "id": "5ed1ebb4",
   "metadata": {
    "papermill": {
     "duration": null,
     "end_time": null,
     "exception": null,
     "start_time": null,
     "status": "completed"
    },
    "tags": []
   },
   "source": [
    "## LightGBM"
   ]
  },
  {
   "cell_type": "markdown",
   "id": "871ea703",
   "metadata": {
    "papermill": {
     "duration": null,
     "end_time": null,
     "exception": null,
     "start_time": null,
     "status": "completed"
    },
    "tags": []
   },
   "source": [
    "- 데이터를 준비한다. "
   ]
  },
  {
   "cell_type": "code",
   "execution_count": null,
   "id": "6d9aef10",
   "metadata": {
    "execution": {
     "iopub.execute_input": "2021-11-02T17:09:08.745194Z",
     "iopub.status.busy": "2021-11-02T17:09:08.743555Z",
     "iopub.status.idle": "2021-11-02T17:09:09.866720Z",
     "shell.execute_reply": "2021-11-02T17:09:09.865537Z"
    },
    "papermill": {
     "duration": null,
     "end_time": null,
     "exception": null,
     "start_time": null,
     "status": "completed"
    },
    "tags": []
   },
   "outputs": [],
   "source": [
    "# code"
   ]
  },
  {
   "cell_type": "code",
   "execution_count": null,
   "id": "9d2056dd",
   "metadata": {
    "execution": {
     "iopub.execute_input": "2021-11-02T17:09:10.208232Z",
     "iopub.status.busy": "2021-11-02T17:09:10.206551Z",
     "iopub.status.idle": "2021-11-02T17:13:42.881571Z",
     "shell.execute_reply": "2021-11-02T17:13:42.882689Z"
    },
    "papermill": {
     "duration": null,
     "end_time": null,
     "exception": null,
     "start_time": null,
     "status": "completed"
    },
    "tags": []
   },
   "outputs": [],
   "source": [
    "# code"
   ]
  },
  {
   "cell_type": "markdown",
   "id": "cf4d9216",
   "metadata": {
    "papermill": {
     "duration": null,
     "end_time": null,
     "exception": null,
     "start_time": null,
     "status": "completed"
    },
    "tags": []
   },
   "source": [
    "# 결괏값 제출"
   ]
  },
  {
   "cell_type": "markdown",
   "id": "ab97fd7e",
   "metadata": {
    "papermill": {
     "duration": null,
     "end_time": null,
     "exception": null,
     "start_time": null,
     "status": "completed"
    },
    "tags": []
   },
   "source": [
    "- XGBoost"
   ]
  },
  {
   "cell_type": "code",
   "execution_count": null,
   "id": "3c4c90f2",
   "metadata": {
    "execution": {
     "iopub.execute_input": "2021-11-02T17:13:43.941304Z",
     "iopub.status.busy": "2021-11-02T17:13:43.940554Z",
     "iopub.status.idle": "2021-11-02T17:13:43.950639Z",
     "shell.execute_reply": "2021-11-02T17:13:43.949280Z"
    },
    "papermill": {
     "duration": null,
     "end_time": null,
     "exception": null,
     "start_time": null,
     "status": "completed"
    },
    "tags": []
   },
   "outputs": [],
   "source": [
    "# read_csv(paste0(DATA_PATH, \"sample_submission.csv\")) %>%  \n",
    "#   mutate(SK_ID_CURR = as.integer(SK_ID_CURR),\n",
    "#          TARGET = predict(m_xgb, dtest)) %>%\n",
    "#  write_csv(\"submission.csv\")"
   ]
  },
  {
   "cell_type": "markdown",
   "id": "9f1eea72",
   "metadata": {
    "papermill": {
     "duration": null,
     "end_time": null,
     "exception": null,
     "start_time": null,
     "status": "completed"
    },
    "tags": []
   },
   "source": [
    "- LightGBM"
   ]
  },
  {
   "cell_type": "code",
   "execution_count": null,
   "id": "2850eb4e",
   "metadata": {
    "execution": {
     "iopub.execute_input": "2021-11-02T17:13:44.649156Z",
     "iopub.status.busy": "2021-11-02T17:13:44.647566Z",
     "iopub.status.idle": "2021-11-02T17:13:52.443096Z",
     "shell.execute_reply": "2021-11-02T17:13:52.441391Z"
    },
    "papermill": {
     "duration": null,
     "end_time": null,
     "exception": null,
     "start_time": null,
     "status": "completed"
    },
    "tags": []
   },
   "outputs": [],
   "source": [
    "read_csv(paste0(DATA_PATH, \"sample_submission.csv\")) %>% \n",
    "    mutate(SK_ID_CURR = as.integer(SK_ID_CURR), \n",
    "           TARGET = predict(lgb.model, data = dtest, n = lgb.model$best_score)) %>%\n",
    "    write_csv(\"submission.csv\")"
   ]
  }
 ],
 "metadata": {
  "kernelspec": {
   "display_name": "R",
   "language": "R",
   "name": "ir"
  },
  "language_info": {
   "codemirror_mode": "r",
   "file_extension": ".r",
   "mimetype": "text/x-r-source",
   "name": "R",
   "pygments_lexer": "r",
   "version": "4.0.5"
  },
  "papermill": {
   "default_parameters": {},
   "duration": 0.820279,
   "end_time": "2021-11-03T03:15:11.088716",
   "environment_variables": {},
   "exception": null,
   "input_path": "__notebook__.ipynb",
   "output_path": "__notebook__.ipynb",
   "parameters": {},
   "start_time": "2021-11-03T03:15:10.268437",
   "version": "2.3.3"
  }
 },
 "nbformat": 4,
 "nbformat_minor": 5
}
