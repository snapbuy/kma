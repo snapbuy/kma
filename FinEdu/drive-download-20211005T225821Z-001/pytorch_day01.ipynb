{
 "cells": [
  {
   "cell_type": "code",
   "execution_count": 69,
   "metadata": {},
   "outputs": [],
   "source": [
    "import numpy as np\n",
    "\n",
    "import torch   "
   ]
  },
  {
   "cell_type": "code",
   "execution_count": 1,
   "metadata": {
    "colab": {
     "base_uri": "https://localhost:8080/"
    },
    "id": "iWV3rXmVmRL_",
    "outputId": "03d9b815-9067-4199-cee3-001a94a00e5d"
   },
   "outputs": [
    {
     "name": "stdout",
     "output_type": "stream",
     "text": [
      "안녕하세요\n",
      "점심입니다.\n"
     ]
    }
   ],
   "source": [
    "print(\"안녕하세요\")\n",
    "print(\"점심입니다.\")\n"
   ]
  },
  {
   "cell_type": "markdown",
   "metadata": {
    "id": "BhxhkfaMmp-K"
   },
   "source": [
    "# 1. 파이썬 기초"
   ]
  },
  {
   "cell_type": "code",
   "execution_count": 4,
   "metadata": {
    "colab": {
     "base_uri": "https://localhost:8080/"
    },
    "id": "oqEb0Ozhmvtb",
    "outputId": "0b922bd6-bc3d-4204-cf54-848bef9ec84d"
   },
   "outputs": [
    {
     "name": "stdout",
     "output_type": "stream",
     "text": [
      "tensor([ 5, 11, 14, 20])\n",
      "[ 5 11 14 20]\n"
     ]
    }
   ],
   "source": [
    "\n",
    "x = torch.tensor([1, 3, 4,6 ])\n",
    "y = 3 * x + 2\n",
    "print(y)\n",
    "print(y.numpy())"
   ]
  },
  {
   "cell_type": "code",
   "execution_count": 11,
   "metadata": {
    "colab": {
     "base_uri": "https://localhost:8080/"
    },
    "id": "CwJD3f88FjKA",
    "outputId": "02f3cfff-6a11-4db2-aac1-f257d44e34b1"
   },
   "outputs": [
    {
     "name": "stdout",
     "output_type": "stream",
     "text": [
      "tensor([ 3.,  5.,  7.,  9., 11.])\n",
      "tensor(0.8000)\n",
      "tensor(0.8944)\n",
      "tensor(1.4248)\n"
     ]
    }
   ],
   "source": [
    "x = torch.tensor([1,2,3,4,5]).float()\n",
    "y = torch.tensor([3, 4, 8, 10, 12 ])\n",
    "\n",
    "# RMSE 계산\n",
    "h = 2 * x + 1 \n",
    "print(h)\n",
    "\n",
    "\n",
    "rmse1 = torch.sum(torch.abs(y - h )) / 5\n",
    "rmse1 = torch.mean(torch.abs(y - h ))\n",
    "print(rmse1)\n",
    "rmse1 =  torch.sqrt(torch.mean((y - h)**2))\n",
    "print(rmse1)\n",
    "\n",
    "# RMSE 계산\n",
    "h2 = 2.5*x + 1.2\n",
    "rmse2 =  torch.sqrt(torch.mean((y - h2)**2))\n",
    "print(rmse2)"
   ]
  },
  {
   "cell_type": "markdown",
   "metadata": {},
   "source": [
    "# 직선의 방정식"
   ]
  },
  {
   "cell_type": "code",
   "execution_count": 63,
   "metadata": {},
   "outputs": [
    {
     "name": "stdout",
     "output_type": "stream",
     "text": [
      "tensor([ 5, 11, 14, 20])\n",
      "torch.int64\n"
     ]
    }
   ],
   "source": [
    "x = torch.tensor([1, 3, 4,6 ])\n",
    "y = 3 * x + 2\n",
    "print(y)\n",
    "print(x.dtype)"
   ]
  },
  {
   "cell_type": "code",
   "execution_count": 64,
   "metadata": {},
   "outputs": [
    {
     "name": "stdout",
     "output_type": "stream",
     "text": [
      "tensor([ 5., 11., 14., 20.])\n",
      "torch.float32\n"
     ]
    }
   ],
   "source": [
    "x = torch.tensor([1, 3, 4,6.0 ])\n",
    "y = 3 * x + 2\n",
    "print(y)\n",
    "print(x.dtype)"
   ]
  },
  {
   "cell_type": "code",
   "execution_count": 65,
   "metadata": {},
   "outputs": [
    {
     "name": "stdout",
     "output_type": "stream",
     "text": [
      "tensor([ 5., 11., 14., 20.])\n",
      "torch.float32\n"
     ]
    }
   ],
   "source": [
    "x = torch.FloatTensor([1, 3, 4,6 ])\n",
    "y = 3 * x + 2\n",
    "print(y)\n",
    "print(x.dtype)"
   ]
  },
  {
   "cell_type": "markdown",
   "metadata": {},
   "source": [
    "# RMSE 계산"
   ]
  },
  {
   "cell_type": "code",
   "execution_count": 88,
   "metadata": {},
   "outputs": [
    {
     "name": "stdout",
     "output_type": "stream",
     "text": [
      "tensor([ 3.,  5.,  7.,  9., 11.])\n",
      "tensor(0.80000)\n",
      "tensor(1.42478)\n"
     ]
    }
   ],
   "source": [
    "x = torch.FloatTensor([1,2,3,4,5])\n",
    "y = torch.FloatTensor([3, 4, 8, 10, 12 ])\n",
    "\n",
    "# RMSE 계산\n",
    "h = 2 * x + 1 \n",
    "print(h)\n",
    "\n",
    "rmse1 = torch.sum(torch.abs(y - h )) / 5\n",
    "rmse1 = torch.mean(torch.abs(y - h ))\n",
    "print(rmse1)\n",
    "\n",
    "rmse1 =  torch.sqrt(torch.mean((y - h)**2))\n",
    "\n",
    "\n",
    "# RMSE 계산\n",
    "h2 = 2.5*x + 1.2\n",
    "rmse2 =  torch.sqrt(torch.mean((y - h2)**2))\n",
    "print(rmse2)"
   ]
  },
  {
   "cell_type": "markdown",
   "metadata": {
    "id": "tvsg83qkMVg-"
   },
   "source": [
    "# 역행렬"
   ]
  },
  {
   "cell_type": "code",
   "execution_count": 16,
   "metadata": {
    "colab": {
     "base_uri": "https://localhost:8080/"
    },
    "id": "uCvsboksMZxL",
    "outputId": "19e6a8c0-4b64-4605-aee5-e23ab03e8097"
   },
   "outputs": [
    {
     "name": "stdout",
     "output_type": "stream",
     "text": [
      "tensor([[1., 2.],\n",
      "        [3., 4.]])\n",
      "tensor([[-2.0000,  1.0000],\n",
      "        [ 1.5000, -0.5000]])\n",
      "tensor([[-2.0000,  2.0000],\n",
      "        [ 4.5000, -2.0000]])\n",
      "tensor([[ 1.0000e+00,  0.0000e+00],\n",
      "        [-5.9605e-08,  1.0000e+00]])\n"
     ]
    }
   ],
   "source": [
    "a = torch.tensor([ [1,2], \n",
    "             [3,4] ] ).float()\n",
    "print(a)\n",
    "\n",
    "inv = torch.inverse(a)\n",
    "print(inv)\n",
    "\n",
    "print(inv * a)\n",
    "print(torch.matmul(inv, a))   #I*A = A"
   ]
  },
  {
   "cell_type": "code",
   "execution_count": 18,
   "metadata": {
    "colab": {
     "base_uri": "https://localhost:8080/"
    },
    "id": "IBzhUFACNuBy",
    "outputId": "d8e60b2a-0037-4ac7-c2a7-f1e5f8ee3233"
   },
   "outputs": [
    {
     "name": "stdout",
     "output_type": "stream",
     "text": [
      "tensor([[ 4.6000],\n",
      "        [20.4000]])\n",
      "tensor([15.8000]) tensor([-11.2000])\n",
      "15.799999237060547 -11.199999809265137\n"
     ]
    }
   ],
   "source": [
    "x = [1, 2]\n",
    "y = [3, 5]   # y=2x + 1 \n",
    "\n",
    "A = torch.tensor(\n",
    "    [[1,1 ],\n",
    "    [2, 1]]).float()\n",
    "\n",
    "Y = torch.tensor([[4.6],\n",
    "              [20.4]]).float()\n",
    "\n",
    "print(Y)\n",
    "W = torch.matmul(torch.inverse(A) , Y)\n",
    "print(W[0], W[1])\n",
    "print(W[0].item(), W[1].item())"
   ]
  },
  {
   "cell_type": "code",
   "execution_count": 20,
   "metadata": {
    "colab": {
     "base_uri": "https://localhost:8080/"
    },
    "id": "0vgLqMTePjKT",
    "outputId": "2f1a9743-f521-40db-8b95-e0f5b59baef4"
   },
   "outputs": [
    {
     "name": "stdout",
     "output_type": "stream",
     "text": [
      "tensor([[3.],\n",
      "        [5.],\n",
      "        [8.]])\n",
      "tensor([2.5000]) tensor([0.3333])\n"
     ]
    }
   ],
   "source": [
    "x = [1, 2, 3]\n",
    "y = [3, 5, 8]   # y=2x + 1 \n",
    "\n",
    "A = torch.tensor(\n",
    "    [[1,1.0 ],\n",
    "    [2, 1],\n",
    "    [3,1]]).float()\n",
    "\n",
    "Y = torch.tensor([[3],\n",
    "              [5],\n",
    "              [8]]).float()\n",
    "\n",
    "print(Y)   \n",
    "W = torch.matmul(torch.pinverse(A) , Y)\n",
    "print(W[0], W[1])"
   ]
  },
  {
   "cell_type": "code",
   "execution_count": 30,
   "metadata": {
    "id": "o8Ur5nBAouo_"
   },
   "outputs": [
    {
     "name": "stdout",
     "output_type": "stream",
     "text": [
      "tensor([0.0000e+00, 6.6929e-03, 9.1105e-04, 1.1920e-01, 2.6894e-01, 5.0000e-01,\n",
      "        7.3106e-01, 8.8080e-01, 9.5257e-01, 9.8201e-01, 9.9331e-01, 1.0000e+00])\n"
     ]
    }
   ],
   "source": [
    "torch.exp(   torch.tensor(1)   )   #  2.7^0=1\n",
    "\n",
    "x = torch.tensor([-200, -5, -4 -3,-2, -1, 0, 1, 2, 3, 4, 5, 200]).float()\n",
    "#x = torch.tensor([-5, 5, 0.1]).float()\n",
    "sig = 1 / (  1 + torch.exp(-x))\n",
    "print(sig)"
   ]
  },
  {
   "cell_type": "code",
   "execution_count": 31,
   "metadata": {
    "colab": {
     "base_uri": "https://localhost:8080/",
     "height": 283
    },
    "id": "kQA76DEYqu96",
    "outputId": "b1158641-696d-4068-ed61-8dd7e5c6a5a5"
   },
   "outputs": [
    {
     "data": {
      "text/plain": [
       "[<matplotlib.lines.Line2D at 0x18b7f5889d0>]"
      ]
     },
     "execution_count": 31,
     "metadata": {},
     "output_type": "execute_result"
    },
    {
     "data": {
      "image/png": "[encoded data removed]",
      "text/plain": [
       "<Figure size 432x288 with 1 Axes>"
      ]
     },
     "metadata": {
      "needs_background": "light"
     },
     "output_type": "display_data"
    }
   ],
   "source": [
    "import matplotlib.pyplot as plt\n",
    "plt.plot(x , sig, '*')"
   ]
  },
  {
   "cell_type": "code",
   "execution_count": 61,
   "metadata": {
    "colab": {
     "base_uri": "https://localhost:8080/",
     "height": 584
    },
    "id": "O90XijzctUnZ",
    "outputId": "bc8f6379-8b0a-403e-c73f-4810c1d39370"
   },
   "outputs": [
    {
     "name": "stdout",
     "output_type": "stream",
     "text": [
      "tensor(0.26894)\n",
      "tensor(1.05500e-05)\n",
      "0.10550022\n"
     ]
    },
    {
     "data": {
      "text/plain": [
       "[<matplotlib.lines.Line2D at 0x18b7f8799d0>]"
      ]
     },
     "execution_count": 61,
     "metadata": {},
     "output_type": "execute_result"
    },
    {
     "data": {
      "image/png": "[encoded data removed]",
      "text/plain": [
       "<Figure size 432x288 with 1 Axes>"
      ]
     },
     "metadata": {
      "needs_background": "light"
     },
     "output_type": "display_data"
    }
   ],
   "source": [
    "torch.set_printoptions(precision=5)\n",
    "\n",
    "def sigmoid(x) :\n",
    "  return  1 / (  1 + torch.exp(-x))\n",
    "\n",
    "print(sigmoid(torch.tensor(-1) ))\n",
    "\n",
    "#x가 2이 곳에서 미분값을 계산하시오.\n",
    "\n",
    "\n",
    "delta = 1e-4\n",
    "f = sigmoid(torch.tensor(2+ delta)) - sigmoid(torch.tensor(2)) \n",
    "print(f)\n",
    "d = f / delta\n",
    "print(d.numpy())\n",
    "\n",
    "\n",
    "x = torch.linspace(-5, 5, 1000)\n",
    "\n",
    "dx = (sigmoid(x+ delta) - sigmoid(x))  /  (delta)\n",
    "#print(dx)\n",
    "\n",
    "plt.plot(x, sigmoid(x))\n",
    "plt.plot(x, dx)"
   ]
  },
  {
   "cell_type": "code",
   "execution_count": 47,
   "metadata": {
    "colab": {
     "base_uri": "https://localhost:8080/"
    },
    "id": "Nm1RMO4h2IOq",
    "outputId": "3e03e41c-8efc-4558-8fb3-9204d50d8621"
   },
   "outputs": [
    {
     "name": "stdout",
     "output_type": "stream",
     "text": [
      "tensor([[ 650.0000],\n",
      "        [5483.3359]])\n",
      "tensor([[ 750.0000],\n",
      "        [2583.3359]])\n",
      "tensor([18483.3359]) tensor([17583.3359])\n"
     ]
    }
   ],
   "source": [
    "#회사 A  10km   12000 ,    11km   12600    12km   13300\n",
    "#회사 B  10km   10000      11km   11000    12km   11500\n",
    "#CEO 20km 갈건데 어느 회사를 이용하면 좋을까?\n",
    "\n",
    "#1. A회사의 모델 y = wx + b\n",
    "#2. b회사의 모델 y2 = w2x + b2\n",
    "#3 . x=20,  y, y2를 계산  \n",
    "\n",
    "A  = torch.tensor([[10, 1],\n",
    "     [11, 1],\n",
    "     [12, 1]]).float()\n",
    "Y_A = torch.tensor([[12000],\n",
    "      [12600],\n",
    "      [13300]]).float()\n",
    "Y_B = torch.tensor([[10000],\n",
    "      [11000],\n",
    "      [11500]]).float()\n",
    "\n",
    "inv = torch.pinverse(A)\n",
    "W_A = torch.matmul(inv,  Y_A )\n",
    "W_B = torch.matmul(inv,  Y_B )\n",
    "\n",
    "print(W_A)  # 단위시간당(거리) 변화량       1km당 650입니다. 기본요금 5483원\n",
    "print(W_B)  # 단위시간당(거리) 변화량       1km당 750입니다. 기본요금 2583원 \n",
    "\n",
    "x = 20\n",
    "cost_A = W_A[0]*x + W_A[1]\n",
    "cost_B = W_B[0]*x + W_B[1]\n",
    "print(cost_A,  cost_B)\n",
    "\n",
    "\n",
    "#650*x + 5483 = 750*x + 2538 \n",
    "#X계산, y"
   ]
  }
 ],
 "metadata": {
  "colab": {
   "collapsed_sections": [],
   "name": "아주대_day1.ipynb",
   "provenance": []
  },
  "kernelspec": {
   "display_name": "Python 3",
   "language": "python",
   "name": "python3"
  },
  "language_info": {
   "codemirror_mode": {
    "name": "ipython",
    "version": 3
   },
   "file_extension": ".py",
   "mimetype": "text/x-python",
   "name": "python",
   "nbconvert_exporter": "python",
   "pygments_lexer": "ipython3",
   "version": "3.8.8"
  }
 },
 "nbformat": 4,
 "nbformat_minor": 1
}
