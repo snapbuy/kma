{
 "cells": [
  {
   "cell_type": "code",
   "execution_count": 1,
   "metadata": {
    "executionInfo": {
     "elapsed": 446,
     "status": "ok",
     "timestamp": 1626953625534,
     "user": {
      "displayName": "최권택",
      "photoUrl": "",
      "userId": "03752111430510713717"
     },
     "user_tz": -540
    },
    "id": "JVMQepUC0PVt"
   },
   "outputs": [],
   "source": [
    "import numpy as np\n",
    "import matplotlib.pyplot as plt"
   ]
  },
  {
   "cell_type": "markdown",
   "metadata": {
    "id": "4K-0bTZU6WFW"
   },
   "source": [
    "![image.png](data:image/png;base64,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)"
   ]
  },
  {
   "cell_type": "code",
   "execution_count": 2,
   "metadata": {
    "executionInfo": {
     "elapsed": 465,
     "status": "ok",
     "timestamp": 1626953931654,
     "user": {
      "displayName": "최권택",
      "photoUrl": "",
      "userId": "03752111430510713717"
     },
     "user_tz": -540
    },
    "id": "5Mt-iqJdJeCY"
   },
   "outputs": [],
   "source": [
    "#                      상,  우, 하,  좌                  \n",
    "theta_0 = np.array([[np.nan, 1, 1, np.nan],  # s0\n",
    "                    [np.nan, 1, np.nan, 1],  # s1\n",
    "                    [np.nan, np.nan, np.nan, 1],  # s2\n",
    "                    [1, 1, 1, np.nan],  # s3\n",
    "                    [np.nan, 1, np.nan, 1],  # s4\n",
    "                    [np.nan, np.nan, 1, 1],  # s5\n",
    "                    [1, 1, np.nan, np.nan],  # s6\n",
    "                    [np.nan, np.nan, np.nan, 1],  # s7\n",
    "                    [np.nan, np.nan, np.nan, np.nan], # s8\n",
    "                    ])"
   ]
  },
  {
   "cell_type": "code",
   "execution_count": 3,
   "metadata": {
    "executionInfo": {
     "elapsed": 393,
     "status": "ok",
     "timestamp": 1626954115497,
     "user": {
      "displayName": "최권택",
      "photoUrl": "",
      "userId": "03752111430510713717"
     },
     "user_tz": -540
    },
    "id": "N636-ACM0zUw"
   },
   "outputs": [],
   "source": [
    "def softmax_convert_into_pi_from_theta(theta):\n",
    "    '''비율 계산에 소프트맥스 함수 사용'''\n",
    "\n",
    "    beta = 1.0\n",
    "    [m, n] = theta.shape  # theta의 행렬 크기를 구함\n",
    "    pi = np.zeros((m, n))\n",
    "\n",
    "    exp_theta = np.exp(beta * theta)  # theta를 exp(theta)로 변환\n",
    "\n",
    "    for i in range(0, m):\n",
    "        # pi[i, :] = theta[i, :] / np.nansum(theta[i, :])\n",
    "        # 단순 비율을 계산하는 코드\n",
    "\n",
    "        pi[i, :] = exp_theta[i, :] / np.nansum(exp_theta[i, :])\n",
    "        # softmax로 계산하는 코드\n",
    "\n",
    "    pi = np.nan_to_num(pi)  # nan을 0으로 변환\n",
    "\n",
    "    return pi\n",
    "\n",
    "direction = [\"up\", \"right\", \"down\", \"left\"]\n",
    "\n",
    "def get_action_and_next_s(pi, s):  # 폭\n",
    "    n = int(np.sqrt(pi.shape[0]))\n",
    "    \n",
    "    # pi[s,:]의 확률을 따라, direction값이 선택된다\n",
    "    next_direction = np.random.choice(direction, p=pi[s, :])\n",
    "\n",
    "    if next_direction == \"up\":\n",
    "        action = 0\n",
    "        s_next = s - n  # 위로 이동하면 상태값이 3 줄어든다\n",
    "    elif next_direction == \"right\":\n",
    "        action = 1\n",
    "        s_next = s + 1  # 오른쪽으로 이동하면 상태값이 1 늘어난다\n",
    "    elif next_direction == \"down\":\n",
    "        action = 2\n",
    "        s_next = s + n  # 아래로 이동하면 상태값이 3 늘어난다\n",
    "    elif next_direction == \"left\":\n",
    "        action = 3\n",
    "        s_next = s - 1  # 왼쪽으로 이동하면 상태값이 1 줄어든다\n",
    "\n",
    "    return [action, s_next]\n",
    "\n",
    "\n",
    "def goal_maze_ret_s_a(pi):\n",
    "    goal = np.argmin(np.nansum(theta_0, axis=1)) # 8\n",
    "    s = 0  # 시작 지점\n",
    "    s_a_history = []\n",
    "\n",
    "    while (1):  # 목표 지점에 이를 때까지 반복\n",
    "        [action, next_s] = get_action_and_next_s(pi, s)\n",
    "\n",
    "        s_a_history.append([s, action, direction[action], next_s])\n",
    "        \n",
    "        if next_s == goal:  # 목표 지점에 이르면 종료\n",
    "            s_a_history.append([goal, np.nan])\n",
    "            break\n",
    "        else:\n",
    "            s = next_s\n",
    "\n",
    "    return s_a_history\n",
    "\n",
    "\n",
    "def update_theta(theta, pi, s_a_history):\n",
    "    eta = 0.1 # 학습률\n",
    "    T = len(s_a_history) - 1  # 목표 지점에 이르기까지 걸린 단계 수\n",
    "\n",
    "    [m, n] = theta.shape  # theta의 행렬 크기를 구함\n",
    "    delta_theta = theta.copy()  # Δtheta를 구할 준비, 포인터 참조이므로 delta_theta = theta로는 안됨\n",
    "\n",
    "    # delta_theta를 요소 단위로 계산\n",
    "    for i in range(0, m):\n",
    "        for j in range(0, n):\n",
    "            if not(np.isnan(theta[i, j])):  # theta가 nan이 아닌 경우\n",
    "\n",
    "                SA_i = [SA for SA in s_a_history if SA[0] == i]\n",
    "                # 히스토리에서 상태 i인 것만 모아오는 리스트 컴프리헨션\n",
    "\n",
    "                SA_ij = [SA for SA in s_a_history if SA[0:2] == [i, j]]\n",
    "                # 상태 i에서 행동 j를 취한 경우만 모음\n",
    "\n",
    "                N_i = len(SA_i)  # 상태 i에서 모든 행동을 취한 횟수\n",
    "                N_ij = len(SA_ij)  # 상태 i에서 행동 j를 취한 횟수 \n",
    "                \n",
    "                delta_theta[i, j] = (N_ij - pi[i, j] * N_i) / T\n",
    "                #delta_theta[i, j] = N_ij / T\n",
    "\n",
    "    new_theta = theta + eta * delta_theta\n",
    "\n",
    "    return new_theta"
   ]
  },
  {
   "cell_type": "code",
   "execution_count": 4,
   "metadata": {
    "colab": {
     "base_uri": "https://localhost:8080/"
    },
    "executionInfo": {
     "elapsed": 411,
     "status": "ok",
     "timestamp": 1626954003129,
     "user": {
      "displayName": "최권택",
      "photoUrl": "",
      "userId": "03752111430510713717"
     },
     "user_tz": -540
    },
    "id": "A67bkZC7-Vvo",
    "outputId": "b8eebee2-1f8c-47c5-f1af-fc53a5f646fc"
   },
   "outputs": [
    {
     "data": {
      "text/plain": [
       "array([[0.        , 0.5       , 0.5       , 0.        ],\n",
       "       [0.        , 0.5       , 0.        , 0.5       ],\n",
       "       [0.        , 0.        , 0.        , 1.        ],\n",
       "       [0.33333333, 0.33333333, 0.33333333, 0.        ],\n",
       "       [0.        , 0.5       , 0.        , 0.5       ],\n",
       "       [0.        , 0.        , 0.5       , 0.5       ],\n",
       "       [0.5       , 0.5       , 0.        , 0.        ],\n",
       "       [0.        , 0.        , 0.        , 1.        ],\n",
       "       [0.        , 0.        , 0.        , 0.        ]])"
      ]
     },
     "execution_count": 4,
     "metadata": {},
     "output_type": "execute_result"
    }
   ],
   "source": [
    "softmax_convert_into_pi_from_theta(theta_0)"
   ]
  },
  {
   "cell_type": "code",
   "execution_count": 6,
   "metadata": {
    "colab": {
     "base_uri": "https://localhost:8080/"
    },
    "executionInfo": {
     "elapsed": 263,
     "status": "ok",
     "timestamp": 1625987420350,
     "user": {
      "displayName": "최권택",
      "photoUrl": "",
      "userId": "03752111430510713717"
     },
     "user_tz": -540
    },
    "id": "umndA9gO-BQS",
    "outputId": "66480ad6-c688-4c43-9e93-d6766cae3b9a"
   },
   "outputs": [
    {
     "name": "stdout",
     "output_type": "stream",
     "text": [
      "[[0, 0], [0, 1], [0, 1], [0, 2], [0, 1]]\n",
      "[[0, 1], [0, 1], [0, 1]]\n",
      "5 3\n",
      "3 2.0\n"
     ]
    },
    {
     "data": {
      "text/plain": [
       "0.1111111111111111"
      ]
     },
     "execution_count": 6,
     "metadata": {},
     "output_type": "execute_result"
    }
   ],
   "source": [
    "s_a_history = [[0,0], [1,1], [1,1], [0,1], [3,2], [0,1], [1,2], [0,2], [1,1], [0,1]]\n",
    "   \n",
    "i = 0\n",
    "j = 1\n",
    "SA_i = [SA for SA in s_a_history if SA[0] == i]\n",
    "SA_ij = [SA for SA in s_a_history if SA == [i, j]]\n",
    "N_i = len(SA_i) \n",
    "N_ij = len(SA_ij)\n",
    "\n",
    "print(SA_i)   \n",
    "print(SA_ij)   \n",
    "   \n",
    "print(N_i, N_ij)\n",
    "\n",
    "T = len(s_a_history) - 1 \n",
    "\n",
    "p = 0.4\n",
    "print(N_ij , p * N_i)\n",
    "(N_ij - p * N_i) / T"
   ]
  },
  {
   "cell_type": "code",
   "execution_count": 7,
   "metadata": {
    "colab": {
     "base_uri": "https://localhost:8080/"
    },
    "executionInfo": {
     "elapsed": 382,
     "status": "ok",
     "timestamp": 1626954017334,
     "user": {
      "displayName": "최권택",
      "photoUrl": "",
      "userId": "03752111430510713717"
     },
     "user_tz": -540
    },
    "id": "n1xai8zG1k71",
    "outputId": "69932d3b-a95c-4d6a-edd4-c0d75c31f615"
   },
   "outputs": [
    {
     "name": "stdout",
     "output_type": "stream",
     "text": [
      "[[0, 2, 'down', 3], [3, 2, 'down', 6], [6, 1, 'right', 7], [7, 3, 'left', 6], [6, 0, 'up', 3], [3, 1, 'right', 4], [4, 3, 'left', 3], [3, 0, 'up', 0], [0, 2, 'down', 3], [3, 1, 'right', 4], [4, 1, 'right', 5], [5, 3, 'left', 4], [4, 1, 'right', 5], [5, 3, 'left', 4], [4, 3, 'left', 3], [3, 1, 'right', 4], [4, 1, 'right', 5], [5, 3, 'left', 4], [4, 1, 'right', 5], [5, 3, 'left', 4], [4, 3, 'left', 3], [3, 2, 'down', 6], [6, 0, 'up', 3], [3, 1, 'right', 4], [4, 1, 'right', 5], [5, 3, 'left', 4], [4, 1, 'right', 5], [5, 2, 'down', 8], [8, nan]]\n",
      "목표 지점에 이르기까지 걸린 단계 수는 28단계입니다\n"
     ]
    }
   ],
   "source": [
    "# 정책 수정 없이 현재 목적지 까지 가기\n",
    "# 같은 정책이라도 랜덤하게 확률적으로 이동하기 때문에 목표까지 가는 단계는 항상 다르다.\n",
    "pi_0 = softmax_convert_into_pi_from_theta(theta_0)\n",
    "s_a_history = goal_maze_ret_s_a(pi_0)\n",
    "print(s_a_history)\n",
    "print(\"목표 지점에 이르기까지 걸린 단계 수는 \" + str(len(s_a_history) - 1) + \"단계입니다\")"
   ]
  },
  {
   "cell_type": "code",
   "execution_count": 8,
   "metadata": {
    "colab": {
     "base_uri": "https://localhost:8080/"
    },
    "executionInfo": {
     "elapsed": 421,
     "status": "ok",
     "timestamp": 1626954122421,
     "user": {
      "displayName": "최권택",
      "photoUrl": "",
      "userId": "03752111430510713717"
     },
     "user_tz": -540
    },
    "id": "u9P6flOq19Jg",
    "outputId": "7753ac30-e14b-41fa-8a02-8e0ab6811984"
   },
   "outputs": [
    {
     "name": "stdout",
     "output_type": "stream",
     "text": [
      "[[       nan 0.99642857 1.00357143        nan]\n",
      " [       nan 1.                nan 1.        ]\n",
      " [       nan        nan        nan 1.        ]\n",
      " [0.9952381  1.00595238 0.99880952        nan]\n",
      " [       nan 1.00535714        nan 0.99464286]\n",
      " [       nan        nan 0.99285714 1.00714286]\n",
      " [1.00178571 0.99821429        nan        nan]\n",
      " [       nan        nan        nan 1.        ]\n",
      " [       nan        nan        nan        nan]]\n",
      "[[0.         0.49821429 0.50178571 0.        ]\n",
      " [0.         0.5        0.         0.5       ]\n",
      " [0.         0.         0.         1.        ]\n",
      " [0.33174651 0.33532005 0.33293344 0.        ]\n",
      " [0.         0.50267855 0.         0.49732145]\n",
      " [0.         0.         0.49642863 0.50357137]\n",
      " [0.50089286 0.49910714 0.         0.        ]\n",
      " [0.         0.         0.         1.        ]\n",
      " [0.         0.         0.         0.        ]]\n"
     ]
    }
   ],
   "source": [
    "# 정책 수정 1번 수정\n",
    "theta = update_theta(theta_0, pi_0, s_a_history)\n",
    "pi = softmax_convert_into_pi_from_theta(theta)\n",
    "print(theta)\n",
    "print(pi)"
   ]
  },
  {
   "cell_type": "code",
   "execution_count": 9,
   "metadata": {
    "colab": {
     "base_uri": "https://localhost:8080/"
    },
    "executionInfo": {
     "elapsed": 413,
     "status": "ok",
     "timestamp": 1626954132972,
     "user": {
      "displayName": "최권택",
      "photoUrl": "",
      "userId": "03752111430510713717"
     },
     "user_tz": -540
    },
    "id": "rkBvI9ka5VBd",
    "outputId": "d868b528-d1fe-4ad5-8856-1f6a3db86519"
   },
   "outputs": [
    {
     "name": "stdout",
     "output_type": "stream",
     "text": [
      "[[       nan 0.99749628 1.00250372        nan]\n",
      " [       nan 0.99791667        nan 1.00208333]\n",
      " [       nan        nan        nan 1.        ]\n",
      " [0.99387565 1.00453038 1.00159397        nan]\n",
      " [       nan 1.00638207        nan 0.99361793]\n",
      " [       nan        nan 0.99287202 1.00712798]\n",
      " [0.99759673 1.00240327        nan        nan]\n",
      " [       nan        nan        nan 1.        ]\n",
      " [       nan        nan        nan        nan]]\n",
      "[[0.         0.49874814 0.50125186 0.        ]\n",
      " [0.         0.49895833 0.         0.50104167]\n",
      " [0.         0.         0.         1.        ]\n",
      " [0.33129478 0.33484351 0.33386171 0.        ]\n",
      " [0.         0.50319099 0.         0.49680901]\n",
      " [0.         0.         0.49643607 0.50356393]\n",
      " [0.49879837 0.50120163 0.         0.        ]\n",
      " [0.         0.         0.         1.        ]\n",
      " [0.         0.         0.         0.        ]]\n"
     ]
    }
   ],
   "source": [
    "# 정책 수정 한번 더  수정\n",
    "s_a_history = goal_maze_ret_s_a(pi) \n",
    "theta = update_theta(theta, pi, s_a_history)\n",
    "pi = softmax_convert_into_pi_from_theta(theta)\n",
    "print(theta)\n",
    "print(pi)"
   ]
  },
  {
   "cell_type": "code",
   "execution_count": 10,
   "metadata": {
    "executionInfo": {
     "elapsed": 3153,
     "status": "ok",
     "timestamp": 1626954141037,
     "user": {
      "displayName": "최권택",
      "photoUrl": "",
      "userId": "03752111430510713717"
     },
     "user_tz": -540
    },
    "id": "470DkZVE6Xk2"
   },
   "outputs": [],
   "source": [
    "# 4000번 수행\n",
    "for i in range(4000) :\n",
    "  s_a_history = goal_maze_ret_s_a(pi) \n",
    "  theta = update_theta(theta, pi, s_a_history)\n",
    "  pi = softmax_convert_into_pi_from_theta(theta)  "
   ]
  },
  {
   "cell_type": "code",
   "execution_count": 11,
   "metadata": {
    "colab": {
     "base_uri": "https://localhost:8080/"
    },
    "executionInfo": {
     "elapsed": 388,
     "status": "ok",
     "timestamp": 1626954175383,
     "user": {
      "displayName": "최권택",
      "photoUrl": "",
      "userId": "03752111430510713717"
     },
     "user_tz": -540
    },
    "id": "j4w6Zq9X77G7",
    "outputId": "be5749a5-e40c-4f44-e53e-774cb77be771"
   },
   "outputs": [
    {
     "name": "stdout",
     "output_type": "stream",
     "text": [
      "[[0.         0.5        0.5        0.        ]\n",
      " [0.         0.5        0.         0.5       ]\n",
      " [0.         0.         0.         1.        ]\n",
      " [0.33333333 0.33333333 0.33333333 0.        ]\n",
      " [0.         0.5        0.         0.5       ]\n",
      " [0.         0.         0.5        0.5       ]\n",
      " [0.5        0.5        0.         0.        ]\n",
      " [0.         0.         0.         1.        ]\n",
      " [0.         0.         0.         0.        ]]\n",
      "[[0.         0.01603445 0.98396555 0.        ]\n",
      " [0.         0.28245287 0.         0.71754713]\n",
      " [0.         0.         0.         1.        ]\n",
      " [0.01109319 0.97869805 0.01020877 0.        ]\n",
      " [0.         0.98642288 0.         0.01357712]\n",
      " [0.         0.         0.98246869 0.01753131]\n",
      " [0.68869827 0.31130173 0.         0.        ]\n",
      " [0.         0.         0.         1.        ]\n",
      " [0.         0.         0.         0.        ]]\n"
     ]
    }
   ],
   "source": [
    "print(softmax_convert_into_pi_from_theta(theta_0))\n",
    "print(softmax_convert_into_pi_from_theta(theta))"
   ]
  },
  {
   "cell_type": "code",
   "execution_count": 12,
   "metadata": {
    "colab": {
     "base_uri": "https://localhost:8080/"
    },
    "executionInfo": {
     "elapsed": 2834,
     "status": "ok",
     "timestamp": 1626954200723,
     "user": {
      "displayName": "최권택",
      "photoUrl": "",
      "userId": "03752111430510713717"
     },
     "user_tz": -540
    },
    "id": "m14Ax4_SdK89",
    "outputId": "d04e17b6-d931-4625-bf23-480cf15d1ac4"
   },
   "outputs": [
    {
     "name": "stdout",
     "output_type": "stream",
     "text": [
      "[[0.         0.5        0.5        0.        ]\n",
      " [0.         0.5        0.         0.5       ]\n",
      " [0.         0.         0.         1.        ]\n",
      " [0.33333333 0.33333333 0.33333333 0.        ]\n",
      " [0.         0.5        0.         0.5       ]\n",
      " [0.         0.         0.5        0.5       ]\n",
      " [0.5        0.5        0.         0.        ]\n",
      " [0.         0.         0.         1.        ]\n",
      " [0.         0.         0.         0.        ]]\n",
      "[[0.         0.01494517 0.98505483 0.        ]\n",
      " [0.         0.30927172 0.         0.69072828]\n",
      " [0.         0.         0.         1.        ]\n",
      " [0.01245629 0.97781849 0.00972522 0.        ]\n",
      " [0.         0.98765931 0.         0.01234069]\n",
      " [0.         0.         0.9794099  0.0205901 ]\n",
      " [0.64711606 0.35288394 0.         0.        ]\n",
      " [0.         0.         0.         1.        ]\n",
      " [0.         0.         0.         0.        ]]\n"
     ]
    }
   ],
   "source": [
    "theta = theta_0.copy()\n",
    "pi = softmax_convert_into_pi_from_theta(theta_0)\n",
    "print(pi)\n",
    "\n",
    "for i in range(4000) :\n",
    "  s_a_history = goal_maze_ret_s_a(pi) \n",
    "  theta = update_theta(theta, pi, s_a_history)\n",
    "  pi = softmax_convert_into_pi_from_theta(theta)\n",
    "print(pi)"
   ]
  },
  {
   "cell_type": "code",
   "execution_count": 13,
   "metadata": {
    "colab": {
     "base_uri": "https://localhost:8080/"
    },
    "executionInfo": {
     "elapsed": 515,
     "status": "ok",
     "timestamp": 1626954227791,
     "user": {
      "displayName": "최권택",
      "photoUrl": "",
      "userId": "03752111430510713717"
     },
     "user_tz": -540
    },
    "id": "pP-roCAL6nqR",
    "outputId": "f36bec8e-8bca-4548-e227-5f4db12c087d"
   },
   "outputs": [
    {
     "name": "stdout",
     "output_type": "stream",
     "text": [
      "[[0, 2, 'down', 3], [3, 1, 'right', 4], [4, 1, 'right', 5], [5, 2, 'down', 8], [8, nan]]\n",
      "목표 지점에 이르기까지 걸린 단계 수는 4단계입니다\n"
     ]
    }
   ],
   "source": [
    "pi_current = softmax_convert_into_pi_from_theta(theta)\n",
    "s_a_history = goal_maze_ret_s_a(pi_current)\n",
    "print(s_a_history)\n",
    "print(\"목표 지점에 이르기까지 걸린 단계 수는 \" + str(len(s_a_history) - 1) + \"단계입니다\")"
   ]
  },
  {
   "cell_type": "markdown",
   "metadata": {
    "id": "goIzivRN6UeA"
   },
   "source": [
    "# 5 by 5 maze"
   ]
  },
  {
   "cell_type": "code",
   "execution_count": 14,
   "metadata": {
    "colab": {
     "base_uri": "https://localhost:8080/"
    },
    "executionInfo": {
     "elapsed": 424,
     "status": "ok",
     "timestamp": 1626954258923,
     "user": {
      "displayName": "최권택",
      "photoUrl": "",
      "userId": "03752111430510713717"
     },
     "user_tz": -540
    },
    "id": "6l5hSLb1_88b",
    "outputId": "3d7d8442-b79a-4035-800e-23d1be28bf89"
   },
   "outputs": [
    {
     "name": "stdout",
     "output_type": "stream",
     "text": [
      "[[nan  1.  1. nan]\n",
      " [nan  1. nan  1.]\n",
      " [nan nan nan  1.]\n",
      " [ 1.  1.  1. nan]\n",
      " [nan  1. nan  1.]\n",
      " [nan nan  1.  1.]\n",
      " [ 1.  1. nan nan]\n",
      " [nan nan nan  1.]\n",
      " [nan nan nan nan]]\n"
     ]
    }
   ],
   "source": [
    "def makeMaze(n, strs) :   # n by n map 생성\n",
    "  maze = np.ones((n*n, 4))*np.nan\n",
    "  direction = [\"u\", \"r\", \"d\", \"l\"]\n",
    "  i = 0\n",
    "  for str in strs :  \n",
    "    for s in str :\n",
    "      maze[i, direction.index(s)] = 1.0\n",
    "    i += 1\n",
    "  return maze\n",
    "\n",
    "theta_0 = makeMaze(3, ['rd', 'lr', 'l', \n",
    "                    'udr', 'lr', 'ld', \n",
    "                    'ur', 'l'])\n",
    "print(theta_0)"
   ]
  },
  {
   "cell_type": "code",
   "execution_count": 15,
   "metadata": {
    "colab": {
     "base_uri": "https://localhost:8080/"
    },
    "executionInfo": {
     "elapsed": 438,
     "status": "ok",
     "timestamp": 1626954265194,
     "user": {
      "displayName": "최권택",
      "photoUrl": "",
      "userId": "03752111430510713717"
     },
     "user_tz": -540
    },
    "id": "9qP6TdLF42Jg",
    "outputId": "9ea33e15-16d1-435b-abe3-c1d3006bacd7"
   },
   "outputs": [
    {
     "name": "stdout",
     "output_type": "stream",
     "text": [
      "[[nan  1.  1. nan]\n",
      " [nan nan nan  1.]\n",
      " [nan  1.  1. nan]\n",
      " [nan  1. nan  1.]\n",
      " [nan nan nan  1.]\n",
      " [ 1.  1. nan nan]\n",
      " [nan  1. nan  1.]\n",
      " [ 1.  1. nan  1.]\n",
      " [nan  1. nan  1.]\n",
      " [nan nan  1.  1.]\n",
      " [nan  1.  1. nan]\n",
      " [nan nan  1.  1.]\n",
      " [nan  1. nan nan]\n",
      " [nan nan  1.  1.]\n",
      " [ 1. nan  1. nan]\n",
      " [ 1. nan  1. nan]\n",
      " [ 1.  1. nan nan]\n",
      " [nan  1. nan  1.]\n",
      " [ 1. nan  1.  1.]\n",
      " [ 1. nan  1. nan]\n",
      " [ 1.  1. nan nan]\n",
      " [nan  1. nan  1.]\n",
      " [nan nan nan nan]\n",
      " [ 1.  1. nan nan]\n",
      " [ 1. nan nan  1.]]\n"
     ]
    }
   ],
   "source": [
    "theta_0 = makeMaze(5, ['dr', 'l', 'dr', 'lr', 'l', \n",
    "                       'ur', 'lr', 'lru', 'lr', 'ld' ,\n",
    "                        'dr', 'dl', 'r', 'ld', 'ud' ,\n",
    "                        'ud', 'ur', 'lr', 'udl', 'ud' ,\n",
    "                         'ur', 'lr', '', 'ur', 'ul' \n",
    "                    ])\n",
    "print(theta_0)\n",
    "\n",
    "theta = theta_0.copy()\n"
   ]
  },
  {
   "cell_type": "code",
   "execution_count": 16,
   "metadata": {
    "colab": {
     "base_uri": "https://localhost:8080/"
    },
    "executionInfo": {
     "elapsed": 20977,
     "status": "ok",
     "timestamp": 1626954584839,
     "user": {
      "displayName": "최권택",
      "photoUrl": "",
      "userId": "03752111430510713717"
     },
     "user_tz": -540
    },
    "id": "eVJzSj9z6yd3",
    "outputId": "ab7eef4d-daba-41cc-c18e-9632d4255529"
   },
   "outputs": [
    {
     "name": "stdout",
     "output_type": "stream",
     "text": [
      "[[0.         0.15517755 0.84482245 0.        ]\n",
      " [0.         0.         0.         1.        ]\n",
      " [0.         0.30988897 0.69011103 0.        ]\n",
      " [0.         0.42752205 0.         0.57247795]\n",
      " [0.         0.         0.         1.        ]\n",
      " [0.1361079  0.8638921  0.         0.        ]\n",
      " [0.         0.84681794 0.         0.15318206]\n",
      " [0.09271792 0.8233623  0.         0.08391977]\n",
      " [0.         0.87142145 0.         0.12857855]\n",
      " [0.         0.         0.88065025 0.11934975]\n",
      " [0.         0.13524086 0.86475914 0.        ]\n",
      " [0.         0.         0.14485854 0.85514146]\n",
      " [0.         1.         0.         0.        ]\n",
      " [0.         0.         0.60046653 0.39953347]\n",
      " [0.13795319 0.         0.86204681 0.        ]\n",
      " [0.15144106 0.         0.84855894 0.        ]\n",
      " [0.86592779 0.13407221 0.         0.        ]\n",
      " [0.         0.11315714 0.         0.88684286]\n",
      " [0.09840791 0.         0.10246444 0.79912765]\n",
      " [0.15099966 0.         0.84900034 0.        ]\n",
      " [0.17543472 0.82456528 0.         0.        ]\n",
      " [0.         0.82617941 0.         0.17382059]\n",
      " [0.         0.         0.         0.        ]\n",
      " [0.86547991 0.13452009 0.         0.        ]\n",
      " [0.13004891 0.         0.         0.86995109]]\n"
     ]
    }
   ],
   "source": [
    "pi = softmax_convert_into_pi_from_theta(theta_0)\n",
    "for i in range(9000) :\n",
    "  s_a_history = goal_maze_ret_s_a(pi) \n",
    "  theta = update_theta(theta, pi, s_a_history)\n",
    "  pi = softmax_convert_into_pi_from_theta(theta)\n",
    "print(pi)"
   ]
  },
  {
   "cell_type": "code",
   "execution_count": 17,
   "metadata": {
    "colab": {
     "base_uri": "https://localhost:8080/"
    },
    "executionInfo": {
     "elapsed": 822,
     "status": "ok",
     "timestamp": 1626955058759,
     "user": {
      "displayName": "최권택",
      "photoUrl": "",
      "userId": "03752111430510713717"
     },
     "user_tz": -540
    },
    "id": "tNU4RfYA8r5A",
    "outputId": "4aadb798-20fc-4a94-90a5-4569c7ea5af4"
   },
   "outputs": [
    {
     "name": "stdout",
     "output_type": "stream",
     "text": [
      "[[0, 2, 'down', 5], [5, 1, 'right', 6], [6, 1, 'right', 7], [7, 1, 'right', 8], [8, 1, 'right', 9], [9, 2, 'down', 14], [14, 2, 'down', 19], [19, 2, 'down', 24], [24, 0, 'up', 19], [19, 2, 'down', 24], [24, 0, 'up', 19], [19, 0, 'up', 14], [14, 2, 'down', 19], [19, 2, 'down', 24], [24, 3, 'left', 23], [23, 0, 'up', 18], [18, 3, 'left', 17], [17, 3, 'left', 16], [16, 0, 'up', 11], [11, 3, 'left', 10], [10, 1, 'right', 11], [11, 3, 'left', 10], [10, 2, 'down', 15], [15, 2, 'down', 20], [20, 1, 'right', 21], [21, 1, 'right', 22], [22, nan]]\n",
      "목표 지점에 이르기까지 걸린 단계 수는 26단계입니다\n",
      "[0, 5, 6, 7, 8, 9, 14, 19, 24, 19, 24, 19, 14, 19, 24, 23, 18, 17, 16, 11, 10, 11, 10, 15, 20, 21, 22]\n"
     ]
    }
   ],
   "source": [
    "pi_current = softmax_convert_into_pi_from_theta(theta)\n",
    "s_a_history = goal_maze_ret_s_a(pi_current)\n",
    "print(s_a_history)\n",
    "print(\"목표 지점에 이르기까지 걸린 단계 수는 \" + str(len(s_a_history) - 1) + \"단계입니다\")\n",
    "print([item[0] for item in s_a_history])"
   ]
  },
  {
   "cell_type": "markdown",
   "metadata": {
    "id": "Am1Yb4FLjTDO"
   },
   "source": [
    "# Q-Learning"
   ]
  },
  {
   "cell_type": "code",
   "execution_count": 18,
   "metadata": {
    "executionInfo": {
     "elapsed": 412,
     "status": "ok",
     "timestamp": 1626955100127,
     "user": {
      "displayName": "최권택",
      "photoUrl": "",
      "userId": "03752111430510713717"
     },
     "user_tz": -540
    },
    "id": "rLZ3hxDPke7e"
   },
   "outputs": [],
   "source": [
    "#                      상,  우, 하,  좌                  \n",
    "theta_0 = np.array([[np.nan, 1, 1, np.nan],  # s0\n",
    "                    [np.nan, 1, np.nan, 1],  # s1\n",
    "                    [np.nan, np.nan, np.nan, 1],  # s2\n",
    "                    [1, 1, 1, np.nan],  # s3\n",
    "                    [np.nan, 1, np.nan, 1],  # s4\n",
    "                    [np.nan, np.nan, 1, 1],  # s5\n",
    "                    [1, 1, np.nan, np.nan],  # s6\n",
    "                    [np.nan, np.nan, np.nan, 1],  # s7\n",
    "                    [np.nan, np.nan, np.nan, np.nan], # s8\n",
    "                    ])"
   ]
  },
  {
   "cell_type": "code",
   "execution_count": 19,
   "metadata": {
    "executionInfo": {
     "elapsed": 406,
     "status": "ok",
     "timestamp": 1626955103297,
     "user": {
      "displayName": "최권택",
      "photoUrl": "",
      "userId": "03752111430510713717"
     },
     "user_tz": -540
    },
    "id": "duEFfdYXjVIB"
   },
   "outputs": [],
   "source": [
    "def simple_convert_into_pi_from_theta(theta):\n",
    "    \n",
    "    [m, n] = theta.shape \n",
    "    pi = np.zeros((m, n))\n",
    "    for i in range(0, m):\n",
    "        pi[i, :] = theta[i, :] / np.nansum(theta[i, :]) \n",
    "\n",
    "    pi = np.nan_to_num(pi) \n",
    "\n",
    "    return pi\n",
    "pi_0 = simple_convert_into_pi_from_theta(theta_0)    "
   ]
  },
  {
   "cell_type": "code",
   "execution_count": 20,
   "metadata": {
    "colab": {
     "base_uri": "https://localhost:8080/"
    },
    "executionInfo": {
     "elapsed": 4,
     "status": "ok",
     "timestamp": 1626955105556,
     "user": {
      "displayName": "최권택",
      "photoUrl": "",
      "userId": "03752111430510713717"
     },
     "user_tz": -540
    },
    "id": "XPs3qNB9lRqe",
    "outputId": "d8f37a2d-5dc4-4ae8-cc03-acebaa387eae"
   },
   "outputs": [
    {
     "name": "stdout",
     "output_type": "stream",
     "text": [
      "[[       nan 0.04192352 0.08144051        nan]\n",
      " [       nan 0.0713855         nan 0.01278997]\n",
      " [       nan        nan        nan 0.07972172]\n",
      " [0.04666241 0.01565372 0.06538589        nan]\n",
      " [       nan 0.09827822        nan 0.02920993]\n",
      " [       nan        nan 0.00833462 0.06963627]\n",
      " [0.03878351 0.09767729        nan        nan]\n",
      " [       nan        nan        nan 0.01758705]\n",
      " [       nan        nan        nan        nan]]\n"
     ]
    }
   ],
   "source": [
    "[a, b] = theta_0.shape\n",
    "Q = np.random.rand(a, b) * theta_0 * 0.1\n",
    "print(Q)"
   ]
  },
  {
   "cell_type": "code",
   "execution_count": 21,
   "metadata": {
    "executionInfo": {
     "elapsed": 720,
     "status": "ok",
     "timestamp": 1626955130846,
     "user": {
      "displayName": "최권택",
      "photoUrl": "",
      "userId": "03752111430510713717"
     },
     "user_tz": -540
    },
    "id": "-Zh9bYQGkdI5"
   },
   "outputs": [],
   "source": [
    "# ε-greedy 알고리즘 구현\n",
    "\n",
    "def get_action(s, Q, epsilon, pi_0):\n",
    "    direction = [\"up\", \"right\", \"down\", \"left\"]\n",
    "\n",
    "    if np.random.rand() < epsilon:\n",
    "        next_direction = np.random.choice(direction, p=pi_0[s, :])\n",
    "    else:\n",
    "        next_direction = direction[np.nanargmax(Q[s, :])]\n",
    "\n",
    "    if next_direction == \"up\":\n",
    "        action = 0\n",
    "    elif next_direction == \"right\":\n",
    "        action = 1\n",
    "    elif next_direction == \"down\":\n",
    "        action = 2\n",
    "    elif next_direction == \"left\":\n",
    "        action = 3\n",
    "\n",
    "    return action\n",
    "\n",
    "\n",
    "def get_s_next(s, a):\n",
    "    direction = [\"up\", \"right\", \"down\", \"left\"]\n",
    "    next_direction = direction[a] \n",
    "    \n",
    "    if next_direction == \"up\":\n",
    "        s_next = s - 3\n",
    "    elif next_direction == \"right\":\n",
    "        s_next = s + 1\n",
    "    elif next_direction == \"down\":\n",
    "        s_next = s + 3\n",
    "    elif next_direction == \"left\":\n",
    "        s_next = s - 1\n",
    "\n",
    "    return s_next"
   ]
  },
  {
   "cell_type": "code",
   "execution_count": 22,
   "metadata": {
    "executionInfo": {
     "elapsed": 752,
     "status": "ok",
     "timestamp": 1626955134054,
     "user": {
      "displayName": "최권택",
      "photoUrl": "",
      "userId": "03752111430510713717"
     },
     "user_tz": -540
    },
    "id": "1Ngh6TXYkd5h"
   },
   "outputs": [],
   "source": [
    "# Q러닝 알고리즘으로 행동가치 함수 Q를 수정\n",
    "\n",
    "def Q_learning(s, a, r, s_next, Q, eta, gamma):\n",
    "\n",
    "    if s_next == 8:  # 목표 지점에 도달한 경우\n",
    "        Q[s, a] = Q[s, a] + eta * (r - Q[s, a])\n",
    "\n",
    "    else:\n",
    "        Q[s, a] = Q[s, a] + eta * (r + gamma * np.nanmax(Q[s_next,: ]) - Q[s, a])\n",
    "\n",
    "    return Q"
   ]
  },
  {
   "cell_type": "code",
   "execution_count": 23,
   "metadata": {
    "executionInfo": {
     "elapsed": 510,
     "status": "ok",
     "timestamp": 1626955143133,
     "user": {
      "displayName": "최권택",
      "photoUrl": "",
      "userId": "03752111430510713717"
     },
     "user_tz": -540
    },
    "id": "gJXJehPNks9e"
   },
   "outputs": [],
   "source": [
    "def goal_maze_ret_s_a_Q(Q, epsilon, eta, gamma, pi):\n",
    "    direction = [\"up\", \"right\", \"down\", \"left\"]\n",
    "    s = 0 \n",
    "    a = a_next = get_action(s, Q, epsilon, pi) \n",
    "\n",
    "    s_a_history = []\n",
    "\n",
    "    while (1): \n",
    "        a = a_next\n",
    "        s_next = get_s_next(s, a)\n",
    "        s_a_history.append([s, a,  direction[a], s_next])\n",
    "\n",
    "        if s_next == 8:\n",
    "            r = 1\n",
    "            a_next = np.nan\n",
    "        else:\n",
    "            r = 0\n",
    "            a_next = get_action(s_next, Q, epsilon, pi)          \n",
    "\n",
    "        Q = Q_learning(s, a, r, s_next, Q, eta, gamma)\n",
    "        \n",
    "        if s_next == 8:   break\n",
    "        else:  s = s_next\n",
    "\n",
    "    return [s_a_history, Q]"
   ]
  },
  {
   "cell_type": "code",
   "execution_count": 24,
   "metadata": {
    "colab": {
     "base_uri": "https://localhost:8080/"
    },
    "executionInfo": {
     "elapsed": 560,
     "status": "ok",
     "timestamp": 1626955192096,
     "user": {
      "displayName": "최권택",
      "photoUrl": "",
      "userId": "03752111430510713717"
     },
     "user_tz": -540
    },
    "id": "rj6lfrRJkv45",
    "outputId": "e7c6ead0-88fb-442e-a4a1-e6f5a3af83dc"
   },
   "outputs": [
    {
     "name": "stdout",
     "output_type": "stream",
     "text": [
      "에피소드: 1\n",
      "목표 지점에 이르기까지 걸린 단계 수는 123단계입니다\n",
      "에피소드: 2\n",
      "목표 지점에 이르기까지 걸린 단계 수는 33단계입니다\n",
      "에피소드: 3\n",
      "목표 지점에 이르기까지 걸린 단계 수는 33단계입니다\n",
      "에피소드: 4\n",
      "목표 지점에 이르기까지 걸린 단계 수는 147단계입니다\n",
      "에피소드: 5\n",
      "목표 지점에 이르기까지 걸린 단계 수는 89단계입니다\n",
      "에피소드: 6\n",
      "목표 지점에 이르기까지 걸린 단계 수는 3단계입니다\n",
      "에피소드: 7\n",
      "목표 지점에 이르기까지 걸린 단계 수는 3단계입니다\n",
      "에피소드: 8\n",
      "목표 지점에 이르기까지 걸린 단계 수는 3단계입니다\n",
      "에피소드: 9\n",
      "목표 지점에 이르기까지 걸린 단계 수는 3단계입니다\n",
      "에피소드: 10\n",
      "목표 지점에 이르기까지 걸린 단계 수는 3단계입니다\n",
      "에피소드: 11\n",
      "목표 지점에 이르기까지 걸린 단계 수는 3단계입니다\n",
      "에피소드: 12\n",
      "목표 지점에 이르기까지 걸린 단계 수는 3단계입니다\n",
      "에피소드: 13\n",
      "목표 지점에 이르기까지 걸린 단계 수는 3단계입니다\n",
      "에피소드: 14\n",
      "목표 지점에 이르기까지 걸린 단계 수는 3단계입니다\n",
      "에피소드: 15\n",
      "목표 지점에 이르기까지 걸린 단계 수는 3단계입니다\n",
      "에피소드: 16\n",
      "목표 지점에 이르기까지 걸린 단계 수는 3단계입니다\n",
      "에피소드: 17\n",
      "목표 지점에 이르기까지 걸린 단계 수는 3단계입니다\n",
      "에피소드: 18\n",
      "목표 지점에 이르기까지 걸린 단계 수는 3단계입니다\n",
      "에피소드: 19\n",
      "목표 지점에 이르기까지 걸린 단계 수는 3단계입니다\n",
      "에피소드: 20\n",
      "목표 지점에 이르기까지 걸린 단계 수는 3단계입니다\n",
      "[[0, 2, 'down', 3], [3, 1, 'right', 4], [4, 1, 'right', 5], [5, 2, 'down', 8]]\n"
     ]
    }
   ],
   "source": [
    "pi_0 = simple_convert_into_pi_from_theta(theta_0)    \n",
    "[a, b] = theta_0.shape\n",
    "Q = np.random.rand(a, b) * theta_0 * 0.1\n",
    "\n",
    "\n",
    "eta = 0.1  # 학습률\n",
    "gamma = 0.9  # 시간할인율\n",
    "epsilon = 0.5  # ε-greedy 알고리즘 epsilon 초깃값\n",
    "\n",
    "for episode in range(20) :\n",
    "    print(\"에피소드: \" + str(episode+1))\n",
    "    epsilon = epsilon / 2\n",
    "\n",
    "    [s_a_history, Q] = goal_maze_ret_s_a_Q(Q, epsilon, eta, gamma, pi_0)\n",
    "\n",
    "    print(\"목표 지점에 이르기까지 걸린 단계 수는 \" + str(len(s_a_history) - 1) + \"단계입니다\")\n",
    "    \n",
    "print(s_a_history)"
   ]
  }
 ],
 "metadata": {
  "colab": {
   "authorship_tag": "ABX9TyPmSnXaubB7fSvCXaub4Zqu",
   "collapsed_sections": [],
   "name": "강화학습기초.ipynb",
   "provenance": []
  },
  "kernelspec": {
   "display_name": "Python 3",
   "language": "python",
   "name": "python3"
  },
  "language_info": {
   "codemirror_mode": {
    "name": "ipython",
    "version": 3
   },
   "file_extension": ".py",
   "mimetype": "text/x-python",
   "name": "python",
   "nbconvert_exporter": "python",
   "pygments_lexer": "ipython3",
   "version": "3.8.8"
  }
 },
 "nbformat": 4,
 "nbformat_minor": 1
}
