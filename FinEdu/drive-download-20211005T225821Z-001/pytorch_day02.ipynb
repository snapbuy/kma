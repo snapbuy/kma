{
 "cells": [
  {
   "cell_type": "code",
   "execution_count": 1,
   "metadata": {
    "id": "VTYo0n2fszum"
   },
   "outputs": [],
   "source": [
    "import torch\n",
    "import torch.nn.functional as F\n",
    "from sklearn.datasets import make_blobs\n",
    "from torch import nn, optim\n",
    "\n",
    "import matplotlib.pyplot as plt\n",
    "import numpy as np"
   ]
  },
  {
   "cell_type": "code",
   "execution_count": 5,
   "metadata": {
    "colab": {
     "base_uri": "https://localhost:8080/"
    },
    "id": "bjan8LbOtI7i",
    "outputId": "a9bb31c9-2a94-4d72-a591-316797e2f081"
   },
   "outputs": [
    {
     "name": "stdout",
     "output_type": "stream",
     "text": [
      "tensor(3.6667)\n",
      "tensor(0.0667)\n",
      "tensor(0.0067)\n",
      "tensor(0.0067)\n"
     ]
    }
   ],
   "source": [
    "x = torch.tensor([1,2,3]).float()\n",
    "y = torch.tensor([1,2.2,3.4]).float()\n",
    "\n",
    "w = 2\n",
    "cost = torch.mean((w*x - y) **2)\n",
    "print(cost)\n",
    "\n",
    "w = 1\n",
    "cost = torch.mean((w*x - y) **2)\n",
    "print(cost)\n",
    "\n",
    "w = 1.1\n",
    "cost = torch.mean((w*x - y) **2)\n",
    "print(cost)\n",
    "\n",
    "print(((w*x - y) **2).mean())"
   ]
  },
  {
   "cell_type": "code",
   "execution_count": 6,
   "metadata": {
    "colab": {
     "base_uri": "https://localhost:8080/",
     "height": 323
    },
    "id": "OuR30I3utm7P",
    "outputId": "3ded54c8-786e-4740-ce79-d13e762c8ccd"
   },
   "outputs": [
    {
     "name": "stdout",
     "output_type": "stream",
     "text": [
      "[tensor(576.4667), tensor(477.4000), tensor(387.6667), tensor(307.2667), tensor(236.2000), tensor(174.4667), tensor(122.0667), tensor(79.), tensor(45.2667), tensor(20.8667), tensor(5.8000), tensor(0.0667), tensor(3.6667), tensor(16.6000), tensor(38.8667), tensor(70.4667), tensor(111.4000), tensor(161.6667), tensor(221.2667), tensor(290.2000)]\n"
     ]
    },
    {
     "data": {
      "text/plain": [
       "[<matplotlib.lines.Line2D at 0x1dffc6c8ee0>]"
      ]
     },
     "execution_count": 6,
     "metadata": {},
     "output_type": "execute_result"
    },
    {
     "data": {
      "image/png": "[encoded data removed]",
      "text/plain": [
       "<Figure size 432x288 with 1 Axes>"
      ]
     },
     "metadata": {
      "needs_background": "light"
     },
     "output_type": "display_data"
    }
   ],
   "source": [
    "c = []\n",
    "for w  in range(-10, 10) :\n",
    "    cost = ((w*x - y) **2).mean()\n",
    "    c.append(cost)\n",
    "print(c)\n",
    "\n",
    "plt.plot(c)"
   ]
  },
  {
   "cell_type": "code",
   "execution_count": 10,
   "metadata": {
    "colab": {
     "base_uri": "https://localhost:8080/"
    },
    "id": "oMkTB775t7Bp",
    "outputId": "172552b9-254c-4336-d84f-0d601b0cd002"
   },
   "outputs": [
    {
     "name": "stdout",
     "output_type": "stream",
     "text": [
      "tensor(-285.2000) tensor(-31.4800)\n"
     ]
    }
   ],
   "source": [
    "w = -60    # 1.114\n",
    "alpha = 0.1\n",
    "\n",
    "d =  ((w*x-y)*x).mean()\n",
    "w = w - alpha * d\n",
    "print(d, w)"
   ]
  },
  {
   "cell_type": "code",
   "execution_count": 11,
   "metadata": {
    "colab": {
     "base_uri": "https://localhost:8080/"
    },
    "id": "sU-bdAwTvNlM",
    "outputId": "2bd56ad5-491f-44fa-bab2-bd1d2fe4099d"
   },
   "outputs": [
    {
     "name": "stdout",
     "output_type": "stream",
     "text": [
      "tensor(-152.1067) tensor(-16.2693)\n"
     ]
    }
   ],
   "source": [
    "d = ((w*x-y)*x).mean()\n",
    "w = w - alpha * d\n",
    "print(d, w)"
   ]
  },
  {
   "cell_type": "code",
   "execution_count": 16,
   "metadata": {},
   "outputs": [
    {
     "name": "stdout",
     "output_type": "stream",
     "text": [
      "tensor(-2333338.5000) tensor(-266666.1250)\n",
      "tensor(-1244447.1250) tensor(-142221.4062)\n",
      "tensor(-663705.0625) tensor(-75850.8984)\n",
      "tensor(-353976.0312) tensor(-40453.2930)\n",
      "tensor(-188787.2344) tensor(-21574.5684)\n",
      "tensor(-100686.5234) tensor(-11505.9160)\n",
      "tensor(-53699.4727) tensor(-6135.9688)\n",
      "tensor(-28639.7207) tensor(-3271.9966)\n",
      "tensor(-15274.5186) tensor(-1744.5447)\n",
      "tensor(-8146.4082) tensor(-929.9039)\n",
      "tensor(-4344.7515) tensor(-495.4287)\n",
      "tensor(-2317.2007) tensor(-263.7086)\n",
      "tensor(-1235.8402) tensor(-140.1246)\n",
      "tensor(-659.1148) tensor(-74.2131)\n",
      "tensor(-351.5279) tensor(-39.0603)\n",
      "tensor(-187.4816) tensor(-20.3122)\n",
      "tensor(-99.9902) tensor(-10.3132)\n",
      "tensor(-53.3281) tensor(-4.9804)\n",
      "tensor(-28.4416) tensor(-2.1362)\n",
      "tensor(-15.1689) tensor(-0.6193)\n",
      "tensor(-8.0901) tensor(0.1897)\n",
      "tensor(-4.3147) tensor(0.6212)\n",
      "tensor(-2.3012) tensor(0.8513)\n",
      "tensor(-1.2273) tensor(0.9740)\n",
      "tensor(-0.6546) tensor(1.0395)\n",
      "tensor(-0.3491) tensor(1.0744)\n",
      "tensor(-0.1862) tensor(1.0930)\n",
      "tensor(-0.0993) tensor(1.1029)\n",
      "tensor(-0.0530) tensor(1.1082)\n",
      "tensor(-0.0282) tensor(1.1111)\n",
      "tensor(-0.0151) tensor(1.1126)\n",
      "tensor(-0.0080) tensor(1.1134)\n",
      "tensor(-0.0043) tensor(1.1138)\n",
      "tensor(-0.0023) tensor(1.1140)\n",
      "tensor(-0.0012) tensor(1.1141)\n",
      "tensor(-0.0006) tensor(1.1142)\n",
      "tensor(-0.0003) tensor(1.1142)\n",
      "tensor(-0.0002) tensor(1.1143)\n",
      "tensor(-9.8507e-05) tensor(1.1143)\n",
      "tensor(-5.2452e-05) tensor(1.1143)\n",
      "tensor(-2.7974e-05) tensor(1.1143)\n",
      "tensor(-1.5299e-05) tensor(1.1143)\n",
      "tensor(-7.9473e-06) tensor(1.1143)\n",
      "tensor(-4.1723e-06) tensor(1.1143)\n",
      "tensor(-2.3842e-06) tensor(1.1143)\n",
      "tensor(-1.2716e-06) tensor(1.1143)\n",
      "tensor(-5.9605e-07) tensor(1.1143)\n",
      "tensor(-1.5895e-07) tensor(1.1143)\n",
      "tensor(-1.5895e-07) tensor(1.1143)\n",
      "tensor(-1.5895e-07) tensor(1.1143)\n",
      "tensor(-1.5895e-07) tensor(1.1143)\n",
      "tensor(-1.5895e-07) tensor(1.1143)\n",
      "tensor(-1.5895e-07) tensor(1.1143)\n",
      "tensor(-1.5895e-07) tensor(1.1143)\n",
      "tensor(-1.5895e-07) tensor(1.1143)\n",
      "tensor(-1.5895e-07) tensor(1.1143)\n",
      "tensor(-1.5895e-07) tensor(1.1143)\n",
      "tensor(-1.5895e-07) tensor(1.1143)\n",
      "tensor(-1.5895e-07) tensor(1.1143)\n",
      "tensor(-1.5895e-07) tensor(1.1143)\n",
      "tensor(-1.5895e-07) tensor(1.1143)\n",
      "tensor(-1.5895e-07) tensor(1.1143)\n",
      "tensor(-1.5895e-07) tensor(1.1143)\n",
      "tensor(-1.5895e-07) tensor(1.1143)\n",
      "tensor(-1.5895e-07) tensor(1.1143)\n",
      "tensor(-1.5895e-07) tensor(1.1143)\n",
      "tensor(-1.5895e-07) tensor(1.1143)\n",
      "tensor(-1.5895e-07) tensor(1.1143)\n",
      "tensor(-1.5895e-07) tensor(1.1143)\n",
      "tensor(-1.5895e-07) tensor(1.1143)\n",
      "tensor(-1.5895e-07) tensor(1.1143)\n",
      "tensor(-1.5895e-07) tensor(1.1143)\n",
      "tensor(-1.5895e-07) tensor(1.1143)\n",
      "tensor(-1.5895e-07) tensor(1.1143)\n",
      "tensor(-1.5895e-07) tensor(1.1143)\n",
      "tensor(-1.5895e-07) tensor(1.1143)\n",
      "tensor(-1.5895e-07) tensor(1.1143)\n",
      "tensor(-1.5895e-07) tensor(1.1143)\n",
      "tensor(-1.5895e-07) tensor(1.1143)\n",
      "tensor(-1.5895e-07) tensor(1.1143)\n",
      "tensor(-1.5895e-07) tensor(1.1143)\n",
      "tensor(-1.5895e-07) tensor(1.1143)\n",
      "tensor(-1.5895e-07) tensor(1.1143)\n",
      "tensor(-1.5895e-07) tensor(1.1143)\n",
      "tensor(-1.5895e-07) tensor(1.1143)\n",
      "tensor(-1.5895e-07) tensor(1.1143)\n",
      "tensor(-1.5895e-07) tensor(1.1143)\n",
      "tensor(-1.5895e-07) tensor(1.1143)\n",
      "tensor(-1.5895e-07) tensor(1.1143)\n",
      "tensor(-1.5895e-07) tensor(1.1143)\n",
      "tensor(-1.5895e-07) tensor(1.1143)\n",
      "tensor(-1.5895e-07) tensor(1.1143)\n",
      "tensor(-1.5895e-07) tensor(1.1143)\n",
      "tensor(-1.5895e-07) tensor(1.1143)\n",
      "tensor(-1.5895e-07) tensor(1.1143)\n",
      "tensor(-1.5895e-07) tensor(1.1143)\n",
      "tensor(-1.5895e-07) tensor(1.1143)\n",
      "tensor(-1.5895e-07) tensor(1.1143)\n",
      "tensor(-1.5895e-07) tensor(1.1143)\n",
      "tensor(-1.5895e-07) tensor(1.1143)\n"
     ]
    }
   ],
   "source": [
    "x = torch.tensor([1,2,3]).float()\n",
    "y = torch.tensor([1,2.2,3.4]).float()\n",
    "\n",
    "w = -500000\n",
    "alpha = 0.1\n",
    "\n",
    "for i in range(100) :\n",
    "  d = ((w*x-y)*x).mean()\n",
    "  w = w - alpha * d\n",
    "  print(d, w)"
   ]
  },
  {
   "cell_type": "code",
   "execution_count": 19,
   "metadata": {
    "colab": {
     "base_uri": "https://localhost:8080/",
     "height": 300
    },
    "id": "5S7TuKiS0iiy",
    "outputId": "ca67b62f-6f0c-4c63-d4c2-456f6b230465"
   },
   "outputs": [
    {
     "name": "stdout",
     "output_type": "stream",
     "text": [
      "tensor(1.6780) tensor(1.9638)\n"
     ]
    },
    {
     "data": {
      "text/plain": [
       "[<matplotlib.lines.Line2D at 0x1dffc839a60>]"
      ]
     },
     "execution_count": 19,
     "metadata": {},
     "output_type": "execute_result"
    },
    {
     "data": {
      "image/png": "[encoded data removed]",
      "text/plain": [
       "<Figure size 432x288 with 1 Axes>"
      ]
     },
     "metadata": {
      "needs_background": "light"
     },
     "output_type": "display_data"
    }
   ],
   "source": [
    "x = torch.tensor([1, 2, 3]).float()\n",
    "y = torch.tensor([3.1, 5.5, 7.1]).float()   # y = 2x + 1\n",
    "\n",
    "w = -50\n",
    "b = 0\n",
    "alpha = 0.1\n",
    "\n",
    "costs = []\n",
    "for i in range(200) :\n",
    "    d = ((w*x + b - y)*x).mean()    #cost/dw\n",
    "    w = w - alpha * d                     \n",
    "\n",
    "    d_b = ((w*x + b - y)).mean()    #cost/db\n",
    "    b = b - alpha * d_b    \n",
    "\n",
    "    cost =  ((w*x + b - y)**2).mean()\n",
    "    costs.append(cost)\n",
    "print(w, b ) \n",
    "\n",
    "plt.plot(costs)"
   ]
  },
  {
   "cell_type": "markdown",
   "metadata": {},
   "source": [
    "# pytorch 미분"
   ]
  },
  {
   "cell_type": "code",
   "execution_count": 799,
   "metadata": {},
   "outputs": [
    {
     "data": {
      "text/plain": [
       "tensor([4., 4., 4., 4., 4.])"
      ]
     },
     "execution_count": 799,
     "metadata": {},
     "output_type": "execute_result"
    }
   ],
   "source": [
    "x = torch.tensor([1,2,3,4,5.0], requires_grad=True)\n",
    "y = (4*x+ 2)\n",
    "y.backward( torch.ones_like(x)   )\n",
    "x.grad"
   ]
  },
  {
   "cell_type": "code",
   "execution_count": 790,
   "metadata": {},
   "outputs": [
    {
     "data": {
      "text/plain": [
       "tensor([4., 4., 4., 4., 4.])"
      ]
     },
     "execution_count": 790,
     "metadata": {},
     "output_type": "execute_result"
    }
   ],
   "source": [
    "x = torch.tensor([1,2,3,4,5.0], requires_grad=True)\n",
    "y = (4*x + 6).sum()\n",
    "y.backward()\n",
    "x.grad"
   ]
  },
  {
   "cell_type": "code",
   "execution_count": 800,
   "metadata": {},
   "outputs": [
    {
     "data": {
      "text/plain": [
       "tensor([10., 18., 26., 34., 42.])"
      ]
     },
     "execution_count": 800,
     "metadata": {},
     "output_type": "execute_result"
    }
   ],
   "source": [
    "x = torch.tensor([1,2,3,4,5.0], requires_grad=True)\n",
    "y = (4*x**2 + 2*x).sum()\n",
    "y.backward()\n",
    "x.grad "
   ]
  },
  {
   "cell_type": "code",
   "execution_count": 801,
   "metadata": {},
   "outputs": [
    {
     "data": {
      "text/plain": [
       "tensor([True, True, True, True, True])"
      ]
     },
     "execution_count": 801,
     "metadata": {},
     "output_type": "execute_result"
    }
   ],
   "source": [
    "8*x + 2 == x.grad"
   ]
  },
  {
   "cell_type": "code",
   "execution_count": 808,
   "metadata": {},
   "outputs": [
    {
     "data": {
      "text/plain": [
       "tensor([8., 8., 8., 8., 8.])"
      ]
     },
     "execution_count": 808,
     "metadata": {},
     "output_type": "execute_result"
    }
   ],
   "source": [
    "x = torch.tensor([1,2,3,4,5.0], requires_grad=True)\n",
    "y = (2*x + 4)\n",
    "z = (y * 4).sum()\n",
    "z.backward()\n",
    "x.grad"
   ]
  },
  {
   "cell_type": "code",
   "execution_count": 810,
   "metadata": {},
   "outputs": [
    {
     "data": {
      "text/plain": [
       "tensor([24., 32., 40., 48., 56.])"
      ]
     },
     "execution_count": 810,
     "metadata": {},
     "output_type": "execute_result"
    }
   ],
   "source": [
    "x = torch.tensor([1,2,3,4,5.0], requires_grad=True)\n",
    "y = (2*x + 4)\n",
    "z = (y**2).sum()\n",
    "z.backward()\n",
    "x.grad"
   ]
  },
  {
   "cell_type": "code",
   "execution_count": 816,
   "metadata": {},
   "outputs": [
    {
     "name": "stdout",
     "output_type": "stream",
     "text": [
      "tensor([24., 32., 40., 48., 56.])\n",
      "tensor([12., 16., 20., 24., 28.])\n"
     ]
    }
   ],
   "source": [
    "x = torch.tensor([1,2,3,4,5.0], requires_grad=True)\n",
    "y = (2*x + 4)\n",
    "y.retain_grad()\n",
    "z = (y**2).sum()\n",
    "z.backward()\n",
    "print(x.grad)\n",
    "print(y.grad)    #    1,2,3   6,8,10      dz/dy=2y  ->  12, 16, 20"
   ]
  },
  {
   "cell_type": "markdown",
   "metadata": {},
   "source": [
    "# pyroch 미분을 이용한 경사 하강법"
   ]
  },
  {
   "cell_type": "code",
   "execution_count": 788,
   "metadata": {},
   "outputs": [
    {
     "name": "stdout",
     "output_type": "stream",
     "text": [
      "Epoch    0/1999 W: 1.867, b: 0.800 Cost: 18.666666\n",
      "Epoch  100/1999 W: 1.972, b: 0.063 Cost: 0.000600\n",
      "Epoch  200/1999 W: 1.998, b: 0.006 Cost: 0.000005\n",
      "Epoch  300/1999 W: 2.000, b: 0.000 Cost: 0.000000\n",
      "Epoch  400/1999 W: 2.000, b: 0.000 Cost: 0.000000\n",
      "Epoch  500/1999 W: 2.000, b: 0.000 Cost: 0.000000\n",
      "Epoch  600/1999 W: 2.000, b: 0.000 Cost: 0.000000\n",
      "Epoch  700/1999 W: 2.000, b: 0.000 Cost: 0.000000\n",
      "Epoch  800/1999 W: 2.000, b: 0.000 Cost: 0.000000\n",
      "Epoch  900/1999 W: 2.000, b: 0.000 Cost: 0.000000\n",
      "Epoch 1000/1999 W: 2.000, b: 0.000 Cost: 0.000000\n",
      "Epoch 1100/1999 W: 2.000, b: 0.000 Cost: 0.000000\n",
      "Epoch 1200/1999 W: 2.000, b: 0.000 Cost: 0.000000\n",
      "Epoch 1300/1999 W: 2.000, b: 0.000 Cost: 0.000000\n",
      "Epoch 1400/1999 W: 2.000, b: 0.000 Cost: 0.000000\n",
      "Epoch 1500/1999 W: 2.000, b: 0.000 Cost: 0.000000\n",
      "Epoch 1600/1999 W: 2.000, b: 0.000 Cost: 0.000000\n",
      "Epoch 1700/1999 W: 2.000, b: 0.000 Cost: 0.000000\n",
      "Epoch 1800/1999 W: 2.000, b: 0.000 Cost: 0.000000\n",
      "Epoch 1900/1999 W: 2.000, b: 0.000 Cost: 0.000000\n"
     ]
    }
   ],
   "source": [
    "# 데이터\n",
    "x_train = torch.tensor([1, 2, 3]).float()\n",
    "y_train = torch.tensor([2, 4, 6]).float()\n",
    "#x_train = torch.tensor([[1], [2], [3]])\n",
    "#y_train = torch.tensor([[2], [4], [6]])\n",
    "\n",
    "# 모델 초기화\n",
    "w = torch.zeros(1, requires_grad=True)\n",
    "b = torch.zeros(1, requires_grad=True)\n",
    "\n",
    "# optimizer 설정\n",
    "optimizer = optim.SGD([w, b], lr=0.1)\n",
    "\n",
    "epochs = 1999 # 원하는만큼 경사 하강법을 반복\n",
    "for epoch in range(epochs):\n",
    "\n",
    "    # H(x) 계산\n",
    "    hypothesis = x_train * w + b\n",
    "\n",
    "    # cost 계산\n",
    "    #cost = torch.mean((hypothesis - y_train) ** 2)\n",
    "    #cost = F.mse_loss(hypothesis, y_train)\n",
    "    cost_fn= nn.MSELoss()\n",
    "    cost = cost_fn(hypothesis, y_train)   \n",
    "    \n",
    "    \n",
    "    # cost로 H(x) 개선\n",
    "    optimizer.zero_grad()\n",
    "    cost.backward()\n",
    "    optimizer.step()\n",
    "\n",
    "    # 100번마다 로그 출력\n",
    "    if epoch % 100 == 0:\n",
    "        print('Epoch {:4d}/{} W: {:.3f}, b: {:.3f} Cost: {:.6f}'.format(\n",
    "            epoch, nb_epochs, w.item(), b.item(), cost.item()\n",
    "        ))"
   ]
  },
  {
   "cell_type": "markdown",
   "metadata": {},
   "source": [
    "# regression"
   ]
  },
  {
   "cell_type": "code",
   "execution_count": 689,
   "metadata": {},
   "outputs": [
    {
     "name": "stdout",
     "output_type": "stream",
     "text": [
      "epoch = 1    cost=61.24171447753906\n",
      "epoch = 101    cost=0.02994280681014061\n",
      "epoch = 201    cost=0.016438240185379982\n",
      "epoch = 301    cost=0.009024377912282944\n",
      "epoch = 401    cost=0.004954280331730843\n",
      "epoch = 501    cost=0.0027198423631489277\n",
      "epoch = 601    cost=0.0014931568875908852\n",
      "epoch = 701    cost=0.0008197304559871554\n",
      "epoch = 801    cost=0.0004500174254644662\n",
      "epoch = 901    cost=0.00024705208488740027\n",
      "epoch = 1001    cost=0.00013562905951403081\n",
      "epoch = 1101    cost=7.445822120644152e-05\n",
      "epoch = 1201    cost=4.0877959690988064e-05\n",
      "epoch = 1301    cost=2.244089773739688e-05\n",
      "epoch = 1401    cost=1.2319385859882459e-05\n",
      "epoch = 1501    cost=6.763311375834746e-06\n",
      "epoch = 1601    cost=3.713581691044965e-06\n",
      "epoch = 1701    cost=2.038947059190832e-06\n",
      "epoch = 1801    cost=1.1194792932656128e-06\n",
      "epoch = 1901    cost=6.147678845991322e-07\n",
      "epoch = 2001    cost=3.376025006218697e-07\n",
      "epoch = 2101    cost=1.8548689695307985e-07\n",
      "epoch = 2201    cost=1.0194339949975983e-07\n",
      "epoch = 2301    cost=5.601867769655655e-08\n",
      "epoch = 2401    cost=3.0790616278864036e-08\n",
      "epoch = 2501    cost=1.6941953617788386e-08\n",
      "epoch = 2601    cost=9.32728028146812e-09\n",
      "epoch = 2701    cost=5.10033260070486e-09\n",
      "epoch = 2801    cost=2.8231426085767453e-09\n",
      "epoch = 2901    cost=1.555349626869429e-09\n",
      "epoch = 3001    cost=8.487432978654397e-10\n",
      "epoch = 3101    cost=4.644817863663775e-10\n",
      "epoch = 3201    cost=2.5865176667139167e-10\n",
      "epoch = 3301    cost=1.4979661955294432e-10\n",
      "epoch = 3401    cost=8.65156835061498e-11\n",
      "epoch = 3501    cost=5.5365489970427006e-11\n",
      "epoch = 3601    cost=3.399236447876319e-11\n",
      "epoch = 3701    cost=2.354738626308972e-11\n",
      "epoch = 3801    cost=1.693933882052079e-11\n",
      "epoch = 3901    cost=1.261923898709938e-11\n",
      "Parameter containing:\n",
      "tensor([[2.0000]], requires_grad=True) Parameter containing:\n",
      "tensor([7.4602e-06], requires_grad=True)\n",
      "tensor([[2.0000],\n",
      "        [4.0000],\n",
      "        [6.0000],\n",
      "        [8.0000]], grad_fn=<AddmmBackward>)\n"
     ]
    }
   ],
   "source": [
    "X = torch.tensor([[1],\n",
    "              [2],\n",
    "              [3],\n",
    "              [4]]).float()\n",
    "\n",
    "y = torch.tensor([[2.0],  [4],       [6],   [8]]).float()\n",
    "\n",
    "\n",
    "layer = torch.nn.Linear(1, 1)\n",
    "\n",
    "optimizer = optim.SGD(layer.parameters() , lr=0.01)\n",
    "\n",
    "epochs = 4000\n",
    "for epoch in range(epochs):\n",
    "    \n",
    "    hypothesis = layer(X)\n",
    "\n",
    "    #cost = torch.mean((hypothesis - y) ** 2)    \n",
    "    #cost = F.mse_loss(hypothesis, y)\n",
    "    cost_fn= nn.MSELoss()\n",
    "    cost = cost_fn(hypothesis, y)   \n",
    "    \n",
    "\n",
    "    optimizer.zero_grad()\n",
    "    cost.backward()\n",
    "    optimizer.step()\n",
    "\n",
    "    # 100번마다 로그 출력\n",
    "    if epoch % 100 == 0:\n",
    "        print(f'epoch = {epoch+1}    cost={cost.item()}')\n",
    "        \n",
    "w, b= layer.parameters()\n",
    "print(w, b)\n",
    "\n",
    "print(layer(X))"
   ]
  },
  {
   "cell_type": "markdown",
   "metadata": {},
   "source": [
    "# logistic regression"
   ]
  },
  {
   "cell_type": "code",
   "execution_count": 726,
   "metadata": {},
   "outputs": [
    {
     "name": "stdout",
     "output_type": "stream",
     "text": [
      "epoch = 1    cost=0.6871315240859985\n",
      "epoch = 101    cost=0.3773704171180725\n",
      "epoch = 201    cost=0.28931331634521484\n",
      "epoch = 301    cost=0.2325238585472107\n",
      "epoch = 401    cost=0.1933508813381195\n",
      "epoch = 501    cost=0.1648770421743393\n",
      "epoch = 601    cost=0.14332330226898193\n",
      "epoch = 701    cost=0.12648709118366241\n",
      "epoch = 801    cost=0.11300425231456757\n",
      "epoch = 901    cost=0.10198566317558289\n",
      "epoch = 1001    cost=0.0928279384970665\n",
      "epoch = 1101    cost=0.08510752022266388\n",
      "epoch = 1201    cost=0.07851841300725937\n",
      "epoch = 1301    cost=0.07283490151166916\n",
      "epoch = 1401    cost=0.06788656115531921\n",
      "epoch = 1501    cost=0.06354253739118576\n",
      "epoch = 1601    cost=0.059700995683670044\n",
      "epoch = 1701    cost=0.05628133937716484\n",
      "epoch = 1801    cost=0.05321916937828064\n",
      "epoch = 1901    cost=0.050462305545806885\n",
      "epoch = 2001    cost=0.04796815291047096\n",
      "epoch = 2101    cost=0.04570154473185539\n",
      "epoch = 2201    cost=0.04363333061337471\n",
      "epoch = 2301    cost=0.04173898324370384\n",
      "epoch = 2401    cost=0.03999781608581543\n",
      "epoch = 2501    cost=0.03839236497879028\n",
      "epoch = 2601    cost=0.03690752014517784\n",
      "epoch = 2701    cost=0.0355304591357708\n",
      "epoch = 2801    cost=0.03425002470612526\n",
      "epoch = 2901    cost=0.033056534826755524\n",
      "epoch = 3001    cost=0.03194151446223259\n",
      "epoch = 3101    cost=0.03089766949415207\n",
      "epoch = 3201    cost=0.029918424785137177\n",
      "epoch = 3301    cost=0.028998052701354027\n",
      "epoch = 3401    cost=0.02813151106238365\n",
      "epoch = 3501    cost=0.027314238250255585\n",
      "epoch = 3601    cost=0.026542184874415398\n",
      "epoch = 3701    cost=0.025811731815338135\n",
      "epoch = 3801    cost=0.025119755417108536\n",
      "epoch = 3901    cost=0.02446318231523037\n",
      "epoch = 4001    cost=0.023839477449655533\n",
      "epoch = 4101    cost=0.023246265947818756\n",
      "epoch = 4201    cost=0.022681349888443947\n",
      "epoch = 4301    cost=0.022142814472317696\n",
      "epoch = 4401    cost=0.021628832444548607\n",
      "epoch = 4501    cost=0.021137792617082596\n",
      "epoch = 4601    cost=0.02066822536289692\n",
      "epoch = 4701    cost=0.0202187392860651\n",
      "epoch = 4801    cost=0.01978810504078865\n",
      "epoch = 4901    cost=0.019375158473849297\n",
      "epoch = 5001    cost=0.018978849053382874\n",
      "epoch = 5101    cost=0.018598206341266632\n",
      "epoch = 5201    cost=0.01823239028453827\n",
      "epoch = 5301    cost=0.017880406230688095\n",
      "epoch = 5401    cost=0.01754160039126873\n",
      "epoch = 5501    cost=0.01721522957086563\n",
      "epoch = 5601    cost=0.016900645568966866\n",
      "epoch = 5701    cost=0.01659720577299595\n",
      "epoch = 5801    cost=0.016304338350892067\n",
      "epoch = 5901    cost=0.016021495684981346\n",
      "epoch = 6001    cost=0.015748128294944763\n",
      "epoch = 6101    cost=0.015483885072171688\n",
      "epoch = 6201    cost=0.015228237956762314\n",
      "epoch = 6301    cost=0.014980819076299667\n",
      "epoch = 6401    cost=0.014741212129592896\n",
      "epoch = 6501    cost=0.014509069733321667\n",
      "epoch = 6601    cost=0.01428403239697218\n",
      "epoch = 6701    cost=0.014065803959965706\n",
      "epoch = 6801    cost=0.013854039832949638\n",
      "epoch = 6901    cost=0.013648506253957748\n",
      "epoch = 7001    cost=0.013448967598378658\n",
      "epoch = 7101    cost=0.01325506716966629\n",
      "epoch = 7201    cost=0.01306663453578949\n",
      "epoch = 7301    cost=0.012883447110652924\n",
      "epoch = 7401    cost=0.01270529069006443\n",
      "epoch = 7501    cost=0.012531919404864311\n",
      "epoch = 7601    cost=0.012363127432763577\n",
      "epoch = 7701    cost=0.012198849581182003\n",
      "epoch = 7801    cost=0.012038812041282654\n",
      "epoch = 7901    cost=0.011882859282195568\n",
      "tensor([[0.0258],\n",
      "        [0.9897],\n",
      "        [0.9897],\n",
      "        [1.0000]], grad_fn=<SigmoidBackward>)\n"
     ]
    }
   ],
   "source": [
    "X = torch.tensor([[0,0],\n",
    "              [0,1],\n",
    "              [1,0],\n",
    "              [1,1]]).float()\n",
    "\n",
    "y = torch.tensor([[0],  [1], [1],   [1]]).float()\n",
    "                  \n",
    "layer = torch.nn.Linear(2, 1)\n",
    "\n",
    "optimizer = optim.SGD(layer.parameters() , lr=0.1)\n",
    "\n",
    "epochs = 8000\n",
    "for epoch in range(epochs):\n",
    "    \n",
    "    hypothesis = torch.sigmoid(layer(X))    \n",
    "    #cost = -torch.mean(y*torch.log(hypothesis)  + (1-y)*torch.log(1-hypothesis)   )    \n",
    "    #cost = F.binary_cross_entropy(hypothesis, y)    \n",
    "    cost_fn = nn.BCELoss()                  \n",
    "    cost = cost_fn(hypothesis, y)       \n",
    "                  \n",
    "    optimizer.zero_grad()\n",
    "    cost.backward()\n",
    "    optimizer.step()\n",
    "\n",
    "    # 100번마다 로그 출력\n",
    "    if epoch % 100 == 0:\n",
    "        print(f'epoch = {epoch+1}    cost={cost.item()}')\n",
    "        \n",
    "print(torch.sigmoid(layer(X)))"
   ]
  },
  {
   "cell_type": "code",
   "execution_count": 728,
   "metadata": {},
   "outputs": [
    {
     "data": {
      "text/plain": [
       "tensor(1.)"
      ]
     },
     "execution_count": 728,
     "metadata": {},
     "output_type": "execute_result"
    }
   ],
   "source": [
    "predict = torch.sigmoid(layer(X))  > 0.5\n",
    "(predict == y).float().mean()"
   ]
  },
  {
   "cell_type": "markdown",
   "metadata": {},
   "source": [
    "# Softmax"
   ]
  },
  {
   "cell_type": "code",
   "execution_count": 684,
   "metadata": {},
   "outputs": [
    {
     "name": "stdout",
     "output_type": "stream",
     "text": [
      "tensor([0.1429, 0.2857, 0.5714])\n"
     ]
    },
    {
     "name": "stderr",
     "output_type": "stream",
     "text": [
      "<ipython-input-684-41a13c8a4f43>:8: MatplotlibDeprecationWarning: normalize=None does not normalize if the sum is less than 1 but this behavior is deprecated since 3.3 until two minor releases later. After the deprecation period the default value will be normalize=True. To prevent normalization pass normalize=False \n",
      "  plt.pie(n_p)\n"
     ]
    },
    {
     "data": {
      "text/plain": [
       "([<matplotlib.patches.Wedge at 0x1dfa1190640>,\n",
       "  <matplotlib.patches.Wedge at 0x1dfa1190a00>,\n",
       "  <matplotlib.patches.Wedge at 0x1dfa1190bb0>],\n",
       " [Text(0.9910657674599295, 0.4772720865178073, ''),\n",
       "  Text(-0.24477291260077555, 1.0724207295912054, ''),\n",
       "  Text(-0.2447733142298589, -1.072420637921954, '')])"
      ]
     },
     "execution_count": 684,
     "metadata": {},
     "output_type": "execute_result"
    },
    {
     "data": {
      "image/png": "[encoded data removed]",
      "text/plain": [
       "<Figure size 432x288 with 1 Axes>"
      ]
     },
     "metadata": {},
     "output_type": "display_data"
    }
   ],
   "source": [
    "%matplotlib inline\n",
    "p = torch.tensor([1.2, 2.4, 4.8]).float()\n",
    "\n",
    "n_p = p / torch.sum(p)\n",
    "print(n_p)\n",
    "\n",
    "torch.max(n_p), torch.argmax(n_p)\n",
    "plt.pie(n_p)"
   ]
  },
  {
   "cell_type": "code",
   "execution_count": 685,
   "metadata": {},
   "outputs": [
    {
     "name": "stdout",
     "output_type": "stream",
     "text": [
      "tensor([0.0244, 0.0811, 0.8944])\n"
     ]
    },
    {
     "data": {
      "text/plain": [
       "([<matplotlib.patches.Wedge at 0x1dfa2c988b0>,\n",
       "  <matplotlib.patches.Wedge at 0x1dfb0becd60>,\n",
       "  <matplotlib.patches.Wedge at 0x1dfb0becd30>],\n",
       " [Text(1.096759495524473, 0.08437184943393954, ''),\n",
       "  Text(1.0095055928904035, 0.43691928078650294, ''),\n",
       "  Text(-1.0400441414706938, -0.35820131740752664, '')])"
      ]
     },
     "execution_count": 685,
     "metadata": {},
     "output_type": "execute_result"
    },
    {
     "data": {
      "image/png": "[encoded data removed]",
      "text/plain": [
       "<Figure size 432x288 with 1 Axes>"
      ]
     },
     "metadata": {},
     "output_type": "display_data"
    }
   ],
   "source": [
    "#\n",
    "n_sm = torch.exp(p) / torch.sum( torch.exp(p))\n",
    "print(n_sm)\n",
    "plt.pie(n_sm)"
   ]
  },
  {
   "cell_type": "code",
   "execution_count": 718,
   "metadata": {},
   "outputs": [
    {
     "name": "stdout",
     "output_type": "stream",
     "text": [
      "[2 2 2 1 0 2 0 2 0 0 1 1 0 1 1]\n",
      "['yellow', 'yellow', 'yellow', 'red', 'blue', 'yellow', 'blue', 'yellow', 'blue', 'blue', 'red', 'red', 'blue', 'red', 'red']\n",
      "torch.Size([15, 2]) torch.Size([15])\n"
     ]
    },
    {
     "data": {
      "image/png": "[encoded data removed]",
      "text/plain": [
       "<Figure size 432x288 with 1 Axes>"
      ]
     },
     "metadata": {
      "needs_background": "light"
     },
     "output_type": "display_data"
    }
   ],
   "source": [
    "X, y = make_blobs(n_samples=15, n_features=2, centers=3, random_state=1)\n",
    "print(y)\n",
    "d = ['blue', 'red', 'yellow']\n",
    "colors = [ d[i]  for i in y]\n",
    "print(colors)\n",
    "\n",
    "plt.scatter(X[:, 0], X[:, 1], color=colors)\n",
    "\n",
    "\n",
    "X = torch.tensor(X).float()\n",
    "y = torch.tensor(y).long()\n",
    "\n",
    "print(X.shape, y.shape)"
   ]
  },
  {
   "cell_type": "code",
   "execution_count": 719,
   "metadata": {},
   "outputs": [
    {
     "name": "stdout",
     "output_type": "stream",
     "text": [
      "epoch = 1    cost=5.494870185852051\n",
      "epoch = 101    cost=0.22150112688541412\n",
      "epoch = 201    cost=0.1230759471654892\n",
      "epoch = 301    cost=0.08763591200113297\n",
      "epoch = 401    cost=0.06877084821462631\n",
      "epoch = 501    cost=0.05692983791232109\n",
      "epoch = 601    cost=0.04875582084059715\n",
      "epoch = 701    cost=0.04274919256567955\n",
      "epoch = 801    cost=0.03813524171710014\n",
      "epoch = 901    cost=0.03447170928120613\n"
     ]
    }
   ],
   "source": [
    "layer = torch.nn.Linear(2, 3)\n",
    "\n",
    "optimizer = optim.SGD(layer.parameters() , lr=0.01)\n",
    "\n",
    "epochs = 1000\n",
    "for epoch in range(epochs):\n",
    "    \n",
    "    hypothesis = layer(X)\n",
    "    cost_fn = nn.CrossEntropyLoss()    \n",
    "\n",
    "    cost = cost_fn(hypothesis, y)       \n",
    "                  \n",
    "    optimizer.zero_grad()\n",
    "    cost.backward()\n",
    "    optimizer.step()\n",
    "\n",
    "    # 100번마다 로그 출력\n",
    "    if epoch % 100 == 0:\n",
    "        print(f'epoch = {epoch+1}    cost={cost.item()}')     \n"
   ]
  },
  {
   "cell_type": "code",
   "execution_count": 720,
   "metadata": {},
   "outputs": [
    {
     "name": "stdout",
     "output_type": "stream",
     "text": [
      "tensor([[    0.0000,     0.0052,     0.9948],\n",
      "        [    0.0000,     0.0716,     0.9284],\n",
      "        [    0.0000,     0.0370,     0.9630],\n",
      "        [    0.0003,     0.9769,     0.0228],\n",
      "        [    0.9575,     0.0385,     0.0040],\n",
      "        [    0.0000,     0.0110,     0.9890],\n",
      "        [    0.9338,     0.0615,     0.0046],\n",
      "        [    0.0000,     0.0219,     0.9781],\n",
      "        [    0.9900,     0.0097,     0.0003],\n",
      "        [    0.9656,     0.0342,     0.0001],\n",
      "        [    0.0013,     0.9938,     0.0049],\n",
      "        [    0.0004,     0.8949,     0.1047],\n",
      "        [    0.9892,     0.0108,     0.0000],\n",
      "        [    0.0014,     0.9978,     0.0008],\n",
      "        [    0.0004,     0.9888,     0.0108]], grad_fn=<SoftmaxBackward>)\n"
     ]
    }
   ],
   "source": [
    "torch.set_printoptions(precision=4, sci_mode=False)\n",
    "predict = layer(X)\n",
    "predict = torch.softmax(predict, axis=1)\n",
    "print(predict)"
   ]
  },
  {
   "cell_type": "code",
   "execution_count": 721,
   "metadata": {},
   "outputs": [
    {
     "data": {
      "text/plain": [
       "tensor([2, 2, 2, 1, 0, 2, 0, 2, 0, 0, 1, 1, 0, 1, 1])"
      ]
     },
     "execution_count": 721,
     "metadata": {},
     "output_type": "execute_result"
    }
   ],
   "source": [
    "torch.argmax(predict, axis=1)"
   ]
  },
  {
   "cell_type": "code",
   "execution_count": 722,
   "metadata": {},
   "outputs": [
    {
     "data": {
      "text/plain": [
       "tensor(1.)"
      ]
     },
     "execution_count": 722,
     "metadata": {},
     "output_type": "execute_result"
    }
   ],
   "source": [
    "(y ==  torch.argmax(predict, axis=1)).float().mean()"
   ]
  },
  {
   "cell_type": "markdown",
   "metadata": {},
   "source": [
    "# 당뇨병 진단"
   ]
  },
  {
   "cell_type": "code",
   "execution_count": 749,
   "metadata": {},
   "outputs": [
    {
     "data": {
      "text/plain": [
       "tensor([[0.8333, 0.8333, 0.6667],\n",
       "        [1.0000, 0.9667, 0.9333],\n",
       "        [0.7500, 1.0000, 1.0000]])"
      ]
     },
     "execution_count": 749,
     "metadata": {},
     "output_type": "execute_result"
    }
   ],
   "source": [
    "X = torch.tensor([[10, 25, 100],\n",
    "              [12, 29, 140],\n",
    "              [9, 30, 150]]).float()\n",
    "\n",
    "X / torch.max(X, axis=0)[0]"
   ]
  },
  {
   "cell_type": "code",
   "execution_count": 14,
   "metadata": {},
   "outputs": [
    {
     "name": "stdout",
     "output_type": "stream",
     "text": [
      "(768, 9)\n"
     ]
    }
   ],
   "source": [
    "data = np.loadtxt(\"diabetes.csv\", delimiter=\",\", dtype=np.float32)\n",
    "print(data.shape)\n",
    "\n",
    "X = data[:, 0:8] \n",
    "\n",
    "y = data[:, 8]\n",
    "\n",
    "X = torch.tensor(X).float()\n",
    "X = X / torch.max(X, axis=0)[0]\n",
    "\n",
    "y = torch.tensor(y).reshape(-1,1)"
   ]
  },
  {
   "cell_type": "code",
   "execution_count": 26,
   "metadata": {},
   "outputs": [
    {
     "name": "stdout",
     "output_type": "stream",
     "text": [
      "epoch = 1    cost=0.6553141474723816\n"
     ]
    },
    {
     "data": {
      "text/plain": [
       "tensor(0.7604)"
      ]
     },
     "execution_count": 26,
     "metadata": {},
     "output_type": "execute_result"
    }
   ],
   "source": [
    "layer = torch.nn.Linear(8, 1)\n",
    "\n",
    "optimizer = optim.SGD(layer.parameters() , lr=0.1)\n",
    "\n",
    "epochs = 2000\n",
    "for epoch in range(epochs):    \n",
    "    hypothesis = torch.sigmoid(layer(X))    \n",
    "    cost_fn = nn.BCELoss()                  \n",
    "    cost = cost_fn(hypothesis, y)       \n",
    "                  \n",
    "    optimizer.zero_grad()\n",
    "    cost.backward()\n",
    "    optimizer.step()\n",
    "\n",
    "    # 100번마다 로그 출력\n",
    "    if epoch % 9000 == 0:\n",
    "        print(f'epoch = {epoch+1}    cost={cost.item()}')\n",
    "        \n",
    "predict = torch.sigmoid(layer(X))  > 0.5\n",
    "(predict == y).float().mean()        "
   ]
  },
  {
   "cell_type": "markdown",
   "metadata": {},
   "source": [
    "#  MLP"
   ]
  },
  {
   "cell_type": "code",
   "execution_count": 856,
   "metadata": {},
   "outputs": [
    {
     "name": "stdout",
     "output_type": "stream",
     "text": [
      "epoch = 1    cost=0.6938062310218811\n",
      "epoch = 101    cost=0.6922393441200256\n",
      "epoch = 201    cost=0.6892594695091248\n",
      "epoch = 301    cost=0.6795624494552612\n",
      "epoch = 401    cost=0.657167375087738\n",
      "epoch = 501    cost=0.6197367906570435\n",
      "epoch = 601    cost=0.5683354139328003\n",
      "epoch = 701    cost=0.5079355239868164\n",
      "epoch = 801    cost=0.4447801113128662\n",
      "epoch = 901    cost=0.38376402854919434\n",
      "epoch = 1001    cost=0.32803162932395935\n",
      "epoch = 1101    cost=0.2790645360946655\n",
      "epoch = 1201    cost=0.23714417219161987\n",
      "epoch = 1301    cost=0.20183661580085754\n",
      "epoch = 1401    cost=0.17236889898777008\n",
      "epoch = 1501    cost=0.14787188172340393\n",
      "epoch = 1601    cost=0.12751266360282898\n",
      "epoch = 1701    cost=0.11055558919906616\n",
      "epoch = 1801    cost=0.09637817740440369\n",
      "epoch = 1901    cost=0.0844680517911911\n"
     ]
    },
    {
     "data": {
      "text/plain": [
       "tensor([[0.0426],\n",
       "        [0.9329],\n",
       "        [0.9225],\n",
       "        [0.0987]], grad_fn=<SigmoidBackward>)"
      ]
     },
     "execution_count": 856,
     "metadata": {},
     "output_type": "execute_result"
    }
   ],
   "source": [
    "X = torch.tensor([[0,0],\n",
    "              [0,1],\n",
    "              [1,0],\n",
    "              [1,1]]).float()\n",
    "\n",
    "y = torch.tensor([[0],  [1], [1],   [0]]).float()\n",
    "\n",
    "layer1 = nn.Linear(2, 10)\n",
    "layer2 = nn.Linear(10, 1)\n",
    "sigmoid = nn.Sigmoid()\n",
    "\n",
    "model = nn.Sequential(layer1, sigmoid, layer2, sigmoid)\n",
    "\n",
    "optimizer = optim.Adam(model.parameters(), lr=0.001)\n",
    "\n",
    "epochs = 2000\n",
    "for epoch in range(epochs):\n",
    "    \n",
    "    hypothesis = model(X)\n",
    "    \n",
    "    cost_fn = nn.BCELoss()                  \n",
    "    cost = cost_fn(hypothesis, y)       \n",
    "                  \n",
    "    optimizer.zero_grad()\n",
    "    cost.backward()\n",
    "    optimizer.step()\n",
    "\n",
    "    # 100번마다 로그 출력\n",
    "    if epoch % 100 == 0:\n",
    "        print(f'epoch = {epoch+1}    cost={cost.item()}')      \n",
    "model(X)   \n",
    "\n",
    "\n"
   ]
  },
  {
   "cell_type": "code",
   "execution_count": 852,
   "metadata": {},
   "outputs": [
    {
     "name": "stdout",
     "output_type": "stream",
     "text": [
      "epoch = 1    cost=0.6925525069236755\n",
      "epoch = 101    cost=0.6891315579414368\n",
      "epoch = 201    cost=0.6826595067977905\n",
      "epoch = 301    cost=0.6690467000007629\n",
      "epoch = 401    cost=0.6451519131660461\n",
      "epoch = 501    cost=0.6101605892181396\n",
      "epoch = 601    cost=0.5643744468688965\n",
      "epoch = 701    cost=0.5105611085891724\n",
      "epoch = 801    cost=0.4525373578071594\n",
      "epoch = 901    cost=0.3935386836528778\n",
      "epoch = 1001    cost=0.3372434973716736\n",
      "epoch = 1101    cost=0.2865554690361023\n",
      "epoch = 1201    cost=0.24269652366638184\n",
      "epoch = 1301    cost=0.2056519240140915\n",
      "epoch = 1401    cost=0.1747797727584839\n",
      "epoch = 1501    cost=0.14921130239963531\n",
      "epoch = 1601    cost=0.1280655711889267\n",
      "epoch = 1701    cost=0.11054746806621552\n",
      "epoch = 1801    cost=0.09598016738891602\n",
      "epoch = 1901    cost=0.08380676060914993\n"
     ]
    },
    {
     "data": {
      "text/plain": [
       "tensor([[0.0563],\n",
       "        [0.9217],\n",
       "        [0.9366],\n",
       "        [0.0854]], grad_fn=<SigmoidBackward>)"
      ]
     },
     "execution_count": 852,
     "metadata": {},
     "output_type": "execute_result"
    }
   ],
   "source": [
    "X = torch.tensor([[0,0],\n",
    "              [0,1],\n",
    "              [1,0],\n",
    "              [1,1]]).float()\n",
    "\n",
    "y = torch.tensor([[0],  [1], [1],   [0]]).float()\n",
    "\n",
    "\n",
    "class Model(nn.Module):\n",
    "    def __init__(self):\n",
    "        super(Model, self).__init__()\n",
    "        self.layer1 = nn.Linear(2, 10)\n",
    "        self.layer2 = nn.Linear(10, 1)        \n",
    "        \n",
    "    def forward(self, x):\n",
    "        x = torch.sigmoid(self.layer1(x))\n",
    "        x = torch.sigmoid(self.layer2(x))\n",
    "        return x\n",
    "    \n",
    "model = Model()\n",
    "    \n",
    "optimizer = optim.Adam(model.parameters(), lr=0.001)\n",
    "\n",
    "epochs = 2000\n",
    "for epoch in range(epochs):\n",
    "    \n",
    "    hypothesis = model(X)\n",
    "    \n",
    "    cost_fn = nn.BCELoss()                  \n",
    "    cost = cost_fn(hypothesis, y)       \n",
    "                  \n",
    "    optimizer.zero_grad()\n",
    "    cost.backward()\n",
    "    optimizer.step()\n",
    "\n",
    "    # 100번마다 로그 출력\n",
    "    if epoch % 100 == 0:\n",
    "        print(f'epoch = {epoch+1}    cost={cost.item()}')      \n",
    "model(X)   "
   ]
  },
  {
   "cell_type": "code",
   "execution_count": 854,
   "metadata": {},
   "outputs": [
    {
     "name": "stdout",
     "output_type": "stream",
     "text": [
      "epoch = 1    cost=0.6939004063606262\n",
      "epoch = 101    cost=0.692766010761261\n",
      "epoch = 201    cost=0.6903203725814819\n",
      "epoch = 301    cost=0.6811295747756958\n",
      "epoch = 401    cost=0.6598484516143799\n",
      "epoch = 501    cost=0.6247517466545105\n",
      "epoch = 601    cost=0.5771506428718567\n",
      "epoch = 701    cost=0.5215861797332764\n",
      "epoch = 801    cost=0.4629141688346863\n",
      "epoch = 901    cost=0.4043802320957184\n",
      "epoch = 1001    cost=0.3475154638290405\n",
      "epoch = 1101    cost=0.29412510991096497\n",
      "epoch = 1201    cost=0.24694520235061646\n",
      "epoch = 1301    cost=0.20699375867843628\n",
      "epoch = 1401    cost=0.17391455173492432\n",
      "epoch = 1501    cost=0.14681069552898407\n",
      "epoch = 1601    cost=0.12467508018016815\n",
      "epoch = 1701    cost=0.10657456517219543\n",
      "epoch = 1801    cost=0.09171402454376221\n",
      "epoch = 1901    cost=0.07944468408823013\n"
     ]
    },
    {
     "data": {
      "text/plain": [
       "tensor([[0.0667],\n",
       "        [0.9351],\n",
       "        [0.9326],\n",
       "        [0.0686]], grad_fn=<SigmoidBackward>)"
      ]
     },
     "execution_count": 854,
     "metadata": {},
     "output_type": "execute_result"
    }
   ],
   "source": [
    "X = torch.tensor([[0,0],\n",
    "              [0,1],\n",
    "              [1,0],\n",
    "              [1,1]]).float()\n",
    "\n",
    "y = torch.tensor([[0],  [1], [1],   [0]]).float()\n",
    "\n",
    "class Model(nn.Module):\n",
    "    def __init__(self):\n",
    "        super(Model, self).__init__()\n",
    "        \n",
    "        self.layer = nn.Sequential(\n",
    "          nn.Linear(2,10),\n",
    "          nn.Sigmoid(),\n",
    "          nn.Linear(10,1),\n",
    "          nn.Sigmoid(),          \n",
    "        )\n",
    "        \n",
    "    def forward(self, x):        \n",
    "        return self.layer(x)     \n",
    "    \n",
    "model = Model()\n",
    "    \n",
    "optimizer = optim.Adam(model.parameters(), lr=0.001)\n",
    "\n",
    "epochs = 2000\n",
    "for epoch in range(epochs):\n",
    "    \n",
    "    hypothesis = model(X)\n",
    "    \n",
    "    cost_fn = nn.BCELoss()                  \n",
    "    cost = cost_fn(hypothesis, y)       \n",
    "                  \n",
    "    optimizer.zero_grad()\n",
    "    cost.backward()\n",
    "    optimizer.step()\n",
    "\n",
    "    # 100번마다 로그 출력\n",
    "    if epoch % 100 == 0:\n",
    "        print(f'epoch = {epoch+1}    cost={cost.item()}')      \n",
    "model(X)   "
   ]
  },
  {
   "cell_type": "code",
   "execution_count": null,
   "metadata": {},
   "outputs": [],
   "source": [
    "X = torch.tensor([[0,0],\n",
    "              [0,1],\n",
    "              [1,0],\n",
    "              [1,1]]).float()\n",
    "\n",
    "y = torch.tensor([[0],  [1], [1],   [0]]).float()\n",
    "\n",
    "\n",
    "model = nn.Sequential(\n",
    "          nn.Linear(2,10),\n",
    "          nn.Sigmoid(),\n",
    "          nn.Linear(10,1),\n",
    "          nn.Sigmoid(),          \n",
    "        )\n",
    "    \n",
    "optimizer = optim.Adam(model.parameters(), lr=0.001)\n",
    "\n",
    "epochs = 2000\n",
    "for epoch in range(epochs):\n",
    "    \n",
    "    hypothesis = model(X)\n",
    "    \n",
    "    cost_fn = nn.BCELoss()                  \n",
    "    cost = cost_fn(hypothesis, y)       \n",
    "                  \n",
    "    optimizer.zero_grad()\n",
    "    cost.backward()\n",
    "    optimizer.step()\n",
    "\n",
    "    # 100번마다 로그 출력\n",
    "    if epoch % 100 == 0:\n",
    "        print(f'epoch = {epoch+1}    cost={cost.item()}')      \n",
    "model(X)   "
   ]
  },
  {
   "cell_type": "markdown",
   "metadata": {},
   "source": [
    "# 초기화"
   ]
  },
  {
   "cell_type": "code",
   "execution_count": 257,
   "metadata": {},
   "outputs": [
    {
     "data": {
      "text/plain": [
       "Sequential(\n",
       "  (0): Linear(in_features=2, out_features=2, bias=True)\n",
       "  (1): Linear(in_features=2, out_features=2, bias=True)\n",
       ")"
      ]
     },
     "execution_count": 257,
     "metadata": {},
     "output_type": "execute_result"
    }
   ],
   "source": [
    "def init_weights(m):\n",
    "    if type(m) == nn.Linear or  type(m) == nn.Conv2d :\n",
    "        torch.nn.init.xavier_uniform_(m.weight)\n",
    "        m.bias.data.fill_(0.01)\n",
    "\n",
    "net = nn.Sequential(nn.Linear(2, 2), nn.Linear(2, 2))\n",
    "net.apply(init_weights)"
   ]
  },
  {
   "cell_type": "markdown",
   "metadata": {},
   "source": [
    "# 가중치 "
   ]
  },
  {
   "cell_type": "code",
   "execution_count": 260,
   "metadata": {},
   "outputs": [
    {
     "name": "stdout",
     "output_type": "stream",
     "text": [
      "0.weight Parameter containing:\n",
      "tensor([[ 1.2129,  0.1454],\n",
      "        [-0.9781,  0.4479]], requires_grad=True)\n",
      "0.bias Parameter containing:\n",
      "tensor([0.0100, 0.0100], requires_grad=True)\n",
      "1.weight Parameter containing:\n",
      "tensor([[-0.8788,  0.3892],\n",
      "        [-0.1300,  0.5155]], requires_grad=True)\n",
      "1.bias Parameter containing:\n",
      "tensor([0.0100, 0.0100], requires_grad=True)\n"
     ]
    }
   ],
   "source": [
    "for name, param in net.named_parameters():\n",
    "    print(name, param)"
   ]
  },
  {
   "cell_type": "code",
   "execution_count": 266,
   "metadata": {},
   "outputs": [
    {
     "name": "stdout",
     "output_type": "stream",
     "text": [
      "----------------------------------------------------------------\n",
      "        Layer (type)               Output Shape         Param #\n",
      "================================================================\n",
      "            Linear-1                 [-1, 2, 2]               6\n",
      "            Linear-2                 [-1, 2, 2]               6\n",
      "================================================================\n",
      "Total params: 12\n",
      "Trainable params: 12\n",
      "Non-trainable params: 0\n",
      "----------------------------------------------------------------\n",
      "Input size (MB): 0.00\n",
      "Forward/backward pass size (MB): 0.00\n",
      "Params size (MB): 0.00\n",
      "Estimated Total Size (MB): 0.00\n",
      "----------------------------------------------------------------\n"
     ]
    }
   ],
   "source": [
    "#!pip install torchsummary\n",
    "from torchsummary import summary\n",
    "\n",
    "summary(net, (2, 2))"
   ]
  },
  {
   "cell_type": "code",
   "execution_count": 281,
   "metadata": {},
   "outputs": [
    {
     "name": "stdout",
     "output_type": "stream",
     "text": [
      "<class 'torch.nn.modules.linear.Linear'> 2 2\n",
      "<class 'torch.nn.modules.linear.Linear'> 2 2\n"
     ]
    }
   ],
   "source": [
    "for name, layer in net.named_modules() :\n",
    "    if type(layer) ==  nn.Sequential : continue\n",
    "    print(type(layer), layer.in_features, layer.out_features)"
   ]
  },
  {
   "cell_type": "code",
   "execution_count": 286,
   "metadata": {},
   "outputs": [
    {
     "data": {
      "text/plain": [
       "Parameter containing:\n",
       "tensor([[-0.8788,  0.3892],\n",
       "        [-0.1300,  0.5155]], requires_grad=True)"
      ]
     },
     "execution_count": 286,
     "metadata": {},
     "output_type": "execute_result"
    }
   ],
   "source": [
    "layer.weight"
   ]
  },
  {
   "cell_type": "markdown",
   "metadata": {},
   "source": [
    "# XOR"
   ]
  },
  {
   "cell_type": "code",
   "execution_count": null,
   "metadata": {},
   "outputs": [],
   "source": [
    "class BinaryClassifier(nn.Module):\n",
    "    def __init__(self):\n",
    "        super().__init__()\n",
    "        self.linear = nn.Linear(2, 1) #self.linear = {w,b}\n",
    "        self.sigmoid = nn.Sigmoid()\n",
    "\n",
    "    def forward(self, x):\n",
    "        return self.sigmoid(self.linear(x))"
   ]
  },
  {
   "cell_type": "code",
   "execution_count": 839,
   "metadata": {},
   "outputs": [
    {
     "data": {
      "text/plain": [
       "[<matplotlib.lines.Line2D at 0x1e00d04e0a0>]"
      ]
     },
     "execution_count": 839,
     "metadata": {},
     "output_type": "execute_result"
    },
    {
     "data": {
      "image/png": "[encoded data removed]",
      "text/plain": [
       "<Figure size 432x288 with 1 Axes>"
      ]
     },
     "metadata": {
      "needs_background": "light"
     },
     "output_type": "display_data"
    }
   ],
   "source": [
    "X = torch.FloatTensor([[0, 0], [0, 1], [1, 0], [1, 1]])\n",
    "y = torch.FloatTensor([[0], [1], [1], [0]])\n",
    "\n",
    "class Model(nn.Module): \n",
    "    def __init__(self): \n",
    "        super(Model, self).__init__()\n",
    "        self.layer1 = nn.Sequential( \n",
    "            nn.Linear(2, 10),\n",
    "            nn.Sigmoid(),\n",
    "            nn.Linear(10, 1),\n",
    "            nn.Sigmoid(),    #반드시 sigmodi 여야 함 binary loss일 경우 \n",
    "        )\n",
    "        \n",
    "    def forward(self, x):\n",
    "        x = self.layer1(x)\n",
    "        return x  \n",
    "\n",
    "model = Model()\n",
    "\n",
    "hist = train(model, X, y, epochs= 1000, loss='binary', opt='adam', lr=0.001)\n",
    "\n",
    "plt.plot(hist[\"accuracy\"])"
   ]
  }
 ],
 "metadata": {
  "colab": {
   "collapsed_sections": [],
   "name": "아주대_day2.ipynb",
   "provenance": []
  },
  "kernelspec": {
   "display_name": "Python 3",
   "language": "python",
   "name": "python3"
  },
  "language_info": {
   "codemirror_mode": {
    "name": "ipython",
    "version": 3
   },
   "file_extension": ".py",
   "mimetype": "text/x-python",
   "name": "python",
   "nbconvert_exporter": "python",
   "pygments_lexer": "ipython3",
   "version": "3.8.8"
  }
 },
 "nbformat": 4,
 "nbformat_minor": 1
}
