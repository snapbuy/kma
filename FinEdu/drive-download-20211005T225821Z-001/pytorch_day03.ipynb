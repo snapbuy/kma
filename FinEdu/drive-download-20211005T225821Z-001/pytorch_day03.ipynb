{
 "cells": [
  {
   "cell_type": "code",
   "execution_count": 124,
   "metadata": {
    "id": "VTYo0n2fszum"
   },
   "outputs": [],
   "source": [
    "import torch\n",
    "import torch.nn.functional as F\n",
    "from torch import nn, optim\n",
    "from torchvision import datasets, transforms\n",
    "\n",
    "from sklearn.datasets import make_blobs\n",
    "from sklearn.datasets import make_moons\n",
    "\n",
    "import matplotlib.pyplot as plt\n",
    "import numpy as np"
   ]
  },
  {
   "cell_type": "markdown",
   "metadata": {},
   "source": [
    "# Softmax"
   ]
  },
  {
   "cell_type": "code",
   "execution_count": 28,
   "metadata": {},
   "outputs": [
    {
     "name": "stdout",
     "output_type": "stream",
     "text": [
      "tensor([0.1429, 0.2857, 0.5714])\n"
     ]
    },
    {
     "name": "stderr",
     "output_type": "stream",
     "text": [
      "<ipython-input-28-41a13c8a4f43>:8: MatplotlibDeprecationWarning: normalize=None does not normalize if the sum is less than 1 but this behavior is deprecated since 3.3 until two minor releases later. After the deprecation period the default value will be normalize=True. To prevent normalization pass normalize=False \n",
      "  plt.pie(n_p)\n"
     ]
    },
    {
     "data": {
      "text/plain": [
       "([<matplotlib.patches.Wedge at 0x2228adf02e0>,\n",
       "  <matplotlib.patches.Wedge at 0x2228adf0730>,\n",
       "  <matplotlib.patches.Wedge at 0x2228adf0bb0>],\n",
       " [Text(0.9910657674599295, 0.4772720865178073, ''),\n",
       "  Text(-0.24477291260077555, 1.0724207295912054, ''),\n",
       "  Text(-0.2447733142298589, -1.072420637921954, '')])"
      ]
     },
     "execution_count": 28,
     "metadata": {},
     "output_type": "execute_result"
    },
    {
     "data": {
      "image/png": "[encoded data removed]",
      "text/plain": [
       "<Figure size 432x288 with 1 Axes>"
      ]
     },
     "metadata": {},
     "output_type": "display_data"
    }
   ],
   "source": [
    "%matplotlib inline\n",
    "p = torch.tensor([1.2, 2.4, 4.8]).float()\n",
    "\n",
    "n_p = p / torch.sum(p)\n",
    "print(n_p)\n",
    "\n",
    "torch.max(n_p), torch.argmax(n_p)\n",
    "plt.pie(n_p)"
   ]
  },
  {
   "cell_type": "code",
   "execution_count": 685,
   "metadata": {},
   "outputs": [
    {
     "name": "stdout",
     "output_type": "stream",
     "text": [
      "tensor([0.0244, 0.0811, 0.8944])\n"
     ]
    },
    {
     "data": {
      "text/plain": [
       "([<matplotlib.patches.Wedge at 0x1dfa2c988b0>,\n",
       "  <matplotlib.patches.Wedge at 0x1dfb0becd60>,\n",
       "  <matplotlib.patches.Wedge at 0x1dfb0becd30>],\n",
       " [Text(1.096759495524473, 0.08437184943393954, ''),\n",
       "  Text(1.0095055928904035, 0.43691928078650294, ''),\n",
       "  Text(-1.0400441414706938, -0.35820131740752664, '')])"
      ]
     },
     "execution_count": 685,
     "metadata": {},
     "output_type": "execute_result"
    },
    {
     "data": {
      "image/png": "[encoded data removed]",
      "text/plain": [
       "<Figure size 432x288 with 1 Axes>"
      ]
     },
     "metadata": {},
     "output_type": "display_data"
    }
   ],
   "source": [
    "n_sm = torch.exp(p) / torch.sum( torch.exp(p))\n",
    "print(n_sm)\n",
    "plt.pie(n_sm)"
   ]
  },
  {
   "cell_type": "code",
   "execution_count": 43,
   "metadata": {},
   "outputs": [
    {
     "data": {
      "text/plain": [
       "tensor([[0.0999, 0.4052, 0.4949],\n",
       "        [0.0900, 0.2447, 0.6652]])"
      ]
     },
     "execution_count": 43,
     "metadata": {},
     "output_type": "execute_result"
    }
   ],
   "source": [
    " torch.softmax(p, axis=1)"
   ]
  },
  {
   "cell_type": "code",
   "execution_count": 37,
   "metadata": {},
   "outputs": [
    {
     "data": {
      "text/plain": [
       "tensor([[0.0999, 0.4052, 0.4949],\n",
       "        [0.0900, 0.2447, 0.6652]])"
      ]
     },
     "execution_count": 37,
     "metadata": {},
     "output_type": "execute_result"
    }
   ],
   "source": [
    "p = torch.tensor([[1.4, 2.8 , 3.0],\n",
    "                  [1, 2, 3]])\n",
    "torch.softmax(p, axis=1)"
   ]
  },
  {
   "cell_type": "markdown",
   "metadata": {},
   "source": [
    "# Blob 분류"
   ]
  },
  {
   "cell_type": "code",
   "execution_count": 31,
   "metadata": {},
   "outputs": [
    {
     "name": "stdout",
     "output_type": "stream",
     "text": [
      "[2 2 2 1 0 2 0 2 0 0 1 1 0 1 1]\n",
      "['yellow', 'yellow', 'yellow', 'red', 'blue', 'yellow', 'blue', 'yellow', 'blue', 'blue', 'red', 'red', 'blue', 'red', 'red']\n",
      "torch.Size([15, 2]) torch.Size([15])\n"
     ]
    },
    {
     "data": {
      "image/png": "[encoded data removed]",
      "text/plain": [
       "<Figure size 432x288 with 1 Axes>"
      ]
     },
     "metadata": {
      "needs_background": "light"
     },
     "output_type": "display_data"
    }
   ],
   "source": [
    "X, y = make_blobs(n_samples=15, n_features=2, centers=3, random_state=1)\n",
    "print(y)\n",
    "d = ['blue', 'red', 'yellow']\n",
    "colors = [ d[i]  for i in y]\n",
    "print(colors)\n",
    "\n",
    "plt.scatter(X[:, 0], X[:, 1], color=colors)\n",
    "\n",
    "\n",
    "X = torch.tensor(X).float()\n",
    "y = torch.tensor(y).long()\n",
    "\n",
    "print(X.shape, y.shape)"
   ]
  },
  {
   "cell_type": "code",
   "execution_count": 32,
   "metadata": {},
   "outputs": [
    {
     "name": "stdout",
     "output_type": "stream",
     "text": [
      "epoch = 1    cost=1.6807876825332642\n",
      "epoch = 101    cost=0.1374778002500534\n",
      "epoch = 201    cost=0.09425222873687744\n",
      "epoch = 301    cost=0.07308217883110046\n",
      "epoch = 401    cost=0.06012240797281265\n",
      "epoch = 501    cost=0.051279954612255096\n",
      "epoch = 601    cost=0.044827163219451904\n",
      "epoch = 701    cost=0.03989414498209953\n",
      "epoch = 801    cost=0.03599139302968979\n",
      "epoch = 901    cost=0.03282105550169945\n"
     ]
    }
   ],
   "source": [
    "layer = torch.nn.Linear(2, 3)\n",
    "\n",
    "optimizer = optim.SGD(layer.parameters() , lr=0.01)\n",
    "\n",
    "epochs = 1000\n",
    "for epoch in range(epochs):\n",
    "    \n",
    "    hypothesis = layer(X)\n",
    "    cost_fn = nn.CrossEntropyLoss()    \n",
    "\n",
    "    cost = cost_fn(hypothesis, y)       \n",
    "                  \n",
    "    optimizer.zero_grad()\n",
    "    cost.backward()\n",
    "    optimizer.step()\n",
    "\n",
    "    # 100번마다 로그 출력\n",
    "    if epoch % 100 == 0:\n",
    "        print(f'epoch = {epoch+1}    cost={cost.item()}')     \n"
   ]
  },
  {
   "cell_type": "code",
   "execution_count": 33,
   "metadata": {},
   "outputs": [
    {
     "name": "stdout",
     "output_type": "stream",
     "text": [
      "tensor([[    0.0000,     0.0049,     0.9951],\n",
      "        [    0.0000,     0.0691,     0.9309],\n",
      "        [    0.0000,     0.0333,     0.9667],\n",
      "        [    0.0003,     0.9780,     0.0217],\n",
      "        [    0.9531,     0.0449,     0.0020],\n",
      "        [    0.0000,     0.0097,     0.9903],\n",
      "        [    0.9288,     0.0689,     0.0023],\n",
      "        [    0.0000,     0.0218,     0.9782],\n",
      "        [    0.9904,     0.0095,     0.0001],\n",
      "        [    0.9738,     0.0262,     0.0000],\n",
      "        [    0.0016,     0.9942,     0.0042],\n",
      "        [    0.0003,     0.9020,     0.0977],\n",
      "        [    0.9920,     0.0080,     0.0000],\n",
      "        [    0.0022,     0.9971,     0.0007],\n",
      "        [    0.0005,     0.9895,     0.0100]], grad_fn=<SoftmaxBackward>)\n"
     ]
    }
   ],
   "source": [
    "torch.set_printoptions(precision=4, sci_mode=False)\n",
    "predict = layer(X)\n",
    "predict = torch.softmax(predict, axis=1)\n",
    "print(predict)"
   ]
  },
  {
   "cell_type": "code",
   "execution_count": 721,
   "metadata": {},
   "outputs": [
    {
     "data": {
      "text/plain": [
       "tensor([2, 2, 2, 1, 0, 2, 0, 2, 0, 0, 1, 1, 0, 1, 1])"
      ]
     },
     "execution_count": 721,
     "metadata": {},
     "output_type": "execute_result"
    }
   ],
   "source": [
    "torch.argmax(predict, axis=1)"
   ]
  },
  {
   "cell_type": "code",
   "execution_count": 722,
   "metadata": {},
   "outputs": [
    {
     "data": {
      "text/plain": [
       "tensor(1.)"
      ]
     },
     "execution_count": 722,
     "metadata": {},
     "output_type": "execute_result"
    }
   ],
   "source": [
    "(y ==  torch.argmax(predict, axis=1)).float().mean()"
   ]
  },
  {
   "cell_type": "markdown",
   "metadata": {},
   "source": [
    "# 다층 신경망"
   ]
  },
  {
   "cell_type": "code",
   "execution_count": 49,
   "metadata": {},
   "outputs": [
    {
     "name": "stdout",
     "output_type": "stream",
     "text": [
      "epoch = 1    cost=0.6932905912399292\n",
      "epoch = 1001    cost=0.6900088787078857\n",
      "epoch = 2001    cost=0.6689248085021973\n",
      "epoch = 3001    cost=0.5201542973518372\n",
      "epoch = 4001    cost=0.20489922165870667\n"
     ]
    },
    {
     "data": {
      "text/plain": [
       "tensor([[0.0425],\n",
       "        [0.9405],\n",
       "        [0.9257],\n",
       "        [0.0908]], grad_fn=<SigmoidBackward>)"
      ]
     },
     "execution_count": 49,
     "metadata": {},
     "output_type": "execute_result"
    }
   ],
   "source": [
    "X = torch.tensor([[0,0],\n",
    "              [0,1],\n",
    "              [1,0],\n",
    "              [1,1]]).float()\n",
    "\n",
    "y = torch.tensor([[0],  [1], [1],   [0]]).float()\n",
    "\n",
    "layer1 = nn.Linear(2, 10)\n",
    "layer2 = nn.Linear(10, 1)\n",
    "sigmoid = nn.Sigmoid()\n",
    "\n",
    "model = nn.Sequential(layer1, sigmoid, layer2, sigmoid)\n",
    "\n",
    "optimizer = optim.SGD(model.parameters(), lr=0.1)\n",
    "\n",
    "epochs = 5000\n",
    "for epoch in range(epochs):\n",
    "    \n",
    "    hypothesis = model(X)\n",
    "    \n",
    "    cost_fn = nn.BCELoss()                  \n",
    "    cost = cost_fn(hypothesis, y)       \n",
    "                  \n",
    "    optimizer.zero_grad()\n",
    "    cost.backward()\n",
    "    optimizer.step()\n",
    "\n",
    "    # 100번마다 로그 출력\n",
    "    if epoch % 1000 == 0:\n",
    "        print(f'epoch = {epoch+1}    cost={cost.item()}')      \n",
    "model(X)   "
   ]
  },
  {
   "cell_type": "code",
   "execution_count": 52,
   "metadata": {},
   "outputs": [
    {
     "name": "stdout",
     "output_type": "stream",
     "text": [
      "epoch = 1    cost=0.7209998369216919\n",
      "epoch = 1001    cost=0.6922403573989868\n",
      "epoch = 2001    cost=0.6891096830368042\n",
      "epoch = 3001    cost=0.6564802527427673\n",
      "epoch = 4001    cost=0.3769725263118744\n"
     ]
    },
    {
     "data": {
      "text/plain": [
       "tensor([[0.0637],\n",
       "        [0.8962],\n",
       "        [0.8909],\n",
       "        [0.1416]], grad_fn=<SigmoidBackward>)"
      ]
     },
     "execution_count": 52,
     "metadata": {},
     "output_type": "execute_result"
    }
   ],
   "source": [
    "X = torch.tensor([[0,0],\n",
    "              [0,1],\n",
    "              [1,0],\n",
    "              [1,1]]).float()\n",
    "\n",
    "y = torch.tensor([[0],  [1], [1],   [0]]).float()\n",
    "\n",
    "\n",
    "model = nn.Sequential(\n",
    "          nn.Linear(2,10),\n",
    "          nn.Sigmoid(),\n",
    "          nn.Linear(10,1),\n",
    "          nn.Sigmoid(),          \n",
    "        )\n",
    "    \n",
    "optimizer = optim.SGD(model.parameters(), lr=0.1)\n",
    "\n",
    "epochs = 5000\n",
    "for epoch in range(epochs):\n",
    "    \n",
    "    hypothesis = model(X)\n",
    "    \n",
    "    cost_fn = nn.BCELoss()                  \n",
    "    cost = cost_fn(hypothesis, y)       \n",
    "                  \n",
    "    optimizer.zero_grad()\n",
    "    cost.backward()\n",
    "    optimizer.step()\n",
    "\n",
    "    # 100번마다 로그 출력\n",
    "    if epoch % 1000 == 0:\n",
    "        print(f'epoch = {epoch+1}    cost={cost.item()}')      \n",
    "model(X)   "
   ]
  },
  {
   "cell_type": "code",
   "execution_count": 53,
   "metadata": {},
   "outputs": [
    {
     "name": "stdout",
     "output_type": "stream",
     "text": [
      "epoch = 1    cost=0.6984871625900269\n",
      "epoch = 1001    cost=0.6920937299728394\n",
      "epoch = 2001    cost=0.6890671253204346\n",
      "epoch = 3001    cost=0.6648598313331604\n",
      "epoch = 4001    cost=0.4656919240951538\n"
     ]
    },
    {
     "data": {
      "text/plain": [
       "tensor([[0.0701],\n",
       "        [0.8711],\n",
       "        [0.8635],\n",
       "        [0.1898]], grad_fn=<SigmoidBackward>)"
      ]
     },
     "execution_count": 53,
     "metadata": {},
     "output_type": "execute_result"
    }
   ],
   "source": [
    "X = torch.tensor([[0,0],\n",
    "              [0,1],\n",
    "              [1,0],\n",
    "              [1,1]]).float()\n",
    "\n",
    "y = torch.tensor([[0],  [1], [1],   [0]]).float()\n",
    "\n",
    "\n",
    "class Model(nn.Module):\n",
    "    def __init__(self):\n",
    "        super(Model, self).__init__()\n",
    "        self.layer1 = nn.Linear(2, 10)\n",
    "        self.layer2 = nn.Linear(10, 1)        \n",
    "        \n",
    "    def forward(self, x):\n",
    "        x = torch.sigmoid(self.layer1(x))\n",
    "        x = torch.sigmoid(self.layer2(x))\n",
    "        return x\n",
    "    \n",
    "model = Model()\n",
    "    \n",
    "optimizer = optim.SGD(model.parameters(), lr=0.1)\n",
    "\n",
    "epochs = 5000\n",
    "for epoch in range(epochs):\n",
    "    \n",
    "    hypothesis = model(X)\n",
    "    \n",
    "    cost_fn = nn.BCELoss()                  \n",
    "    cost = cost_fn(hypothesis, y)       \n",
    "                  \n",
    "    optimizer.zero_grad()\n",
    "    cost.backward()\n",
    "    optimizer.step()\n",
    "\n",
    "    # 100번마다 로그 출력\n",
    "    if epoch % 1000 == 0:\n",
    "        print(f'epoch = {epoch+1}    cost={cost.item()}')      \n",
    "model(X)   "
   ]
  },
  {
   "cell_type": "code",
   "execution_count": 54,
   "metadata": {},
   "outputs": [
    {
     "name": "stdout",
     "output_type": "stream",
     "text": [
      "epoch = 1    cost=0.7120321989059448\n",
      "epoch = 501    cost=0.6897697448730469\n",
      "epoch = 1001    cost=0.6831938028335571\n",
      "epoch = 1501    cost=0.6608244776725769\n",
      "epoch = 2001    cost=0.6008096933364868\n",
      "epoch = 2501    cost=0.4897088408470154\n",
      "epoch = 3001    cost=0.33784106373786926\n",
      "epoch = 3501    cost=0.1932464987039566\n",
      "epoch = 4001    cost=0.10948508232831955\n",
      "epoch = 4501    cost=0.06873337179422379\n"
     ]
    },
    {
     "data": {
      "text/plain": [
       "tensor([[0.0329],\n",
       "        [0.9509],\n",
       "        [0.9563],\n",
       "        [0.0601]], grad_fn=<SigmoidBackward>)"
      ]
     },
     "execution_count": 54,
     "metadata": {},
     "output_type": "execute_result"
    }
   ],
   "source": [
    "X = torch.tensor([[0,0],\n",
    "              [0,1],\n",
    "              [1,0],\n",
    "              [1,1]]).float()\n",
    "\n",
    "y = torch.tensor([[0],  [1], [1],   [0]]).float()\n",
    "\n",
    "class Model(nn.Module):\n",
    "    def __init__(self):\n",
    "        super(Model, self).__init__()\n",
    "        \n",
    "        self.layer = nn.Sequential(\n",
    "          nn.Linear(2,10),\n",
    "          nn.Sigmoid(),\n",
    "          nn.Linear(10,1),\n",
    "          nn.Sigmoid(),          \n",
    "        )\n",
    "        \n",
    "    def forward(self, x):        \n",
    "        return self.layer(x)     \n",
    "    \n",
    "model = Model()\n",
    "    \n",
    "optimizer = optim.SGD(model.parameters(), lr=0.1)\n",
    "\n",
    "epochs = 5000\n",
    "for epoch in range(epochs):\n",
    "    \n",
    "    hypothesis = model(X)\n",
    "    \n",
    "    cost_fn = nn.BCELoss()                  \n",
    "    cost = cost_fn(hypothesis, y)       \n",
    "                  \n",
    "    optimizer.zero_grad()\n",
    "    cost.backward()\n",
    "    optimizer.step()\n",
    "\n",
    "    # 100번마다 로그 출력\n",
    "    if epoch % 500 == 0:\n",
    "        print(f'epoch = {epoch+1}    cost={cost.item()}')      \n",
    "model(X)   "
   ]
  },
  {
   "cell_type": "markdown",
   "metadata": {},
   "source": [
    "# Adam 최적화"
   ]
  },
  {
   "cell_type": "code",
   "execution_count": 143,
   "metadata": {},
   "outputs": [
    {
     "name": "stdout",
     "output_type": "stream",
     "text": [
      "torch.Size([200, 2]) torch.Size([200, 1])\n"
     ]
    },
    {
     "data": {
      "image/png": "[encoded data removed]",
      "text/plain": [
       "<Figure size 432x288 with 1 Axes>"
      ]
     },
     "metadata": {
      "needs_background": "light"
     },
     "output_type": "display_data"
    }
   ],
   "source": [
    "X, y = make_moons(n_samples=200, noise=0.1)\n",
    "plt.scatter(X[:, 0], X[:, 1], marker='o', c=y)\n",
    "\n",
    "X = torch.tensor(X).float()\n",
    "y = torch.tensor(y).float().reshape(-1,1)\n",
    "\n",
    "print(X.shape, y.shape)"
   ]
  },
  {
   "cell_type": "code",
   "execution_count": 162,
   "metadata": {},
   "outputs": [
    {
     "name": "stdout",
     "output_type": "stream",
     "text": [
      "epoch = 1    cost=0.764817476272583\n",
      "epoch = 501    cost=0.49911174178123474\n",
      "epoch = 1001    cost=0.368547260761261\n",
      "epoch = 1501    cost=0.31170034408569336\n",
      "epoch = 2001    cost=0.2913980484008789\n",
      "epoch = 2501    cost=0.28700554370880127\n",
      "epoch = 3001    cost=0.2861558794975281\n",
      "epoch = 3501    cost=0.28570571541786194\n",
      "epoch = 4001    cost=0.285073459148407\n",
      "epoch = 4501    cost=0.28419068455696106\n",
      "epoch = 5001    cost=0.28274425864219666\n",
      "epoch = 5501    cost=0.27531546354293823\n",
      "epoch = 6001    cost=0.2590964436531067\n",
      "epoch = 6501    cost=0.2101517915725708\n",
      "epoch = 7001    cost=0.13338960707187653\n",
      "epoch = 7501    cost=0.07775452733039856\n",
      "epoch = 8001    cost=0.04851342365145683\n",
      "epoch = 8501    cost=0.032121412456035614\n"
     ]
    }
   ],
   "source": [
    "class Model(nn.Module):\n",
    "    def __init__(self):\n",
    "        super(Model, self).__init__()\n",
    "        \n",
    "        self.layer = nn.Sequential(\n",
    "          nn.Linear(2,10),\n",
    "          nn.Sigmoid(),\n",
    "          nn.Linear(10,1),\n",
    "          nn.Sigmoid(),          \n",
    "        )\n",
    "        \n",
    "    def forward(self, x):        \n",
    "        return self.layer(x)     \n",
    "    \n",
    "model = Model()\n",
    "    \n",
    "optimizer = optim.Adam(model.parameters(), lr=0.001)\n",
    "#optimizer = optim.SGD(model.parameters(), lr=0.1)\n",
    "\n",
    "epochs = 9000\n",
    "for epoch in range(epochs):\n",
    "    \n",
    "    hypothesis = model(X)\n",
    "    \n",
    "    cost_fn = nn.BCELoss()                  \n",
    "    cost = cost_fn(hypothesis, y)       \n",
    "                  \n",
    "    optimizer.zero_grad()\n",
    "    cost.backward()\n",
    "    optimizer.step()\n",
    "\n",
    "    # 100번마다 로그 출력\n",
    "    if epoch % 500 == 0:\n",
    "        print(f'epoch = {epoch+1}    cost={cost.item()}')      "
   ]
  },
  {
   "cell_type": "code",
   "execution_count": 163,
   "metadata": {},
   "outputs": [
    {
     "data": {
      "text/plain": [
       "tensor(1.)"
      ]
     },
     "execution_count": 163,
     "metadata": {},
     "output_type": "execute_result"
    }
   ],
   "source": [
    "((model(X) >0.5).float() == y).float().mean()"
   ]
  },
  {
   "cell_type": "code",
   "execution_count": 159,
   "metadata": {},
   "outputs": [
    {
     "name": "stdout",
     "output_type": "stream",
     "text": [
      "[0, 1, 1, 0, 1, 1, 0, 0, 1, 0, 1, 1, 0, 1, 0, 1, 1, 0, 1, 0, 1, 0, 1, 0, 1, 0, 1, 1, 0, 1, 1, 1, 1, 1, 1, 1, 1, 1, 1, 1, 0, 1, 0, 0, 0, 1, 0, 0, 1, 1, 1, 0, 0, 0, 0, 1, 0, 1, 0, 0, 0, 0, 0, 0, 1, 0, 0, 1, 1, 1, 0, 0, 1, 0, 0, 0, 1, 0, 1, 1, 0, 0, 1, 1, 1, 0, 1, 0, 0, 1, 0, 1, 1, 1, 0, 0, 0, 1, 0, 1, 1, 1, 0, 1, 1, 1, 0, 1, 1, 0, 0, 1, 0, 0, 1, 1, 1, 0, 1, 0, 1, 1, 1, 1, 1, 0, 1, 0, 0, 0, 0, 1, 1, 0, 1, 0, 1, 1, 0, 1, 1, 0, 0, 0, 1, 1, 0, 0, 1, 1, 1, 1, 0, 0, 0, 0, 0, 0, 0, 0, 1, 1, 0, 1, 1, 0, 1, 1, 1, 0, 0, 1, 0, 0, 1, 1, 1, 0, 0, 0, 0, 0, 0, 0, 0, 0, 1, 1, 0, 0, 0, 0, 0, 1, 1, 1, 0, 0, 1, 0]\n"
     ]
    }
   ],
   "source": [
    "col = ['r', 'g']\n",
    "c = [int(i[0])  for i in y.numpy()]\n",
    "print(c)"
   ]
  },
  {
   "cell_type": "code",
   "execution_count": 165,
   "metadata": {},
   "outputs": [
    {
     "name": "stdout",
     "output_type": "stream",
     "text": [
      "(900, 2)\n"
     ]
    },
    {
     "data": {
      "text/plain": [
       "<matplotlib.collections.PathCollection at 0x2228ca388e0>"
      ]
     },
     "execution_count": 165,
     "metadata": {},
     "output_type": "execute_result"
    },
    {
     "data": {
      "image/png": "[encoded data removed]",
      "text/plain": [
       "<Figure size 432x288 with 1 Axes>"
      ]
     },
     "metadata": {
      "needs_background": "light"
     },
     "output_type": "display_data"
    }
   ],
   "source": [
    "col = ['r', 'g']\n",
    "c = [col[ int(i)] for i in y.numpy().flatten()]\n",
    "plt.scatter(X[:,0], X[:,1], c= c)\n",
    "\n",
    "xx, yy = np.meshgrid(np.linspace(-1.5, 2.5, 30),\n",
    "                     np.linspace(-0.75, 1.25, 30))\n",
    "grid = np.c_[xx.ravel(), yy.ravel()]\n",
    "print(grid.shape)\n",
    "\n",
    "p = (model(  torch.tensor(grid).float() ) > 0.5).long().numpy().flatten()\n",
    "col = ['r', 'g']\n",
    "c = [col[i] for i in p]\n",
    "\n",
    "plt.scatter(grid[:, 0], grid[:, 1], c= c, alpha=0.1)"
   ]
  },
  {
   "cell_type": "markdown",
   "metadata": {},
   "source": [
    "# 특징 정규화"
   ]
  },
  {
   "cell_type": "code",
   "execution_count": 749,
   "metadata": {},
   "outputs": [
    {
     "data": {
      "text/plain": [
       "tensor([[0.8333, 0.8333, 0.6667],\n",
       "        [1.0000, 0.9667, 0.9333],\n",
       "        [0.7500, 1.0000, 1.0000]])"
      ]
     },
     "execution_count": 749,
     "metadata": {},
     "output_type": "execute_result"
    }
   ],
   "source": [
    "X = torch.tensor([[10, 25, 100],\n",
    "              [12, 29, 140],\n",
    "              [9, 30, 150]]).float()\n",
    "\n",
    "X / torch.max(X, axis=0)[0]"
   ]
  },
  {
   "cell_type": "code",
   "execution_count": 35,
   "metadata": {},
   "outputs": [
    {
     "name": "stdout",
     "output_type": "stream",
     "text": [
      "(768, 9)\n"
     ]
    }
   ],
   "source": [
    "data = np.loadtxt(\"diabetes.csv\", delimiter=\",\", dtype=np.float32)\n",
    "print(data.shape)\n",
    "\n",
    "X = data[:, 0:8] \n",
    "\n",
    "y = data[:, 8]\n",
    "\n",
    "X = torch.tensor(X).float()\n",
    "X = X / torch.max(X, axis=0)[0]\n",
    "\n",
    "y = torch.tensor(y).reshape(-1,1)"
   ]
  },
  {
   "cell_type": "code",
   "execution_count": 36,
   "metadata": {},
   "outputs": [
    {
     "name": "stdout",
     "output_type": "stream",
     "text": [
      "epoch = 1    cost=0.705902636051178\n"
     ]
    },
    {
     "data": {
      "text/plain": [
       "tensor(0.7604)"
      ]
     },
     "execution_count": 36,
     "metadata": {},
     "output_type": "execute_result"
    }
   ],
   "source": [
    "layer = torch.nn.Linear(8, 1)\n",
    "\n",
    "optimizer = optim.SGD(layer.parameters() , lr=0.1)\n",
    "\n",
    "epochs = 2000\n",
    "for epoch in range(epochs):    \n",
    "    hypothesis = torch.sigmoid(layer(X))    \n",
    "    cost_fn = nn.BCELoss()                  \n",
    "    cost = cost_fn(hypothesis, y)       \n",
    "                  \n",
    "    optimizer.zero_grad()\n",
    "    cost.backward()\n",
    "    optimizer.step()\n",
    "\n",
    "    # 100번마다 로그 출력\n",
    "    if epoch % 2000 == 0:\n",
    "        print(f'epoch = {epoch+1}    cost={cost.item()}')\n",
    "        \n",
    "predict = torch.sigmoid(layer(X))  > 0.5\n",
    "(predict == y).float().mean()        "
   ]
  },
  {
   "cell_type": "markdown",
   "metadata": {},
   "source": [
    "#  CNN"
   ]
  },
  {
   "cell_type": "code",
   "execution_count": 105,
   "metadata": {
    "scrolled": true
   },
   "outputs": [
    {
     "name": "stdout",
     "output_type": "stream",
     "text": [
      "Downloading http://fashion-mnist.s3-website.eu-central-1.amazonaws.com/train-images-idx3-ubyte.gz\n",
      "Downloading http://fashion-mnist.s3-website.eu-central-1.amazonaws.com/train-images-idx3-ubyte.gz to F_MNIST_data/FashionMNIST\\raw\\train-images-idx3-ubyte.gz\n"
     ]
    },
    {
     "data": {
      "application/vnd.jupyter.widget-view+json": {
       "model_id": "d74ba1dc711c41e7b44a4a7c94f5f0c4",
       "version_major": 2,
       "version_minor": 0
      },
      "text/plain": [
       "  0%|          | 0/26421880 [00:00<?, ?it/s]"
      ]
     },
     "metadata": {},
     "output_type": "display_data"
    },
    {
     "name": "stdout",
     "output_type": "stream",
     "text": [
      "Extracting F_MNIST_data/FashionMNIST\\raw\\train-images-idx3-ubyte.gz to F_MNIST_data/FashionMNIST\\raw\n",
      "\n",
      "Downloading http://fashion-mnist.s3-website.eu-central-1.amazonaws.com/train-labels-idx1-ubyte.gz\n",
      "Downloading http://fashion-mnist.s3-website.eu-central-1.amazonaws.com/train-labels-idx1-ubyte.gz to F_MNIST_data/FashionMNIST\\raw\\train-labels-idx1-ubyte.gz\n"
     ]
    },
    {
     "data": {
      "application/vnd.jupyter.widget-view+json": {
       "model_id": "54851fab277c47109963d525a4a587a7",
       "version_major": 2,
       "version_minor": 0
      },
      "text/plain": [
       "  0%|          | 0/29515 [00:00<?, ?it/s]"
      ]
     },
     "metadata": {},
     "output_type": "display_data"
    },
    {
     "name": "stdout",
     "output_type": "stream",
     "text": [
      "Extracting F_MNIST_data/FashionMNIST\\raw\\train-labels-idx1-ubyte.gz to F_MNIST_data/FashionMNIST\\raw\n",
      "\n",
      "Downloading http://fashion-mnist.s3-website.eu-central-1.amazonaws.com/t10k-images-idx3-ubyte.gz\n",
      "Downloading http://fashion-mnist.s3-website.eu-central-1.amazonaws.com/t10k-images-idx3-ubyte.gz to F_MNIST_data/FashionMNIST\\raw\\t10k-images-idx3-ubyte.gz\n"
     ]
    },
    {
     "data": {
      "application/vnd.jupyter.widget-view+json": {
       "model_id": "4dd6ec419afa4c8bb97bd641b1715b4f",
       "version_major": 2,
       "version_minor": 0
      },
      "text/plain": [
       "  0%|          | 0/4422102 [00:00<?, ?it/s]"
      ]
     },
     "metadata": {},
     "output_type": "display_data"
    },
    {
     "name": "stdout",
     "output_type": "stream",
     "text": [
      "Extracting F_MNIST_data/FashionMNIST\\raw\\t10k-images-idx3-ubyte.gz to F_MNIST_data/FashionMNIST\\raw\n",
      "\n",
      "Downloading http://fashion-mnist.s3-website.eu-central-1.amazonaws.com/t10k-labels-idx1-ubyte.gz\n",
      "Downloading http://fashion-mnist.s3-website.eu-central-1.amazonaws.com/t10k-labels-idx1-ubyte.gz to F_MNIST_data/FashionMNIST\\raw\\t10k-labels-idx1-ubyte.gz\n"
     ]
    },
    {
     "data": {
      "application/vnd.jupyter.widget-view+json": {
       "model_id": "00a4129bd91943ee8d09803fe06cd805",
       "version_major": 2,
       "version_minor": 0
      },
      "text/plain": [
       "  0%|          | 0/5148 [00:00<?, ?it/s]"
      ]
     },
     "metadata": {},
     "output_type": "display_data"
    },
    {
     "name": "stdout",
     "output_type": "stream",
     "text": [
      "Extracting F_MNIST_data/FashionMNIST\\raw\\t10k-labels-idx1-ubyte.gz to F_MNIST_data/FashionMNIST\\raw\n",
      "\n"
     ]
    },
    {
     "name": "stderr",
     "output_type": "stream",
     "text": [
      "C:\\Users\\ckt\\lib\\site-packages\\torchvision\\datasets\\mnist.py:498: UserWarning: The given NumPy array is not writeable, and PyTorch does not support non-writeable tensors. This means you can write to the underlying (supposedly non-writeable) NumPy array using the tensor. You may want to copy the array to protect its data or make it writeable before converting it to a tensor. This type of warning will be suppressed for the rest of this program. (Triggered internally at  ..\\torch\\csrc\\utils\\tensor_numpy.cpp:180.)\n",
      "  return torch.from_numpy(parsed.astype(m[2], copy=False)).view(*s)\n"
     ]
    }
   ],
   "source": [
    "transform = transforms.Compose([transforms.ToTensor(),\n",
    "                                transforms.Normalize((0.5, ), (1.0, ))\n",
    "                               ])\n",
    "\n",
    "trainset = datasets.FashionMNIST('F_MNIST_data/', download=True, train=True, transform=transform)\n",
    "trainloader = torch.utils.data.DataLoader(trainset, batch_size=64, shuffle=True)\n",
    "\n",
    "testset = datasets.FashionMNIST('F_MNIST_data/', download=True, train=False, transform=transform)\n",
    "testloader = torch.utils.data.DataLoader(testset, batch_size=64, shuffle=True)"
   ]
  },
  {
   "cell_type": "code",
   "execution_count": 106,
   "metadata": {},
   "outputs": [],
   "source": [
    "image, label = next(iter(trainloader))"
   ]
  },
  {
   "cell_type": "code",
   "execution_count": 107,
   "metadata": {},
   "outputs": [
    {
     "name": "stdout",
     "output_type": "stream",
     "text": [
      "torch.Size([64, 1, 28, 28])\n",
      "tensor([1, 9, 4, 4, 1, 3, 8, 7, 7, 4, 4, 9, 0, 3, 8, 3, 3, 9, 1, 9, 1, 7, 2, 6,\n",
      "        0, 5, 5, 8, 4, 6, 9, 1, 5, 1, 2, 0, 0, 5, 3, 7, 9, 9, 5, 9, 6, 9, 1, 3,\n",
      "        4, 6, 2, 7, 7, 7, 5, 5, 7, 6, 8, 9, 9, 6, 2, 3])\n"
     ]
    }
   ],
   "source": [
    "print(image.shape)\n",
    "print(label)"
   ]
  },
  {
   "cell_type": "code",
   "execution_count": null,
   "metadata": {},
   "outputs": [],
   "source": [
    "#image[0,0,::] # 0 ~1사이로 정규화되어 있음"
   ]
  },
  {
   "cell_type": "code",
   "execution_count": 108,
   "metadata": {},
   "outputs": [
    {
     "name": "stdout",
     "output_type": "stream",
     "text": [
      "Coat\n"
     ]
    },
    {
     "data": {
      "text/plain": [
       "<matplotlib.image.AxesImage at 0x22294753af0>"
      ]
     },
     "execution_count": 108,
     "metadata": {},
     "output_type": "execute_result"
    },
    {
     "data": {
      "image/png": "[encoded data removed]",
      "text/plain": [
       "<Figure size 432x288 with 1 Axes>"
      ]
     },
     "metadata": {
      "needs_background": "light"
     },
     "output_type": "display_data"
    }
   ],
   "source": [
    "class_names = ['T-shirt/top', 'Trouser', 'Pullover', 'Dress', 'Coat',\n",
    "               'Sandal', 'Shirt', 'Sneaker', 'Bag', 'Ankle boot']\n",
    "print(class_names[label[3]])\n",
    "plt.title(class_names[label[3]])\n",
    "plt.imshow(image[3,0,:,:], cmap='gray')"
   ]
  },
  {
   "cell_type": "code",
   "execution_count": 122,
   "metadata": {},
   "outputs": [],
   "source": [
    "class Model(nn.Module):\n",
    "    def __init__(self, num_classes=10):\n",
    "        super(Model, self).__init__()\n",
    "        self.layer1 = nn.Sequential(\n",
    "    nn.Conv2d(1,32,kernel_size=3,padding=1),\n",
    "    nn.ReLU(),\n",
    "    nn.Dropout(p=0.5),            \n",
    "    nn.MaxPool2d(2,2),\n",
    "\n",
    "    nn.Conv2d(32,128,kernel_size=3,stride=1,padding=1),\n",
    "    nn.ReLU(),\n",
    "    nn.Dropout(p=0.5),            \n",
    "    nn.MaxPool2d(2,2),\n",
    "\n",
    "    nn.Flatten(),\n",
    "    nn.Linear(128*7*7, 256),\n",
    "    nn.ReLU(),\n",
    "    nn.Dropout(p=0.5),                        \n",
    "    nn.Linear(256,10))\n",
    "        \n",
    "    def forward(self, x):\n",
    "        out = self.layer1(x)\n",
    "        return out"
   ]
  },
  {
   "cell_type": "code",
   "execution_count": 138,
   "metadata": {},
   "outputs": [
    {
     "ename": "AssertionError",
     "evalue": "Torch not compiled with CUDA enabled",
     "output_type": "error",
     "traceback": [
      "\u001b[1;31m---------------------------------------------------------------------------\u001b[0m",
      "\u001b[1;31mAssertionError\u001b[0m                            Traceback (most recent call last)",
      "\u001b[1;32m<ipython-input-138-c1697ef10332>\u001b[0m in \u001b[0;36m<module>\u001b[1;34m\u001b[0m\n\u001b[0;32m      9\u001b[0m     \u001b[0mrunning_loss\u001b[0m \u001b[1;33m=\u001b[0m \u001b[1;36m0\u001b[0m\u001b[1;33m\u001b[0m\u001b[1;33m\u001b[0m\u001b[0m\n\u001b[0;32m     10\u001b[0m     \u001b[1;32mfor\u001b[0m \u001b[0midx\u001b[0m\u001b[1;33m,\u001b[0m \u001b[1;33m(\u001b[0m\u001b[0mimages\u001b[0m\u001b[1;33m,\u001b[0m \u001b[0mlabels\u001b[0m\u001b[1;33m)\u001b[0m \u001b[1;32min\u001b[0m \u001b[0menumerate\u001b[0m\u001b[1;33m(\u001b[0m\u001b[0mtrainloader\u001b[0m\u001b[1;33m)\u001b[0m\u001b[1;33m:\u001b[0m\u001b[1;33m\u001b[0m\u001b[1;33m\u001b[0m\u001b[0m\n\u001b[1;32m---> 11\u001b[1;33m         \u001b[0mimages\u001b[0m\u001b[1;33m,\u001b[0m \u001b[0mlables\u001b[0m \u001b[1;33m=\u001b[0m \u001b[0mimages\u001b[0m\u001b[1;33m.\u001b[0m\u001b[0mcuda\u001b[0m\u001b[1;33m(\u001b[0m\u001b[1;33m)\u001b[0m\u001b[1;33m,\u001b[0m \u001b[0mlables\u001b[0m\u001b[1;33m.\u001b[0m\u001b[0mcuda\u001b[0m\u001b[1;33m(\u001b[0m\u001b[1;33m)\u001b[0m\u001b[1;33m\u001b[0m\u001b[1;33m\u001b[0m\u001b[0m\n\u001b[0m\u001b[0;32m     12\u001b[0m \u001b[1;33m\u001b[0m\u001b[0m\n\u001b[0;32m     13\u001b[0m         \u001b[0my_pred\u001b[0m \u001b[1;33m=\u001b[0m \u001b[0mmodel\u001b[0m\u001b[1;33m(\u001b[0m\u001b[0mimages\u001b[0m\u001b[1;33m)\u001b[0m\u001b[1;33m\u001b[0m\u001b[1;33m\u001b[0m\u001b[0m\n",
      "\u001b[1;32mC:\\Users\\ckt\\lib\\site-packages\\torch\\cuda\\__init__.py\u001b[0m in \u001b[0;36m_lazy_init\u001b[1;34m()\u001b[0m\n\u001b[0;32m    164\u001b[0m                 \"multiprocessing, you must use the 'spawn' start method\")\n\u001b[0;32m    165\u001b[0m         \u001b[1;32mif\u001b[0m \u001b[1;32mnot\u001b[0m \u001b[0mhasattr\u001b[0m\u001b[1;33m(\u001b[0m\u001b[0mtorch\u001b[0m\u001b[1;33m.\u001b[0m\u001b[0m_C\u001b[0m\u001b[1;33m,\u001b[0m \u001b[1;34m'_cuda_getDeviceCount'\u001b[0m\u001b[1;33m)\u001b[0m\u001b[1;33m:\u001b[0m\u001b[1;33m\u001b[0m\u001b[1;33m\u001b[0m\u001b[0m\n\u001b[1;32m--> 166\u001b[1;33m             \u001b[1;32mraise\u001b[0m \u001b[0mAssertionError\u001b[0m\u001b[1;33m(\u001b[0m\u001b[1;34m\"Torch not compiled with CUDA enabled\"\u001b[0m\u001b[1;33m)\u001b[0m\u001b[1;33m\u001b[0m\u001b[1;33m\u001b[0m\u001b[0m\n\u001b[0m\u001b[0;32m    167\u001b[0m         \u001b[1;32mif\u001b[0m \u001b[0m_cudart\u001b[0m \u001b[1;32mis\u001b[0m \u001b[1;32mNone\u001b[0m\u001b[1;33m:\u001b[0m\u001b[1;33m\u001b[0m\u001b[1;33m\u001b[0m\u001b[0m\n\u001b[0;32m    168\u001b[0m             raise AssertionError(\n",
      "\u001b[1;31mAssertionError\u001b[0m: Torch not compiled with CUDA enabled"
     ]
    }
   ],
   "source": [
    "model     = Model()\n",
    "\n",
    "optimizer = torch.optim.Adam(model.parameters(), lr=0.001)\n",
    "loss_fn   = nn.CrossEntropyLoss()    \n",
    "\n",
    "epochs = 1\n",
    "\n",
    "for e in range(epochs) :\n",
    "    running_loss = 0\n",
    "    for idx, (images, labels) in enumerate(trainloader):\n",
    "       \n",
    "        \n",
    "        y_pred = model(images)\n",
    "        loss = loss_fn(y_pred, labels)  \n",
    "    \n",
    "        optimizer.zero_grad()\n",
    "        loss.backward()\n",
    "        optimizer.step()\n",
    "        running_loss += loss.item()    \n",
    "        print(f\"\\repoch {e+1},   {idx}/{len(trainloader)}   {loss.item()}\", end='' )\n",
    "    print(f\"\\rTraining loss: {running_loss/len(trainloader)}\") "
   ]
  },
  {
   "cell_type": "code",
   "execution_count": 128,
   "metadata": {},
   "outputs": [
    {
     "data": {
      "text/plain": [
       "tensor(0.8449)"
      ]
     },
     "execution_count": 128,
     "metadata": {},
     "output_type": "execute_result"
    }
   ],
   "source": [
    "accuracy = 0\n",
    "with torch.no_grad():\n",
    "    for images, labels in testloader: #trainloader:\n",
    "        y_pred = model(images)\n",
    "        correct = (torch.argmax(y_pred, dim=1) == labels).float()\n",
    "        accuracy += torch.mean(correct)        \n",
    "accuracy/len(testloader) "
   ]
  },
  {
   "cell_type": "code",
   "execution_count": 121,
   "metadata": {},
   "outputs": [
    {
     "name": "stdout",
     "output_type": "stream",
     "text": [
      "----------------------------------------------------------------\n",
      "        Layer (type)               Output Shape         Param #\n",
      "================================================================\n",
      "            Conv2d-1           [-1, 32, 28, 28]             320\n",
      "              ReLU-2           [-1, 32, 28, 28]               0\n",
      "         MaxPool2d-3           [-1, 32, 14, 14]               0\n",
      "            Conv2d-4          [-1, 128, 14, 14]          36,992\n",
      "              ReLU-5          [-1, 128, 14, 14]               0\n",
      "         MaxPool2d-6            [-1, 128, 7, 7]               0\n",
      "           Flatten-7                 [-1, 6272]               0\n",
      "            Linear-8                  [-1, 256]       1,605,888\n",
      "              ReLU-9                  [-1, 256]               0\n",
      "           Linear-10                   [-1, 10]           2,570\n",
      "================================================================\n",
      "Total params: 1,645,770\n",
      "Trainable params: 1,645,770\n",
      "Non-trainable params: 0\n",
      "----------------------------------------------------------------\n",
      "Input size (MB): 0.00\n",
      "Forward/backward pass size (MB): 0.91\n",
      "Params size (MB): 6.28\n",
      "Estimated Total Size (MB): 7.19\n",
      "----------------------------------------------------------------\n"
     ]
    }
   ],
   "source": [
    "from torchsummary import summary\n",
    "\n",
    "summary(model, (1, 28, 28)) "
   ]
  },
  {
   "cell_type": "code",
   "execution_count": 137,
   "metadata": {},
   "outputs": [
    {
     "name": "stdout",
     "output_type": "stream",
     "text": [
      "epoch 1,   272/938   0.7148639021557329"
     ]
    },
    {
     "ename": "KeyboardInterrupt",
     "evalue": "",
     "output_type": "error",
     "traceback": [
      "\u001b[1;31m---------------------------------------------------------------------------\u001b[0m",
      "\u001b[1;31mKeyboardInterrupt\u001b[0m                         Traceback (most recent call last)",
      "\u001b[1;32m<ipython-input-137-4a9b815ba6ee>\u001b[0m in \u001b[0;36m<module>\u001b[1;34m\u001b[0m\n\u001b[0;32m     14\u001b[0m \u001b[1;33m\u001b[0m\u001b[0m\n\u001b[0;32m     15\u001b[0m         \u001b[0moptimizer\u001b[0m\u001b[1;33m.\u001b[0m\u001b[0mzero_grad\u001b[0m\u001b[1;33m(\u001b[0m\u001b[1;33m)\u001b[0m\u001b[1;33m\u001b[0m\u001b[1;33m\u001b[0m\u001b[0m\n\u001b[1;32m---> 16\u001b[1;33m         \u001b[0mloss\u001b[0m\u001b[1;33m.\u001b[0m\u001b[0mbackward\u001b[0m\u001b[1;33m(\u001b[0m\u001b[1;33m)\u001b[0m\u001b[1;33m\u001b[0m\u001b[1;33m\u001b[0m\u001b[0m\n\u001b[0m\u001b[0;32m     17\u001b[0m         \u001b[0moptimizer\u001b[0m\u001b[1;33m.\u001b[0m\u001b[0mstep\u001b[0m\u001b[1;33m(\u001b[0m\u001b[1;33m)\u001b[0m\u001b[1;33m\u001b[0m\u001b[1;33m\u001b[0m\u001b[0m\n\u001b[0;32m     18\u001b[0m         \u001b[0mrunning_loss\u001b[0m \u001b[1;33m+=\u001b[0m \u001b[0mloss\u001b[0m\u001b[1;33m.\u001b[0m\u001b[0mitem\u001b[0m\u001b[1;33m(\u001b[0m\u001b[1;33m)\u001b[0m\u001b[1;33m\u001b[0m\u001b[1;33m\u001b[0m\u001b[0m\n",
      "\u001b[1;32mC:\\Users\\ckt\\lib\\site-packages\\torch\\_tensor.py\u001b[0m in \u001b[0;36mbackward\u001b[1;34m(self, gradient, retain_graph, create_graph, inputs)\u001b[0m\n\u001b[0;32m    253\u001b[0m                 \u001b[0mcreate_graph\u001b[0m\u001b[1;33m=\u001b[0m\u001b[0mcreate_graph\u001b[0m\u001b[1;33m,\u001b[0m\u001b[1;33m\u001b[0m\u001b[1;33m\u001b[0m\u001b[0m\n\u001b[0;32m    254\u001b[0m                 inputs=inputs)\n\u001b[1;32m--> 255\u001b[1;33m         \u001b[0mtorch\u001b[0m\u001b[1;33m.\u001b[0m\u001b[0mautograd\u001b[0m\u001b[1;33m.\u001b[0m\u001b[0mbackward\u001b[0m\u001b[1;33m(\u001b[0m\u001b[0mself\u001b[0m\u001b[1;33m,\u001b[0m \u001b[0mgradient\u001b[0m\u001b[1;33m,\u001b[0m \u001b[0mretain_graph\u001b[0m\u001b[1;33m,\u001b[0m \u001b[0mcreate_graph\u001b[0m\u001b[1;33m,\u001b[0m \u001b[0minputs\u001b[0m\u001b[1;33m=\u001b[0m\u001b[0minputs\u001b[0m\u001b[1;33m)\u001b[0m\u001b[1;33m\u001b[0m\u001b[1;33m\u001b[0m\u001b[0m\n\u001b[0m\u001b[0;32m    256\u001b[0m \u001b[1;33m\u001b[0m\u001b[0m\n\u001b[0;32m    257\u001b[0m     \u001b[1;32mdef\u001b[0m \u001b[0mregister_hook\u001b[0m\u001b[1;33m(\u001b[0m\u001b[0mself\u001b[0m\u001b[1;33m,\u001b[0m \u001b[0mhook\u001b[0m\u001b[1;33m)\u001b[0m\u001b[1;33m:\u001b[0m\u001b[1;33m\u001b[0m\u001b[1;33m\u001b[0m\u001b[0m\n",
      "\u001b[1;32mC:\\Users\\ckt\\lib\\site-packages\\torch\\autograd\\__init__.py\u001b[0m in \u001b[0;36mbackward\u001b[1;34m(tensors, grad_tensors, retain_graph, create_graph, grad_variables, inputs)\u001b[0m\n\u001b[0;32m    145\u001b[0m         \u001b[0mretain_graph\u001b[0m \u001b[1;33m=\u001b[0m \u001b[0mcreate_graph\u001b[0m\u001b[1;33m\u001b[0m\u001b[1;33m\u001b[0m\u001b[0m\n\u001b[0;32m    146\u001b[0m \u001b[1;33m\u001b[0m\u001b[0m\n\u001b[1;32m--> 147\u001b[1;33m     Variable._execution_engine.run_backward(\n\u001b[0m\u001b[0;32m    148\u001b[0m         \u001b[0mtensors\u001b[0m\u001b[1;33m,\u001b[0m \u001b[0mgrad_tensors_\u001b[0m\u001b[1;33m,\u001b[0m \u001b[0mretain_graph\u001b[0m\u001b[1;33m,\u001b[0m \u001b[0mcreate_graph\u001b[0m\u001b[1;33m,\u001b[0m \u001b[0minputs\u001b[0m\u001b[1;33m,\u001b[0m\u001b[1;33m\u001b[0m\u001b[1;33m\u001b[0m\u001b[0m\n\u001b[0;32m    149\u001b[0m         allow_unreachable=True, accumulate_grad=True)  # allow_unreachable flag\n",
      "\u001b[1;31mKeyboardInterrupt\u001b[0m: "
     ]
    }
   ],
   "source": [
    "model     = Model()\n",
    "\n",
    "optimizer = torch.optim.Adam(model.parameters(), lr=0.001)\n",
    "loss_fn   = nn.CrossEntropyLoss()    \n",
    "\n",
    "epochs = 2\n",
    "\n",
    "for e in range(epochs) :\n",
    "    running_loss = 0\n",
    "    model.train() \n",
    "    for idx, (images, labels) in enumerate(trainloader):\n",
    "        y_pred = model(images)\n",
    "        loss = loss_fn(y_pred, labels)  \n",
    "    \n",
    "        optimizer.zero_grad()\n",
    "        loss.backward()\n",
    "        optimizer.step()\n",
    "        running_loss += loss.item()    \n",
    "        print(f\"\\repoch {e+1},   {idx}/{len(trainloader)}   {running_loss/(idx+1)}\", end='' )\n",
    "    accuracy = 0\n",
    "    model.eval()\n",
    "    with torch.no_grad():\n",
    "            for images, labels in testloader: #trainloader:\n",
    "                y_pred = model(images)\n",
    "                correct = (torch.argmax(y_pred, dim=1) == labels).float()\n",
    "                accuracy += torch.mean(correct)                \n",
    "    print(f\"   accuracy={accuracy/len(testloader)}\")"
   ]
  }
 ],
 "metadata": {
  "colab": {
   "collapsed_sections": [],
   "name": "아주대_day2.ipynb",
   "provenance": []
  },
  "kernelspec": {
   "display_name": "Python 3",
   "language": "python",
   "name": "python3"
  },
  "language_info": {
   "codemirror_mode": {
    "name": "ipython",
    "version": 3
   },
   "file_extension": ".py",
   "mimetype": "text/x-python",
   "name": "python",
   "nbconvert_exporter": "python",
   "pygments_lexer": "ipython3",
   "version": "3.8.8"
  }
 },
 "nbformat": 4,
 "nbformat_minor": 1
}
