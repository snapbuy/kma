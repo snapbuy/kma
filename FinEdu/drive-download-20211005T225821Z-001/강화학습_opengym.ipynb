{
  "nbformat": 4,
  "nbformat_minor": 0,
  "metadata": {
    "colab": {
      "name": "강화학습_opengym.ipynb",
      "provenance": [],
      "collapsed_sections": []
    },
    "kernelspec": {
      "name": "python3",
      "display_name": "Python 3"
    },
    "language_info": {
      "name": "python"
    }
  },
  "cells": [
    {
      "cell_type": "code",
      "metadata": {
        "id": "0Bz82LlNM0nh"
      },
      "source": [
        "import numpy as np\n",
        "import matplotlib.pyplot as plt\n",
        "import gym\n",
        "import random"
      ],
      "execution_count": 1,
      "outputs": []
    },
    {
      "cell_type": "code",
      "metadata": {
        "colab": {
          "base_uri": "https://localhost:8080/"
        },
        "id": "87ZkeiiwOJRC",
        "outputId": "9313db61-5c48-4dcd-9366-59faa6624e7e"
      },
      "source": [
        "env = gym.make(\"Taxi-v3\")\n",
        "\n",
        "\n",
        "\n",
        "# 500 = 25개 taxi 위치,목적지(4개), 승객위치 5개(4개+택시안), \n",
        "# action마다 -1을 reward, 승객을 목적지에 내려주면 +20, \n",
        "# 승객을 잘못 태우거나 잘못 내리면 -10\n",
        "q_table = np.zeros([env.observation_space.n, env.action_space.n])\n",
        "\n",
        "training_episodes = 9000 # Amount of times to run environment while training.\n",
        "display_episodes = 10 # Amount of times to run environment after training.\n",
        "\n",
        "# Hyperparameters\n",
        "alpha = 0.1 # Learning Rate\n",
        "gamma = 0.6 # Discount Rate\n",
        "epsilon = 0.1 # Chance of selecting a random action instead of maximising reward.\n",
        "\n",
        "# For plotting metrics\n",
        "all_epochs = []\n",
        "all_penalties = []\n",
        "\n",
        "for i in range(training_episodes):\n",
        "    state = env.reset()\n",
        "    done = False\n",
        "    penalties, reward, = 0, 0\n",
        "    \n",
        "    while not done:\n",
        "        if random.uniform(0, 1) < epsilon:\n",
        "            action = env.action_space.sample() # Pick a new action for this state.\n",
        "        else:\n",
        "            action = np.argmax(q_table[state]) # Pick the action which has previously given the highest reward.\n",
        "\n",
        "        next_state, reward, done, info = env.step(action) \n",
        "        \n",
        "        old_value = q_table[state, action] # Retrieve old value from the q-table.\n",
        "        next_max = np.max(q_table[next_state])\n",
        "\n",
        "        # Update q-value for current state.\n",
        "        new_value = (1 - alpha) * old_value + alpha * (reward + gamma * next_max)\n",
        "        q_table[state, action] = new_value\n",
        "\n",
        "        if reward == -10: # Checks if agent attempted to do an illegal action.\n",
        "            penalties += 1\n",
        "\n",
        "        state = next_state\n",
        "        \n",
        "    if i % 200 == 0: # Output number of completed episodes every 100 episodes.\n",
        "        print(f\"Episode: {i}   {penalties}\")\n",
        "\n",
        "print(\"Training finished.\\n\")"
      ],
      "execution_count": 57,
      "outputs": [
        {
          "output_type": "stream",
          "text": [
            "Episode: 0   39\n",
            "Episode: 200   5\n",
            "Episode: 400   5\n",
            "Episode: 600   2\n",
            "Episode: 800   6\n",
            "Episode: 1000   1\n",
            "Episode: 1200   0\n",
            "Episode: 1400   0\n",
            "Episode: 1600   1\n",
            "Episode: 1800   1\n",
            "Episode: 2000   0\n",
            "Episode: 2200   3\n",
            "Episode: 2400   0\n",
            "Episode: 2600   0\n",
            "Episode: 2800   1\n",
            "Episode: 3000   0\n",
            "Episode: 3200   1\n",
            "Episode: 3400   0\n",
            "Episode: 3600   0\n",
            "Episode: 3800   0\n",
            "Episode: 4000   2\n",
            "Episode: 4200   0\n",
            "Episode: 4400   0\n",
            "Episode: 4600   1\n",
            "Episode: 4800   0\n",
            "Episode: 5000   1\n",
            "Episode: 5200   1\n",
            "Episode: 5400   0\n",
            "Episode: 5600   0\n",
            "Episode: 5800   0\n",
            "Episode: 6000   0\n",
            "Episode: 6200   0\n",
            "Episode: 6400   1\n",
            "Episode: 6600   0\n",
            "Episode: 6800   1\n",
            "Episode: 7000   0\n",
            "Episode: 7200   0\n",
            "Episode: 7400   2\n",
            "Episode: 7600   0\n",
            "Episode: 7800   0\n",
            "Episode: 8000   1\n",
            "Episode: 8200   0\n",
            "Episode: 8400   0\n",
            "Episode: 8600   3\n",
            "Episode: 8800   0\n",
            "Training finished.\n",
            "\n"
          ],
          "name": "stdout"
        }
      ]
    },
    {
      "cell_type": "code",
      "metadata": {
        "colab": {
          "base_uri": "https://localhost:8080/"
        },
        "id": "dF_KWap-ORZ8",
        "outputId": "1f909c16-af68-4c1c-984c-d93dc770483f"
      },
      "source": [
        "env = gym.make('Taxi-v3') \n",
        "\n",
        "epochs = 0\n",
        "    \n",
        "done = False\n",
        "    \n",
        "state = env.reset()\n",
        "\n",
        "while not done:\n",
        "    action = np.argmax(q_table[state])\n",
        "    state, reward, done, info = env.step(action)\n",
        "    env.render()\n",
        "    epochs += 1\n",
        "print(epochs)    \n",
        "env.close()"
      ],
      "execution_count": 25,
      "outputs": [
        {
          "output_type": "stream",
          "text": [
            "+---------+\n",
            "|\u001b[34;1mR\u001b[0m: | : :G|\n",
            "| : | : : |\n",
            "| : : :\u001b[43m \u001b[0m: |\n",
            "| | : | : |\n",
            "|\u001b[35mY\u001b[0m| : |B: |\n",
            "+---------+\n",
            "  (West)\n",
            "+---------+\n",
            "|\u001b[34;1mR\u001b[0m: | : :G|\n",
            "| : | : : |\n",
            "| : :\u001b[43m \u001b[0m: : |\n",
            "| | : | : |\n",
            "|\u001b[35mY\u001b[0m| : |B: |\n",
            "+---------+\n",
            "  (West)\n",
            "+---------+\n",
            "|\u001b[34;1mR\u001b[0m: | : :G|\n",
            "| : | : : |\n",
            "| :\u001b[43m \u001b[0m: : : |\n",
            "| | : | : |\n",
            "|\u001b[35mY\u001b[0m| : |B: |\n",
            "+---------+\n",
            "  (West)\n",
            "+---------+\n",
            "|\u001b[34;1mR\u001b[0m: | : :G|\n",
            "| :\u001b[43m \u001b[0m| : : |\n",
            "| : : : : |\n",
            "| | : | : |\n",
            "|\u001b[35mY\u001b[0m| : |B: |\n",
            "+---------+\n",
            "  (North)\n",
            "+---------+\n",
            "|\u001b[34;1mR\u001b[0m: | : :G|\n",
            "|\u001b[43m \u001b[0m: | : : |\n",
            "| : : : : |\n",
            "| | : | : |\n",
            "|\u001b[35mY\u001b[0m| : |B: |\n",
            "+---------+\n",
            "  (West)\n",
            "+---------+\n",
            "|\u001b[34;1m\u001b[43mR\u001b[0m\u001b[0m: | : :G|\n",
            "| : | : : |\n",
            "| : : : : |\n",
            "| | : | : |\n",
            "|\u001b[35mY\u001b[0m| : |B: |\n",
            "+---------+\n",
            "  (North)\n",
            "+---------+\n",
            "|\u001b[42mR\u001b[0m: | : :G|\n",
            "| : | : : |\n",
            "| : : : : |\n",
            "| | : | : |\n",
            "|\u001b[35mY\u001b[0m| : |B: |\n",
            "+---------+\n",
            "  (Pickup)\n",
            "+---------+\n",
            "|R: | : :G|\n",
            "|\u001b[42m_\u001b[0m: | : : |\n",
            "| : : : : |\n",
            "| | : | : |\n",
            "|\u001b[35mY\u001b[0m| : |B: |\n",
            "+---------+\n",
            "  (South)\n",
            "+---------+\n",
            "|R: | : :G|\n",
            "| : | : : |\n",
            "|\u001b[42m_\u001b[0m: : : : |\n",
            "| | : | : |\n",
            "|\u001b[35mY\u001b[0m| : |B: |\n",
            "+---------+\n",
            "  (South)\n",
            "+---------+\n",
            "|R: | : :G|\n",
            "| : | : : |\n",
            "| : : : : |\n",
            "|\u001b[42m_\u001b[0m| : | : |\n",
            "|\u001b[35mY\u001b[0m| : |B: |\n",
            "+---------+\n",
            "  (South)\n",
            "+---------+\n",
            "|R: | : :G|\n",
            "| : | : : |\n",
            "| : : : : |\n",
            "| | : | : |\n",
            "|\u001b[35m\u001b[42mY\u001b[0m\u001b[0m| : |B: |\n",
            "+---------+\n",
            "  (South)\n",
            "+---------+\n",
            "|R: | : :G|\n",
            "| : | : : |\n",
            "| : : : : |\n",
            "| | : | : |\n",
            "|\u001b[35m\u001b[34;1m\u001b[43mY\u001b[0m\u001b[0m\u001b[0m| : |B: |\n",
            "+---------+\n",
            "  (Dropoff)\n",
            "12\n"
          ],
          "name": "stdout"
        }
      ]
    },
    {
      "cell_type": "markdown",
      "metadata": {
        "id": "fa57veQWRoQZ"
      },
      "source": [
        "# Maze"
      ]
    },
    {
      "cell_type": "code",
      "metadata": {
        "id": "-a1Zc7SgRv24"
      },
      "source": [
        "!pip install gym pyvirtualdisplay\n",
        "!apt-get install -y xvfb python-opengl ffmpeg\n",
        "!apt-get update\n",
        "!apt-get install cmake\n",
        "!pip install --upgrade setuptools\n",
        "!pip install ez_setup\n",
        "!pip install gym[atari]\n",
        "!pip install box2d-py\n",
        "!pip install gym[Box_2D]\n",
        "!apt install imagemagick\n",
        "!pip uninstall -y pygame\n",
        "!pip install pygame"
      ],
      "execution_count": null,
      "outputs": []
    },
    {
      "cell_type": "code",
      "metadata": {
        "id": "bVT7jC32TqD6"
      },
      "source": [
        "from pyvirtualdisplay import Display\n",
        "from gym.wrappers import Monitor\n",
        "import glob\n",
        "import io\n",
        "import base64\n",
        "from IPython import display as ipythondisplay\n",
        "from IPython.display import HTML\n",
        "\n",
        "def wrap_env(env):\n",
        "    env = Monitor(env, './video', force=True)\n",
        "    return env\n",
        " \n",
        "def show_video():\n",
        "    mp4list = glob.glob('video/*.mp4')\n",
        "    if len(mp4list) > 0:\n",
        "        mp4 = mp4list[0]\n",
        "        video = io.open(mp4, 'r+b').read()\n",
        "        encoded = base64.b64encode(video)\n",
        "        ipythondisplay.display(HTML(data='''<video alt=\"test\" autoplay \n",
        "                loop controls style=\"height: 400px;\">\n",
        "                <source src=\"data:video/mp4;base64,{0}\" type=\"video/mp4\" />\n",
        "             </video>'''.format(encoded.decode('ascii'))))\n",
        "    else: \n",
        "        print(\"Could not find video\")  \n",
        "\n",
        "v_display = Display(visible=0, size=(1400, 900))\n",
        "v_display.start()"
      ],
      "execution_count": null,
      "outputs": []
    },
    {
      "cell_type": "code",
      "metadata": {
        "id": "Bs1qyzyZR05K"
      },
      "source": [
        "!git clone https://github.com/tuzzer/gym-maze.git\n",
        "!pwd\n",
        "%cd gym-maze/\n",
        "!pwd\n",
        "!python setup.py install  "
      ],
      "execution_count": null,
      "outputs": []
    },
    {
      "cell_type": "code",
      "metadata": {
        "colab": {
          "base_uri": "https://localhost:8080/",
          "height": 420
        },
        "id": "ziz5wZFdRn3Q",
        "outputId": "dbee6935-d7eb-4297-e38f-3695a8de3385"
      },
      "source": [
        "import gym_maze\n",
        "\n",
        "env = wrap_env(gym.make('maze-sample-5x5-v0')) \n",
        "\n",
        "s  = env.reset()\n",
        "for i in range(100):\n",
        "    env.step(env.action_space.sample())\n",
        "env.close()\n",
        "show_video()    "
      ],
      "execution_count": 52,
      "outputs": [
        {
          "output_type": "display_data",
          "data": {
            "text/html": [
              "<video alt=\"test\" autoplay \n",
              "                loop controls style=\"height: 400px;\">\n",
              "                <source src=\"data:video/mp4;base64,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\" type=\"video/mp4\" />\n",
              "             </video>"
            ],
            "text/plain": [
              "<IPython.core.display.HTML object>"
            ]
          },
          "metadata": {
            "tags": []
          }
        }
      ]
    },
    {
      "cell_type": "code",
      "metadata": {
        "id": "dF-TX5KzUC-t"
      },
      "source": [
        "import math\n",
        "\n",
        "def simulate():\n",
        "\n",
        "    learning_rate =  get_learning_rate(0)\n",
        "    explore_rate =  get_explore_rate(0)\n",
        "    discount_factor = 0.99\n",
        "\n",
        "\n",
        "    for episode in range(NUM_EPISODES):\n",
        "\n",
        "        obv = env.reset()   #    초기상태  [0.0  ,  0.0]\n",
        "\n",
        "        state_0 =  ( int(obv[0]), int(obv[1]) )\n",
        "        \n",
        "        total_reward = 0\n",
        "\n",
        "        for t in range(MAX_T):\n",
        "            action = select_action(state_0, explore_rate)\n",
        "            obv, reward, done, _ = env.step(action)\n",
        "            \n",
        "            \n",
        "            state = ( int(obv[0]), int(obv[1]) )\n",
        "            total_reward += reward\n",
        "\n",
        "            best_q = np.amax(q_table[state])\n",
        "            q_table[state_0 + (action,)] += learning_rate * (reward + discount_factor * (best_q) - q_table[state_0 + (action,)])\n",
        "\n",
        "            state_0 = state\n",
        "            if done : break\n",
        "\n",
        "                \n",
        "        print(\"Episode %d finished after %f time steps with total reward = %f (done %d).\" % (episode, t, total_reward, done))                \n",
        "\n",
        "\n",
        "        explore_rate = get_explore_rate(episode)\n",
        "        learning_rate = get_learning_rate(episode)\n",
        "        \n",
        "        print(explore_rate, learning_rate)\n",
        "        \n",
        "    env.render(close=True)\n",
        "\n",
        "\n",
        "def select_action(state, explore_rate):\n",
        "    if random.random() < explore_rate:\n",
        "        action = env.action_space.sample()\n",
        "    else:\n",
        "        action = int(np.argmax(q_table[state]))\n",
        "    return action\n",
        "\n",
        "def get_explore_rate(t):\n",
        "    return max(MIN_EXPLORE_RATE, min(0.8, 1.0 - math.log10((t+1)/DECAY_FACTOR)))\n",
        "\n",
        "def get_learning_rate(t):\n",
        "    return max(MIN_LEARNING_RATE, min(0.8, 1.0 - math.log10((t+1)/DECAY_FACTOR)))\n",
        "\n",
        "\n",
        "env = gym.make(\"maze-sample-5x5-v0\")\n",
        "\n",
        "MAZE_SIZE = tuple((env.observation_space.high + np.ones(env.observation_space.shape)).astype(int))   # (5,5)\n",
        "NUM_BUCKETS = MAZE_SIZE  # one bucket per grid\n",
        "\n",
        "NUM_ACTIONS = env.action_space.n  # [\"N\", \"S\", \"E\", \"W\"]\n",
        "STATE_BOUNDS = list(zip(env.observation_space.low, env.observation_space.high))\n",
        "\n",
        "MIN_EXPLORE_RATE = 0.001\n",
        "MIN_LEARNING_RATE = 0.2\n",
        "DECAY_FACTOR = np.prod(MAZE_SIZE, dtype=float) / 10.0\n",
        "\n",
        "NUM_EPISODES = 100#\n",
        "MAX_T = np.prod(MAZE_SIZE, dtype=int) * 100\n",
        "\n",
        "q_table = np.zeros(NUM_BUCKETS + (NUM_ACTIONS,), dtype=float)    # (5,5,4)\n",
        "\n",
        "simulate()"
      ],
      "execution_count": null,
      "outputs": []
    },
    {
      "cell_type": "code",
      "metadata": {
        "colab": {
          "base_uri": "https://localhost:8080/",
          "height": 420
        },
        "id": "kjD_53dxUT7M",
        "outputId": "0885f8f7-0616-456b-8fa9-a3170e60798f"
      },
      "source": [
        "env = wrap_env(gym.make('maze-sample-5x5-v0')) \n",
        "\n",
        "obv = env.reset() \n",
        "\n",
        "state =  ( int(obv[0]), int(obv[1]) )\n",
        "\n",
        "for i in range(100):\n",
        "    action = select_action(state, 0.01)\n",
        "    obv, reward, done, _ = env.step(action)\n",
        "    state = ( int(obv[0]), int(obv[1]) )\n",
        "\n",
        "    if done :\n",
        "      break\n",
        "env.close()\n",
        "show_video()  "
      ],
      "execution_count": 55,
      "outputs": [
        {
          "output_type": "display_data",
          "data": {
            "text/html": [
              "<video alt=\"test\" autoplay \n",
              "                loop controls style=\"height: 400px;\">\n",
              "                <source src=\"data:video/mp4;base64,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\" type=\"video/mp4\" />\n",
              "             </video>"
            ],
            "text/plain": [
              "<IPython.core.display.HTML object>"
            ]
          },
          "metadata": {
            "tags": []
          }
        }
      ]
    }
  ]
}