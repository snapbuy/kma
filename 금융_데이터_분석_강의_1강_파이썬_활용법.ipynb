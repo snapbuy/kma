{
  "nbformat": 4,
  "nbformat_minor": 0,
  "metadata": {
    "colab": {
      "name": "금융 데이터 분석 강의 1강. 파이썬 활용법.ipynb",
      "provenance": [],
      "toc_visible": true
    },
    "kernelspec": {
      "name": "python3",
      "display_name": "Python 3"
    },
    "language_info": {
      "name": "python"
    }
  },
  "cells": [
    {
      "cell_type": "markdown",
      "metadata": {
        "id": "KScUMNbiypu2"
      },
      "source": [
        "혹시 파이썬 기초가 부족하신 분들 같은 경우에는 아래 링크를 참고하셔서 파이썬 공부를 우선적으로 해주시면 좋을 것 같습니다.  \n",
        "\n",
        "2-3일 정도만 빡세게 시간을 투자하시면 충분히 따라오실 수 있는 분량입니다.  \n",
        "파이썬 기초만 다루고 있는 자료이기 때문에 조금만 노력해주세요."
      ]
    },
    {
      "cell_type": "markdown",
      "metadata": {
        "id": "foKSSRLLyi2f"
      },
      "source": [
        "파이썬 기초 무료 동영상 : https://www.youtube.com/watch?v=8WuaFPyap2E&list=PL9mhQYIlKEhdP2Ci5GUcBuvo4z93Qpv5V  \n",
        "파이썬 기초 무료 교재 : https://wikidocs.net/book/1"
      ]
    },
    {
      "cell_type": "markdown",
      "metadata": {
        "id": "_iHmaMVna7NO"
      },
      "source": [
        "이번 강의에서는 가장 중요한 시간(time) 데이터를 다루는 다양한 방법을 배울 것입니다. 시간 데이터를 때로는 시계열 데이터라고도 부릅니다. 시계열 데이터를 가장 자주 접하는 곳은 단연 금융권입니다.  \n",
        "\n",
        "따라서 시간 데이터를 능숙하게 다룰 수 있도록  \n",
        "파이썬 패키지인 **데이트타임(datetime), 넘파이(numpy), 판다스(pandas)**에서 시간을 어떻게 다루는지 살펴봅니다.  "
      ]
    },
    {
      "cell_type": "markdown",
      "metadata": {
        "id": "Uvr1MzveznoA"
      },
      "source": [
        "여기서 언급하고 있는 3개의 패키지는 데이터 분석에서 굉장히 중요한 패키지이기 때문에  \n",
        "여러분들이 패키지 이름, 패키지가 하는 역할에 대해서만큼은 꼭 암기를 해주시면 좋겠습니다.  "
      ]
    },
    {
      "cell_type": "markdown",
      "metadata": {
        "id": "jwWhzJIiz6zg"
      },
      "source": [
        "패키지의 세부적인 기능은 잘 기억 안나도 괜찮아요.  \n",
        "필요할 때마다 찾아보면 되니까요. 그런데, 이런 기능을 수행하는 패키지가  \n",
        "무엇이었는지는 기억을 해야 다음에 찾아보기 때문에 패키지 이름을 암기하라는 것입니다."
      ]
    },
    {
      "cell_type": "markdown",
      "metadata": {
        "id": "UB0U4SblbQB9"
      },
      "source": [
        "#1. 날짜와 시간"
      ]
    },
    {
      "cell_type": "markdown",
      "metadata": {
        "id": "fHUPsIp4bUaV"
      },
      "source": [
        "파이썬에는 다양한 날짜(Date), 시간(Time) 라이브러리가 존재합니다.  \n",
        "그중에서 이번에 알아볼 내용은 datetime,  \n",
        "넘파이에서 지원하는 날짜와 시간,  \n",
        "넘파이 기반으로 만들어진 판다스의 날짜와 시간 관련 함수입니다.  \n",
        "\n",
        "특히 날짜와 시간 관련 함수는 시계열 데이터를 다루는 다양한 상황에서 사용됩니다. 스트링(String) 타입의 문자를 날짜 형태 포맷(format)으로 바꾸거나 시간 단위 변경, 시각화 등에 다양하게 응용할 수 있습니다."
      ]
    },
    {
      "cell_type": "markdown",
      "metadata": {
        "id": "afE1DRqRbi0J"
      },
      "source": [
        "##1.1.파이썬 패키지"
      ]
    },
    {
      "cell_type": "markdown",
      "metadata": {
        "id": "fB7v4lAsbm_W"
      },
      "source": [
        "파이썬 표준 패키지인 datetime에 대해서 알아봅시다.  \n",
        "datetime에는 time, date, datetime, timedelta 외에도 여러 기능이 있습니다."
      ]
    },
    {
      "cell_type": "markdown",
      "metadata": {
        "id": "5Us7y8n4bx_A"
      },
      "source": [
        "* time : 시간 기능만 제공합니다, 시, 분, 초, 마이크로초  \n",
        "ex) datetime.time(hour=4, minute=3, second=10, microsecond=1000)"
      ]
    },
    {
      "cell_type": "markdown",
      "metadata": {
        "id": "5X_G50jCb45H"
      },
      "source": [
        "* date : 날짜 기능만 제공합니다. 연, 월, 일  \n",
        "ex) datetime.date(year=2019, month=1, day=10)"
      ]
    },
    {
      "cell_type": "markdown",
      "metadata": {
        "id": "TqG3Y3FSb-Rq"
      },
      "source": [
        "* datetime : 날짜와 시간 기능을 제공합니다. - date + time  \n",
        "ex) datetime.datetime(year=2019, month=10, day=24, hour=4, minute=3, second=10, microsecond=1000)"
      ]
    },
    {
      "cell_type": "markdown",
      "metadata": {
        "id": "GvBM5mZjcHWT"
      },
      "source": [
        "* timedelta : datetime 인스턴스 간의 차이를 구함  \n",
        "datetime.datetime(year=2019, month=10, day=24, hour=4, minute=3, second=10, microsecond=1000)"
      ]
    },
    {
      "cell_type": "markdown",
      "metadata": {
        "id": "VfvYp5UMcSB4"
      },
      "source": [
        "실제 분석에서 날짜와 시간은 문자열 타입으로 주어지는 경우가 많습니다. 따라서 자유롭게 데이터 타입을 변환하는 방법을 익혀야 합니다. 다음 설명을 보면서 날짜 변환(conversion)에 대해서 알아봅시다. 먼저 str 타입의 문자를 datetime 형식으로 바꾸는 방법을 살펴봅시다."
      ]
    },
    {
      "cell_type": "code",
      "metadata": {
        "id": "fEvvnBfcbPO8"
      },
      "source": [
        "import datetime"
      ],
      "execution_count": null,
      "outputs": []
    },
    {
      "cell_type": "code",
      "metadata": {
        "id": "_wN5Tf-wyGDf"
      },
      "source": [
        "datetime_str = '2018-05-13 12:34:56'"
      ],
      "execution_count": null,
      "outputs": []
    },
    {
      "cell_type": "markdown",
      "metadata": {
        "id": "eZb4LlBqcts0"
      },
      "source": [
        "strptime() 함수에 datetime_str 변수와 형식을 매개변수로 전달합니다. 우리가 입력한 str 타입의 날짜와 날짜를 표현하는 형식을 strtime() 함수에 전달한 것입니다. 함수의 결과를 보니, str 타입의 문자가 datetime 타입으로 변환한 것을 알 수 있습니다."
      ]
    },
    {
      "cell_type": "code",
      "metadata": {
        "colab": {
          "base_uri": "https://localhost:8080/"
        },
        "id": "1PykhUaVyIGr",
        "outputId": "b6cfc9bf-8fbd-4234-cd8e-d3b107a2a6bb"
      },
      "source": [
        "format = '%Y-%m-%d %H:%M:%S' \n",
        "datetime_dt = datetime.datetime.strptime(datetime_str, format)\n",
        "print(datetime_dt)"
      ],
      "execution_count": null,
      "outputs": [
        {
          "output_type": "stream",
          "text": [
            "2018-05-13 12:34:56\n"
          ],
          "name": "stdout"
        }
      ]
    },
    {
      "cell_type": "code",
      "metadata": {
        "colab": {
          "base_uri": "https://localhost:8080/"
        },
        "id": "eYlBXEoDyKuW",
        "outputId": "3d1aecc6-7839-4b17-9633-f26867ebb7ae"
      },
      "source": [
        "print(type(datetime_dt))"
      ],
      "execution_count": null,
      "outputs": [
        {
          "output_type": "stream",
          "text": [
            "<class 'datetime.datetime'>\n"
          ],
          "name": "stdout"
        }
      ]
    },
    {
      "cell_type": "markdown",
      "metadata": {
        "id": "7Gzd5r0qc2bj"
      },
      "source": [
        "이번에는 반대로 datetime을 str타입의 문자로 변환할 수 있는지 확인해봅시다.  \n",
        "datetime_dt는 우리가 앞서 확인했듯이 현재 datetime 타입입낟."
      ]
    },
    {
      "cell_type": "code",
      "metadata": {
        "colab": {
          "base_uri": "https://localhost:8080/"
        },
        "id": "2TwVrIPbb9Z1",
        "outputId": "16485445-5e8b-4d6b-deee-bb3f2d5e87ae"
      },
      "source": [
        "datetime_str = datetime_dt.strftime('%Y-%m-%d %H:%M:%S')\n",
        "\n",
        "print(type(datetime_str)) # <class 'str'>\n",
        "print(datetime_str)       # 2018-08-24 18:00:25"
      ],
      "execution_count": null,
      "outputs": [
        {
          "output_type": "stream",
          "text": [
            "<class 'str'>\n",
            "2018-05-13 12:34:56\n"
          ],
          "name": "stdout"
        }
      ]
    },
    {
      "cell_type": "markdown",
      "metadata": {
        "id": "TOuuEkgidM3v"
      },
      "source": [
        "위에서 strptime() 함수를 호출할 때 변환된 datetime_dt에서 strftime() 함수를 호출한 것을 알 수 있습니다. 함수 매개변수에는 변환하려는 날짜, 시간 형식을 전달한다. 결과를 보니, str 타입으로 변환된 것과 우리가 전달한 형식에 맞게 값이 나온 것을 확인할 수 있습니다.  \n",
        "\n",
        "또 다른 형식으로 변경하려면 다음과 같이 수정해서 전달하면 됩니다."
      ]
    },
    {
      "cell_type": "markdown",
      "metadata": {
        "id": "g5ZrWqJrzIba"
      },
      "source": [
        "이번에는 분, 초를 제외하고 시간까지만 출력을 해봅시다."
      ]
    },
    {
      "cell_type": "code",
      "metadata": {
        "colab": {
          "base_uri": "https://localhost:8080/"
        },
        "id": "i8Ybz35Jc66S",
        "outputId": "4b36dd75-fc70-40e4-d73f-e8c3d8d41d14"
      },
      "source": [
        "datetime_str = datetime_dt.strftime('%Y-%m-%d %H')\n",
        "\n",
        "print(type(datetime_str)) # <class 'str'>\n",
        "print(datetime_str)       # 2018-08-24 18:00:25"
      ],
      "execution_count": null,
      "outputs": [
        {
          "output_type": "stream",
          "text": [
            "<class 'str'>\n",
            "2018-05-13 12\n"
          ],
          "name": "stdout"
        }
      ]
    },
    {
      "cell_type": "markdown",
      "metadata": {
        "id": "YShwKMwgzLnF"
      },
      "source": [
        "시간까지만 출력이 된 것을 확인할 수 있습니다.  \n",
        "이번에는 년도와 달까지만 출력을 해보겠습니다."
      ]
    },
    {
      "cell_type": "code",
      "metadata": {
        "colab": {
          "base_uri": "https://localhost:8080/"
        },
        "id": "jX8xsZ2TdZgC",
        "outputId": "da81411e-d9d3-46e6-cab2-bf1fa3cb7ffa"
      },
      "source": [
        "datetime_str = datetime_dt.strftime('%Y-%m')\n",
        "\n",
        "print(type(datetime_str)) # <class 'str'>\n",
        "print(datetime_str)       # 2018-08-24 18:00:25"
      ],
      "execution_count": null,
      "outputs": [
        {
          "output_type": "stream",
          "text": [
            "<class 'str'>\n",
            "2018-05\n"
          ],
          "name": "stdout"
        }
      ]
    },
    {
      "cell_type": "markdown",
      "metadata": {
        "id": "pJHBawg7ded5"
      },
      "source": [
        "정리하면 '%Y-%m-%d %H' 형식을 전달하면 연-월-일-시 형식으로 출력되고, '%Y-%m'을 전달하면 연-월만 출력됩니다.  "
      ]
    },
    {
      "cell_type": "markdown",
      "metadata": {
        "id": "hCpQM6MJzQi3"
      },
      "source": [
        "strptime() 함수와 strftime() 함수는 서로 반대되는 기능을 가지고 있습니다.  \n",
        "String을 datetime으로 변환할 때는 strptime() 함수를 사용하고, 그 반대의 경우에는 strftime() 함수를 사용합니다."
      ]
    },
    {
      "cell_type": "markdown",
      "metadata": {
        "id": "2Dwgr5Xddwgu"
      },
      "source": [
        "* strptime() : str 타입으로 된 날짜 데이터를 datetime 형태로 변환  \n",
        "* strftime() : datetime 형태의 데이터를 str 타입으로 변환"
      ]
    },
    {
      "cell_type": "markdown",
      "metadata": {
        "id": "6m-MrlCad3x_"
      },
      "source": [
        "주의해야 할 점은 우리가 형식을 정의할 때 지정한 형식이 대소문자를 구분하므로 형식을 맞추거나 정확한 날짜를 표현해야 합니다.  \n",
        "\n",
        "아래 링크로 이동하신 다음에 아래 링크에서 제공되는 자료의 **표 47-4**를 참고하세요. 암기하실 필요는 없고 필요할 때 찾아보시면 됩니다."
      ]
    },
    {
      "cell_type": "markdown",
      "metadata": {
        "id": "_V4LlwK3eWRx"
      },
      "source": [
        "참고자료 : https://dojang.io/mod/page/view.php?id=2463"
      ]
    },
    {
      "cell_type": "markdown",
      "metadata": {
        "id": "O-8wT-Qke36g"
      },
      "source": [
        "##1-2. Numpy"
      ]
    },
    {
      "cell_type": "markdown",
      "metadata": {
        "id": "I6MK9imfA74W"
      },
      "source": [
        "클래스와 객체 : https://wikidocs.net/28"
      ]
    },
    {
      "cell_type": "markdown",
      "metadata": {
        "id": "Ew2arzsCfNtE"
      },
      "source": [
        "넘파이에서는 날짜와 시간을 datetime64 객체로 표현합니다.  \n",
        "넘파이의 datetime64와 파이썬의 datetime.datetime과 차이점은 datetime에서는 시간을 마이크로초(10^-6) 단위까지 관리한다면,  \n",
        "넘파이의 datetime64는 아토초(10^-18) 단위까지 관리한다는 것입니다."
      ]
    },
    {
      "cell_type": "markdown",
      "metadata": {
        "id": "w1kdFo8Ifg7j"
      },
      "source": [
        "넘파이의 날짜와 시간을 이해해야 하는 가장 중용한 이유는 우리가 궁극적으로 사용할 판다스의 날짜와 시간 함수가 넘파이를 기반으로 만들어졌기 때문입니다.  \n",
        "그럼 넘파이의 날짜와 시간 사용 예제를 살펴봅시다.  "
      ]
    },
    {
      "cell_type": "markdown",
      "metadata": {
        "id": "GU1UQ0xPgA8N"
      },
      "source": [
        "Numpy 객체를 이용해 날짜를 생성하는 방식에는 두 가지 방식이 있습니다."
      ]
    },
    {
      "cell_type": "markdown",
      "metadata": {
        "id": "OBJwZ2QtoXNQ"
      },
      "source": [
        "첫번째는 아래와 같이 문자열 형식으로 전달해서 생성하는 방법입니다."
      ]
    },
    {
      "cell_type": "code",
      "metadata": {
        "colab": {
          "base_uri": "https://localhost:8080/"
        },
        "id": "74Vc5OuFgVPU",
        "outputId": "0d0bee48-d35a-48fd-a5cf-4ce163049229"
      },
      "source": [
        "import numpy as np\n",
        "np.datetime64('2019-01-01')"
      ],
      "execution_count": null,
      "outputs": [
        {
          "output_type": "execute_result",
          "data": {
            "text/plain": [
              "numpy.datetime64('2019-01-01')"
            ]
          },
          "metadata": {
            "tags": []
          },
          "execution_count": 8
        }
      ]
    },
    {
      "cell_type": "markdown",
      "metadata": {
        "id": "Wc4rzUYcoabt"
      },
      "source": [
        "두번째는 아래와 같이 유닉스 시간을 이용한 방식입니다."
      ]
    },
    {
      "cell_type": "markdown",
      "metadata": {
        "id": "f-DE-M1hoec0"
      },
      "source": [
        "첫번째 입력 매개변수는 수치 데이터, 그리고 두번째 입력 매개변수는 단위를 의미합니다.  \n",
        "'ns'는 나노초 단위, 'D'는 일 단위, 's'는 초 단위를 의미합니다.  \n",
        "출력 결과는 단위에 따라서 각기 다른 종류의 날짜가 만들어집니다."
      ]
    },
    {
      "cell_type": "code",
      "metadata": {
        "colab": {
          "base_uri": "https://localhost:8080/"
        },
        "id": "TGZ3_ES2e5c5",
        "outputId": "8e62ae15-1188-4c04-ca5f-c0951a3efe77"
      },
      "source": [
        "import numpy as np\n",
        "np.datetime64(1000,'ns')"
      ],
      "execution_count": null,
      "outputs": [
        {
          "output_type": "execute_result",
          "data": {
            "text/plain": [
              "numpy.datetime64('1970-01-01T00:00:00.000001000')"
            ]
          },
          "metadata": {
            "tags": []
          },
          "execution_count": 9
        }
      ]
    },
    {
      "cell_type": "code",
      "metadata": {
        "colab": {
          "base_uri": "https://localhost:8080/"
        },
        "id": "XsahLxFQgF7a",
        "outputId": "904e1b25-3092-4d21-9e8b-314134c577e5"
      },
      "source": [
        "np.datetime64(10000000000,'ns')"
      ],
      "execution_count": null,
      "outputs": [
        {
          "output_type": "execute_result",
          "data": {
            "text/plain": [
              "numpy.datetime64('1970-01-01T00:00:10.000000000')"
            ]
          },
          "metadata": {
            "tags": []
          },
          "execution_count": 10
        }
      ]
    },
    {
      "cell_type": "code",
      "metadata": {
        "colab": {
          "base_uri": "https://localhost:8080/"
        },
        "id": "XTeH6c2pgNRZ",
        "outputId": "cf3e3a9e-a423-48f9-f175-1910539bd007"
      },
      "source": [
        "np.datetime64(1000000000,'s')"
      ],
      "execution_count": null,
      "outputs": [
        {
          "output_type": "execute_result",
          "data": {
            "text/plain": [
              "numpy.datetime64('2001-09-09T01:46:40')"
            ]
          },
          "metadata": {
            "tags": []
          },
          "execution_count": 11
        }
      ]
    },
    {
      "cell_type": "code",
      "metadata": {
        "colab": {
          "base_uri": "https://localhost:8080/"
        },
        "id": "G5MS4vW9gOmB",
        "outputId": "687c3c5d-0b7a-4923-f4b5-1d0b5dd8f604"
      },
      "source": [
        "np.datetime64(10000,'D')"
      ],
      "execution_count": null,
      "outputs": [
        {
          "output_type": "execute_result",
          "data": {
            "text/plain": [
              "numpy.datetime64('1997-05-19')"
            ]
          },
          "metadata": {
            "tags": []
          },
          "execution_count": 12
        }
      ]
    },
    {
      "cell_type": "markdown",
      "metadata": {
        "id": "6Ji5PjIiorzw"
      },
      "source": [
        "Numpy의 array() 함수를 사용해서도 날짜를 생성할 수 있습니다."
      ]
    },
    {
      "cell_type": "markdown",
      "metadata": {
        "id": "BPvS2KXSo1xo"
      },
      "source": [
        "np.array() 함수에 str 타입의 날짜 리스트를 전달하고, dtype(데이터 타입)을 'datetime64'로 설정했습니다."
      ]
    },
    {
      "cell_type": "code",
      "metadata": {
        "colab": {
          "base_uri": "https://localhost:8080/"
        },
        "id": "ozpUx1gKgPwo",
        "outputId": "89c9dfe1-0bfc-4af0-d33d-04a66dcb3679"
      },
      "source": [
        "np.array(['2007-07-13', '2006-01-13', '2010-08-13'], dtype='datetime64')"
      ],
      "execution_count": null,
      "outputs": [
        {
          "output_type": "execute_result",
          "data": {
            "text/plain": [
              "array(['2007-07-13', '2006-01-13', '2010-08-13'], dtype='datetime64[D]')"
            ]
          },
          "metadata": {
            "tags": []
          },
          "execution_count": 13
        }
      ]
    },
    {
      "cell_type": "markdown",
      "metadata": {
        "id": "Y7n0A63fo9-w"
      },
      "source": [
        "이때 dtype에서 datetime64를 적어주실 때, [ ]안에 어떤 값을 넣느냐에 따라서 날짜 단위를 지정할 수도 있습니다."
      ]
    },
    {
      "cell_type": "code",
      "metadata": {
        "colab": {
          "base_uri": "https://localhost:8080/"
        },
        "id": "7DEdyIccJFKg",
        "outputId": "cdbe3270-87af-428e-d0aa-5ec2798624bd"
      },
      "source": [
        "# 달단위\n",
        "np.array(['2007-07-13', '2006-01-13', '2010-08-13'], dtype='datetime64[M]')"
      ],
      "execution_count": null,
      "outputs": [
        {
          "output_type": "execute_result",
          "data": {
            "text/plain": [
              "array(['2007-07', '2006-01', '2010-08'], dtype='datetime64[M]')"
            ]
          },
          "metadata": {
            "tags": []
          },
          "execution_count": 15
        }
      ]
    },
    {
      "cell_type": "markdown",
      "metadata": {
        "id": "UVLP6Ao4JLz5"
      },
      "source": [
        "arange() 함수를 사용해서 범위를 줄 수도 있습니다."
      ]
    },
    {
      "cell_type": "code",
      "metadata": {
        "colab": {
          "base_uri": "https://localhost:8080/"
        },
        "id": "x81phFGTo0Yj",
        "outputId": "01cfc230-ee6a-4955-f241-75420a7ecbe1"
      },
      "source": [
        "# 달단위\n",
        "np.arange('2005-02', '2006-03', dtype='datetime64[M]')"
      ],
      "execution_count": null,
      "outputs": [
        {
          "output_type": "execute_result",
          "data": {
            "text/plain": [
              "array(['2005-02', '2005-03', '2005-04', '2005-05', '2005-06', '2005-07',\n",
              "       '2005-08', '2005-09', '2005-10', '2005-11', '2005-12', '2006-01',\n",
              "       '2006-02'], dtype='datetime64[M]')"
            ]
          },
          "metadata": {
            "tags": []
          },
          "execution_count": 16
        }
      ]
    },
    {
      "cell_type": "code",
      "metadata": {
        "colab": {
          "base_uri": "https://localhost:8080/"
        },
        "id": "uYXfq_1lqPjL",
        "outputId": "8610568e-9aaa-4d77-c139-64b9d38ce424"
      },
      "source": [
        "# 주단위\n",
        "np.arange('2005-02', '2006-03', dtype='datetime64[W]')"
      ],
      "execution_count": null,
      "outputs": [
        {
          "output_type": "execute_result",
          "data": {
            "text/plain": [
              "array(['2005-01-27', '2005-02-03', '2005-02-10', '2005-02-17',\n",
              "       '2005-02-24', '2005-03-03', '2005-03-10', '2005-03-17',\n",
              "       '2005-03-24', '2005-03-31', '2005-04-07', '2005-04-14',\n",
              "       '2005-04-21', '2005-04-28', '2005-05-05', '2005-05-12',\n",
              "       '2005-05-19', '2005-05-26', '2005-06-02', '2005-06-09',\n",
              "       '2005-06-16', '2005-06-23', '2005-06-30', '2005-07-07',\n",
              "       '2005-07-14', '2005-07-21', '2005-07-28', '2005-08-04',\n",
              "       '2005-08-11', '2005-08-18', '2005-08-25', '2005-09-01',\n",
              "       '2005-09-08', '2005-09-15', '2005-09-22', '2005-09-29',\n",
              "       '2005-10-06', '2005-10-13', '2005-10-20', '2005-10-27',\n",
              "       '2005-11-03', '2005-11-10', '2005-11-17', '2005-11-24',\n",
              "       '2005-12-01', '2005-12-08', '2005-12-15', '2005-12-22',\n",
              "       '2005-12-29', '2006-01-05', '2006-01-12', '2006-01-19',\n",
              "       '2006-01-26', '2006-02-02', '2006-02-09', '2006-02-16'],\n",
              "      dtype='datetime64[W]')"
            ]
          },
          "metadata": {
            "tags": []
          },
          "execution_count": 30
        }
      ]
    },
    {
      "cell_type": "code",
      "metadata": {
        "colab": {
          "base_uri": "https://localhost:8080/"
        },
        "id": "GMkEENKWpLsQ",
        "outputId": "c397cc5b-f65a-4d33-c3ad-edb5219c1f8a"
      },
      "source": [
        "# 일단위\n",
        "np.arange('2005-02', '2005-03', dtype='datetime64[D]')"
      ],
      "execution_count": null,
      "outputs": [
        {
          "output_type": "execute_result",
          "data": {
            "text/plain": [
              "array(['2005-02-01', '2005-02-02', '2005-02-03', '2005-02-04',\n",
              "       '2005-02-05', '2005-02-06', '2005-02-07', '2005-02-08',\n",
              "       '2005-02-09', '2005-02-10', '2005-02-11', '2005-02-12',\n",
              "       '2005-02-13', '2005-02-14', '2005-02-15', '2005-02-16',\n",
              "       '2005-02-17', '2005-02-18', '2005-02-19', '2005-02-20',\n",
              "       '2005-02-21', '2005-02-22', '2005-02-23', '2005-02-24',\n",
              "       '2005-02-25', '2005-02-26', '2005-02-27', '2005-02-28'],\n",
              "      dtype='datetime64[D]')"
            ]
          },
          "metadata": {
            "tags": []
          },
          "execution_count": 19
        }
      ]
    },
    {
      "cell_type": "code",
      "metadata": {
        "colab": {
          "base_uri": "https://localhost:8080/"
        },
        "id": "pk0ktFgmqGqW",
        "outputId": "c146ec08-34ad-4a1c-f5dc-f5fb80f1ae0d"
      },
      "source": [
        "# 시간단위\n",
        "np.arange('2005-02-01', '2005-02-02', dtype='datetime64[h]')"
      ],
      "execution_count": null,
      "outputs": [
        {
          "output_type": "execute_result",
          "data": {
            "text/plain": [
              "array(['2005-02-01T00', '2005-02-01T01', '2005-02-01T02', '2005-02-01T03',\n",
              "       '2005-02-01T04', '2005-02-01T05', '2005-02-01T06', '2005-02-01T07',\n",
              "       '2005-02-01T08', '2005-02-01T09', '2005-02-01T10', '2005-02-01T11',\n",
              "       '2005-02-01T12', '2005-02-01T13', '2005-02-01T14', '2005-02-01T15',\n",
              "       '2005-02-01T16', '2005-02-01T17', '2005-02-01T18', '2005-02-01T19',\n",
              "       '2005-02-01T20', '2005-02-01T21', '2005-02-01T22', '2005-02-01T23'],\n",
              "      dtype='datetime64[h]')"
            ]
          },
          "metadata": {
            "tags": []
          },
          "execution_count": 28
        }
      ]
    },
    {
      "cell_type": "markdown",
      "metadata": {
        "id": "fEVI0JlzpinW"
      },
      "source": [
        "각각 날짜를 생성할 때 어떤 단위를 전달하는지에 따라서 생성되는 범위가 달라집니다.  \n",
        "두 날짜의 간격을 구할 때는 단순하게 빼주면 됩니다.  \n",
        "직관적인 날짜 간격을 구하기 쉽습니다. 날짜 간격을 구해봅시다."
      ]
    },
    {
      "cell_type": "code",
      "metadata": {
        "colab": {
          "base_uri": "https://localhost:8080/"
        },
        "id": "51-Cb4capG_7",
        "outputId": "3cc710b7-5869-46ba-c09a-89d574304459"
      },
      "source": [
        "np.datetime64('2009-01-01') - np.datetime64('2008-01')"
      ],
      "execution_count": null,
      "outputs": [
        {
          "output_type": "execute_result",
          "data": {
            "text/plain": [
              "numpy.timedelta64(366,'D')"
            ]
          },
          "metadata": {
            "tags": []
          },
          "execution_count": 21
        }
      ]
    },
    {
      "cell_type": "code",
      "metadata": {
        "colab": {
          "base_uri": "https://localhost:8080/"
        },
        "id": "y2u9SwN_prc7",
        "outputId": "3bcdc73e-5805-4e3f-c51a-055acccbf816"
      },
      "source": [
        "np.datetime64('2009-01-01') - np.datetime64('2008-01-01')"
      ],
      "execution_count": null,
      "outputs": [
        {
          "output_type": "execute_result",
          "data": {
            "text/plain": [
              "numpy.timedelta64(366,'D')"
            ]
          },
          "metadata": {
            "tags": []
          },
          "execution_count": 23
        }
      ]
    },
    {
      "cell_type": "code",
      "metadata": {
        "colab": {
          "base_uri": "https://localhost:8080/"
        },
        "id": "TBbbli3jpsja",
        "outputId": "379c52d7-d6d5-48f7-ef09-a041d55b3986"
      },
      "source": [
        "np.datetime64('2009') - np.datetime64('2008-01')"
      ],
      "execution_count": null,
      "outputs": [
        {
          "output_type": "execute_result",
          "data": {
            "text/plain": [
              "numpy.timedelta64(12,'M')"
            ]
          },
          "metadata": {
            "tags": []
          },
          "execution_count": 24
        }
      ]
    },
    {
      "cell_type": "markdown",
      "metadata": {
        "id": "16MJcgj-p2VF"
      },
      "source": [
        "두 날짜 간 간격이 일 단위 간격인지, 월 단위 간격인지를 확인합니다.  \n",
        "결과를 확인해보니, **날짜 간격을 구할 때 두 날짜 중 작은 단위 날짜로 맞춘다는 것을 확인할 수 있습니다.**"
      ]
    },
    {
      "cell_type": "markdown",
      "metadata": {
        "id": "aVaOXMYgqYUh"
      },
      "source": [
        "앞에서 사용했던 단위 코드를 추가적으로 확인한다면 다음과 같습니다.  \n",
        "\n",
        "Y : 연  \n",
        "M : 월  \n",
        "W : 주  \n",
        "D : 일  \n",
        "h : 시간  \n",
        "m : 분  \n",
        "s : 초  \n",
        "ms : 밀리초  \n",
        "us : 마이크로초  \n",
        "ns : 나노초  \n",
        "ps : 피코초  \n",
        "fs : 펨토초"
      ]
    },
    {
      "cell_type": "markdown",
      "metadata": {
        "id": "Ot__VbMOql-s"
      },
      "source": [
        "표에서 살펴본 단위 코드는 날짜 형식을 다룰 때 적용되는 단위입니다. 월(M)과 분(m)은 대소문자를 구분하므로 주의해 사용합시다. 이외에 넘파이에서 제공하는 세부적인 기능도 많지만, 여기서는 이 정도만 알아보고 판다스로 넘어가도록 하겠습니다."
      ]
    },
    {
      "cell_type": "markdown",
      "metadata": {
        "id": "u9PSkYoOqxlh"
      },
      "source": [
        "##1-3. Pandas"
      ]
    },
    {
      "cell_type": "markdown",
      "metadata": {
        "id": "rmjG5uAWq18t"
      },
      "source": [
        "판다스는 테이블 데이터 및 시계열 데이터 구조를 조작하는 탁월한 기능을 제공하는 라이브러리입니다. 판다스는 내부적으로 넘파이를 포함하고 있어 날짜와 시간 관련 기능도 datetime64를 바탕으로 이루어지고 있습니다. 판다스만 잘 활용해도 짧은 코드로 강력한 기능을 구사할 수 있습니다.  \n",
        "\n",
        "대표적인 기능으로 날짜 범위 생성, 날짜 변환, 날짜 이동 등이 있습니다.  \n",
        "또한 DataFrame 객체의 인덱싱 기능은 데이터 필터링, 인덱싱, 피벗팅, 정렬, 슬라이싱 등 다양하게 활용이 가능합니다.  \n",
        "\n",
        "오늘 수업에서는 먼저 판다스의 날짜와 시간 관련 기능만 살펴보겠습니다."
      ]
    },
    {
      "cell_type": "markdown",
      "metadata": {
        "id": "gRHwakNrGrHH"
      },
      "source": [
        "###Timestamp와 DatetimeIndex"
      ]
    },
    {
      "cell_type": "markdown",
      "metadata": {
        "id": "wj_Jshr9G_a8"
      },
      "source": [
        "* pd.Timestamp()  \n",
        "* pd.to_datetime()  \n",
        "* pd.date_range()"
      ]
    },
    {
      "cell_type": "markdown",
      "metadata": {
        "id": "ZUQi8XzBrPf4"
      },
      "source": [
        "판다스에서 하나의 날짜만 사용할 때는  \n",
        "Timestamp로 표현하고 두 개 이상의 배열을 이룰 때는 DatetimeIndex로 표현합니다.  \n",
        "\n",
        "어떤 의미인지 실습을 통해 이해해봅시다."
      ]
    },
    {
      "cell_type": "code",
      "metadata": {
        "id": "3hXGDRRrrm4Z"
      },
      "source": [
        "import pandas as pd"
      ],
      "execution_count": null,
      "outputs": []
    },
    {
      "cell_type": "markdown",
      "metadata": {
        "id": "ARx5_tvwsIk0"
      },
      "source": [
        "판다스의 Timestamp 함수를 사용하여 특정 날짜를 표현할 수 있습니다."
      ]
    },
    {
      "cell_type": "code",
      "metadata": {
        "colab": {
          "base_uri": "https://localhost:8080/"
        },
        "id": "Yc_33QcLro3V",
        "outputId": "343bc08e-7da5-4ac0-d844-7411353e7007"
      },
      "source": [
        "pd.Timestamp(1239.1238934) # 디폴트로는 나노초로 되어져 있습니다."
      ],
      "execution_count": null,
      "outputs": [
        {
          "output_type": "execute_result",
          "data": {
            "text/plain": [
              "Timestamp('1970-01-01 00:00:00.000001239')"
            ]
          },
          "metadata": {
            "tags": []
          },
          "execution_count": 49
        }
      ]
    },
    {
      "cell_type": "code",
      "metadata": {
        "colab": {
          "base_uri": "https://localhost:8080/"
        },
        "id": "B86ORbETrsFZ",
        "outputId": "f7103cb4-11f5-4c8d-f305-09100eaa1798"
      },
      "source": [
        "pd.Timestamp(1239.1238934, unit='D') # 단위를 '일'로 바꿔서 실행해봅시다."
      ],
      "execution_count": null,
      "outputs": [
        {
          "output_type": "execute_result",
          "data": {
            "text/plain": [
              "Timestamp('1973-05-24 02:58:24.389760')"
            ]
          },
          "metadata": {
            "tags": []
          },
          "execution_count": 50
        }
      ]
    },
    {
      "cell_type": "code",
      "metadata": {
        "colab": {
          "base_uri": "https://localhost:8080/"
        },
        "id": "lmRDuG1xrymp",
        "outputId": "e03513f7-3ad3-420e-f4b6-20aba6edc9d5"
      },
      "source": [
        "pd.Timestamp('2019-1-1')"
      ],
      "execution_count": null,
      "outputs": [
        {
          "output_type": "execute_result",
          "data": {
            "text/plain": [
              "Timestamp('2019-01-01 00:00:00')"
            ]
          },
          "metadata": {
            "tags": []
          },
          "execution_count": 51
        }
      ]
    },
    {
      "cell_type": "markdown",
      "metadata": {
        "id": "VZ2gqsdOsege"
      },
      "source": [
        "Timestamp() 함수는 특정 시점을 나타내는 날짜와 시간을 표현합니다. 판다스에서도 Timestamp 함수에 수치 데이터를 전달하고 unit(단위) 값을 매개변수로 넘기면 넘파이에서 살펴본 유닉스 시간을 이용한 방식임을 알 수 있습니다. UTC 시간 '1970년 1월 1일 00:00:00'부터 현재까지 경과 시간을 초 단위로 환산해 나타낸 방식입니다.\n"
      ]
    },
    {
      "cell_type": "markdown",
      "metadata": {
        "id": "yzeFxE-rspUw"
      },
      "source": [
        "to_datetime() 함수로도 특정 시점 날짜와 시간을 생성할 수 있습니다. 한 개의 날짜만 생성하는 경우, 호출하는 함수는 다르지만 내부적으로 넘파이에서 datetime64를 통해 날짜를 만드는 것과 같습니다. 판다스 내부적으로 넘파이가 동작한다는 내용을 이런 출력 결과로 확인할 수 있습니다."
      ]
    },
    {
      "cell_type": "code",
      "metadata": {
        "colab": {
          "base_uri": "https://localhost:8080/"
        },
        "id": "5Y0I55Kjrz_C",
        "outputId": "6a014adf-eacd-48dc-9b74-654c3510e883"
      },
      "source": [
        "pd.to_datetime('2019-1-1 12')"
      ],
      "execution_count": null,
      "outputs": [
        {
          "output_type": "execute_result",
          "data": {
            "text/plain": [
              "Timestamp('2019-01-01 12:00:00')"
            ]
          },
          "metadata": {
            "tags": []
          },
          "execution_count": 52
        }
      ]
    },
    {
      "cell_type": "markdown",
      "metadata": {
        "id": "WbwZgTk4sPfN"
      },
      "source": [
        "하지만 to_datetime()에 날짜들의 리스트를 넣을 경우 범위. 즉, DatetimeIndex를 표현하게 됩니다. DatetimeIndex라는 클래스로 배열이 생기고 데이터 타입이 datetime64[ns]로 표현되는 것을 확인할 수 있습니다."
      ]
    },
    {
      "cell_type": "code",
      "metadata": {
        "colab": {
          "base_uri": "https://localhost:8080/"
        },
        "id": "I0auXIBmr62D",
        "outputId": "6639aaa8-64f7-4f88-97b0-e27f2ad3e468"
      },
      "source": [
        "pd.to_datetime(['2018-1-1', '2019-1-2'])"
      ],
      "execution_count": null,
      "outputs": [
        {
          "output_type": "execute_result",
          "data": {
            "text/plain": [
              "DatetimeIndex(['2018-01-01', '2019-01-02'], dtype='datetime64[ns]', freq=None)"
            ]
          },
          "metadata": {
            "tags": []
          },
          "execution_count": 53
        }
      ]
    },
    {
      "cell_type": "markdown",
      "metadata": {
        "id": "B8pRHYGZs79v"
      },
      "source": [
        "마지막으로, date_range() 함수는 특정 기간의 날짜를 자동 생성합니다. '2019-01'과 '2019-02'를 전달하면 출력 결과는 2월 말까지 데이터를 생성하는 것이 아니라 2월 1일자 데이터만 생성합니다. 간단하게 생각하면, 둘째 인자로 전달한 값의 월은 고려하지 않는다는 것입니다. 추후 데이터를 생성하거나 가공할 때 주의가 필요한 대목입니다."
      ]
    },
    {
      "cell_type": "code",
      "metadata": {
        "colab": {
          "base_uri": "https://localhost:8080/"
        },
        "id": "f8KRdlxfsAKK",
        "outputId": "99e0ccf8-993d-4b89-e22c-d0534cd83a48"
      },
      "source": [
        "pd.date_range('2019-01','2019-02')"
      ],
      "execution_count": null,
      "outputs": [
        {
          "output_type": "execute_result",
          "data": {
            "text/plain": [
              "DatetimeIndex(['2019-01-01', '2019-01-02', '2019-01-03', '2019-01-04',\n",
              "               '2019-01-05', '2019-01-06', '2019-01-07', '2019-01-08',\n",
              "               '2019-01-09', '2019-01-10', '2019-01-11', '2019-01-12',\n",
              "               '2019-01-13', '2019-01-14', '2019-01-15', '2019-01-16',\n",
              "               '2019-01-17', '2019-01-18', '2019-01-19', '2019-01-20',\n",
              "               '2019-01-21', '2019-01-22', '2019-01-23', '2019-01-24',\n",
              "               '2019-01-25', '2019-01-26', '2019-01-27', '2019-01-28',\n",
              "               '2019-01-29', '2019-01-30', '2019-01-31', '2019-02-01'],\n",
              "              dtype='datetime64[ns]', freq='D')"
            ]
          },
          "metadata": {
            "tags": []
          },
          "execution_count": 54
        }
      ]
    },
    {
      "cell_type": "markdown",
      "metadata": {
        "id": "_VfIwVk5G2OE"
      },
      "source": [
        "###Period와 PeriodIndex"
      ]
    },
    {
      "cell_type": "markdown",
      "metadata": {
        "id": "uy5l_KWyHHIQ"
      },
      "source": [
        "* pd.Period()  \n",
        "* pd.period_range()"
      ]
    },
    {
      "cell_type": "markdown",
      "metadata": {
        "id": "ddXzRZ0bGZ5N"
      },
      "source": [
        "이번에는 또 다른 개념인 Period와 PeriodIndex에 대해서 이해해봅시다. 이를 생성하는 방법은 Period 함수와 period_range 함수가 있습니다."
      ]
    },
    {
      "cell_type": "code",
      "metadata": {
        "colab": {
          "base_uri": "https://localhost:8080/"
        },
        "id": "rg-aJJPVsBYi",
        "outputId": "73b53e73-0165-4bef-9580-2655a94fd99a"
      },
      "source": [
        "pd.Period('2019-01')"
      ],
      "execution_count": null,
      "outputs": [
        {
          "output_type": "execute_result",
          "data": {
            "text/plain": [
              "Period('2019-01', 'M')"
            ]
          },
          "metadata": {
            "tags": []
          },
          "execution_count": 55
        }
      ]
    },
    {
      "cell_type": "markdown",
      "metadata": {
        "id": "IKpGppHXG6dP"
      },
      "source": [
        "이번에 배우는 Period와 PeriodIndex는 특정 시점이 아니라 기간을 포괄하는 개념입니다. 그래서 freq 인자를 사용할 수 있습니다.  \n",
        "\n",
        "pd.Period()를 사용해 '2019-01'을 넣을 때 출력값이 기본적으로는 월 단위(freq='M')으로 인식됩니다. 하지만 매개변수 freq를 일간. 즉, daily를 뜻하는 'D'로 설정하면 일 단위로 자동 생성되고 '2019-01'과는 달리 '2019-05-01'처럼 1일자까지 붙는 것을 확인할 수 있습니다.  "
      ]
    },
    {
      "cell_type": "code",
      "metadata": {
        "colab": {
          "base_uri": "https://localhost:8080/"
        },
        "id": "m9nN9PWIGjKN",
        "outputId": "1547b578-9617-4874-eb5b-140a8e43f783"
      },
      "source": [
        "pd.Period('2019-05', freq='D')"
      ],
      "execution_count": null,
      "outputs": [
        {
          "output_type": "execute_result",
          "data": {
            "text/plain": [
              "Period('2019-05-01', 'D')"
            ]
          },
          "metadata": {
            "tags": []
          },
          "execution_count": 56
        }
      ]
    },
    {
      "cell_type": "markdown",
      "metadata": {
        "id": "ng0FCzs_Hvep"
      },
      "source": [
        "그리고 str 타입의 두 개 이상 날짜 데이터를 전달하면 PeriodIndex 클래스로 묶입니다."
      ]
    },
    {
      "cell_type": "code",
      "metadata": {
        "colab": {
          "base_uri": "https://localhost:8080/"
        },
        "id": "Rr1KLDKMGke8",
        "outputId": "48daa8bb-b5a1-429f-909c-2a9a218aba13"
      },
      "source": [
        "pd.period_range('2019-01','2019-02',freq='D')"
      ],
      "execution_count": null,
      "outputs": [
        {
          "output_type": "execute_result",
          "data": {
            "text/plain": [
              "PeriodIndex(['2019-01-01', '2019-01-02', '2019-01-03', '2019-01-04',\n",
              "             '2019-01-05', '2019-01-06', '2019-01-07', '2019-01-08',\n",
              "             '2019-01-09', '2019-01-10', '2019-01-11', '2019-01-12',\n",
              "             '2019-01-13', '2019-01-14', '2019-01-15', '2019-01-16',\n",
              "             '2019-01-17', '2019-01-18', '2019-01-19', '2019-01-20',\n",
              "             '2019-01-21', '2019-01-22', '2019-01-23', '2019-01-24',\n",
              "             '2019-01-25', '2019-01-26', '2019-01-27', '2019-01-28',\n",
              "             '2019-01-29', '2019-01-30', '2019-01-31', '2019-02-01'],\n",
              "            dtype='period[D]', freq='D')"
            ]
          },
          "metadata": {
            "tags": []
          },
          "execution_count": 57
        }
      ]
    },
    {
      "cell_type": "markdown",
      "metadata": {
        "id": "rtPaYlgtIZMb"
      },
      "source": [
        "###Timestamp Vs. Period"
      ]
    },
    {
      "cell_type": "markdown",
      "metadata": {
        "id": "yRosQengH1Dt"
      },
      "source": [
        "pd.Period()와 앞서 배운 pd.Timestamp()에 어떤 차이가 있는지 한번 비교 연산을 통해서 이해해보겠습니다."
      ]
    },
    {
      "cell_type": "code",
      "metadata": {
        "colab": {
          "base_uri": "https://localhost:8080/"
        },
        "id": "bUjHnzbsGlms",
        "outputId": "b519ac56-54b5-41b8-ba5c-9f4baa8b6038"
      },
      "source": [
        "p = pd.Period('2019-06-13')\n",
        "test = pd.Timestamp('2019-06-13 22:11')\n",
        "p.start_time < test < p.end_time"
      ],
      "execution_count": null,
      "outputs": [
        {
          "output_type": "execute_result",
          "data": {
            "text/plain": [
              "True"
            ]
          },
          "metadata": {
            "tags": []
          },
          "execution_count": 59
        }
      ]
    },
    {
      "cell_type": "markdown",
      "metadata": {
        "id": "36SNnFCfIH0-"
      },
      "source": [
        "Timestamp는 한 시점을 뜻하고,  \n",
        "Period는 1일의 시작 시점부터 종료 시점까지의 범위를 포괄합니다."
      ]
    },
    {
      "cell_type": "code",
      "metadata": {
        "colab": {
          "base_uri": "https://localhost:8080/"
        },
        "id": "RCYq8l1gIP16",
        "outputId": "fb94b955-d811-4957-9b13-2ba570234d24"
      },
      "source": [
        "p.start_time"
      ],
      "execution_count": null,
      "outputs": [
        {
          "output_type": "execute_result",
          "data": {
            "text/plain": [
              "Timestamp('2019-06-13 00:00:00')"
            ]
          },
          "metadata": {
            "tags": []
          },
          "execution_count": 60
        }
      ]
    },
    {
      "cell_type": "code",
      "metadata": {
        "colab": {
          "base_uri": "https://localhost:8080/"
        },
        "id": "o534KR8QIQi8",
        "outputId": "f33ff2cc-e16a-4252-ffef-8055f8101e2c"
      },
      "source": [
        "p.end_time"
      ],
      "execution_count": null,
      "outputs": [
        {
          "output_type": "execute_result",
          "data": {
            "text/plain": [
              "Timestamp('2019-06-13 23:59:59.999999999')"
            ]
          },
          "metadata": {
            "tags": []
          },
          "execution_count": 61
        }
      ]
    },
    {
      "cell_type": "markdown",
      "metadata": {
        "id": "NoUCC-D7MIFe"
      },
      "source": [
        "#2. FinanceDataReader"
      ]
    },
    {
      "cell_type": "code",
      "metadata": {
        "colab": {
          "base_uri": "https://localhost:8080/"
        },
        "id": "-dQ1xytYMmrq",
        "outputId": "e47669c3-f920-4e5d-e10a-f337478ca5a8"
      },
      "source": [
        "pip install -U finance-datareader"
      ],
      "execution_count": null,
      "outputs": [
        {
          "output_type": "stream",
          "text": [
            "Collecting finance-datareader\n",
            "  Downloading https://files.pythonhosted.org/packages/83/5e/54306e72b5ff5d5ec6cc9f32cdf19602237f9bb70d64efcd527338388be3/finance_datareader-0.9.31-py3-none-any.whl\n",
            "Requirement already satisfied, skipping upgrade: tqdm in /usr/local/lib/python3.7/dist-packages (from finance-datareader) (4.41.1)\n",
            "Requirement already satisfied, skipping upgrade: requests>=2.3.0 in /usr/local/lib/python3.7/dist-packages (from finance-datareader) (2.23.0)\n",
            "Collecting requests-file\n",
            "  Downloading https://files.pythonhosted.org/packages/77/86/cdb5e8eaed90796aa83a6d9f75cfbd37af553c47a291cd47bc410ef9bdb2/requests_file-1.5.1-py2.py3-none-any.whl\n",
            "Requirement already satisfied, skipping upgrade: pandas>=0.19.2 in /usr/local/lib/python3.7/dist-packages (from finance-datareader) (1.1.5)\n",
            "Requirement already satisfied, skipping upgrade: lxml in /usr/local/lib/python3.7/dist-packages (from finance-datareader) (4.2.6)\n",
            "Requirement already satisfied, skipping upgrade: urllib3!=1.25.0,!=1.25.1,<1.26,>=1.21.1 in /usr/local/lib/python3.7/dist-packages (from requests>=2.3.0->finance-datareader) (1.24.3)\n",
            "Requirement already satisfied, skipping upgrade: idna<3,>=2.5 in /usr/local/lib/python3.7/dist-packages (from requests>=2.3.0->finance-datareader) (2.10)\n",
            "Requirement already satisfied, skipping upgrade: certifi>=2017.4.17 in /usr/local/lib/python3.7/dist-packages (from requests>=2.3.0->finance-datareader) (2021.5.30)\n",
            "Requirement already satisfied, skipping upgrade: chardet<4,>=3.0.2 in /usr/local/lib/python3.7/dist-packages (from requests>=2.3.0->finance-datareader) (3.0.4)\n",
            "Requirement already satisfied, skipping upgrade: six in /usr/local/lib/python3.7/dist-packages (from requests-file->finance-datareader) (1.15.0)\n",
            "Requirement already satisfied, skipping upgrade: numpy>=1.15.4 in /usr/local/lib/python3.7/dist-packages (from pandas>=0.19.2->finance-datareader) (1.19.5)\n",
            "Requirement already satisfied, skipping upgrade: python-dateutil>=2.7.3 in /usr/local/lib/python3.7/dist-packages (from pandas>=0.19.2->finance-datareader) (2.8.1)\n",
            "Requirement already satisfied, skipping upgrade: pytz>=2017.2 in /usr/local/lib/python3.7/dist-packages (from pandas>=0.19.2->finance-datareader) (2018.9)\n",
            "Installing collected packages: requests-file, finance-datareader\n",
            "Successfully installed finance-datareader-0.9.31 requests-file-1.5.1\n"
          ],
          "name": "stdout"
        }
      ]
    },
    {
      "cell_type": "code",
      "metadata": {
        "id": "rzk-pFRcMmAR"
      },
      "source": [
        "import FinanceDataReader as fdr"
      ],
      "execution_count": null,
      "outputs": []
    },
    {
      "cell_type": "markdown",
      "metadata": {
        "id": "qcGfElVnMuGM"
      },
      "source": [
        "FinanceDataReader는 한국 주식 가격, 미국 주식 가격, 지수, 환율, 암호 화폐 가격, 종목 리스트 등을 제공하는 API 패키지입니다.  \n",
        "사용법을 이해해봅시다.  \n",
        "다음 코드는 한국 거래소에 상장된 모든 종목 리스트를 가져옵니다."
      ]
    },
    {
      "cell_type": "code",
      "metadata": {
        "id": "rq4L-HQ6MrVk"
      },
      "source": [
        "df_krx = fdr.StockListing('KRX')"
      ],
      "execution_count": null,
      "outputs": []
    },
    {
      "cell_type": "code",
      "metadata": {
        "colab": {
          "base_uri": "https://localhost:8080/"
        },
        "id": "a52aS4K0MbkT",
        "outputId": "1d725cfa-9089-47c3-f411-1132b59530e3"
      },
      "source": [
        "type(df_krx)"
      ],
      "execution_count": null,
      "outputs": [
        {
          "output_type": "execute_result",
          "data": {
            "text/plain": [
              "pandas.core.frame.DataFrame"
            ]
          },
          "metadata": {
            "tags": []
          },
          "execution_count": 28
        }
      ]
    },
    {
      "cell_type": "code",
      "metadata": {
        "colab": {
          "base_uri": "https://localhost:8080/",
          "height": 753
        },
        "id": "9DXHwzAeMerS",
        "outputId": "d0240116-ac41-48f1-f59e-47e52f7a732b"
      },
      "source": [
        "df_krx"
      ],
      "execution_count": null,
      "outputs": [
        {
          "output_type": "execute_result",
          "data": {
            "text/html": [
              "<div>\n",
              "<style scoped>\n",
              "    .dataframe tbody tr th:only-of-type {\n",
              "        vertical-align: middle;\n",
              "    }\n",
              "\n",
              "    .dataframe tbody tr th {\n",
              "        vertical-align: top;\n",
              "    }\n",
              "\n",
              "    .dataframe thead th {\n",
              "        text-align: right;\n",
              "    }\n",
              "</style>\n",
              "<table border=\"1\" class=\"dataframe\">\n",
              "  <thead>\n",
              "    <tr style=\"text-align: right;\">\n",
              "      <th></th>\n",
              "      <th>Symbol</th>\n",
              "      <th>Market</th>\n",
              "      <th>Name</th>\n",
              "      <th>Sector</th>\n",
              "      <th>Industry</th>\n",
              "      <th>ListingDate</th>\n",
              "      <th>SettleMonth</th>\n",
              "      <th>Representative</th>\n",
              "      <th>HomePage</th>\n",
              "      <th>Region</th>\n",
              "    </tr>\n",
              "  </thead>\n",
              "  <tbody>\n",
              "    <tr>\n",
              "      <th>0</th>\n",
              "      <td>060310</td>\n",
              "      <td>KOSDAQ</td>\n",
              "      <td>3S</td>\n",
              "      <td>특수 목적용 기계 제조업</td>\n",
              "      <td>반도체 웨이퍼 캐리어</td>\n",
              "      <td>2002-04-23</td>\n",
              "      <td>03월</td>\n",
              "      <td>박종익, 김세완 (각자 대표이사)</td>\n",
              "      <td>http://www.3sref.com</td>\n",
              "      <td>서울특별시</td>\n",
              "    </tr>\n",
              "    <tr>\n",
              "      <th>1</th>\n",
              "      <td>095570</td>\n",
              "      <td>KOSPI</td>\n",
              "      <td>AJ네트웍스</td>\n",
              "      <td>산업용 기계 및 장비 임대업</td>\n",
              "      <td>렌탈(파렛트, OA장비, 건설장비)</td>\n",
              "      <td>2015-08-21</td>\n",
              "      <td>12월</td>\n",
              "      <td>박대현</td>\n",
              "      <td>http://www.ajnet.co.kr</td>\n",
              "      <td>서울특별시</td>\n",
              "    </tr>\n",
              "    <tr>\n",
              "      <th>2</th>\n",
              "      <td>006840</td>\n",
              "      <td>KOSPI</td>\n",
              "      <td>AK홀딩스</td>\n",
              "      <td>기타 금융업</td>\n",
              "      <td>지주사업</td>\n",
              "      <td>1999-08-11</td>\n",
              "      <td>12월</td>\n",
              "      <td>채형석, 이석주(각자 대표이사)</td>\n",
              "      <td>http://www.aekyunggroup.co.kr</td>\n",
              "      <td>서울특별시</td>\n",
              "    </tr>\n",
              "    <tr>\n",
              "      <th>3</th>\n",
              "      <td>054620</td>\n",
              "      <td>KOSDAQ</td>\n",
              "      <td>APS홀딩스</td>\n",
              "      <td>기타 금융업</td>\n",
              "      <td>인터넷 트래픽 솔루션</td>\n",
              "      <td>2001-12-04</td>\n",
              "      <td>12월</td>\n",
              "      <td>정기로</td>\n",
              "      <td>http://www.apsholdings.co.kr</td>\n",
              "      <td>경기도</td>\n",
              "    </tr>\n",
              "    <tr>\n",
              "      <th>4</th>\n",
              "      <td>265520</td>\n",
              "      <td>KOSDAQ</td>\n",
              "      <td>AP시스템</td>\n",
              "      <td>특수 목적용 기계 제조업</td>\n",
              "      <td>디스플레이 제조 장비</td>\n",
              "      <td>2017-04-07</td>\n",
              "      <td>12월</td>\n",
              "      <td>김영주</td>\n",
              "      <td>http://www.apsystems.co.kr</td>\n",
              "      <td>경기도</td>\n",
              "    </tr>\n",
              "    <tr>\n",
              "      <th>...</th>\n",
              "      <td>...</td>\n",
              "      <td>...</td>\n",
              "      <td>...</td>\n",
              "      <td>...</td>\n",
              "      <td>...</td>\n",
              "      <td>...</td>\n",
              "      <td>...</td>\n",
              "      <td>...</td>\n",
              "      <td>...</td>\n",
              "      <td>...</td>\n",
              "    </tr>\n",
              "    <tr>\n",
              "      <th>6950</th>\n",
              "      <td>000547</td>\n",
              "      <td>KOSPI</td>\n",
              "      <td>흥국화재2우B</td>\n",
              "      <td>NaN</td>\n",
              "      <td>NaN</td>\n",
              "      <td>NaT</td>\n",
              "      <td>NaN</td>\n",
              "      <td>NaN</td>\n",
              "      <td>NaN</td>\n",
              "      <td>NaN</td>\n",
              "    </tr>\n",
              "    <tr>\n",
              "      <th>6951</th>\n",
              "      <td>000545</td>\n",
              "      <td>KOSPI</td>\n",
              "      <td>흥국화재우</td>\n",
              "      <td>NaN</td>\n",
              "      <td>NaN</td>\n",
              "      <td>NaT</td>\n",
              "      <td>NaN</td>\n",
              "      <td>NaN</td>\n",
              "      <td>NaN</td>\n",
              "      <td>NaN</td>\n",
              "    </tr>\n",
              "    <tr>\n",
              "      <th>6952</th>\n",
              "      <td>003280</td>\n",
              "      <td>KOSPI</td>\n",
              "      <td>흥아해운</td>\n",
              "      <td>해상 운송업</td>\n",
              "      <td>외항화물운송업(케미컬탱커)</td>\n",
              "      <td>1976-06-29</td>\n",
              "      <td>12월</td>\n",
              "      <td>이환구</td>\n",
              "      <td>http://www.heung-a.com</td>\n",
              "      <td>서울특별시</td>\n",
              "    </tr>\n",
              "    <tr>\n",
              "      <th>6953</th>\n",
              "      <td>037440</td>\n",
              "      <td>KOSDAQ</td>\n",
              "      <td>희림</td>\n",
              "      <td>건축기술, 엔지니어링 및 관련 기술 서비스업</td>\n",
              "      <td>설계 및 감리용역</td>\n",
              "      <td>2000-02-03</td>\n",
              "      <td>12월</td>\n",
              "      <td>정영균, 이목운, 허철호 (각자대표)</td>\n",
              "      <td>http://www.heerim.com</td>\n",
              "      <td>서울특별시</td>\n",
              "    </tr>\n",
              "    <tr>\n",
              "      <th>6954</th>\n",
              "      <td>238490</td>\n",
              "      <td>KOSDAQ</td>\n",
              "      <td>힘스</td>\n",
              "      <td>특수 목적용 기계 제조업</td>\n",
              "      <td>OLED Mask 인장기, OLED Mask 검사기 등</td>\n",
              "      <td>2017-07-20</td>\n",
              "      <td>12월</td>\n",
              "      <td>김주환</td>\n",
              "      <td>http://www.hims.co.kr</td>\n",
              "      <td>인천광역시</td>\n",
              "    </tr>\n",
              "  </tbody>\n",
              "</table>\n",
              "<p>6955 rows × 10 columns</p>\n",
              "</div>"
            ],
            "text/plain": [
              "      Symbol  Market  ...                       HomePage Region\n",
              "0     060310  KOSDAQ  ...           http://www.3sref.com  서울특별시\n",
              "1     095570   KOSPI  ...         http://www.ajnet.co.kr  서울특별시\n",
              "2     006840   KOSPI  ...  http://www.aekyunggroup.co.kr  서울특별시\n",
              "3     054620  KOSDAQ  ...   http://www.apsholdings.co.kr    경기도\n",
              "4     265520  KOSDAQ  ...     http://www.apsystems.co.kr    경기도\n",
              "...      ...     ...  ...                            ...    ...\n",
              "6950  000547   KOSPI  ...                            NaN    NaN\n",
              "6951  000545   KOSPI  ...                            NaN    NaN\n",
              "6952  003280   KOSPI  ...         http://www.heung-a.com  서울특별시\n",
              "6953  037440  KOSDAQ  ...          http://www.heerim.com  서울특별시\n",
              "6954  238490  KOSDAQ  ...          http://www.hims.co.kr  인천광역시\n",
              "\n",
              "[6955 rows x 10 columns]"
            ]
          },
          "metadata": {
            "tags": []
          },
          "execution_count": 29
        }
      ]
    },
    {
      "cell_type": "code",
      "metadata": {
        "colab": {
          "base_uri": "https://localhost:8080/",
          "height": 304
        },
        "id": "KwWdSzBQMatr",
        "outputId": "b6e187a8-6b4c-4427-c678-099820b092f5"
      },
      "source": [
        "df_krx.head()"
      ],
      "execution_count": null,
      "outputs": [
        {
          "output_type": "execute_result",
          "data": {
            "text/html": [
              "<div>\n",
              "<style scoped>\n",
              "    .dataframe tbody tr th:only-of-type {\n",
              "        vertical-align: middle;\n",
              "    }\n",
              "\n",
              "    .dataframe tbody tr th {\n",
              "        vertical-align: top;\n",
              "    }\n",
              "\n",
              "    .dataframe thead th {\n",
              "        text-align: right;\n",
              "    }\n",
              "</style>\n",
              "<table border=\"1\" class=\"dataframe\">\n",
              "  <thead>\n",
              "    <tr style=\"text-align: right;\">\n",
              "      <th></th>\n",
              "      <th>Symbol</th>\n",
              "      <th>Market</th>\n",
              "      <th>Name</th>\n",
              "      <th>Sector</th>\n",
              "      <th>Industry</th>\n",
              "      <th>ListingDate</th>\n",
              "      <th>SettleMonth</th>\n",
              "      <th>Representative</th>\n",
              "      <th>HomePage</th>\n",
              "      <th>Region</th>\n",
              "    </tr>\n",
              "  </thead>\n",
              "  <tbody>\n",
              "    <tr>\n",
              "      <th>0</th>\n",
              "      <td>060310</td>\n",
              "      <td>KOSDAQ</td>\n",
              "      <td>3S</td>\n",
              "      <td>특수 목적용 기계 제조업</td>\n",
              "      <td>반도체 웨이퍼 캐리어</td>\n",
              "      <td>2002-04-23</td>\n",
              "      <td>03월</td>\n",
              "      <td>박종익, 김세완 (각자 대표이사)</td>\n",
              "      <td>http://www.3sref.com</td>\n",
              "      <td>서울특별시</td>\n",
              "    </tr>\n",
              "    <tr>\n",
              "      <th>1</th>\n",
              "      <td>095570</td>\n",
              "      <td>KOSPI</td>\n",
              "      <td>AJ네트웍스</td>\n",
              "      <td>산업용 기계 및 장비 임대업</td>\n",
              "      <td>렌탈(파렛트, OA장비, 건설장비)</td>\n",
              "      <td>2015-08-21</td>\n",
              "      <td>12월</td>\n",
              "      <td>박대현</td>\n",
              "      <td>http://www.ajnet.co.kr</td>\n",
              "      <td>서울특별시</td>\n",
              "    </tr>\n",
              "    <tr>\n",
              "      <th>2</th>\n",
              "      <td>006840</td>\n",
              "      <td>KOSPI</td>\n",
              "      <td>AK홀딩스</td>\n",
              "      <td>기타 금융업</td>\n",
              "      <td>지주사업</td>\n",
              "      <td>1999-08-11</td>\n",
              "      <td>12월</td>\n",
              "      <td>채형석, 이석주(각자 대표이사)</td>\n",
              "      <td>http://www.aekyunggroup.co.kr</td>\n",
              "      <td>서울특별시</td>\n",
              "    </tr>\n",
              "    <tr>\n",
              "      <th>3</th>\n",
              "      <td>054620</td>\n",
              "      <td>KOSDAQ</td>\n",
              "      <td>APS홀딩스</td>\n",
              "      <td>기타 금융업</td>\n",
              "      <td>인터넷 트래픽 솔루션</td>\n",
              "      <td>2001-12-04</td>\n",
              "      <td>12월</td>\n",
              "      <td>정기로</td>\n",
              "      <td>http://www.apsholdings.co.kr</td>\n",
              "      <td>경기도</td>\n",
              "    </tr>\n",
              "    <tr>\n",
              "      <th>4</th>\n",
              "      <td>265520</td>\n",
              "      <td>KOSDAQ</td>\n",
              "      <td>AP시스템</td>\n",
              "      <td>특수 목적용 기계 제조업</td>\n",
              "      <td>디스플레이 제조 장비</td>\n",
              "      <td>2017-04-07</td>\n",
              "      <td>12월</td>\n",
              "      <td>김영주</td>\n",
              "      <td>http://www.apsystems.co.kr</td>\n",
              "      <td>경기도</td>\n",
              "    </tr>\n",
              "  </tbody>\n",
              "</table>\n",
              "</div>"
            ],
            "text/plain": [
              "   Symbol  Market  ...                       HomePage Region\n",
              "0  060310  KOSDAQ  ...           http://www.3sref.com  서울특별시\n",
              "1  095570   KOSPI  ...         http://www.ajnet.co.kr  서울특별시\n",
              "2  006840   KOSPI  ...  http://www.aekyunggroup.co.kr  서울특별시\n",
              "3  054620  KOSDAQ  ...   http://www.apsholdings.co.kr    경기도\n",
              "4  265520  KOSDAQ  ...     http://www.apsystems.co.kr    경기도\n",
              "\n",
              "[5 rows x 10 columns]"
            ]
          },
          "metadata": {
            "tags": []
          },
          "execution_count": 30
        }
      ]
    },
    {
      "cell_type": "code",
      "metadata": {
        "colab": {
          "base_uri": "https://localhost:8080/",
          "height": 321
        },
        "id": "RjUmcppON3h2",
        "outputId": "34e695d9-80c9-4ee9-8328-91ed6aca5e25"
      },
      "source": [
        "df_krx.tail()"
      ],
      "execution_count": null,
      "outputs": [
        {
          "output_type": "execute_result",
          "data": {
            "text/html": [
              "<div>\n",
              "<style scoped>\n",
              "    .dataframe tbody tr th:only-of-type {\n",
              "        vertical-align: middle;\n",
              "    }\n",
              "\n",
              "    .dataframe tbody tr th {\n",
              "        vertical-align: top;\n",
              "    }\n",
              "\n",
              "    .dataframe thead th {\n",
              "        text-align: right;\n",
              "    }\n",
              "</style>\n",
              "<table border=\"1\" class=\"dataframe\">\n",
              "  <thead>\n",
              "    <tr style=\"text-align: right;\">\n",
              "      <th></th>\n",
              "      <th>Symbol</th>\n",
              "      <th>Market</th>\n",
              "      <th>Name</th>\n",
              "      <th>Sector</th>\n",
              "      <th>Industry</th>\n",
              "      <th>ListingDate</th>\n",
              "      <th>SettleMonth</th>\n",
              "      <th>Representative</th>\n",
              "      <th>HomePage</th>\n",
              "      <th>Region</th>\n",
              "    </tr>\n",
              "  </thead>\n",
              "  <tbody>\n",
              "    <tr>\n",
              "      <th>6950</th>\n",
              "      <td>000547</td>\n",
              "      <td>KOSPI</td>\n",
              "      <td>흥국화재2우B</td>\n",
              "      <td>NaN</td>\n",
              "      <td>NaN</td>\n",
              "      <td>NaT</td>\n",
              "      <td>NaN</td>\n",
              "      <td>NaN</td>\n",
              "      <td>NaN</td>\n",
              "      <td>NaN</td>\n",
              "    </tr>\n",
              "    <tr>\n",
              "      <th>6951</th>\n",
              "      <td>000545</td>\n",
              "      <td>KOSPI</td>\n",
              "      <td>흥국화재우</td>\n",
              "      <td>NaN</td>\n",
              "      <td>NaN</td>\n",
              "      <td>NaT</td>\n",
              "      <td>NaN</td>\n",
              "      <td>NaN</td>\n",
              "      <td>NaN</td>\n",
              "      <td>NaN</td>\n",
              "    </tr>\n",
              "    <tr>\n",
              "      <th>6952</th>\n",
              "      <td>003280</td>\n",
              "      <td>KOSPI</td>\n",
              "      <td>흥아해운</td>\n",
              "      <td>해상 운송업</td>\n",
              "      <td>외항화물운송업(케미컬탱커)</td>\n",
              "      <td>1976-06-29</td>\n",
              "      <td>12월</td>\n",
              "      <td>이환구</td>\n",
              "      <td>http://www.heung-a.com</td>\n",
              "      <td>서울특별시</td>\n",
              "    </tr>\n",
              "    <tr>\n",
              "      <th>6953</th>\n",
              "      <td>037440</td>\n",
              "      <td>KOSDAQ</td>\n",
              "      <td>희림</td>\n",
              "      <td>건축기술, 엔지니어링 및 관련 기술 서비스업</td>\n",
              "      <td>설계 및 감리용역</td>\n",
              "      <td>2000-02-03</td>\n",
              "      <td>12월</td>\n",
              "      <td>정영균, 이목운, 허철호 (각자대표)</td>\n",
              "      <td>http://www.heerim.com</td>\n",
              "      <td>서울특별시</td>\n",
              "    </tr>\n",
              "    <tr>\n",
              "      <th>6954</th>\n",
              "      <td>238490</td>\n",
              "      <td>KOSDAQ</td>\n",
              "      <td>힘스</td>\n",
              "      <td>특수 목적용 기계 제조업</td>\n",
              "      <td>OLED Mask 인장기, OLED Mask 검사기 등</td>\n",
              "      <td>2017-07-20</td>\n",
              "      <td>12월</td>\n",
              "      <td>김주환</td>\n",
              "      <td>http://www.hims.co.kr</td>\n",
              "      <td>인천광역시</td>\n",
              "    </tr>\n",
              "  </tbody>\n",
              "</table>\n",
              "</div>"
            ],
            "text/plain": [
              "      Symbol  Market  ...                HomePage Region\n",
              "6950  000547   KOSPI  ...                     NaN    NaN\n",
              "6951  000545   KOSPI  ...                     NaN    NaN\n",
              "6952  003280   KOSPI  ...  http://www.heung-a.com  서울특별시\n",
              "6953  037440  KOSDAQ  ...   http://www.heerim.com  서울특별시\n",
              "6954  238490  KOSDAQ  ...   http://www.hims.co.kr  인천광역시\n",
              "\n",
              "[5 rows x 10 columns]"
            ]
          },
          "metadata": {
            "tags": []
          },
          "execution_count": 31
        }
      ]
    },
    {
      "cell_type": "markdown",
      "metadata": {
        "id": "pQ1GcOssM9zm"
      },
      "source": [
        "Pandas에서 제공되는 데이터프레임 형태로 데이터가 로드됩니다."
      ]
    },
    {
      "cell_type": "markdown",
      "metadata": {
        "id": "QR4IegW8NDrx"
      },
      "source": [
        "패키지를 임포트한다음 StockListing() 함수에 'KRX' 심볼을 전달하면, 한국 거래소에 상장된 전체 종목 리스트를 출력합니다.  \n",
        "다음 코드는 미국 S&P 500에 등록된 모든 종목 리스트를 가져옵니다."
      ]
    },
    {
      "cell_type": "markdown",
      "metadata": {
        "id": "74cxCPNdNOwP"
      },
      "source": [
        "StockListing() 함수에 미국 'S&P500' 심볼을 전달하면, S&P 500 지수에 등록된 전체 종목 리스트를 출력할 수 있습니다."
      ]
    },
    {
      "cell_type": "code",
      "metadata": {
        "colab": {
          "base_uri": "https://localhost:8080/",
          "height": 203
        },
        "id": "ZebPf8ejM5zl",
        "outputId": "73b23f25-4b6a-4a9a-9af7-4d68eb836b5b"
      },
      "source": [
        "import FinanceDataReader as fdr\n",
        "# S&P 500 종목 전체\n",
        "df_spx = fdr.StockListing('S&P500')\n",
        "df_spx.head()"
      ],
      "execution_count": null,
      "outputs": [
        {
          "output_type": "execute_result",
          "data": {
            "text/html": [
              "<div>\n",
              "<style scoped>\n",
              "    .dataframe tbody tr th:only-of-type {\n",
              "        vertical-align: middle;\n",
              "    }\n",
              "\n",
              "    .dataframe tbody tr th {\n",
              "        vertical-align: top;\n",
              "    }\n",
              "\n",
              "    .dataframe thead th {\n",
              "        text-align: right;\n",
              "    }\n",
              "</style>\n",
              "<table border=\"1\" class=\"dataframe\">\n",
              "  <thead>\n",
              "    <tr style=\"text-align: right;\">\n",
              "      <th></th>\n",
              "      <th>Symbol</th>\n",
              "      <th>Name</th>\n",
              "      <th>Sector</th>\n",
              "      <th>Industry</th>\n",
              "    </tr>\n",
              "  </thead>\n",
              "  <tbody>\n",
              "    <tr>\n",
              "      <th>0</th>\n",
              "      <td>MMM</td>\n",
              "      <td>3M</td>\n",
              "      <td>Industrials</td>\n",
              "      <td>Industrial Conglomerates</td>\n",
              "    </tr>\n",
              "    <tr>\n",
              "      <th>1</th>\n",
              "      <td>ABT</td>\n",
              "      <td>Abbott Laboratories</td>\n",
              "      <td>Health Care</td>\n",
              "      <td>Health Care Equipment</td>\n",
              "    </tr>\n",
              "    <tr>\n",
              "      <th>2</th>\n",
              "      <td>ABBV</td>\n",
              "      <td>AbbVie</td>\n",
              "      <td>Health Care</td>\n",
              "      <td>Pharmaceuticals</td>\n",
              "    </tr>\n",
              "    <tr>\n",
              "      <th>3</th>\n",
              "      <td>ABMD</td>\n",
              "      <td>Abiomed</td>\n",
              "      <td>Health Care</td>\n",
              "      <td>Health Care Equipment</td>\n",
              "    </tr>\n",
              "    <tr>\n",
              "      <th>4</th>\n",
              "      <td>ACN</td>\n",
              "      <td>Accenture</td>\n",
              "      <td>Information Technology</td>\n",
              "      <td>IT Consulting &amp; Other Services</td>\n",
              "    </tr>\n",
              "  </tbody>\n",
              "</table>\n",
              "</div>"
            ],
            "text/plain": [
              "  Symbol  ...                        Industry\n",
              "0    MMM  ...        Industrial Conglomerates\n",
              "1    ABT  ...           Health Care Equipment\n",
              "2   ABBV  ...                 Pharmaceuticals\n",
              "3   ABMD  ...           Health Care Equipment\n",
              "4    ACN  ...  IT Consulting & Other Services\n",
              "\n",
              "[5 rows x 4 columns]"
            ]
          },
          "metadata": {
            "tags": []
          },
          "execution_count": 32
        }
      ]
    },
    {
      "cell_type": "code",
      "metadata": {
        "colab": {
          "base_uri": "https://localhost:8080/"
        },
        "id": "Zoi6AgIlOD69",
        "outputId": "5285c423-a049-4375-829d-0ece3651876e"
      },
      "source": [
        "len(df_spx)"
      ],
      "execution_count": null,
      "outputs": [
        {
          "output_type": "execute_result",
          "data": {
            "text/plain": [
              "505"
            ]
          },
          "metadata": {
            "tags": []
          },
          "execution_count": 33
        }
      ]
    },
    {
      "cell_type": "code",
      "metadata": {
        "colab": {
          "base_uri": "https://localhost:8080/",
          "height": 417
        },
        "id": "l6yS0co0OGqM",
        "outputId": "978ef66b-f666-4d4f-a2bf-c36b35838870"
      },
      "source": [
        "df_spx"
      ],
      "execution_count": null,
      "outputs": [
        {
          "output_type": "execute_result",
          "data": {
            "text/html": [
              "<div>\n",
              "<style scoped>\n",
              "    .dataframe tbody tr th:only-of-type {\n",
              "        vertical-align: middle;\n",
              "    }\n",
              "\n",
              "    .dataframe tbody tr th {\n",
              "        vertical-align: top;\n",
              "    }\n",
              "\n",
              "    .dataframe thead th {\n",
              "        text-align: right;\n",
              "    }\n",
              "</style>\n",
              "<table border=\"1\" class=\"dataframe\">\n",
              "  <thead>\n",
              "    <tr style=\"text-align: right;\">\n",
              "      <th></th>\n",
              "      <th>Symbol</th>\n",
              "      <th>Name</th>\n",
              "      <th>Sector</th>\n",
              "      <th>Industry</th>\n",
              "    </tr>\n",
              "  </thead>\n",
              "  <tbody>\n",
              "    <tr>\n",
              "      <th>0</th>\n",
              "      <td>MMM</td>\n",
              "      <td>3M</td>\n",
              "      <td>Industrials</td>\n",
              "      <td>Industrial Conglomerates</td>\n",
              "    </tr>\n",
              "    <tr>\n",
              "      <th>1</th>\n",
              "      <td>ABT</td>\n",
              "      <td>Abbott Laboratories</td>\n",
              "      <td>Health Care</td>\n",
              "      <td>Health Care Equipment</td>\n",
              "    </tr>\n",
              "    <tr>\n",
              "      <th>2</th>\n",
              "      <td>ABBV</td>\n",
              "      <td>AbbVie</td>\n",
              "      <td>Health Care</td>\n",
              "      <td>Pharmaceuticals</td>\n",
              "    </tr>\n",
              "    <tr>\n",
              "      <th>3</th>\n",
              "      <td>ABMD</td>\n",
              "      <td>Abiomed</td>\n",
              "      <td>Health Care</td>\n",
              "      <td>Health Care Equipment</td>\n",
              "    </tr>\n",
              "    <tr>\n",
              "      <th>4</th>\n",
              "      <td>ACN</td>\n",
              "      <td>Accenture</td>\n",
              "      <td>Information Technology</td>\n",
              "      <td>IT Consulting &amp; Other Services</td>\n",
              "    </tr>\n",
              "    <tr>\n",
              "      <th>...</th>\n",
              "      <td>...</td>\n",
              "      <td>...</td>\n",
              "      <td>...</td>\n",
              "      <td>...</td>\n",
              "    </tr>\n",
              "    <tr>\n",
              "      <th>500</th>\n",
              "      <td>YUM</td>\n",
              "      <td>Yum! Brands</td>\n",
              "      <td>Consumer Discretionary</td>\n",
              "      <td>Restaurants</td>\n",
              "    </tr>\n",
              "    <tr>\n",
              "      <th>501</th>\n",
              "      <td>ZBRA</td>\n",
              "      <td>Zebra Technologies</td>\n",
              "      <td>Information Technology</td>\n",
              "      <td>Electronic Equipment &amp; Instruments</td>\n",
              "    </tr>\n",
              "    <tr>\n",
              "      <th>502</th>\n",
              "      <td>ZBH</td>\n",
              "      <td>Zimmer Biomet</td>\n",
              "      <td>Health Care</td>\n",
              "      <td>Health Care Equipment</td>\n",
              "    </tr>\n",
              "    <tr>\n",
              "      <th>503</th>\n",
              "      <td>ZION</td>\n",
              "      <td>Zions Bancorp</td>\n",
              "      <td>Financials</td>\n",
              "      <td>Regional Banks</td>\n",
              "    </tr>\n",
              "    <tr>\n",
              "      <th>504</th>\n",
              "      <td>ZTS</td>\n",
              "      <td>Zoetis</td>\n",
              "      <td>Health Care</td>\n",
              "      <td>Pharmaceuticals</td>\n",
              "    </tr>\n",
              "  </tbody>\n",
              "</table>\n",
              "<p>505 rows × 4 columns</p>\n",
              "</div>"
            ],
            "text/plain": [
              "    Symbol  ...                            Industry\n",
              "0      MMM  ...            Industrial Conglomerates\n",
              "1      ABT  ...               Health Care Equipment\n",
              "2     ABBV  ...                     Pharmaceuticals\n",
              "3     ABMD  ...               Health Care Equipment\n",
              "4      ACN  ...      IT Consulting & Other Services\n",
              "..     ...  ...                                 ...\n",
              "500    YUM  ...                         Restaurants\n",
              "501   ZBRA  ...  Electronic Equipment & Instruments\n",
              "502    ZBH  ...               Health Care Equipment\n",
              "503   ZION  ...                      Regional Banks\n",
              "504    ZTS  ...                     Pharmaceuticals\n",
              "\n",
              "[505 rows x 4 columns]"
            ]
          },
          "metadata": {
            "tags": []
          },
          "execution_count": 34
        }
      ]
    },
    {
      "cell_type": "markdown",
      "metadata": {
        "id": "IDk0RqFkNYoI"
      },
      "source": [
        "종목 코드를 가져오는 방법을 알아보았으니 이제 가격 데이터를 가져오는 방법을 살펴봅시다."
      ]
    },
    {
      "cell_type": "markdown",
      "metadata": {
        "id": "pVhIzPbeNf3C"
      },
      "source": [
        "한국 거래소에 상장된 종목은 단축 코드(여섯 자리)를 전달하면 가격 데이터를 가져올 수 있습니다.  \n",
        "함수 하나만 호출하면 가격 데이터를 정말 손쉽게 가져옵니다. 미국 주가 데이터도 불러와봅시다."
      ]
    },
    {
      "cell_type": "code",
      "metadata": {
        "colab": {
          "base_uri": "https://localhost:8080/",
          "height": 388
        },
        "id": "4Yqy1CDaNNXt",
        "outputId": "9c8b5270-3354-4f51-dcde-c3602c313093"
      },
      "source": [
        "# GS글로벌, 2018년\n",
        "df = fdr.DataReader('001250', '2018')\n",
        "df.head(10)"
      ],
      "execution_count": null,
      "outputs": [
        {
          "output_type": "execute_result",
          "data": {
            "text/html": [
              "<div>\n",
              "<style scoped>\n",
              "    .dataframe tbody tr th:only-of-type {\n",
              "        vertical-align: middle;\n",
              "    }\n",
              "\n",
              "    .dataframe tbody tr th {\n",
              "        vertical-align: top;\n",
              "    }\n",
              "\n",
              "    .dataframe thead th {\n",
              "        text-align: right;\n",
              "    }\n",
              "</style>\n",
              "<table border=\"1\" class=\"dataframe\">\n",
              "  <thead>\n",
              "    <tr style=\"text-align: right;\">\n",
              "      <th></th>\n",
              "      <th>Open</th>\n",
              "      <th>High</th>\n",
              "      <th>Low</th>\n",
              "      <th>Close</th>\n",
              "      <th>Volume</th>\n",
              "      <th>Change</th>\n",
              "    </tr>\n",
              "    <tr>\n",
              "      <th>Date</th>\n",
              "      <th></th>\n",
              "      <th></th>\n",
              "      <th></th>\n",
              "      <th></th>\n",
              "      <th></th>\n",
              "      <th></th>\n",
              "    </tr>\n",
              "  </thead>\n",
              "  <tbody>\n",
              "    <tr>\n",
              "      <th>2018-01-02</th>\n",
              "      <td>2795</td>\n",
              "      <td>2860</td>\n",
              "      <td>2795</td>\n",
              "      <td>2850</td>\n",
              "      <td>118224</td>\n",
              "      <td>0.019678</td>\n",
              "    </tr>\n",
              "    <tr>\n",
              "      <th>2018-01-03</th>\n",
              "      <td>2850</td>\n",
              "      <td>2860</td>\n",
              "      <td>2820</td>\n",
              "      <td>2845</td>\n",
              "      <td>152892</td>\n",
              "      <td>-0.001754</td>\n",
              "    </tr>\n",
              "    <tr>\n",
              "      <th>2018-01-04</th>\n",
              "      <td>2845</td>\n",
              "      <td>2860</td>\n",
              "      <td>2815</td>\n",
              "      <td>2820</td>\n",
              "      <td>195786</td>\n",
              "      <td>-0.008787</td>\n",
              "    </tr>\n",
              "    <tr>\n",
              "      <th>2018-01-05</th>\n",
              "      <td>2820</td>\n",
              "      <td>2920</td>\n",
              "      <td>2820</td>\n",
              "      <td>2900</td>\n",
              "      <td>283369</td>\n",
              "      <td>0.028369</td>\n",
              "    </tr>\n",
              "    <tr>\n",
              "      <th>2018-01-08</th>\n",
              "      <td>2900</td>\n",
              "      <td>2940</td>\n",
              "      <td>2870</td>\n",
              "      <td>2900</td>\n",
              "      <td>179173</td>\n",
              "      <td>0.000000</td>\n",
              "    </tr>\n",
              "    <tr>\n",
              "      <th>2018-01-09</th>\n",
              "      <td>2920</td>\n",
              "      <td>2945</td>\n",
              "      <td>2860</td>\n",
              "      <td>2875</td>\n",
              "      <td>209231</td>\n",
              "      <td>-0.008621</td>\n",
              "    </tr>\n",
              "    <tr>\n",
              "      <th>2018-01-10</th>\n",
              "      <td>2850</td>\n",
              "      <td>2970</td>\n",
              "      <td>2850</td>\n",
              "      <td>2955</td>\n",
              "      <td>440681</td>\n",
              "      <td>0.027826</td>\n",
              "    </tr>\n",
              "    <tr>\n",
              "      <th>2018-01-11</th>\n",
              "      <td>2975</td>\n",
              "      <td>2975</td>\n",
              "      <td>2930</td>\n",
              "      <td>2940</td>\n",
              "      <td>200819</td>\n",
              "      <td>-0.005076</td>\n",
              "    </tr>\n",
              "    <tr>\n",
              "      <th>2018-01-12</th>\n",
              "      <td>2930</td>\n",
              "      <td>2955</td>\n",
              "      <td>2890</td>\n",
              "      <td>2910</td>\n",
              "      <td>156725</td>\n",
              "      <td>-0.010204</td>\n",
              "    </tr>\n",
              "    <tr>\n",
              "      <th>2018-01-15</th>\n",
              "      <td>2910</td>\n",
              "      <td>2915</td>\n",
              "      <td>2870</td>\n",
              "      <td>2895</td>\n",
              "      <td>245777</td>\n",
              "      <td>-0.005155</td>\n",
              "    </tr>\n",
              "  </tbody>\n",
              "</table>\n",
              "</div>"
            ],
            "text/plain": [
              "            Open  High   Low  Close  Volume    Change\n",
              "Date                                                 \n",
              "2018-01-02  2795  2860  2795   2850  118224  0.019678\n",
              "2018-01-03  2850  2860  2820   2845  152892 -0.001754\n",
              "2018-01-04  2845  2860  2815   2820  195786 -0.008787\n",
              "2018-01-05  2820  2920  2820   2900  283369  0.028369\n",
              "2018-01-08  2900  2940  2870   2900  179173  0.000000\n",
              "2018-01-09  2920  2945  2860   2875  209231 -0.008621\n",
              "2018-01-10  2850  2970  2850   2955  440681  0.027826\n",
              "2018-01-11  2975  2975  2930   2940  200819 -0.005076\n",
              "2018-01-12  2930  2955  2890   2910  156725 -0.010204\n",
              "2018-01-15  2910  2915  2870   2895  245777 -0.005155"
            ]
          },
          "metadata": {
            "tags": []
          },
          "execution_count": 36
        }
      ]
    },
    {
      "cell_type": "code",
      "metadata": {
        "colab": {
          "base_uri": "https://localhost:8080/"
        },
        "id": "zpspATZOOcCE",
        "outputId": "81cc38f5-5078-4726-d662-941f3e5e3fc9"
      },
      "source": [
        "len(df)"
      ],
      "execution_count": null,
      "outputs": [
        {
          "output_type": "execute_result",
          "data": {
            "text/plain": [
              "856"
            ]
          },
          "metadata": {
            "tags": []
          },
          "execution_count": 37
        }
      ]
    },
    {
      "cell_type": "code",
      "metadata": {
        "colab": {
          "base_uri": "https://localhost:8080/",
          "height": 447
        },
        "id": "GtkVqhAfOfCp",
        "outputId": "9e69420c-fde8-4a36-cb2d-de5972365cf3"
      },
      "source": [
        "df"
      ],
      "execution_count": null,
      "outputs": [
        {
          "output_type": "execute_result",
          "data": {
            "text/html": [
              "<div>\n",
              "<style scoped>\n",
              "    .dataframe tbody tr th:only-of-type {\n",
              "        vertical-align: middle;\n",
              "    }\n",
              "\n",
              "    .dataframe tbody tr th {\n",
              "        vertical-align: top;\n",
              "    }\n",
              "\n",
              "    .dataframe thead th {\n",
              "        text-align: right;\n",
              "    }\n",
              "</style>\n",
              "<table border=\"1\" class=\"dataframe\">\n",
              "  <thead>\n",
              "    <tr style=\"text-align: right;\">\n",
              "      <th></th>\n",
              "      <th>Open</th>\n",
              "      <th>High</th>\n",
              "      <th>Low</th>\n",
              "      <th>Close</th>\n",
              "      <th>Volume</th>\n",
              "      <th>Change</th>\n",
              "    </tr>\n",
              "    <tr>\n",
              "      <th>Date</th>\n",
              "      <th></th>\n",
              "      <th></th>\n",
              "      <th></th>\n",
              "      <th></th>\n",
              "      <th></th>\n",
              "      <th></th>\n",
              "    </tr>\n",
              "  </thead>\n",
              "  <tbody>\n",
              "    <tr>\n",
              "      <th>2018-01-02</th>\n",
              "      <td>2795</td>\n",
              "      <td>2860</td>\n",
              "      <td>2795</td>\n",
              "      <td>2850</td>\n",
              "      <td>118224</td>\n",
              "      <td>0.019678</td>\n",
              "    </tr>\n",
              "    <tr>\n",
              "      <th>2018-01-03</th>\n",
              "      <td>2850</td>\n",
              "      <td>2860</td>\n",
              "      <td>2820</td>\n",
              "      <td>2845</td>\n",
              "      <td>152892</td>\n",
              "      <td>-0.001754</td>\n",
              "    </tr>\n",
              "    <tr>\n",
              "      <th>2018-01-04</th>\n",
              "      <td>2845</td>\n",
              "      <td>2860</td>\n",
              "      <td>2815</td>\n",
              "      <td>2820</td>\n",
              "      <td>195786</td>\n",
              "      <td>-0.008787</td>\n",
              "    </tr>\n",
              "    <tr>\n",
              "      <th>2018-01-05</th>\n",
              "      <td>2820</td>\n",
              "      <td>2920</td>\n",
              "      <td>2820</td>\n",
              "      <td>2900</td>\n",
              "      <td>283369</td>\n",
              "      <td>0.028369</td>\n",
              "    </tr>\n",
              "    <tr>\n",
              "      <th>2018-01-08</th>\n",
              "      <td>2900</td>\n",
              "      <td>2940</td>\n",
              "      <td>2870</td>\n",
              "      <td>2900</td>\n",
              "      <td>179173</td>\n",
              "      <td>0.000000</td>\n",
              "    </tr>\n",
              "    <tr>\n",
              "      <th>...</th>\n",
              "      <td>...</td>\n",
              "      <td>...</td>\n",
              "      <td>...</td>\n",
              "      <td>...</td>\n",
              "      <td>...</td>\n",
              "      <td>...</td>\n",
              "    </tr>\n",
              "    <tr>\n",
              "      <th>2021-06-17</th>\n",
              "      <td>3110</td>\n",
              "      <td>3120</td>\n",
              "      <td>3060</td>\n",
              "      <td>3080</td>\n",
              "      <td>605390</td>\n",
              "      <td>-0.006452</td>\n",
              "    </tr>\n",
              "    <tr>\n",
              "      <th>2021-06-18</th>\n",
              "      <td>3080</td>\n",
              "      <td>3080</td>\n",
              "      <td>3005</td>\n",
              "      <td>3065</td>\n",
              "      <td>783943</td>\n",
              "      <td>-0.004870</td>\n",
              "    </tr>\n",
              "    <tr>\n",
              "      <th>2021-06-21</th>\n",
              "      <td>3050</td>\n",
              "      <td>3050</td>\n",
              "      <td>2990</td>\n",
              "      <td>3005</td>\n",
              "      <td>585096</td>\n",
              "      <td>-0.019576</td>\n",
              "    </tr>\n",
              "    <tr>\n",
              "      <th>2021-06-22</th>\n",
              "      <td>3020</td>\n",
              "      <td>3090</td>\n",
              "      <td>3015</td>\n",
              "      <td>3080</td>\n",
              "      <td>554898</td>\n",
              "      <td>0.024958</td>\n",
              "    </tr>\n",
              "    <tr>\n",
              "      <th>2021-06-23</th>\n",
              "      <td>3080</td>\n",
              "      <td>3085</td>\n",
              "      <td>2970</td>\n",
              "      <td>2980</td>\n",
              "      <td>965147</td>\n",
              "      <td>-0.032468</td>\n",
              "    </tr>\n",
              "  </tbody>\n",
              "</table>\n",
              "<p>856 rows × 6 columns</p>\n",
              "</div>"
            ],
            "text/plain": [
              "            Open  High   Low  Close  Volume    Change\n",
              "Date                                                 \n",
              "2018-01-02  2795  2860  2795   2850  118224  0.019678\n",
              "2018-01-03  2850  2860  2820   2845  152892 -0.001754\n",
              "2018-01-04  2845  2860  2815   2820  195786 -0.008787\n",
              "2018-01-05  2820  2920  2820   2900  283369  0.028369\n",
              "2018-01-08  2900  2940  2870   2900  179173  0.000000\n",
              "...          ...   ...   ...    ...     ...       ...\n",
              "2021-06-17  3110  3120  3060   3080  605390 -0.006452\n",
              "2021-06-18  3080  3080  3005   3065  783943 -0.004870\n",
              "2021-06-21  3050  3050  2990   3005  585096 -0.019576\n",
              "2021-06-22  3020  3090  3015   3080  554898  0.024958\n",
              "2021-06-23  3080  3085  2970   2980  965147 -0.032468\n",
              "\n",
              "[856 rows x 6 columns]"
            ]
          },
          "metadata": {
            "tags": []
          },
          "execution_count": 38
        }
      ]
    },
    {
      "cell_type": "markdown",
      "metadata": {
        "id": "2E1qEjisNrg8"
      },
      "source": [
        "미국 종목을 가져올 때는 티커(ticker) 명을 사용합니다. 티커란, 미국에서 사용하는 종목 코드이며 네 자리로 제안됩니다."
      ]
    },
    {
      "cell_type": "code",
      "metadata": {
        "colab": {
          "base_uri": "https://localhost:8080/",
          "height": 388
        },
        "id": "ne3mrflCNdy9",
        "outputId": "7367d615-ce11-46fe-b558-5dc3d9a5f90f"
      },
      "source": [
        "df = fdr.DataReader('AAPL', '2017') # 애플(AAPL), 2017년\n",
        "df.head(10)"
      ],
      "execution_count": null,
      "outputs": [
        {
          "output_type": "execute_result",
          "data": {
            "text/html": [
              "<div>\n",
              "<style scoped>\n",
              "    .dataframe tbody tr th:only-of-type {\n",
              "        vertical-align: middle;\n",
              "    }\n",
              "\n",
              "    .dataframe tbody tr th {\n",
              "        vertical-align: top;\n",
              "    }\n",
              "\n",
              "    .dataframe thead th {\n",
              "        text-align: right;\n",
              "    }\n",
              "</style>\n",
              "<table border=\"1\" class=\"dataframe\">\n",
              "  <thead>\n",
              "    <tr style=\"text-align: right;\">\n",
              "      <th></th>\n",
              "      <th>Close</th>\n",
              "      <th>Open</th>\n",
              "      <th>High</th>\n",
              "      <th>Low</th>\n",
              "      <th>Volume</th>\n",
              "      <th>Change</th>\n",
              "    </tr>\n",
              "    <tr>\n",
              "      <th>Date</th>\n",
              "      <th></th>\n",
              "      <th></th>\n",
              "      <th></th>\n",
              "      <th></th>\n",
              "      <th></th>\n",
              "      <th></th>\n",
              "    </tr>\n",
              "  </thead>\n",
              "  <tbody>\n",
              "    <tr>\n",
              "      <th>2017-01-03</th>\n",
              "      <td>29.04</td>\n",
              "      <td>28.95</td>\n",
              "      <td>29.08</td>\n",
              "      <td>28.69</td>\n",
              "      <td>115130000.0</td>\n",
              "      <td>0.0031</td>\n",
              "    </tr>\n",
              "    <tr>\n",
              "      <th>2017-01-04</th>\n",
              "      <td>29.00</td>\n",
              "      <td>28.96</td>\n",
              "      <td>29.13</td>\n",
              "      <td>28.94</td>\n",
              "      <td>84470000.0</td>\n",
              "      <td>-0.0014</td>\n",
              "    </tr>\n",
              "    <tr>\n",
              "      <th>2017-01-05</th>\n",
              "      <td>29.15</td>\n",
              "      <td>28.98</td>\n",
              "      <td>29.22</td>\n",
              "      <td>28.95</td>\n",
              "      <td>88770000.0</td>\n",
              "      <td>0.0052</td>\n",
              "    </tr>\n",
              "    <tr>\n",
              "      <th>2017-01-06</th>\n",
              "      <td>29.48</td>\n",
              "      <td>29.20</td>\n",
              "      <td>29.54</td>\n",
              "      <td>29.12</td>\n",
              "      <td>127010000.0</td>\n",
              "      <td>0.0113</td>\n",
              "    </tr>\n",
              "    <tr>\n",
              "      <th>2017-01-09</th>\n",
              "      <td>29.75</td>\n",
              "      <td>29.49</td>\n",
              "      <td>29.86</td>\n",
              "      <td>29.48</td>\n",
              "      <td>134250000.0</td>\n",
              "      <td>0.0092</td>\n",
              "    </tr>\n",
              "    <tr>\n",
              "      <th>2017-01-10</th>\n",
              "      <td>29.78</td>\n",
              "      <td>29.69</td>\n",
              "      <td>29.84</td>\n",
              "      <td>29.57</td>\n",
              "      <td>97850000.0</td>\n",
              "      <td>0.0010</td>\n",
              "    </tr>\n",
              "    <tr>\n",
              "      <th>2017-01-11</th>\n",
              "      <td>29.94</td>\n",
              "      <td>29.68</td>\n",
              "      <td>29.98</td>\n",
              "      <td>29.65</td>\n",
              "      <td>110350000.0</td>\n",
              "      <td>0.0054</td>\n",
              "    </tr>\n",
              "    <tr>\n",
              "      <th>2017-01-12</th>\n",
              "      <td>29.81</td>\n",
              "      <td>29.72</td>\n",
              "      <td>29.82</td>\n",
              "      <td>29.55</td>\n",
              "      <td>108340000.0</td>\n",
              "      <td>-0.0043</td>\n",
              "    </tr>\n",
              "    <tr>\n",
              "      <th>2017-01-13</th>\n",
              "      <td>29.76</td>\n",
              "      <td>29.78</td>\n",
              "      <td>29.91</td>\n",
              "      <td>29.70</td>\n",
              "      <td>104450000.0</td>\n",
              "      <td>-0.0017</td>\n",
              "    </tr>\n",
              "    <tr>\n",
              "      <th>2017-01-17</th>\n",
              "      <td>30.00</td>\n",
              "      <td>29.59</td>\n",
              "      <td>30.06</td>\n",
              "      <td>29.55</td>\n",
              "      <td>137760000.0</td>\n",
              "      <td>0.0081</td>\n",
              "    </tr>\n",
              "  </tbody>\n",
              "</table>\n",
              "</div>"
            ],
            "text/plain": [
              "            Close   Open   High    Low       Volume  Change\n",
              "Date                                                       \n",
              "2017-01-03  29.04  28.95  29.08  28.69  115130000.0  0.0031\n",
              "2017-01-04  29.00  28.96  29.13  28.94   84470000.0 -0.0014\n",
              "2017-01-05  29.15  28.98  29.22  28.95   88770000.0  0.0052\n",
              "2017-01-06  29.48  29.20  29.54  29.12  127010000.0  0.0113\n",
              "2017-01-09  29.75  29.49  29.86  29.48  134250000.0  0.0092\n",
              "2017-01-10  29.78  29.69  29.84  29.57   97850000.0  0.0010\n",
              "2017-01-11  29.94  29.68  29.98  29.65  110350000.0  0.0054\n",
              "2017-01-12  29.81  29.72  29.82  29.55  108340000.0 -0.0043\n",
              "2017-01-13  29.76  29.78  29.91  29.70  104450000.0 -0.0017\n",
              "2017-01-17  30.00  29.59  30.06  29.55  137760000.0  0.0081"
            ]
          },
          "metadata": {
            "tags": []
          },
          "execution_count": 39
        }
      ]
    },
    {
      "cell_type": "code",
      "metadata": {
        "colab": {
          "base_uri": "https://localhost:8080/",
          "height": 447
        },
        "id": "bTsefTiJOw1E",
        "outputId": "ed65eaf4-ae47-40ad-918f-989cb49d890a"
      },
      "source": [
        "df"
      ],
      "execution_count": null,
      "outputs": [
        {
          "output_type": "execute_result",
          "data": {
            "text/html": [
              "<div>\n",
              "<style scoped>\n",
              "    .dataframe tbody tr th:only-of-type {\n",
              "        vertical-align: middle;\n",
              "    }\n",
              "\n",
              "    .dataframe tbody tr th {\n",
              "        vertical-align: top;\n",
              "    }\n",
              "\n",
              "    .dataframe thead th {\n",
              "        text-align: right;\n",
              "    }\n",
              "</style>\n",
              "<table border=\"1\" class=\"dataframe\">\n",
              "  <thead>\n",
              "    <tr style=\"text-align: right;\">\n",
              "      <th></th>\n",
              "      <th>Close</th>\n",
              "      <th>Open</th>\n",
              "      <th>High</th>\n",
              "      <th>Low</th>\n",
              "      <th>Volume</th>\n",
              "      <th>Change</th>\n",
              "    </tr>\n",
              "    <tr>\n",
              "      <th>Date</th>\n",
              "      <th></th>\n",
              "      <th></th>\n",
              "      <th></th>\n",
              "      <th></th>\n",
              "      <th></th>\n",
              "      <th></th>\n",
              "    </tr>\n",
              "  </thead>\n",
              "  <tbody>\n",
              "    <tr>\n",
              "      <th>2017-01-03</th>\n",
              "      <td>29.04</td>\n",
              "      <td>28.95</td>\n",
              "      <td>29.08</td>\n",
              "      <td>28.69</td>\n",
              "      <td>115130000.0</td>\n",
              "      <td>0.0031</td>\n",
              "    </tr>\n",
              "    <tr>\n",
              "      <th>2017-01-04</th>\n",
              "      <td>29.00</td>\n",
              "      <td>28.96</td>\n",
              "      <td>29.13</td>\n",
              "      <td>28.94</td>\n",
              "      <td>84470000.0</td>\n",
              "      <td>-0.0014</td>\n",
              "    </tr>\n",
              "    <tr>\n",
              "      <th>2017-01-05</th>\n",
              "      <td>29.15</td>\n",
              "      <td>28.98</td>\n",
              "      <td>29.22</td>\n",
              "      <td>28.95</td>\n",
              "      <td>88770000.0</td>\n",
              "      <td>0.0052</td>\n",
              "    </tr>\n",
              "    <tr>\n",
              "      <th>2017-01-06</th>\n",
              "      <td>29.48</td>\n",
              "      <td>29.20</td>\n",
              "      <td>29.54</td>\n",
              "      <td>29.12</td>\n",
              "      <td>127010000.0</td>\n",
              "      <td>0.0113</td>\n",
              "    </tr>\n",
              "    <tr>\n",
              "      <th>2017-01-09</th>\n",
              "      <td>29.75</td>\n",
              "      <td>29.49</td>\n",
              "      <td>29.86</td>\n",
              "      <td>29.48</td>\n",
              "      <td>134250000.0</td>\n",
              "      <td>0.0092</td>\n",
              "    </tr>\n",
              "    <tr>\n",
              "      <th>...</th>\n",
              "      <td>...</td>\n",
              "      <td>...</td>\n",
              "      <td>...</td>\n",
              "      <td>...</td>\n",
              "      <td>...</td>\n",
              "      <td>...</td>\n",
              "    </tr>\n",
              "    <tr>\n",
              "      <th>2021-06-17</th>\n",
              "      <td>131.79</td>\n",
              "      <td>129.94</td>\n",
              "      <td>132.54</td>\n",
              "      <td>129.66</td>\n",
              "      <td>96720000.0</td>\n",
              "      <td>0.0126</td>\n",
              "    </tr>\n",
              "    <tr>\n",
              "      <th>2021-06-18</th>\n",
              "      <td>130.46</td>\n",
              "      <td>130.71</td>\n",
              "      <td>131.51</td>\n",
              "      <td>130.24</td>\n",
              "      <td>108950000.0</td>\n",
              "      <td>-0.0101</td>\n",
              "    </tr>\n",
              "    <tr>\n",
              "      <th>2021-06-21</th>\n",
              "      <td>132.30</td>\n",
              "      <td>130.30</td>\n",
              "      <td>132.41</td>\n",
              "      <td>129.21</td>\n",
              "      <td>79660000.0</td>\n",
              "      <td>0.0141</td>\n",
              "    </tr>\n",
              "    <tr>\n",
              "      <th>2021-06-22</th>\n",
              "      <td>133.98</td>\n",
              "      <td>132.09</td>\n",
              "      <td>134.08</td>\n",
              "      <td>131.64</td>\n",
              "      <td>74780000.0</td>\n",
              "      <td>0.0127</td>\n",
              "    </tr>\n",
              "    <tr>\n",
              "      <th>2021-06-23</th>\n",
              "      <td>134.04</td>\n",
              "      <td>133.87</td>\n",
              "      <td>134.31</td>\n",
              "      <td>133.53</td>\n",
              "      <td>15090000.0</td>\n",
              "      <td>0.0004</td>\n",
              "    </tr>\n",
              "  </tbody>\n",
              "</table>\n",
              "<p>1126 rows × 6 columns</p>\n",
              "</div>"
            ],
            "text/plain": [
              "             Close    Open    High     Low       Volume  Change\n",
              "Date                                                           \n",
              "2017-01-03   29.04   28.95   29.08   28.69  115130000.0  0.0031\n",
              "2017-01-04   29.00   28.96   29.13   28.94   84470000.0 -0.0014\n",
              "2017-01-05   29.15   28.98   29.22   28.95   88770000.0  0.0052\n",
              "2017-01-06   29.48   29.20   29.54   29.12  127010000.0  0.0113\n",
              "2017-01-09   29.75   29.49   29.86   29.48  134250000.0  0.0092\n",
              "...            ...     ...     ...     ...          ...     ...\n",
              "2021-06-17  131.79  129.94  132.54  129.66   96720000.0  0.0126\n",
              "2021-06-18  130.46  130.71  131.51  130.24  108950000.0 -0.0101\n",
              "2021-06-21  132.30  130.30  132.41  129.21   79660000.0  0.0141\n",
              "2021-06-22  133.98  132.09  134.08  131.64   74780000.0  0.0127\n",
              "2021-06-23  134.04  133.87  134.31  133.53   15090000.0  0.0004\n",
              "\n",
              "[1126 rows x 6 columns]"
            ]
          },
          "metadata": {
            "tags": []
          },
          "execution_count": 40
        }
      ]
    },
    {
      "cell_type": "markdown",
      "metadata": {
        "id": "mkX4xIB5N0xJ"
      },
      "source": [
        "다른 종목의 가격 데이터를 가져올 때도 마찬가지로 DataReader를 호출하면 됩니다. 아래 정리된 속성을 참고하여 다양한 값을 호출할 수 있습니다."
      ]
    },
    {
      "cell_type": "markdown",
      "metadata": {
        "id": "2HlTguWZN1ui"
      },
      "source": [
        "<거래소별 전체 종목 코드 - StockListing() 함수>\n",
        "* 한국 거래소 : KRX(KOSPI, KOSDAQ, KONEX)  \n",
        "* 미국 거래소 : NASDAQ, NYSE, AMEX, S&P500"
      ]
    },
    {
      "cell_type": "markdown",
      "metadata": {
        "id": "M2EZtNwZN_8K"
      },
      "source": [
        "<가격 데이터 - DataReader() 함수>  \n",
        "* 국내 주식 : 005930(삼성전자), 091990(셀트리온헬스케어) 등  \n",
        "* 해외 주식 : AAPL(애플), AMZN(아마존), GOOG(구글) 등  \n",
        "* 각종 지수 : KS11(코스피 지수), KQ11(코스닥 지수), DJI(다우 지수), IXIC(나스닥 지수), US500(S&P5000)  \n",
        "* 환율 데이터 : USD/KRX(원달러 환율), USD/EUR(달러당 유로화 환율), CNY/KRX(위완화 원화 환율)  \n",
        "* 암호 화폐 가격 : BTC/USD(비트코인 달러 가격, 비트파이넥스), BTC/KRW(비트코인 원화 가격, 빗썸)"
      ]
    },
    {
      "cell_type": "markdown",
      "metadata": {
        "id": "tcg3QAviOYLN"
      },
      "source": [
        "이외 상세한 옵션은 API 사용자 메뉴얼을 참고해주세요.  \n",
        "첨고 : https://github.com/FinanceData/FinanceDataReader/wiki/Users-Guide"
      ]
    },
    {
      "cell_type": "markdown",
      "metadata": {
        "id": "wden9JZQOw4d"
      },
      "source": [
        "아래는 다양한 종류의 데이터를 로드하는 예제입니다."
      ]
    },
    {
      "cell_type": "code",
      "metadata": {
        "colab": {
          "base_uri": "https://localhost:8080/",
          "height": 234
        },
        "id": "5Q-89gWVNoqc",
        "outputId": "02c2695a-147e-48b9-e206-0ce86a8be215"
      },
      "source": [
        "# 애플(AAPL), 2018-01-01 ~ 2018-03-30\n",
        "df = fdr.DataReader('AAPL', '2018-01-01', '2018-03-30')\n",
        "df.head()"
      ],
      "execution_count": null,
      "outputs": [
        {
          "output_type": "execute_result",
          "data": {
            "text/html": [
              "<div>\n",
              "<style scoped>\n",
              "    .dataframe tbody tr th:only-of-type {\n",
              "        vertical-align: middle;\n",
              "    }\n",
              "\n",
              "    .dataframe tbody tr th {\n",
              "        vertical-align: top;\n",
              "    }\n",
              "\n",
              "    .dataframe thead th {\n",
              "        text-align: right;\n",
              "    }\n",
              "</style>\n",
              "<table border=\"1\" class=\"dataframe\">\n",
              "  <thead>\n",
              "    <tr style=\"text-align: right;\">\n",
              "      <th></th>\n",
              "      <th>Close</th>\n",
              "      <th>Open</th>\n",
              "      <th>High</th>\n",
              "      <th>Low</th>\n",
              "      <th>Volume</th>\n",
              "      <th>Change</th>\n",
              "    </tr>\n",
              "    <tr>\n",
              "      <th>Date</th>\n",
              "      <th></th>\n",
              "      <th></th>\n",
              "      <th></th>\n",
              "      <th></th>\n",
              "      <th></th>\n",
              "      <th></th>\n",
              "    </tr>\n",
              "  </thead>\n",
              "  <tbody>\n",
              "    <tr>\n",
              "      <th>2018-01-02</th>\n",
              "      <td>43.06</td>\n",
              "      <td>42.54</td>\n",
              "      <td>43.08</td>\n",
              "      <td>42.31</td>\n",
              "      <td>102220000.0</td>\n",
              "      <td>0.0177</td>\n",
              "    </tr>\n",
              "    <tr>\n",
              "      <th>2018-01-03</th>\n",
              "      <td>43.06</td>\n",
              "      <td>43.13</td>\n",
              "      <td>43.64</td>\n",
              "      <td>42.99</td>\n",
              "      <td>118070000.0</td>\n",
              "      <td>0.0000</td>\n",
              "    </tr>\n",
              "    <tr>\n",
              "      <th>2018-01-04</th>\n",
              "      <td>43.26</td>\n",
              "      <td>43.13</td>\n",
              "      <td>43.37</td>\n",
              "      <td>43.02</td>\n",
              "      <td>89740000.0</td>\n",
              "      <td>0.0046</td>\n",
              "    </tr>\n",
              "    <tr>\n",
              "      <th>2018-01-05</th>\n",
              "      <td>43.75</td>\n",
              "      <td>43.36</td>\n",
              "      <td>43.84</td>\n",
              "      <td>43.26</td>\n",
              "      <td>94640000.0</td>\n",
              "      <td>0.0113</td>\n",
              "    </tr>\n",
              "    <tr>\n",
              "      <th>2018-01-08</th>\n",
              "      <td>43.59</td>\n",
              "      <td>43.59</td>\n",
              "      <td>43.90</td>\n",
              "      <td>43.48</td>\n",
              "      <td>82270000.0</td>\n",
              "      <td>-0.0037</td>\n",
              "    </tr>\n",
              "  </tbody>\n",
              "</table>\n",
              "</div>"
            ],
            "text/plain": [
              "            Close   Open   High    Low       Volume  Change\n",
              "Date                                                       \n",
              "2018-01-02  43.06  42.54  43.08  42.31  102220000.0  0.0177\n",
              "2018-01-03  43.06  43.13  43.64  42.99  118070000.0  0.0000\n",
              "2018-01-04  43.26  43.13  43.37  43.02   89740000.0  0.0046\n",
              "2018-01-05  43.75  43.36  43.84  43.26   94640000.0  0.0113\n",
              "2018-01-08  43.59  43.59  43.90  43.48   82270000.0 -0.0037"
            ]
          },
          "metadata": {
            "tags": []
          },
          "execution_count": 42
        }
      ]
    },
    {
      "cell_type": "code",
      "metadata": {
        "colab": {
          "base_uri": "https://localhost:8080/",
          "height": 447
        },
        "id": "oo1bBJVwPtuv",
        "outputId": "bb4595bf-afae-47f4-82c1-54569a595902"
      },
      "source": [
        "df"
      ],
      "execution_count": null,
      "outputs": [
        {
          "output_type": "execute_result",
          "data": {
            "text/html": [
              "<div>\n",
              "<style scoped>\n",
              "    .dataframe tbody tr th:only-of-type {\n",
              "        vertical-align: middle;\n",
              "    }\n",
              "\n",
              "    .dataframe tbody tr th {\n",
              "        vertical-align: top;\n",
              "    }\n",
              "\n",
              "    .dataframe thead th {\n",
              "        text-align: right;\n",
              "    }\n",
              "</style>\n",
              "<table border=\"1\" class=\"dataframe\">\n",
              "  <thead>\n",
              "    <tr style=\"text-align: right;\">\n",
              "      <th></th>\n",
              "      <th>Close</th>\n",
              "      <th>Open</th>\n",
              "      <th>High</th>\n",
              "      <th>Low</th>\n",
              "      <th>Volume</th>\n",
              "      <th>Change</th>\n",
              "    </tr>\n",
              "    <tr>\n",
              "      <th>Date</th>\n",
              "      <th></th>\n",
              "      <th></th>\n",
              "      <th></th>\n",
              "      <th></th>\n",
              "      <th></th>\n",
              "      <th></th>\n",
              "    </tr>\n",
              "  </thead>\n",
              "  <tbody>\n",
              "    <tr>\n",
              "      <th>2018-01-02</th>\n",
              "      <td>43.06</td>\n",
              "      <td>42.54</td>\n",
              "      <td>43.08</td>\n",
              "      <td>42.31</td>\n",
              "      <td>102220000.0</td>\n",
              "      <td>0.0177</td>\n",
              "    </tr>\n",
              "    <tr>\n",
              "      <th>2018-01-03</th>\n",
              "      <td>43.06</td>\n",
              "      <td>43.13</td>\n",
              "      <td>43.64</td>\n",
              "      <td>42.99</td>\n",
              "      <td>118070000.0</td>\n",
              "      <td>0.0000</td>\n",
              "    </tr>\n",
              "    <tr>\n",
              "      <th>2018-01-04</th>\n",
              "      <td>43.26</td>\n",
              "      <td>43.13</td>\n",
              "      <td>43.37</td>\n",
              "      <td>43.02</td>\n",
              "      <td>89740000.0</td>\n",
              "      <td>0.0046</td>\n",
              "    </tr>\n",
              "    <tr>\n",
              "      <th>2018-01-05</th>\n",
              "      <td>43.75</td>\n",
              "      <td>43.36</td>\n",
              "      <td>43.84</td>\n",
              "      <td>43.26</td>\n",
              "      <td>94640000.0</td>\n",
              "      <td>0.0113</td>\n",
              "    </tr>\n",
              "    <tr>\n",
              "      <th>2018-01-08</th>\n",
              "      <td>43.59</td>\n",
              "      <td>43.59</td>\n",
              "      <td>43.90</td>\n",
              "      <td>43.48</td>\n",
              "      <td>82270000.0</td>\n",
              "      <td>-0.0037</td>\n",
              "    </tr>\n",
              "    <tr>\n",
              "      <th>...</th>\n",
              "      <td>...</td>\n",
              "      <td>...</td>\n",
              "      <td>...</td>\n",
              "      <td>...</td>\n",
              "      <td>...</td>\n",
              "      <td>...</td>\n",
              "    </tr>\n",
              "    <tr>\n",
              "      <th>2018-03-23</th>\n",
              "      <td>41.23</td>\n",
              "      <td>42.10</td>\n",
              "      <td>42.48</td>\n",
              "      <td>41.23</td>\n",
              "      <td>164120000.0</td>\n",
              "      <td>-0.0232</td>\n",
              "    </tr>\n",
              "    <tr>\n",
              "      <th>2018-03-26</th>\n",
              "      <td>43.19</td>\n",
              "      <td>42.02</td>\n",
              "      <td>43.27</td>\n",
              "      <td>41.61</td>\n",
              "      <td>150160000.0</td>\n",
              "      <td>0.0475</td>\n",
              "    </tr>\n",
              "    <tr>\n",
              "      <th>2018-03-27</th>\n",
              "      <td>42.09</td>\n",
              "      <td>43.42</td>\n",
              "      <td>43.79</td>\n",
              "      <td>41.73</td>\n",
              "      <td>163690000.0</td>\n",
              "      <td>-0.0255</td>\n",
              "    </tr>\n",
              "    <tr>\n",
              "      <th>2018-03-28</th>\n",
              "      <td>41.62</td>\n",
              "      <td>41.81</td>\n",
              "      <td>42.51</td>\n",
              "      <td>41.30</td>\n",
              "      <td>166670000.0</td>\n",
              "      <td>-0.0112</td>\n",
              "    </tr>\n",
              "    <tr>\n",
              "      <th>2018-03-29</th>\n",
              "      <td>41.95</td>\n",
              "      <td>41.95</td>\n",
              "      <td>42.94</td>\n",
              "      <td>41.73</td>\n",
              "      <td>153590000.0</td>\n",
              "      <td>0.0079</td>\n",
              "    </tr>\n",
              "  </tbody>\n",
              "</table>\n",
              "<p>61 rows × 6 columns</p>\n",
              "</div>"
            ],
            "text/plain": [
              "            Close   Open   High    Low       Volume  Change\n",
              "Date                                                       \n",
              "2018-01-02  43.06  42.54  43.08  42.31  102220000.0  0.0177\n",
              "2018-01-03  43.06  43.13  43.64  42.99  118070000.0  0.0000\n",
              "2018-01-04  43.26  43.13  43.37  43.02   89740000.0  0.0046\n",
              "2018-01-05  43.75  43.36  43.84  43.26   94640000.0  0.0113\n",
              "2018-01-08  43.59  43.59  43.90  43.48   82270000.0 -0.0037\n",
              "...           ...    ...    ...    ...          ...     ...\n",
              "2018-03-23  41.23  42.10  42.48  41.23  164120000.0 -0.0232\n",
              "2018-03-26  43.19  42.02  43.27  41.61  150160000.0  0.0475\n",
              "2018-03-27  42.09  43.42  43.79  41.73  163690000.0 -0.0255\n",
              "2018-03-28  41.62  41.81  42.51  41.30  166670000.0 -0.0112\n",
              "2018-03-29  41.95  41.95  42.94  41.73  153590000.0  0.0079\n",
              "\n",
              "[61 rows x 6 columns]"
            ]
          },
          "metadata": {
            "tags": []
          },
          "execution_count": 43
        }
      ]
    },
    {
      "cell_type": "code",
      "metadata": {
        "colab": {
          "base_uri": "https://localhost:8080/",
          "height": 234
        },
        "id": "B3MBpTaNOjze",
        "outputId": "9db46dd6-880e-4e2f-f919-461894a5b365"
      },
      "source": [
        "# KS11 (KOSPI 지수), 2015년~현재\n",
        "df = fdr.DataReader('KS11', '2015')\n",
        "df.head()"
      ],
      "execution_count": null,
      "outputs": [
        {
          "output_type": "execute_result",
          "data": {
            "text/html": [
              "<div>\n",
              "<style scoped>\n",
              "    .dataframe tbody tr th:only-of-type {\n",
              "        vertical-align: middle;\n",
              "    }\n",
              "\n",
              "    .dataframe tbody tr th {\n",
              "        vertical-align: top;\n",
              "    }\n",
              "\n",
              "    .dataframe thead th {\n",
              "        text-align: right;\n",
              "    }\n",
              "</style>\n",
              "<table border=\"1\" class=\"dataframe\">\n",
              "  <thead>\n",
              "    <tr style=\"text-align: right;\">\n",
              "      <th></th>\n",
              "      <th>Close</th>\n",
              "      <th>Open</th>\n",
              "      <th>High</th>\n",
              "      <th>Low</th>\n",
              "      <th>Volume</th>\n",
              "      <th>Change</th>\n",
              "    </tr>\n",
              "    <tr>\n",
              "      <th>Date</th>\n",
              "      <th></th>\n",
              "      <th></th>\n",
              "      <th></th>\n",
              "      <th></th>\n",
              "      <th></th>\n",
              "      <th></th>\n",
              "    </tr>\n",
              "  </thead>\n",
              "  <tbody>\n",
              "    <tr>\n",
              "      <th>2015-01-02</th>\n",
              "      <td>1926.44</td>\n",
              "      <td>1914.24</td>\n",
              "      <td>1929.15</td>\n",
              "      <td>1909.67</td>\n",
              "      <td>258780000.0</td>\n",
              "      <td>0.0057</td>\n",
              "    </tr>\n",
              "    <tr>\n",
              "      <th>2015-01-05</th>\n",
              "      <td>1915.75</td>\n",
              "      <td>1921.96</td>\n",
              "      <td>1921.96</td>\n",
              "      <td>1903.37</td>\n",
              "      <td>313440000.0</td>\n",
              "      <td>-0.0055</td>\n",
              "    </tr>\n",
              "    <tr>\n",
              "      <th>2015-01-06</th>\n",
              "      <td>1882.45</td>\n",
              "      <td>1895.48</td>\n",
              "      <td>1900.02</td>\n",
              "      <td>1877.38</td>\n",
              "      <td>303690000.0</td>\n",
              "      <td>-0.0174</td>\n",
              "    </tr>\n",
              "    <tr>\n",
              "      <th>2015-01-07</th>\n",
              "      <td>1883.83</td>\n",
              "      <td>1878.90</td>\n",
              "      <td>1887.60</td>\n",
              "      <td>1876.27</td>\n",
              "      <td>280510000.0</td>\n",
              "      <td>0.0007</td>\n",
              "    </tr>\n",
              "    <tr>\n",
              "      <th>2015-01-08</th>\n",
              "      <td>1904.65</td>\n",
              "      <td>1895.85</td>\n",
              "      <td>1907.23</td>\n",
              "      <td>1891.77</td>\n",
              "      <td>262210000.0</td>\n",
              "      <td>0.0111</td>\n",
              "    </tr>\n",
              "  </tbody>\n",
              "</table>\n",
              "</div>"
            ],
            "text/plain": [
              "              Close     Open     High      Low       Volume  Change\n",
              "Date                                                               \n",
              "2015-01-02  1926.44  1914.24  1929.15  1909.67  258780000.0  0.0057\n",
              "2015-01-05  1915.75  1921.96  1921.96  1903.37  313440000.0 -0.0055\n",
              "2015-01-06  1882.45  1895.48  1900.02  1877.38  303690000.0 -0.0174\n",
              "2015-01-07  1883.83  1878.90  1887.60  1876.27  280510000.0  0.0007\n",
              "2015-01-08  1904.65  1895.85  1907.23  1891.77  262210000.0  0.0111"
            ]
          },
          "metadata": {
            "tags": []
          },
          "execution_count": 44
        }
      ]
    },
    {
      "cell_type": "code",
      "metadata": {
        "colab": {
          "base_uri": "https://localhost:8080/",
          "height": 447
        },
        "id": "W9PFCvsWPzzv",
        "outputId": "6f3277d0-3309-478d-a303-abeb72fcb580"
      },
      "source": [
        "df"
      ],
      "execution_count": null,
      "outputs": [
        {
          "output_type": "execute_result",
          "data": {
            "text/html": [
              "<div>\n",
              "<style scoped>\n",
              "    .dataframe tbody tr th:only-of-type {\n",
              "        vertical-align: middle;\n",
              "    }\n",
              "\n",
              "    .dataframe tbody tr th {\n",
              "        vertical-align: top;\n",
              "    }\n",
              "\n",
              "    .dataframe thead th {\n",
              "        text-align: right;\n",
              "    }\n",
              "</style>\n",
              "<table border=\"1\" class=\"dataframe\">\n",
              "  <thead>\n",
              "    <tr style=\"text-align: right;\">\n",
              "      <th></th>\n",
              "      <th>Close</th>\n",
              "      <th>Open</th>\n",
              "      <th>High</th>\n",
              "      <th>Low</th>\n",
              "      <th>Volume</th>\n",
              "      <th>Change</th>\n",
              "    </tr>\n",
              "    <tr>\n",
              "      <th>Date</th>\n",
              "      <th></th>\n",
              "      <th></th>\n",
              "      <th></th>\n",
              "      <th></th>\n",
              "      <th></th>\n",
              "      <th></th>\n",
              "    </tr>\n",
              "  </thead>\n",
              "  <tbody>\n",
              "    <tr>\n",
              "      <th>2015-01-02</th>\n",
              "      <td>1926.44</td>\n",
              "      <td>1914.24</td>\n",
              "      <td>1929.15</td>\n",
              "      <td>1909.67</td>\n",
              "      <td>2.587800e+08</td>\n",
              "      <td>0.0057</td>\n",
              "    </tr>\n",
              "    <tr>\n",
              "      <th>2015-01-05</th>\n",
              "      <td>1915.75</td>\n",
              "      <td>1921.96</td>\n",
              "      <td>1921.96</td>\n",
              "      <td>1903.37</td>\n",
              "      <td>3.134400e+08</td>\n",
              "      <td>-0.0055</td>\n",
              "    </tr>\n",
              "    <tr>\n",
              "      <th>2015-01-06</th>\n",
              "      <td>1882.45</td>\n",
              "      <td>1895.48</td>\n",
              "      <td>1900.02</td>\n",
              "      <td>1877.38</td>\n",
              "      <td>3.036900e+08</td>\n",
              "      <td>-0.0174</td>\n",
              "    </tr>\n",
              "    <tr>\n",
              "      <th>2015-01-07</th>\n",
              "      <td>1883.83</td>\n",
              "      <td>1878.90</td>\n",
              "      <td>1887.60</td>\n",
              "      <td>1876.27</td>\n",
              "      <td>2.805100e+08</td>\n",
              "      <td>0.0007</td>\n",
              "    </tr>\n",
              "    <tr>\n",
              "      <th>2015-01-08</th>\n",
              "      <td>1904.65</td>\n",
              "      <td>1895.85</td>\n",
              "      <td>1907.23</td>\n",
              "      <td>1891.77</td>\n",
              "      <td>2.622100e+08</td>\n",
              "      <td>0.0111</td>\n",
              "    </tr>\n",
              "    <tr>\n",
              "      <th>...</th>\n",
              "      <td>...</td>\n",
              "      <td>...</td>\n",
              "      <td>...</td>\n",
              "      <td>...</td>\n",
              "      <td>...</td>\n",
              "      <td>...</td>\n",
              "    </tr>\n",
              "    <tr>\n",
              "      <th>2021-06-17</th>\n",
              "      <td>3264.96</td>\n",
              "      <td>3276.20</td>\n",
              "      <td>3276.20</td>\n",
              "      <td>3251.32</td>\n",
              "      <td>1.850000e+09</td>\n",
              "      <td>-0.0042</td>\n",
              "    </tr>\n",
              "    <tr>\n",
              "      <th>2021-06-18</th>\n",
              "      <td>3267.93</td>\n",
              "      <td>3265.68</td>\n",
              "      <td>3275.76</td>\n",
              "      <td>3262.58</td>\n",
              "      <td>1.630000e+09</td>\n",
              "      <td>0.0009</td>\n",
              "    </tr>\n",
              "    <tr>\n",
              "      <th>2021-06-21</th>\n",
              "      <td>3240.79</td>\n",
              "      <td>3264.18</td>\n",
              "      <td>3264.18</td>\n",
              "      <td>3225.56</td>\n",
              "      <td>1.510000e+09</td>\n",
              "      <td>-0.0083</td>\n",
              "    </tr>\n",
              "    <tr>\n",
              "      <th>2021-06-22</th>\n",
              "      <td>3263.88</td>\n",
              "      <td>3245.79</td>\n",
              "      <td>3267.63</td>\n",
              "      <td>3245.79</td>\n",
              "      <td>1.670000e+09</td>\n",
              "      <td>0.0071</td>\n",
              "    </tr>\n",
              "    <tr>\n",
              "      <th>2021-06-23</th>\n",
              "      <td>3276.19</td>\n",
              "      <td>3265.73</td>\n",
              "      <td>3281.88</td>\n",
              "      <td>3263.07</td>\n",
              "      <td>1.040000e+06</td>\n",
              "      <td>0.0038</td>\n",
              "    </tr>\n",
              "  </tbody>\n",
              "</table>\n",
              "<p>1593 rows × 6 columns</p>\n",
              "</div>"
            ],
            "text/plain": [
              "              Close     Open     High      Low        Volume  Change\n",
              "Date                                                                \n",
              "2015-01-02  1926.44  1914.24  1929.15  1909.67  2.587800e+08  0.0057\n",
              "2015-01-05  1915.75  1921.96  1921.96  1903.37  3.134400e+08 -0.0055\n",
              "2015-01-06  1882.45  1895.48  1900.02  1877.38  3.036900e+08 -0.0174\n",
              "2015-01-07  1883.83  1878.90  1887.60  1876.27  2.805100e+08  0.0007\n",
              "2015-01-08  1904.65  1895.85  1907.23  1891.77  2.622100e+08  0.0111\n",
              "...             ...      ...      ...      ...           ...     ...\n",
              "2021-06-17  3264.96  3276.20  3276.20  3251.32  1.850000e+09 -0.0042\n",
              "2021-06-18  3267.93  3265.68  3275.76  3262.58  1.630000e+09  0.0009\n",
              "2021-06-21  3240.79  3264.18  3264.18  3225.56  1.510000e+09 -0.0083\n",
              "2021-06-22  3263.88  3245.79  3267.63  3245.79  1.670000e+09  0.0071\n",
              "2021-06-23  3276.19  3265.73  3281.88  3263.07  1.040000e+06  0.0038\n",
              "\n",
              "[1593 rows x 6 columns]"
            ]
          },
          "metadata": {
            "tags": []
          },
          "execution_count": 45
        }
      ]
    },
    {
      "cell_type": "code",
      "metadata": {
        "colab": {
          "base_uri": "https://localhost:8080/",
          "height": 234
        },
        "id": "5Mal0K9nOn99",
        "outputId": "9a838ae6-3aa0-4816-c64f-2edee96d49a9"
      },
      "source": [
        "# 원달러 환율, 1995년~현재\n",
        "df = fdr.DataReader('USD/KRW', '1995')\n",
        "df.head()"
      ],
      "execution_count": null,
      "outputs": [
        {
          "output_type": "execute_result",
          "data": {
            "text/html": [
              "<div>\n",
              "<style scoped>\n",
              "    .dataframe tbody tr th:only-of-type {\n",
              "        vertical-align: middle;\n",
              "    }\n",
              "\n",
              "    .dataframe tbody tr th {\n",
              "        vertical-align: top;\n",
              "    }\n",
              "\n",
              "    .dataframe thead th {\n",
              "        text-align: right;\n",
              "    }\n",
              "</style>\n",
              "<table border=\"1\" class=\"dataframe\">\n",
              "  <thead>\n",
              "    <tr style=\"text-align: right;\">\n",
              "      <th></th>\n",
              "      <th>Close</th>\n",
              "      <th>Open</th>\n",
              "      <th>High</th>\n",
              "      <th>Low</th>\n",
              "      <th>Change</th>\n",
              "    </tr>\n",
              "    <tr>\n",
              "      <th>Date</th>\n",
              "      <th></th>\n",
              "      <th></th>\n",
              "      <th></th>\n",
              "      <th></th>\n",
              "      <th></th>\n",
              "    </tr>\n",
              "  </thead>\n",
              "  <tbody>\n",
              "    <tr>\n",
              "      <th>1995-01-02</th>\n",
              "      <td>788.50</td>\n",
              "      <td>788.50</td>\n",
              "      <td>788.50</td>\n",
              "      <td>788.50</td>\n",
              "      <td>0.0000</td>\n",
              "    </tr>\n",
              "    <tr>\n",
              "      <th>1995-01-03</th>\n",
              "      <td>788.65</td>\n",
              "      <td>788.05</td>\n",
              "      <td>788.85</td>\n",
              "      <td>787.55</td>\n",
              "      <td>0.0002</td>\n",
              "    </tr>\n",
              "    <tr>\n",
              "      <th>1995-01-04</th>\n",
              "      <td>789.95</td>\n",
              "      <td>788.65</td>\n",
              "      <td>790.05</td>\n",
              "      <td>788.45</td>\n",
              "      <td>0.0016</td>\n",
              "    </tr>\n",
              "    <tr>\n",
              "      <th>1995-01-05</th>\n",
              "      <td>789.90</td>\n",
              "      <td>789.80</td>\n",
              "      <td>790.20</td>\n",
              "      <td>789.30</td>\n",
              "      <td>-0.0001</td>\n",
              "    </tr>\n",
              "    <tr>\n",
              "      <th>1995-01-06</th>\n",
              "      <td>791.55</td>\n",
              "      <td>789.75</td>\n",
              "      <td>791.65</td>\n",
              "      <td>789.65</td>\n",
              "      <td>0.0021</td>\n",
              "    </tr>\n",
              "  </tbody>\n",
              "</table>\n",
              "</div>"
            ],
            "text/plain": [
              "             Close    Open    High     Low  Change\n",
              "Date                                              \n",
              "1995-01-02  788.50  788.50  788.50  788.50  0.0000\n",
              "1995-01-03  788.65  788.05  788.85  787.55  0.0002\n",
              "1995-01-04  789.95  788.65  790.05  788.45  0.0016\n",
              "1995-01-05  789.90  789.80  790.20  789.30 -0.0001\n",
              "1995-01-06  791.55  789.75  791.65  789.65  0.0021"
            ]
          },
          "metadata": {
            "tags": []
          },
          "execution_count": 46
        }
      ]
    },
    {
      "cell_type": "code",
      "metadata": {
        "colab": {
          "base_uri": "https://localhost:8080/",
          "height": 234
        },
        "id": "s-uEmWSGOo2V",
        "outputId": "ad8c2ef9-5f69-482f-bc76-d16c2db7e5ca"
      },
      "source": [
        "# 비트코인 원화 가격 (빗썸), 2016년~현재\n",
        "df = fdr.DataReader('BTC/KRW', '2016')\n",
        "df.head()"
      ],
      "execution_count": null,
      "outputs": [
        {
          "output_type": "execute_result",
          "data": {
            "text/html": [
              "<div>\n",
              "<style scoped>\n",
              "    .dataframe tbody tr th:only-of-type {\n",
              "        vertical-align: middle;\n",
              "    }\n",
              "\n",
              "    .dataframe tbody tr th {\n",
              "        vertical-align: top;\n",
              "    }\n",
              "\n",
              "    .dataframe thead th {\n",
              "        text-align: right;\n",
              "    }\n",
              "</style>\n",
              "<table border=\"1\" class=\"dataframe\">\n",
              "  <thead>\n",
              "    <tr style=\"text-align: right;\">\n",
              "      <th></th>\n",
              "      <th>Close</th>\n",
              "      <th>Open</th>\n",
              "      <th>High</th>\n",
              "      <th>Low</th>\n",
              "      <th>Volume</th>\n",
              "      <th>Change</th>\n",
              "    </tr>\n",
              "    <tr>\n",
              "      <th>Date</th>\n",
              "      <th></th>\n",
              "      <th></th>\n",
              "      <th></th>\n",
              "      <th></th>\n",
              "      <th></th>\n",
              "      <th></th>\n",
              "    </tr>\n",
              "  </thead>\n",
              "  <tbody>\n",
              "    <tr>\n",
              "      <th>2017-05-23</th>\n",
              "      <td>3206000</td>\n",
              "      <td>3104000</td>\n",
              "      <td>3281000</td>\n",
              "      <td>3081000</td>\n",
              "      <td>21580.0</td>\n",
              "      <td>0.0329</td>\n",
              "    </tr>\n",
              "    <tr>\n",
              "      <th>2017-05-24</th>\n",
              "      <td>4175000</td>\n",
              "      <td>3206000</td>\n",
              "      <td>4314000</td>\n",
              "      <td>3206000</td>\n",
              "      <td>34680.0</td>\n",
              "      <td>0.3022</td>\n",
              "    </tr>\n",
              "    <tr>\n",
              "      <th>2017-05-25</th>\n",
              "      <td>4199000</td>\n",
              "      <td>4175000</td>\n",
              "      <td>4840000</td>\n",
              "      <td>3102000</td>\n",
              "      <td>35910.0</td>\n",
              "      <td>0.0057</td>\n",
              "    </tr>\n",
              "    <tr>\n",
              "      <th>2017-05-26</th>\n",
              "      <td>3227000</td>\n",
              "      <td>4199000</td>\n",
              "      <td>4200000</td>\n",
              "      <td>2900000</td>\n",
              "      <td>36650.0</td>\n",
              "      <td>-0.2315</td>\n",
              "    </tr>\n",
              "    <tr>\n",
              "      <th>2017-05-27</th>\n",
              "      <td>3152000</td>\n",
              "      <td>3227000</td>\n",
              "      <td>3288000</td>\n",
              "      <td>2460000</td>\n",
              "      <td>33750.0</td>\n",
              "      <td>-0.0232</td>\n",
              "    </tr>\n",
              "  </tbody>\n",
              "</table>\n",
              "</div>"
            ],
            "text/plain": [
              "              Close     Open     High      Low   Volume  Change\n",
              "Date                                                           \n",
              "2017-05-23  3206000  3104000  3281000  3081000  21580.0  0.0329\n",
              "2017-05-24  4175000  3206000  4314000  3206000  34680.0  0.3022\n",
              "2017-05-25  4199000  4175000  4840000  3102000  35910.0  0.0057\n",
              "2017-05-26  3227000  4199000  4200000  2900000  36650.0 -0.2315\n",
              "2017-05-27  3152000  3227000  3288000  2460000  33750.0 -0.0232"
            ]
          },
          "metadata": {
            "tags": []
          },
          "execution_count": 47
        }
      ]
    },
    {
      "cell_type": "markdown",
      "metadata": {
        "id": "R08U3_oRsJko"
      },
      "source": [
        "#Quiz"
      ]
    },
    {
      "cell_type": "markdown",
      "metadata": {
        "id": "itS-xXPZqlzw"
      },
      "source": [
        "##Quiz #1"
      ]
    },
    {
      "cell_type": "markdown",
      "metadata": {
        "id": "NX8Vu1atqpmM"
      },
      "source": [
        "다음과 같은 문자열이 있을 때 해당 문자열을 데이트타임 타입으로 변환해보세요.  \n",
        "단, 아래의 문자열은 2021년 8월 7일을 의미합니다.\n",
        "\n",
        "```\n",
        "datetime_str = '07-08-2021'\n",
        "```"
      ]
    },
    {
      "cell_type": "markdown",
      "metadata": {
        "id": "JuA0pKEVrJer"
      },
      "source": [
        "##Quiz #1 풀이"
      ]
    },
    {
      "cell_type": "code",
      "metadata": {
        "id": "e_FwCdD4q3XV"
      },
      "source": [
        "import datetime"
      ],
      "execution_count": null,
      "outputs": []
    },
    {
      "cell_type": "code",
      "metadata": {
        "id": "p4T6D1Gqqxoc"
      },
      "source": [
        "datetime_str = '07-08-2021'"
      ],
      "execution_count": null,
      "outputs": []
    },
    {
      "cell_type": "code",
      "metadata": {
        "id": "CgxcEKAhrZp1"
      },
      "source": [
        "format = '%d-%m-%Y' "
      ],
      "execution_count": null,
      "outputs": []
    },
    {
      "cell_type": "code",
      "metadata": {
        "colab": {
          "base_uri": "https://localhost:8080/"
        },
        "id": "A1C9ygI4rWrd",
        "outputId": "9ac663b7-c445-4260-ea52-a827d3cc74d2"
      },
      "source": [
        "datetime_dt = datetime.datetime.strptime(datetime_str, format)\n",
        "print(datetime_dt)"
      ],
      "execution_count": null,
      "outputs": [
        {
          "output_type": "stream",
          "text": [
            "2021-08-07 00:00:00\n"
          ],
          "name": "stdout"
        }
      ]
    },
    {
      "cell_type": "markdown",
      "metadata": {
        "id": "XhCgXi5DrzqV"
      },
      "source": [
        "##Quiz #2"
      ]
    },
    {
      "cell_type": "markdown",
      "metadata": {
        "id": "xx8yppSCr2ZO"
      },
      "source": [
        "파이낸스데이터 리더 패키지를 사용하여 미코바이오메드 종목의 2020년 1월 8일부터 2021년 7월 1일까지의 데이터를 로드하여 출력해보세요."
      ]
    },
    {
      "cell_type": "markdown",
      "metadata": {
        "id": "Lt_tcAYQsN2O"
      },
      "source": [
        "## Quiz #2 풀이"
      ]
    },
    {
      "cell_type": "code",
      "metadata": {
        "id": "VQx_yOfar1PO"
      },
      "source": [
        "import FinanceDataReader as fdr"
      ],
      "execution_count": null,
      "outputs": []
    },
    {
      "cell_type": "code",
      "metadata": {
        "colab": {
          "base_uri": "https://localhost:8080/",
          "height": 455
        },
        "id": "HY1gafDesB0t",
        "outputId": "cd04cbcb-0915-4bea-f388-512dbaa17449"
      },
      "source": [
        "# 미코바이오메드의 종목 번호는 '214610'\n",
        "df = fdr.DataReader('214610', '2020-01-08', '2021-07-01')\n",
        "df"
      ],
      "execution_count": null,
      "outputs": [
        {
          "output_type": "execute_result",
          "data": {
            "text/html": [
              "<div>\n",
              "<style scoped>\n",
              "    .dataframe tbody tr th:only-of-type {\n",
              "        vertical-align: middle;\n",
              "    }\n",
              "\n",
              "    .dataframe tbody tr th {\n",
              "        vertical-align: top;\n",
              "    }\n",
              "\n",
              "    .dataframe thead th {\n",
              "        text-align: right;\n",
              "    }\n",
              "</style>\n",
              "<table border=\"1\" class=\"dataframe\">\n",
              "  <thead>\n",
              "    <tr style=\"text-align: right;\">\n",
              "      <th></th>\n",
              "      <th>Open</th>\n",
              "      <th>High</th>\n",
              "      <th>Low</th>\n",
              "      <th>Close</th>\n",
              "      <th>Volume</th>\n",
              "      <th>Change</th>\n",
              "    </tr>\n",
              "    <tr>\n",
              "      <th>Date</th>\n",
              "      <th></th>\n",
              "      <th></th>\n",
              "      <th></th>\n",
              "      <th></th>\n",
              "      <th></th>\n",
              "      <th></th>\n",
              "    </tr>\n",
              "  </thead>\n",
              "  <tbody>\n",
              "    <tr>\n",
              "      <th>2020-01-08</th>\n",
              "      <td>6800</td>\n",
              "      <td>6800</td>\n",
              "      <td>6600</td>\n",
              "      <td>6800</td>\n",
              "      <td>82</td>\n",
              "      <td>0.000000</td>\n",
              "    </tr>\n",
              "    <tr>\n",
              "      <th>2020-01-09</th>\n",
              "      <td>6800</td>\n",
              "      <td>6800</td>\n",
              "      <td>6400</td>\n",
              "      <td>6800</td>\n",
              "      <td>3</td>\n",
              "      <td>0.000000</td>\n",
              "    </tr>\n",
              "    <tr>\n",
              "      <th>2020-01-10</th>\n",
              "      <td>6800</td>\n",
              "      <td>7200</td>\n",
              "      <td>6700</td>\n",
              "      <td>6800</td>\n",
              "      <td>331</td>\n",
              "      <td>0.000000</td>\n",
              "    </tr>\n",
              "    <tr>\n",
              "      <th>2020-01-13</th>\n",
              "      <td>6800</td>\n",
              "      <td>7000</td>\n",
              "      <td>6650</td>\n",
              "      <td>6650</td>\n",
              "      <td>4723</td>\n",
              "      <td>-0.022059</td>\n",
              "    </tr>\n",
              "    <tr>\n",
              "      <th>2020-01-14</th>\n",
              "      <td>6650</td>\n",
              "      <td>6800</td>\n",
              "      <td>6400</td>\n",
              "      <td>6790</td>\n",
              "      <td>3567</td>\n",
              "      <td>0.021053</td>\n",
              "    </tr>\n",
              "    <tr>\n",
              "      <th>...</th>\n",
              "      <td>...</td>\n",
              "      <td>...</td>\n",
              "      <td>...</td>\n",
              "      <td>...</td>\n",
              "      <td>...</td>\n",
              "      <td>...</td>\n",
              "    </tr>\n",
              "    <tr>\n",
              "      <th>2021-06-25</th>\n",
              "      <td>16200</td>\n",
              "      <td>16350</td>\n",
              "      <td>15850</td>\n",
              "      <td>16000</td>\n",
              "      <td>204720</td>\n",
              "      <td>0.003135</td>\n",
              "    </tr>\n",
              "    <tr>\n",
              "      <th>2021-06-28</th>\n",
              "      <td>16100</td>\n",
              "      <td>16350</td>\n",
              "      <td>15900</td>\n",
              "      <td>16100</td>\n",
              "      <td>205914</td>\n",
              "      <td>0.006250</td>\n",
              "    </tr>\n",
              "    <tr>\n",
              "      <th>2021-06-29</th>\n",
              "      <td>16300</td>\n",
              "      <td>20150</td>\n",
              "      <td>15400</td>\n",
              "      <td>15450</td>\n",
              "      <td>4021033</td>\n",
              "      <td>-0.040373</td>\n",
              "    </tr>\n",
              "    <tr>\n",
              "      <th>2021-06-30</th>\n",
              "      <td>15450</td>\n",
              "      <td>15800</td>\n",
              "      <td>15200</td>\n",
              "      <td>15500</td>\n",
              "      <td>397913</td>\n",
              "      <td>0.003236</td>\n",
              "    </tr>\n",
              "    <tr>\n",
              "      <th>2021-07-01</th>\n",
              "      <td>15650</td>\n",
              "      <td>16650</td>\n",
              "      <td>15600</td>\n",
              "      <td>16200</td>\n",
              "      <td>646405</td>\n",
              "      <td>0.045161</td>\n",
              "    </tr>\n",
              "  </tbody>\n",
              "</table>\n",
              "<p>368 rows × 6 columns</p>\n",
              "</div>"
            ],
            "text/plain": [
              "             Open   High    Low  Close   Volume    Change\n",
              "Date                                                     \n",
              "2020-01-08   6800   6800   6600   6800       82  0.000000\n",
              "2020-01-09   6800   6800   6400   6800        3  0.000000\n",
              "2020-01-10   6800   7200   6700   6800      331  0.000000\n",
              "2020-01-13   6800   7000   6650   6650     4723 -0.022059\n",
              "2020-01-14   6650   6800   6400   6790     3567  0.021053\n",
              "...           ...    ...    ...    ...      ...       ...\n",
              "2021-06-25  16200  16350  15850  16000   204720  0.003135\n",
              "2021-06-28  16100  16350  15900  16100   205914  0.006250\n",
              "2021-06-29  16300  20150  15400  15450  4021033 -0.040373\n",
              "2021-06-30  15450  15800  15200  15500   397913  0.003236\n",
              "2021-07-01  15650  16650  15600  16200   646405  0.045161\n",
              "\n",
              "[368 rows x 6 columns]"
            ]
          },
          "metadata": {
            "tags": []
          },
          "execution_count": 11
        }
      ]
    },
    {
      "cell_type": "markdown",
      "metadata": {
        "id": "hitLU7nYswvH"
      },
      "source": [
        "##Quiz #3"
      ]
    },
    {
      "cell_type": "markdown",
      "metadata": {
        "id": "72GiT_hhsyT7"
      },
      "source": [
        "파이썬 패키지 Numpy를 사용하여 2021년 3월 1일부터 2021년 7월 1일 사이의 모든 일자를 출력하세요. 단, 7월 1일도 포함해야 합니다."
      ]
    },
    {
      "cell_type": "markdown",
      "metadata": {
        "id": "vHv7bEt_s_4O"
      },
      "source": [
        "##Quiz #3 풀이"
      ]
    },
    {
      "cell_type": "code",
      "metadata": {
        "colab": {
          "base_uri": "https://localhost:8080/"
        },
        "id": "H8_o_aeIsQv4",
        "outputId": "173b5566-674d-466f-eec5-a13b4a5c579d"
      },
      "source": [
        "# 일단위\n",
        "import numpy as np\n",
        "np.arange('2021-03', '2021-07-02', dtype='datetime64[D]')"
      ],
      "execution_count": null,
      "outputs": [
        {
          "output_type": "execute_result",
          "data": {
            "text/plain": [
              "array(['2021-03-01', '2021-03-02', '2021-03-03', '2021-03-04',\n",
              "       '2021-03-05', '2021-03-06', '2021-03-07', '2021-03-08',\n",
              "       '2021-03-09', '2021-03-10', '2021-03-11', '2021-03-12',\n",
              "       '2021-03-13', '2021-03-14', '2021-03-15', '2021-03-16',\n",
              "       '2021-03-17', '2021-03-18', '2021-03-19', '2021-03-20',\n",
              "       '2021-03-21', '2021-03-22', '2021-03-23', '2021-03-24',\n",
              "       '2021-03-25', '2021-03-26', '2021-03-27', '2021-03-28',\n",
              "       '2021-03-29', '2021-03-30', '2021-03-31', '2021-04-01',\n",
              "       '2021-04-02', '2021-04-03', '2021-04-04', '2021-04-05',\n",
              "       '2021-04-06', '2021-04-07', '2021-04-08', '2021-04-09',\n",
              "       '2021-04-10', '2021-04-11', '2021-04-12', '2021-04-13',\n",
              "       '2021-04-14', '2021-04-15', '2021-04-16', '2021-04-17',\n",
              "       '2021-04-18', '2021-04-19', '2021-04-20', '2021-04-21',\n",
              "       '2021-04-22', '2021-04-23', '2021-04-24', '2021-04-25',\n",
              "       '2021-04-26', '2021-04-27', '2021-04-28', '2021-04-29',\n",
              "       '2021-04-30', '2021-05-01', '2021-05-02', '2021-05-03',\n",
              "       '2021-05-04', '2021-05-05', '2021-05-06', '2021-05-07',\n",
              "       '2021-05-08', '2021-05-09', '2021-05-10', '2021-05-11',\n",
              "       '2021-05-12', '2021-05-13', '2021-05-14', '2021-05-15',\n",
              "       '2021-05-16', '2021-05-17', '2021-05-18', '2021-05-19',\n",
              "       '2021-05-20', '2021-05-21', '2021-05-22', '2021-05-23',\n",
              "       '2021-05-24', '2021-05-25', '2021-05-26', '2021-05-27',\n",
              "       '2021-05-28', '2021-05-29', '2021-05-30', '2021-05-31',\n",
              "       '2021-06-01', '2021-06-02', '2021-06-03', '2021-06-04',\n",
              "       '2021-06-05', '2021-06-06', '2021-06-07', '2021-06-08',\n",
              "       '2021-06-09', '2021-06-10', '2021-06-11', '2021-06-12',\n",
              "       '2021-06-13', '2021-06-14', '2021-06-15', '2021-06-16',\n",
              "       '2021-06-17', '2021-06-18', '2021-06-19', '2021-06-20',\n",
              "       '2021-06-21', '2021-06-22', '2021-06-23', '2021-06-24',\n",
              "       '2021-06-25', '2021-06-26', '2021-06-27', '2021-06-28',\n",
              "       '2021-06-29', '2021-06-30', '2021-07-01'], dtype='datetime64[D]')"
            ]
          },
          "metadata": {
            "tags": []
          },
          "execution_count": 13
        }
      ]
    }
  ]
}