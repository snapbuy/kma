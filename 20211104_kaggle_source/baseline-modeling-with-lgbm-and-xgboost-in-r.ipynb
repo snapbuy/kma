{
 "cells": [
  {
   "cell_type": "markdown",
   "id": "e3e53d98",
   "metadata": {
    "papermill": {
     "duration": 0.087461,
     "end_time": "2021-11-02T17:02:26.279558",
     "exception": false,
     "start_time": "2021-11-02T17:02:26.192097",
     "status": "completed"
    },
    "tags": []
   },
   "source": [
    "# 패키지 불러오기"
   ]
  },
  {
   "cell_type": "code",
   "execution_count": 1,
   "id": "e1c7a060",
   "metadata": {
    "_execution_state": "idle",
    "_uuid": "051d70d956493feee0c6d64651c6a088724dca2a",
    "execution": {
     "iopub.execute_input": "2021-11-02T17:02:26.456450Z",
     "iopub.status.busy": "2021-11-02T17:02:26.453596Z",
     "iopub.status.idle": "2021-11-02T17:02:30.435308Z",
     "shell.execute_reply": "2021-11-02T17:02:30.433659Z"
    },
    "papermill": {
     "duration": 4.071611,
     "end_time": "2021-11-02T17:02:30.435478",
     "exception": false,
     "start_time": "2021-11-02T17:02:26.363867",
     "status": "completed"
    },
    "tags": []
   },
   "outputs": [
    {
     "name": "stderr",
     "output_type": "stream",
     "text": [
      "── \u001b[1mAttaching packages\u001b[22m ─────────────────────────────────────── tidyverse 1.3.1 ──\n",
      "\n",
      "\u001b[32m✔\u001b[39m \u001b[34mggplot2\u001b[39m 3.3.5     \u001b[32m✔\u001b[39m \u001b[34mpurrr  \u001b[39m 0.3.4\n",
      "\u001b[32m✔\u001b[39m \u001b[34mtibble \u001b[39m 3.1.5     \u001b[32m✔\u001b[39m \u001b[34mdplyr  \u001b[39m 1.0.7\n",
      "\u001b[32m✔\u001b[39m \u001b[34mtidyr  \u001b[39m 1.1.4     \u001b[32m✔\u001b[39m \u001b[34mstringr\u001b[39m 1.4.0\n",
      "\u001b[32m✔\u001b[39m \u001b[34mreadr  \u001b[39m 2.0.2     \u001b[32m✔\u001b[39m \u001b[34mforcats\u001b[39m 0.5.1\n",
      "\n",
      "── \u001b[1mConflicts\u001b[22m ────────────────────────────────────────── tidyverse_conflicts() ──\n",
      "\u001b[31m✖\u001b[39m \u001b[34mdplyr\u001b[39m::\u001b[32mfilter()\u001b[39m masks \u001b[34mstats\u001b[39m::filter()\n",
      "\u001b[31m✖\u001b[39m \u001b[34mdplyr\u001b[39m::\u001b[32mlag()\u001b[39m    masks \u001b[34mstats\u001b[39m::lag()\n",
      "\n",
      "Registered S3 method overwritten by 'GGally':\n",
      "  method from   \n",
      "  +.gg   ggplot2\n",
      "\n",
      "\n",
      "Attaching package: ‘plotly’\n",
      "\n",
      "\n",
      "The following object is masked from ‘package:ggplot2’:\n",
      "\n",
      "    last_plot\n",
      "\n",
      "\n",
      "The following object is masked from ‘package:stats’:\n",
      "\n",
      "    filter\n",
      "\n",
      "\n",
      "The following object is masked from ‘package:graphics’:\n",
      "\n",
      "    layout\n",
      "\n",
      "\n",
      "The following object is masked from ‘package:httr’:\n",
      "\n",
      "    config\n",
      "\n",
      "\n",
      "Loading required package: viridisLite\n",
      "\n",
      "Loading required package: lattice\n",
      "\n",
      "\n",
      "Attaching package: ‘caret’\n",
      "\n",
      "\n",
      "The following object is masked from ‘package:purrr’:\n",
      "\n",
      "    lift\n",
      "\n",
      "\n",
      "The following object is masked from ‘package:httr’:\n",
      "\n",
      "    progress\n",
      "\n",
      "\n",
      "\n",
      "Attaching package: ‘data.table’\n",
      "\n",
      "\n",
      "The following objects are masked from ‘package:dplyr’:\n",
      "\n",
      "    between, first, last\n",
      "\n",
      "\n",
      "The following object is masked from ‘package:purrr’:\n",
      "\n",
      "    transpose\n",
      "\n",
      "\n",
      "Loading required package: R6\n",
      "\n",
      "\n",
      "Attaching package: ‘lightgbm’\n",
      "\n",
      "\n",
      "The following object is masked from ‘package:plotly’:\n",
      "\n",
      "    slice\n",
      "\n",
      "\n",
      "The following object is masked from ‘package:dplyr’:\n",
      "\n",
      "    slice\n",
      "\n",
      "\n",
      "\n",
      "Attaching package: ‘xgboost’\n",
      "\n",
      "\n",
      "The following objects are masked from ‘package:lightgbm’:\n",
      "\n",
      "    getinfo, setinfo, slice\n",
      "\n",
      "\n",
      "The following object is masked from ‘package:plotly’:\n",
      "\n",
      "    slice\n",
      "\n",
      "\n",
      "The following object is masked from ‘package:dplyr’:\n",
      "\n",
      "    slice\n",
      "\n",
      "\n",
      "\n",
      "Attaching package: ‘kableExtra’\n",
      "\n",
      "\n",
      "The following object is masked from ‘package:dplyr’:\n",
      "\n",
      "    group_rows\n",
      "\n",
      "\n",
      "\n",
      "Attaching package: ‘magrittr’\n",
      "\n",
      "\n",
      "The following object is masked from ‘package:purrr’:\n",
      "\n",
      "    set_names\n",
      "\n",
      "\n",
      "The following object is masked from ‘package:tidyr’:\n",
      "\n",
      "    extract\n",
      "\n",
      "\n"
     ]
    },
    {
     "data": {
      "text/html": [
       "'home-credit-default-risk'"
      ],
      "text/latex": [
       "'home-credit-default-risk'"
      ],
      "text/markdown": [
       "'home-credit-default-risk'"
      ],
      "text/plain": [
       "[1] \"home-credit-default-risk\""
      ]
     },
     "metadata": {},
     "output_type": "display_data"
    }
   ],
   "source": [
    "# This R environment comes with many helpful analytics packages installed\n",
    "# It is defined by the kaggle/rstats Docker image: https://github.com/kaggle/docker-rstats\n",
    "# For example, here's a helpful package to load\n",
    "\n",
    "library(tidyverse)\n",
    "library(skimr)\n",
    "library(GGally)\n",
    "library(plotly)\n",
    "library(viridis)\n",
    "library(caret)\n",
    "library(DT)\n",
    "library(data.table)\n",
    "library(lightgbm)\n",
    "library(xgboost)\n",
    "library(kableExtra)\n",
    "library(magrittr)\n",
    "set.seed(0)\n",
    "\n",
    "# Input data files are available in the read-only \"../input/\" directory\n",
    "# For example, running this (by clicking run or pressing Shift+Enter) will list all files under the input directory\n",
    "\n",
    "list.files(path = \"../input\")\n",
    "\n",
    "# You can write up to 20GB to the current directory (/kaggle/working/) that gets preserved as output when you create a version using \"Save & Run All\" \n",
    "# You can also write temporary files to /kaggle/temp/, but they won't be saved outside of the current session"
   ]
  },
  {
   "cell_type": "markdown",
   "id": "52f08c07",
   "metadata": {
    "papermill": {
     "duration": 0.117831,
     "end_time": "2021-11-02T17:02:30.672795",
     "exception": false,
     "start_time": "2021-11-02T17:02:30.554964",
     "status": "completed"
    },
    "tags": []
   },
   "source": [
    "## 데이터 불러오기 \n",
    "- 각각의 데이터를 불러오도록 한다. "
   ]
  },
  {
   "cell_type": "code",
   "execution_count": 2,
   "id": "8b417f39",
   "metadata": {
    "execution": {
     "iopub.execute_input": "2021-11-02T17:02:30.945360Z",
     "iopub.status.busy": "2021-11-02T17:02:30.913014Z",
     "iopub.status.idle": "2021-11-02T17:02:35.084542Z",
     "shell.execute_reply": "2021-11-02T17:02:35.083208Z"
    },
    "papermill": {
     "duration": 4.29337,
     "end_time": "2021-11-02T17:02:35.084713",
     "exception": false,
     "start_time": "2021-11-02T17:02:30.791343",
     "status": "completed"
    },
    "tags": []
   },
   "outputs": [
    {
     "name": "stdout",
     "output_type": "stream",
     "text": [
      "Loading data...\n"
     ]
    },
    {
     "data": {
      "text/html": [
       "<style>\n",
       ".list-inline {list-style: none; margin:0; padding: 0}\n",
       ".list-inline>li {display: inline-block}\n",
       ".list-inline>li:not(:last-child)::after {content: \"\\00b7\"; padding: 0 .5ex}\n",
       "</style>\n",
       "<ol class=list-inline><li>307511</li><li>122</li></ol>\n"
      ],
      "text/latex": [
       "\\begin{enumerate*}\n",
       "\\item 307511\n",
       "\\item 122\n",
       "\\end{enumerate*}\n"
      ],
      "text/markdown": [
       "1. 307511\n",
       "2. 122\n",
       "\n",
       "\n"
      ],
      "text/plain": [
       "[1] 307511    122"
      ]
     },
     "metadata": {},
     "output_type": "display_data"
    }
   ],
   "source": [
    "cat(\"Loading data...\\n\")\n",
    "DATA_PATH = \"../input/home-credit-default-risk/\"\n",
    "na_strings = c(\"NA\", \"NaN\", \"?\", \"\")\n",
    "train = fread(paste0(DATA_PATH, 'application_train.csv'), \n",
    "              stringsAsFactors = FALSE, \n",
    "              data.table = FALSE, na.strings = na_strings)\n",
    "\n",
    "# train %>% skim()\n",
    "dim(train)"
   ]
  },
  {
   "cell_type": "code",
   "execution_count": 3,
   "id": "212ffbdd",
   "metadata": {
    "execution": {
     "iopub.execute_input": "2021-11-02T17:02:35.336930Z",
     "iopub.status.busy": "2021-11-02T17:02:35.335470Z",
     "iopub.status.idle": "2021-11-02T17:02:36.215342Z",
     "shell.execute_reply": "2021-11-02T17:02:36.213978Z"
    },
    "papermill": {
     "duration": 1.008113,
     "end_time": "2021-11-02T17:02:36.215504",
     "exception": false,
     "start_time": "2021-11-02T17:02:35.207391",
     "status": "completed"
    },
    "tags": []
   },
   "outputs": [
    {
     "data": {
      "text/html": [
       "<style>\n",
       ".list-inline {list-style: none; margin:0; padding: 0}\n",
       ".list-inline>li {display: inline-block}\n",
       ".list-inline>li:not(:last-child)::after {content: \"\\00b7\"; padding: 0 .5ex}\n",
       "</style>\n",
       "<ol class=list-inline><li>48744</li><li>121</li></ol>\n"
      ],
      "text/latex": [
       "\\begin{enumerate*}\n",
       "\\item 48744\n",
       "\\item 121\n",
       "\\end{enumerate*}\n"
      ],
      "text/markdown": [
       "1. 48744\n",
       "2. 121\n",
       "\n",
       "\n"
      ],
      "text/plain": [
       "[1] 48744   121"
      ]
     },
     "metadata": {},
     "output_type": "display_data"
    }
   ],
   "source": [
    "test = fread(paste0(DATA_PATH, 'application_test.csv'), \n",
    "              stringsAsFactors = FALSE, \n",
    "              data.table = FALSE, na.strings = na_strings)\n",
    "\n",
    "# train %>% skim()\n",
    "dim(test)"
   ]
  },
  {
   "cell_type": "code",
   "execution_count": 4,
   "id": "828eea8b",
   "metadata": {
    "execution": {
     "iopub.execute_input": "2021-11-02T17:02:36.473241Z",
     "iopub.status.busy": "2021-11-02T17:02:36.471201Z",
     "iopub.status.idle": "2021-11-02T17:02:38.949858Z",
     "shell.execute_reply": "2021-11-02T17:02:38.947855Z"
    },
    "papermill": {
     "duration": 2.60843,
     "end_time": "2021-11-02T17:02:38.950030",
     "exception": false,
     "start_time": "2021-11-02T17:02:36.341600",
     "status": "completed"
    },
    "tags": []
   },
   "outputs": [
    {
     "data": {
      "text/html": [
       "<style>\n",
       ".list-inline {list-style: none; margin:0; padding: 0}\n",
       ".list-inline>li {display: inline-block}\n",
       ".list-inline>li:not(:last-child)::after {content: \"\\00b7\"; padding: 0 .5ex}\n",
       "</style>\n",
       "<ol class=list-inline><li>1716428</li><li>17</li></ol>\n"
      ],
      "text/latex": [
       "\\begin{enumerate*}\n",
       "\\item 1716428\n",
       "\\item 17\n",
       "\\end{enumerate*}\n"
      ],
      "text/markdown": [
       "1. 1716428\n",
       "2. 17\n",
       "\n",
       "\n"
      ],
      "text/plain": [
       "[1] 1716428      17"
      ]
     },
     "metadata": {},
     "output_type": "display_data"
    }
   ],
   "source": [
    "bureau = fread(paste0(DATA_PATH, 'bureau.csv'), \n",
    "              stringsAsFactors = FALSE, \n",
    "              data.table = FALSE, na.strings = na_strings)\n",
    "\n",
    "dim(bureau)"
   ]
  },
  {
   "cell_type": "code",
   "execution_count": 5,
   "id": "9c95c46e",
   "metadata": {
    "execution": {
     "iopub.execute_input": "2021-11-02T17:02:39.216952Z",
     "iopub.status.busy": "2021-11-02T17:02:39.214914Z",
     "iopub.status.idle": "2021-11-02T17:02:44.464182Z",
     "shell.execute_reply": "2021-11-02T17:02:44.462584Z"
    },
    "papermill": {
     "duration": 5.383247,
     "end_time": "2021-11-02T17:02:44.464338",
     "exception": false,
     "start_time": "2021-11-02T17:02:39.081091",
     "status": "completed"
    },
    "tags": []
   },
   "outputs": [
    {
     "data": {
      "text/html": [
       "<style>\n",
       ".list-inline {list-style: none; margin:0; padding: 0}\n",
       ".list-inline>li {display: inline-block}\n",
       ".list-inline>li:not(:last-child)::after {content: \"\\00b7\"; padding: 0 .5ex}\n",
       "</style>\n",
       "<ol class=list-inline><li>27299925</li><li>3</li></ol>\n"
      ],
      "text/latex": [
       "\\begin{enumerate*}\n",
       "\\item 27299925\n",
       "\\item 3\n",
       "\\end{enumerate*}\n"
      ],
      "text/markdown": [
       "1. 27299925\n",
       "2. 3\n",
       "\n",
       "\n"
      ],
      "text/plain": [
       "[1] 27299925        3"
      ]
     },
     "metadata": {},
     "output_type": "display_data"
    }
   ],
   "source": [
    "bur_balance = fread(paste0(DATA_PATH, 'bureau_balance.csv'), \n",
    "              stringsAsFactors = FALSE, \n",
    "              data.table = FALSE, na.strings = na_strings)\n",
    "\n",
    "dim(bur_balance)\n",
    "# bur_balance %>% skim()"
   ]
  },
  {
   "cell_type": "markdown",
   "id": "359d23aa",
   "metadata": {
    "papermill": {
     "duration": 0.128859,
     "end_time": "2021-11-02T17:02:44.726891",
     "exception": false,
     "start_time": "2021-11-02T17:02:44.598032",
     "status": "completed"
    },
    "tags": []
   },
   "source": [
    "# 데이터 전처리\n",
    "## 데이터 특징\n",
    "- 모델링을 위한 데이터 전처리에서 가장 기본이 되는 train 데이터의 id를 확인해보면, 각 ID당 1개의 행(row)만 존재하는 것을 확인할 수 있다. "
   ]
  },
  {
   "cell_type": "code",
   "execution_count": 6,
   "id": "380815c6",
   "metadata": {
    "execution": {
     "iopub.execute_input": "2021-11-02T17:02:44.991411Z",
     "iopub.status.busy": "2021-11-02T17:02:44.989816Z",
     "iopub.status.idle": "2021-11-02T17:02:45.462684Z",
     "shell.execute_reply": "2021-11-02T17:02:45.461107Z"
    },
    "papermill": {
     "duration": 0.605594,
     "end_time": "2021-11-02T17:02:45.462829",
     "exception": false,
     "start_time": "2021-11-02T17:02:44.857235",
     "status": "completed"
    },
    "tags": []
   },
   "outputs": [
    {
     "data": {
      "text/plain": [
       "\n",
       "100002 100003 100004 100006 100007 100008 100009 100010 100011 100012 \n",
       "     1      1      1      1      1      1      1      1      1      1 "
      ]
     },
     "metadata": {},
     "output_type": "display_data"
    }
   ],
   "source": [
    "table(train$SK_ID_CURR) %>% head(10)"
   ]
  },
  {
   "cell_type": "markdown",
   "id": "7cd215aa",
   "metadata": {
    "papermill": {
     "duration": 0.132199,
     "end_time": "2021-11-02T17:02:45.727740",
     "exception": false,
     "start_time": "2021-11-02T17:02:45.595541",
     "status": "completed"
    },
    "tags": []
   },
   "source": [
    "- 그런데, 다른 데이터셋의 경우, ID마다 서로 다른 행(row) 개수가 나타나는 것을 볼 수 있다. \n",
    "- 이 때에는 우선 ID마다 Group by를 통해서 행의 결과를 단일하게 맞출 필요가 있다."
   ]
  },
  {
   "cell_type": "code",
   "execution_count": 7,
   "id": "ea5d0941",
   "metadata": {
    "execution": {
     "iopub.execute_input": "2021-11-02T17:02:45.996572Z",
     "iopub.status.busy": "2021-11-02T17:02:45.994981Z",
     "iopub.status.idle": "2021-11-02T17:02:57.905144Z",
     "shell.execute_reply": "2021-11-02T17:02:57.903157Z"
    },
    "papermill": {
     "duration": 12.045232,
     "end_time": "2021-11-02T17:02:57.905313",
     "exception": false,
     "start_time": "2021-11-02T17:02:45.860081",
     "status": "completed"
    },
    "tags": []
   },
   "outputs": [
    {
     "data": {
      "text/plain": [
       "\n",
       "5001709 5001710 5001711 5001712 5001713 5001714 5001715 5001716 5001717 5001718 \n",
       "     97      83       4      19      22      15      60      86      22      39 "
      ]
     },
     "metadata": {},
     "output_type": "display_data"
    }
   ],
   "source": [
    "table(bur_balance$SK_ID_BUREAU) %>% head(10)"
   ]
  },
  {
   "cell_type": "markdown",
   "id": "efe67899",
   "metadata": {
    "papermill": {
     "duration": 0.13314,
     "end_time": "2021-11-02T17:02:58.172020",
     "exception": false,
     "start_time": "2021-11-02T17:02:58.038880",
     "status": "completed"
    },
    "tags": []
   },
   "source": [
    "## sum_bureau_balance\n",
    "- 우선 bur_balance 데이터는 매월마다 대출 잔액을 체크하고 있다. \n",
    "- 이와 같은 데이터에 대한 설명을 이해하는 것은 쉬운 건 아니다. \n",
    "  + 이럴 때는 각 데이터에 대한 부가적인 설명이 필요하다. \n",
    "  + [Discussion: Interpreting the BUREAU_BALANCE table](https://www.kaggle.com/c/home-credit-default-risk/discussion/58445)\n",
    "- 우선, STATUS는 데이터 중에서도 서열측도에 해당한다고 볼 수 있다. \n",
    "  + 따라서 문자열 데이터를 숫자로 바꾸는 코드를 진행한다. "
   ]
  },
  {
   "cell_type": "code",
   "execution_count": 8,
   "id": "13d7a30f",
   "metadata": {
    "execution": {
     "iopub.execute_input": "2021-11-02T17:02:58.446966Z",
     "iopub.status.busy": "2021-11-02T17:02:58.445227Z",
     "iopub.status.idle": "2021-11-02T17:07:07.326619Z",
     "shell.execute_reply": "2021-11-02T17:07:07.327173Z"
    },
    "papermill": {
     "duration": 249.021438,
     "end_time": "2021-11-02T17:07:07.327372",
     "exception": false,
     "start_time": "2021-11-02T17:02:58.305934",
     "status": "completed"
    },
    "tags": []
   },
   "outputs": [
    {
     "name": "stdout",
     "output_type": "stream",
     "text": [
      "Processing...\n"
     ]
    },
    {
     "name": "stderr",
     "output_type": "stream",
     "text": [
      "Warning message:\n",
      "“`funs()` was deprecated in dplyr 0.8.0.\n",
      "Please use a list of either functions or lambdas: \n",
      "\n",
      "  # Simple named list: \n",
      "  list(mean = mean, median = median)\n",
      "\n",
      "  # Auto named with `tibble::lst()`: \n",
      "  tibble::lst(mean, median)\n",
      "\n",
      "  # Using lambdas\n",
      "  list(~ mean(., trim = .2), ~ median(., na.rm = TRUE))\n",
      "\u001b[90mThis warning is displayed once every 8 hours.\u001b[39m\n",
      "\u001b[90mCall `lifecycle::last_lifecycle_warnings()` to see where this warning was generated.\u001b[39m”\n"
     ]
    },
    {
     "data": {
      "text/html": [
       "<table class=\"dataframe\">\n",
       "<caption>A matrix: 2 × 6 of type dbl</caption>\n",
       "<thead>\n",
       "\t<tr><th></th><th scope=col>used</th><th scope=col>(Mb)</th><th scope=col>gc trigger</th><th scope=col>(Mb)</th><th scope=col>max used</th><th scope=col>(Mb)</th></tr>\n",
       "</thead>\n",
       "<tbody>\n",
       "\t<tr><th scope=row>Ncells</th><td>  3374263</td><td>180.3</td><td>  9377772</td><td> 500.9</td><td> 11722215</td><td> 626.1</td></tr>\n",
       "\t<tr><th scope=row>Vcells</th><td>100048950</td><td>763.4</td><td>309727414</td><td>2363.1</td><td>332688691</td><td>2538.3</td></tr>\n",
       "</tbody>\n",
       "</table>\n"
      ],
      "text/latex": [
       "A matrix: 2 × 6 of type dbl\n",
       "\\begin{tabular}{r|llllll}\n",
       "  & used & (Mb) & gc trigger & (Mb) & max used & (Mb)\\\\\n",
       "\\hline\n",
       "\tNcells &   3374263 & 180.3 &   9377772 &  500.9 &  11722215 &  626.1\\\\\n",
       "\tVcells & 100048950 & 763.4 & 309727414 & 2363.1 & 332688691 & 2538.3\\\\\n",
       "\\end{tabular}\n"
      ],
      "text/markdown": [
       "\n",
       "A matrix: 2 × 6 of type dbl\n",
       "\n",
       "| <!--/--> | used | (Mb) | gc trigger | (Mb) | max used | (Mb) |\n",
       "|---|---|---|---|---|---|---|\n",
       "| Ncells |   3374263 | 180.3 |   9377772 |  500.9 |  11722215 |  626.1 |\n",
       "| Vcells | 100048950 | 763.4 | 309727414 | 2363.1 | 332688691 | 2538.3 |\n",
       "\n"
      ],
      "text/plain": [
       "       used      (Mb)  gc trigger (Mb)   max used  (Mb)  \n",
       "Ncells   3374263 180.3   9377772   500.9  11722215  626.1\n",
       "Vcells 100048950 763.4 309727414  2363.1 332688691 2538.3"
      ]
     },
     "metadata": {},
     "output_type": "display_data"
    },
    {
     "data": {
      "text/html": [
       "<table class=\"dataframe\">\n",
       "<caption>A matrix: 2 × 6 of type dbl</caption>\n",
       "<thead>\n",
       "\t<tr><th></th><th scope=col>used</th><th scope=col>(Mb)</th><th scope=col>gc trigger</th><th scope=col>(Mb)</th><th scope=col>max used</th><th scope=col>(Mb)</th></tr>\n",
       "</thead>\n",
       "<tbody>\n",
       "\t<tr><th scope=row>Ncells</th><td> 2574041</td><td>137.5</td><td> 21261592</td><td>1135.5</td><td> 26576990</td><td>1419.4</td></tr>\n",
       "\t<tr><th scope=row>Vcells</th><td>83451980</td><td>636.7</td><td>247781932</td><td>1890.5</td><td>332688691</td><td>2538.3</td></tr>\n",
       "</tbody>\n",
       "</table>\n"
      ],
      "text/latex": [
       "A matrix: 2 × 6 of type dbl\n",
       "\\begin{tabular}{r|llllll}\n",
       "  & used & (Mb) & gc trigger & (Mb) & max used & (Mb)\\\\\n",
       "\\hline\n",
       "\tNcells &  2574041 & 137.5 &  21261592 & 1135.5 &  26576990 & 1419.4\\\\\n",
       "\tVcells & 83451980 & 636.7 & 247781932 & 1890.5 & 332688691 & 2538.3\\\\\n",
       "\\end{tabular}\n"
      ],
      "text/markdown": [
       "\n",
       "A matrix: 2 × 6 of type dbl\n",
       "\n",
       "| <!--/--> | used | (Mb) | gc trigger | (Mb) | max used | (Mb) |\n",
       "|---|---|---|---|---|---|---|\n",
       "| Ncells |  2574041 | 137.5 |  21261592 | 1135.5 |  26576990 | 1419.4 |\n",
       "| Vcells | 83451980 | 636.7 | 247781932 | 1890.5 | 332688691 | 2538.3 |\n",
       "\n"
      ],
      "text/plain": [
       "       used     (Mb)  gc trigger (Mb)   max used  (Mb)  \n",
       "Ncells  2574041 137.5  21261592  1135.5  26576990 1419.4\n",
       "Vcells 83451980 636.7 247781932  1890.5 332688691 2538.3"
      ]
     },
     "metadata": {},
     "output_type": "display_data"
    }
   ],
   "source": [
    "cat(\"Processing...\\n\")\n",
    "stat_fn = list(mean = mean, sd = sd)\n",
    "\n",
    "sum_bur_balance = bur_balance %>% \n",
    "  mutate_if(is.character, funs(factor(.) %>% as.integer)) %>% # Ordinal Encoding\n",
    "  group_by(SK_ID_BUREAU) %>% \n",
    "  mutate(SK_ID_BUREAU = as.character(SK_ID_BUREAU)) %>% \n",
    "  summarise_all(stat_fn, na.rm = TRUE) \n",
    "\n",
    "rm(bur_balance); gc()\n",
    "\n",
    "sum_bureau = bureau %>% \n",
    "  mutate(SK_ID_BUREAU = as.character(SK_ID_BUREAU)) %>% \n",
    "  left_join(sum_bur_balance, by = \"SK_ID_BUREAU\") %>% \n",
    "  select(-SK_ID_BUREAU) %>% \n",
    "  mutate_if(is.character, funs(factor(.) %>% as.integer)) %>% \n",
    "  group_by(SK_ID_CURR) %>% \n",
    "  summarise_all(stat_fn)\n",
    "\n",
    "rm(bureau, sum_bur_balance); gc()"
   ]
  },
  {
   "cell_type": "markdown",
   "id": "15ec3782",
   "metadata": {
    "papermill": {
     "duration": 0.143273,
     "end_time": "2021-11-02T17:07:07.610487",
     "exception": false,
     "start_time": "2021-11-02T17:07:07.467214",
     "status": "completed"
    },
    "tags": []
   },
   "source": [
    "# 데이터 합치기\n",
    "- 이제 데이터를 합치도록 한다. \n",
    "- 각 ID가 숫자로 되어 있기 때문에 문자로 변경한다. \n",
    "- 각각의 데이터를 분리 하도록 한다. "
   ]
  },
  {
   "cell_type": "code",
   "execution_count": 9,
   "id": "e8344444",
   "metadata": {
    "execution": {
     "iopub.execute_input": "2021-11-02T17:07:07.897000Z",
     "iopub.status.busy": "2021-11-02T17:07:07.896316Z",
     "iopub.status.idle": "2021-11-02T17:07:07.925391Z",
     "shell.execute_reply": "2021-11-02T17:07:07.923950Z"
    },
    "papermill": {
     "duration": 0.174651,
     "end_time": "2021-11-02T17:07:07.925529",
     "exception": false,
     "start_time": "2021-11-02T17:07:07.750878",
     "status": "completed"
    },
    "tags": []
   },
   "outputs": [
    {
     "data": {
      "text/html": [
       "307511"
      ],
      "text/latex": [
       "307511"
      ],
      "text/markdown": [
       "307511"
      ],
      "text/plain": [
       "[1] 307511"
      ]
     },
     "metadata": {},
     "output_type": "display_data"
    },
    {
     "data": {
      "text/html": [
       "307511"
      ],
      "text/latex": [
       "307511"
      ],
      "text/markdown": [
       "307511"
      ],
      "text/plain": [
       "[1] 307511"
      ]
     },
     "metadata": {},
     "output_type": "display_data"
    }
   ],
   "source": [
    "train$SK_ID_CURR = as.character(train$SK_ID_CURR)\n",
    "test$SK_ID_CURR = as.character(test$SK_ID_CURR)\n",
    "sum_bureau$SK_ID_CURR = as.character(sum_bureau$SK_ID_CURR)\n",
    "\n",
    "tri = 1:nrow(train)\n",
    "y = train$TARGET\n",
    "length(y); length(tri)"
   ]
  },
  {
   "cell_type": "markdown",
   "id": "2a97fe39",
   "metadata": {
    "papermill": {
     "duration": 0.14513,
     "end_time": "2021-11-02T17:07:08.216523",
     "exception": false,
     "start_time": "2021-11-02T17:07:08.071393",
     "status": "completed"
    },
    "tags": []
   },
   "source": [
    "- 우선 `test 데이터`와 합쳐야 하기 때문에 test 데이터에는 없는 TARGET은 먼저 삭제 한다. \n",
    "- 365243 days는 1000년 이상을 의미한다. 즉, 일종의 극단 값이기 때문에, NA로 취급했다. \n",
    "- 각 데이터 상의 비율 또는 Percent를 측정하는 코드를 작성했다. "
   ]
  },
  {
   "cell_type": "code",
   "execution_count": 10,
   "id": "e31644e1",
   "metadata": {
    "execution": {
     "iopub.execute_input": "2021-11-02T17:07:08.512177Z",
     "iopub.status.busy": "2021-11-02T17:07:08.510470Z",
     "iopub.status.idle": "2021-11-02T17:07:14.544022Z",
     "shell.execute_reply": "2021-11-02T17:07:14.541993Z"
    },
    "papermill": {
     "duration": 6.182046,
     "end_time": "2021-11-02T17:07:14.544238",
     "exception": false,
     "start_time": "2021-11-02T17:07:08.362192",
     "status": "completed"
    },
    "tags": []
   },
   "outputs": [
    {
     "name": "stdout",
     "output_type": "stream",
     "text": [
      "Rows: 356,255\n",
      "Columns: 173\n",
      "$ NAME_CONTRACT_TYPE           \u001b[3m\u001b[90m<int>\u001b[39m\u001b[23m 1, 1, 2, 1, 1, 1, 1, 1, 1, 2, 1, 1, 1, 1,…\n",
      "$ CODE_GENDER                  \u001b[3m\u001b[90m<int>\u001b[39m\u001b[23m 2, 1, 2, 1, 2, 2, 1, 2, 1, 2, 1, 1, 1, 2,…\n",
      "$ FLAG_OWN_CAR                 \u001b[3m\u001b[90m<int>\u001b[39m\u001b[23m 1, 1, 2, 1, 1, 1, 2, 2, 1, 1, 1, 1, 1, 2,…\n",
      "$ FLAG_OWN_REALTY              \u001b[3m\u001b[90m<int>\u001b[39m\u001b[23m 2, 1, 2, 2, 2, 2, 2, 2, 2, 2, 2, 2, 2, 1,…\n",
      "$ CNT_CHILDREN                 \u001b[3m\u001b[90m<int>\u001b[39m\u001b[23m 0, 0, 0, 0, 0, 0, 1, 0, 0, 0, 1, 0, 0, 1,…\n",
      "$ AMT_INCOME_TOTAL             \u001b[3m\u001b[90m<dbl>\u001b[39m\u001b[23m 202500.00, 270000.00, 67500.00, 135000.00…\n",
      "$ AMT_CREDIT                   \u001b[3m\u001b[90m<dbl>\u001b[39m\u001b[23m 406597.5, 1293502.5, 135000.0, 312682.5, …\n",
      "$ AMT_ANNUITY                  \u001b[3m\u001b[90m<dbl>\u001b[39m\u001b[23m 24700.5, 35698.5, 6750.0, 29686.5, 21865.…\n",
      "$ AMT_GOODS_PRICE              \u001b[3m\u001b[90m<dbl>\u001b[39m\u001b[23m 351000, 1129500, 135000, 297000, 513000, …\n",
      "$ NAME_TYPE_SUITE              \u001b[3m\u001b[90m<int>\u001b[39m\u001b[23m 7, 2, 7, 7, 7, 6, 7, 7, 1, 7, 7, 1, 7, 7,…\n",
      "$ NAME_INCOME_TYPE             \u001b[3m\u001b[90m<int>\u001b[39m\u001b[23m 8, 5, 8, 8, 8, 5, 2, 5, 4, 8, 8, 4, 8, 8,…\n",
      "$ NAME_EDUCATION_TYPE          \u001b[3m\u001b[90m<int>\u001b[39m\u001b[23m 5, 2, 5, 5, 5, 5, 2, 2, 5, 5, 2, 5, 5, 5,…\n",
      "$ NAME_FAMILY_STATUS           \u001b[3m\u001b[90m<int>\u001b[39m\u001b[23m 4, 2, 4, 1, 4, 2, 2, 2, 2, 4, 2, 2, 2, 2,…\n",
      "$ NAME_HOUSING_TYPE            \u001b[3m\u001b[90m<int>\u001b[39m\u001b[23m 2, 2, 2, 2, 2, 2, 2, 2, 2, 2, 2, 2, 2, 2,…\n",
      "$ REGION_POPULATION_RELATIVE   \u001b[3m\u001b[90m<dbl>\u001b[39m\u001b[23m 0.018801, 0.003541, 0.010032, 0.008019, 0…\n",
      "$ DAYS_BIRTH                   \u001b[3m\u001b[90m<int>\u001b[39m\u001b[23m -9461, -16765, -19046, -19005, -19932, -1…\n",
      "$ DAYS_EMPLOYED                \u001b[3m\u001b[90m<int>\u001b[39m\u001b[23m -637, -1188, -225, -3039, -3038, -1588, -…\n",
      "$ DAYS_REGISTRATION            \u001b[3m\u001b[90m<dbl>\u001b[39m\u001b[23m -3648, -1186, -4260, -9833, -4311, -4970,…\n",
      "$ DAYS_ID_PUBLISH              \u001b[3m\u001b[90m<int>\u001b[39m\u001b[23m -2120, -291, -2531, -2437, -3458, -477, -…\n",
      "$ OWN_CAR_AGE                  \u001b[3m\u001b[90m<dbl>\u001b[39m\u001b[23m NA, NA, 26, NA, NA, NA, 17, 8, NA, NA, NA…\n",
      "$ FLAG_MOBIL                   \u001b[3m\u001b[90m<int>\u001b[39m\u001b[23m 1, 1, 1, 1, 1, 1, 1, 1, 1, 1, 1, 1, 1, 1,…\n",
      "$ FLAG_EMP_PHONE               \u001b[3m\u001b[90m<int>\u001b[39m\u001b[23m 1, 1, 1, 1, 1, 1, 1, 1, 0, 1, 1, 0, 1, 1,…\n",
      "$ FLAG_WORK_PHONE              \u001b[3m\u001b[90m<int>\u001b[39m\u001b[23m 0, 0, 1, 0, 0, 1, 0, 1, 0, 0, 0, 0, 1, 0,…\n",
      "$ FLAG_CONT_MOBILE             \u001b[3m\u001b[90m<int>\u001b[39m\u001b[23m 1, 1, 1, 1, 1, 1, 1, 1, 1, 1, 1, 1, 1, 1,…\n",
      "$ FLAG_PHONE                   \u001b[3m\u001b[90m<int>\u001b[39m\u001b[23m 1, 1, 1, 0, 0, 1, 1, 0, 0, 0, 0, 1, 1, 0,…\n",
      "$ FLAG_EMAIL                   \u001b[3m\u001b[90m<int>\u001b[39m\u001b[23m 0, 0, 0, 0, 0, 0, 0, 0, 0, 0, 0, 0, 0, 0,…\n",
      "$ OCCUPATION_TYPE              \u001b[3m\u001b[90m<int>\u001b[39m\u001b[23m 9, 4, 9, 9, 4, 9, 1, 11, NA, 9, 4, NA, 9,…\n",
      "$ CNT_FAM_MEMBERS              \u001b[3m\u001b[90m<dbl>\u001b[39m\u001b[23m 1, 2, 1, 2, 1, 2, 3, 2, 2, 1, 3, 2, 2, 3,…\n",
      "$ REGION_RATING_CLIENT         \u001b[3m\u001b[90m<int>\u001b[39m\u001b[23m 2, 1, 2, 2, 2, 2, 2, 3, 2, 2, 2, 2, 2, 2,…\n",
      "$ REGION_RATING_CLIENT_W_CITY  \u001b[3m\u001b[90m<int>\u001b[39m\u001b[23m 2, 1, 2, 2, 2, 2, 2, 3, 2, 2, 2, 2, 2, 2,…\n",
      "$ WEEKDAY_APPR_PROCESS_START   \u001b[3m\u001b[90m<int>\u001b[39m\u001b[23m 7, 2, 2, 7, 5, 7, 4, 2, 7, 5, 3, 1, 1, 5,…\n",
      "$ HOUR_APPR_PROCESS_START      \u001b[3m\u001b[90m<int>\u001b[39m\u001b[23m 10, 11, 9, 17, 11, 16, 16, 16, 14, 8, 15,…\n",
      "$ REG_REGION_NOT_LIVE_REGION   \u001b[3m\u001b[90m<int>\u001b[39m\u001b[23m 0, 0, 0, 0, 0, 0, 0, 0, 0, 0, 0, 0, 0, 0,…\n",
      "$ REG_REGION_NOT_WORK_REGION   \u001b[3m\u001b[90m<int>\u001b[39m\u001b[23m 0, 0, 0, 0, 0, 0, 0, 0, 0, 0, 0, 0, 0, 0,…\n",
      "$ LIVE_REGION_NOT_WORK_REGION  \u001b[3m\u001b[90m<int>\u001b[39m\u001b[23m 0, 0, 0, 0, 0, 0, 0, 0, 0, 0, 0, 0, 0, 0,…\n",
      "$ REG_CITY_NOT_LIVE_CITY       \u001b[3m\u001b[90m<int>\u001b[39m\u001b[23m 0, 0, 0, 0, 0, 0, 0, 0, 0, 0, 0, 0, 0, 0,…\n",
      "$ REG_CITY_NOT_WORK_CITY       \u001b[3m\u001b[90m<int>\u001b[39m\u001b[23m 0, 0, 0, 0, 1, 0, 0, 1, 0, 0, 0, 0, 0, 0,…\n",
      "$ LIVE_CITY_NOT_WORK_CITY      \u001b[3m\u001b[90m<int>\u001b[39m\u001b[23m 0, 0, 0, 0, 1, 0, 0, 1, 0, 0, 0, 0, 0, 0,…\n",
      "$ ORGANIZATION_TYPE            \u001b[3m\u001b[90m<int>\u001b[39m\u001b[23m 6, 40, 12, 6, 38, 34, 6, 34, 58, 10, 31, …\n",
      "$ EXT_SOURCE_1                 \u001b[3m\u001b[90m<dbl>\u001b[39m\u001b[23m 0.08303697, 0.31126731, NA, NA, NA, NA, 0…\n",
      "$ EXT_SOURCE_2                 \u001b[3m\u001b[90m<dbl>\u001b[39m\u001b[23m 0.2629486, 0.6222458, 0.5559121, 0.650441…\n",
      "$ EXT_SOURCE_3                 \u001b[3m\u001b[90m<dbl>\u001b[39m\u001b[23m 0.13937578, NA, 0.72956669, NA, NA, 0.621…\n",
      "$ APARTMENTS_AVG               \u001b[3m\u001b[90m<dbl>\u001b[39m\u001b[23m 0.0247, 0.0959, NA, NA, NA, NA, NA, NA, N…\n",
      "$ BASEMENTAREA_AVG             \u001b[3m\u001b[90m<dbl>\u001b[39m\u001b[23m 0.0369, 0.0529, NA, NA, NA, NA, NA, NA, N…\n",
      "$ YEARS_BEGINEXPLUATATION_AVG  \u001b[3m\u001b[90m<dbl>\u001b[39m\u001b[23m 0.9722, 0.9851, NA, NA, NA, NA, NA, NA, N…\n",
      "$ YEARS_BUILD_AVG              \u001b[3m\u001b[90m<dbl>\u001b[39m\u001b[23m 0.6192, 0.7960, NA, NA, NA, NA, NA, NA, N…\n",
      "$ COMMONAREA_AVG               \u001b[3m\u001b[90m<dbl>\u001b[39m\u001b[23m 0.0143, 0.0605, NA, NA, NA, NA, NA, NA, N…\n",
      "$ ELEVATORS_AVG                \u001b[3m\u001b[90m<dbl>\u001b[39m\u001b[23m 0.00, 0.08, NA, NA, NA, NA, NA, NA, NA, N…\n",
      "$ ENTRANCES_AVG                \u001b[3m\u001b[90m<dbl>\u001b[39m\u001b[23m 0.0690, 0.0345, NA, NA, NA, NA, NA, NA, N…\n",
      "$ FLOORSMAX_AVG                \u001b[3m\u001b[90m<dbl>\u001b[39m\u001b[23m 0.0833, 0.2917, NA, NA, NA, NA, NA, NA, N…\n",
      "$ FLOORSMIN_AVG                \u001b[3m\u001b[90m<dbl>\u001b[39m\u001b[23m 0.1250, 0.3333, NA, NA, NA, NA, NA, NA, N…\n",
      "$ LANDAREA_AVG                 \u001b[3m\u001b[90m<dbl>\u001b[39m\u001b[23m 0.0369, 0.0130, NA, NA, NA, NA, NA, NA, N…\n",
      "$ LIVINGAPARTMENTS_AVG         \u001b[3m\u001b[90m<dbl>\u001b[39m\u001b[23m 0.0202, 0.0773, NA, NA, NA, NA, NA, NA, N…\n",
      "$ LIVINGAREA_AVG               \u001b[3m\u001b[90m<dbl>\u001b[39m\u001b[23m 0.0190, 0.0549, NA, NA, NA, NA, NA, NA, N…\n",
      "$ NONLIVINGAPARTMENTS_AVG      \u001b[3m\u001b[90m<dbl>\u001b[39m\u001b[23m 0.0000, 0.0039, NA, NA, NA, NA, NA, NA, N…\n",
      "$ NONLIVINGAREA_AVG            \u001b[3m\u001b[90m<dbl>\u001b[39m\u001b[23m 0.0000, 0.0098, NA, NA, NA, NA, NA, NA, N…\n",
      "$ APARTMENTS_MODE              \u001b[3m\u001b[90m<dbl>\u001b[39m\u001b[23m 0.0252, 0.0924, NA, NA, NA, NA, NA, NA, N…\n",
      "$ BASEMENTAREA_MODE            \u001b[3m\u001b[90m<dbl>\u001b[39m\u001b[23m 0.0383, 0.0538, NA, NA, NA, NA, NA, NA, N…\n",
      "$ YEARS_BEGINEXPLUATATION_MODE \u001b[3m\u001b[90m<dbl>\u001b[39m\u001b[23m 0.9722, 0.9851, NA, NA, NA, NA, NA, NA, N…\n",
      "$ YEARS_BUILD_MODE             \u001b[3m\u001b[90m<dbl>\u001b[39m\u001b[23m 0.6341, 0.8040, NA, NA, NA, NA, NA, NA, N…\n",
      "$ COMMONAREA_MODE              \u001b[3m\u001b[90m<dbl>\u001b[39m\u001b[23m 0.0144, 0.0497, NA, NA, NA, NA, NA, NA, N…\n",
      "$ ELEVATORS_MODE               \u001b[3m\u001b[90m<dbl>\u001b[39m\u001b[23m 0.0000, 0.0806, NA, NA, NA, NA, NA, NA, N…\n",
      "$ ENTRANCES_MODE               \u001b[3m\u001b[90m<dbl>\u001b[39m\u001b[23m 0.0690, 0.0345, NA, NA, NA, NA, NA, NA, N…\n",
      "$ FLOORSMAX_MODE               \u001b[3m\u001b[90m<dbl>\u001b[39m\u001b[23m 0.0833, 0.2917, NA, NA, NA, NA, NA, NA, N…\n",
      "$ FLOORSMIN_MODE               \u001b[3m\u001b[90m<dbl>\u001b[39m\u001b[23m 0.1250, 0.3333, NA, NA, NA, NA, NA, NA, N…\n",
      "$ LANDAREA_MODE                \u001b[3m\u001b[90m<dbl>\u001b[39m\u001b[23m 0.0377, 0.0128, NA, NA, NA, NA, NA, NA, N…\n",
      "$ LIVINGAPARTMENTS_MODE        \u001b[3m\u001b[90m<dbl>\u001b[39m\u001b[23m 0.0220, 0.0790, NA, NA, NA, NA, NA, NA, N…\n",
      "$ LIVINGAREA_MODE              \u001b[3m\u001b[90m<dbl>\u001b[39m\u001b[23m 0.0198, 0.0554, NA, NA, NA, NA, NA, NA, N…\n",
      "$ NONLIVINGAPARTMENTS_MODE     \u001b[3m\u001b[90m<dbl>\u001b[39m\u001b[23m 0.0000, 0.0000, NA, NA, NA, NA, NA, NA, N…\n",
      "$ NONLIVINGAREA_MODE           \u001b[3m\u001b[90m<dbl>\u001b[39m\u001b[23m 0.0000, 0.0000, NA, NA, NA, NA, NA, NA, N…\n",
      "$ APARTMENTS_MEDI              \u001b[3m\u001b[90m<dbl>\u001b[39m\u001b[23m 0.0250, 0.0968, NA, NA, NA, NA, NA, NA, N…\n",
      "$ BASEMENTAREA_MEDI            \u001b[3m\u001b[90m<dbl>\u001b[39m\u001b[23m 0.0369, 0.0529, NA, NA, NA, NA, NA, NA, N…\n",
      "$ YEARS_BEGINEXPLUATATION_MEDI \u001b[3m\u001b[90m<dbl>\u001b[39m\u001b[23m 0.9722, 0.9851, NA, NA, NA, NA, NA, NA, N…\n",
      "$ YEARS_BUILD_MEDI             \u001b[3m\u001b[90m<dbl>\u001b[39m\u001b[23m 0.6243, 0.7987, NA, NA, NA, NA, NA, NA, N…\n",
      "$ COMMONAREA_MEDI              \u001b[3m\u001b[90m<dbl>\u001b[39m\u001b[23m 0.0144, 0.0608, NA, NA, NA, NA, NA, NA, N…\n",
      "$ ELEVATORS_MEDI               \u001b[3m\u001b[90m<dbl>\u001b[39m\u001b[23m 0.00, 0.08, NA, NA, NA, NA, NA, NA, NA, N…\n",
      "$ ENTRANCES_MEDI               \u001b[3m\u001b[90m<dbl>\u001b[39m\u001b[23m 0.0690, 0.0345, NA, NA, NA, NA, NA, NA, N…\n",
      "$ FLOORSMAX_MEDI               \u001b[3m\u001b[90m<dbl>\u001b[39m\u001b[23m 0.0833, 0.2917, NA, NA, NA, NA, NA, NA, N…\n",
      "$ FLOORSMIN_MEDI               \u001b[3m\u001b[90m<dbl>\u001b[39m\u001b[23m 0.1250, 0.3333, NA, NA, NA, NA, NA, NA, N…\n",
      "$ LANDAREA_MEDI                \u001b[3m\u001b[90m<dbl>\u001b[39m\u001b[23m 0.0375, 0.0132, NA, NA, NA, NA, NA, NA, N…\n",
      "$ LIVINGAPARTMENTS_MEDI        \u001b[3m\u001b[90m<dbl>\u001b[39m\u001b[23m 0.0205, 0.0787, NA, NA, NA, NA, NA, NA, N…\n",
      "$ LIVINGAREA_MEDI              \u001b[3m\u001b[90m<dbl>\u001b[39m\u001b[23m 0.0193, 0.0558, NA, NA, NA, NA, NA, NA, N…\n",
      "$ NONLIVINGAPARTMENTS_MEDI     \u001b[3m\u001b[90m<dbl>\u001b[39m\u001b[23m 0.0000, 0.0039, NA, NA, NA, NA, NA, NA, N…\n",
      "$ NONLIVINGAREA_MEDI           \u001b[3m\u001b[90m<dbl>\u001b[39m\u001b[23m 0.0000, 0.0100, NA, NA, NA, NA, NA, NA, N…\n",
      "$ FONDKAPREMONT_MODE           \u001b[3m\u001b[90m<int>\u001b[39m\u001b[23m 3, 3, NA, NA, NA, NA, NA, NA, NA, NA, NA,…\n",
      "$ HOUSETYPE_MODE               \u001b[3m\u001b[90m<int>\u001b[39m\u001b[23m 1, 1, NA, NA, NA, NA, NA, NA, NA, NA, NA,…\n",
      "$ TOTALAREA_MODE               \u001b[3m\u001b[90m<dbl>\u001b[39m\u001b[23m 0.0149, 0.0714, NA, NA, NA, NA, NA, NA, N…\n",
      "$ WALLSMATERIAL_MODE           \u001b[3m\u001b[90m<int>\u001b[39m\u001b[23m 6, 1, NA, NA, NA, NA, NA, NA, NA, NA, NA,…\n",
      "$ EMERGENCYSTATE_MODE          \u001b[3m\u001b[90m<int>\u001b[39m\u001b[23m 1, 1, NA, NA, NA, NA, NA, NA, NA, NA, NA,…\n",
      "$ OBS_30_CNT_SOCIAL_CIRCLE     \u001b[3m\u001b[90m<dbl>\u001b[39m\u001b[23m 2, 1, 0, 2, 0, 0, 1, 2, 1, 2, 0, 0, 0, 0,…\n",
      "$ DEF_30_CNT_SOCIAL_CIRCLE     \u001b[3m\u001b[90m<dbl>\u001b[39m\u001b[23m 2, 0, 0, 0, 0, 0, 0, 0, 0, 0, 0, 0, 0, 0,…\n",
      "$ OBS_60_CNT_SOCIAL_CIRCLE     \u001b[3m\u001b[90m<dbl>\u001b[39m\u001b[23m 2, 1, 0, 2, 0, 0, 1, 2, 1, 2, 0, 0, 0, 0,…\n",
      "$ DEF_60_CNT_SOCIAL_CIRCLE     \u001b[3m\u001b[90m<dbl>\u001b[39m\u001b[23m 2, 0, 0, 0, 0, 0, 0, 0, 0, 0, 0, 0, 0, 0,…\n",
      "$ DAYS_LAST_PHONE_CHANGE       \u001b[3m\u001b[90m<dbl>\u001b[39m\u001b[23m -1134, -828, -815, -617, -1106, -2536, -1…\n",
      "$ FLAG_DOCUMENT_2              \u001b[3m\u001b[90m<int>\u001b[39m\u001b[23m 0, 0, 0, 0, 0, 0, 0, 0, 0, 0, 0, 0, 0, 0,…\n",
      "$ FLAG_DOCUMENT_3              \u001b[3m\u001b[90m<int>\u001b[39m\u001b[23m 1, 1, 0, 1, 0, 1, 0, 1, 1, 0, 1, 0, 1, 1,…\n",
      "$ FLAG_DOCUMENT_4              \u001b[3m\u001b[90m<int>\u001b[39m\u001b[23m 0, 0, 0, 0, 0, 0, 0, 0, 0, 0, 0, 0, 0, 0,…\n",
      "$ FLAG_DOCUMENT_5              \u001b[3m\u001b[90m<int>\u001b[39m\u001b[23m 0, 0, 0, 0, 0, 0, 0, 0, 0, 0, 0, 0, 0, 0,…\n",
      "$ FLAG_DOCUMENT_6              \u001b[3m\u001b[90m<int>\u001b[39m\u001b[23m 0, 0, 0, 0, 0, 0, 0, 0, 0, 0, 0, 1, 0, 0,…\n",
      "$ FLAG_DOCUMENT_7              \u001b[3m\u001b[90m<int>\u001b[39m\u001b[23m 0, 0, 0, 0, 0, 0, 0, 0, 0, 0, 0, 0, 0, 0,…\n",
      "$ FLAG_DOCUMENT_8              \u001b[3m\u001b[90m<int>\u001b[39m\u001b[23m 0, 0, 0, 0, 1, 0, 1, 0, 0, 0, 0, 0, 0, 0,…\n",
      "$ FLAG_DOCUMENT_9              \u001b[3m\u001b[90m<int>\u001b[39m\u001b[23m 0, 0, 0, 0, 0, 0, 0, 0, 0, 0, 0, 0, 0, 0,…\n",
      "$ FLAG_DOCUMENT_10             \u001b[3m\u001b[90m<int>\u001b[39m\u001b[23m 0, 0, 0, 0, 0, 0, 0, 0, 0, 0, 0, 0, 0, 0,…\n",
      "$ FLAG_DOCUMENT_11             \u001b[3m\u001b[90m<int>\u001b[39m\u001b[23m 0, 0, 0, 0, 0, 0, 0, 0, 0, 0, 0, 0, 0, 0,…\n",
      "$ FLAG_DOCUMENT_12             \u001b[3m\u001b[90m<int>\u001b[39m\u001b[23m 0, 0, 0, 0, 0, 0, 0, 0, 0, 0, 0, 0, 0, 0,…\n",
      "$ FLAG_DOCUMENT_13             \u001b[3m\u001b[90m<int>\u001b[39m\u001b[23m 0, 0, 0, 0, 0, 0, 0, 0, 0, 0, 0, 0, 0, 0,…\n",
      "$ FLAG_DOCUMENT_14             \u001b[3m\u001b[90m<int>\u001b[39m\u001b[23m 0, 0, 0, 0, 0, 0, 1, 0, 0, 0, 0, 0, 0, 0,…\n",
      "$ FLAG_DOCUMENT_15             \u001b[3m\u001b[90m<int>\u001b[39m\u001b[23m 0, 0, 0, 0, 0, 0, 0, 0, 0, 0, 0, 0, 0, 0,…\n",
      "$ FLAG_DOCUMENT_16             \u001b[3m\u001b[90m<int>\u001b[39m\u001b[23m 0, 0, 0, 0, 0, 0, 0, 0, 0, 0, 0, 0, 0, 0,…\n",
      "$ FLAG_DOCUMENT_17             \u001b[3m\u001b[90m<int>\u001b[39m\u001b[23m 0, 0, 0, 0, 0, 0, 0, 0, 0, 0, 0, 0, 0, 0,…\n",
      "$ FLAG_DOCUMENT_18             \u001b[3m\u001b[90m<int>\u001b[39m\u001b[23m 0, 0, 0, 0, 0, 0, 0, 0, 0, 0, 0, 0, 0, 0,…\n",
      "$ FLAG_DOCUMENT_19             \u001b[3m\u001b[90m<int>\u001b[39m\u001b[23m 0, 0, 0, 0, 0, 0, 0, 0, 0, 0, 0, 0, 0, 0,…\n",
      "$ FLAG_DOCUMENT_20             \u001b[3m\u001b[90m<int>\u001b[39m\u001b[23m 0, 0, 0, 0, 0, 0, 0, 0, 0, 0, 0, 0, 0, 0,…\n",
      "$ FLAG_DOCUMENT_21             \u001b[3m\u001b[90m<int>\u001b[39m\u001b[23m 0, 0, 0, 0, 0, 0, 0, 0, 0, 0, 0, 0, 0, 0,…\n",
      "$ AMT_REQ_CREDIT_BUREAU_HOUR   \u001b[3m\u001b[90m<dbl>\u001b[39m\u001b[23m 0, 0, 0, NA, 0, 0, 0, 0, 0, NA, 0, 0, 0, …\n",
      "$ AMT_REQ_CREDIT_BUREAU_DAY    \u001b[3m\u001b[90m<dbl>\u001b[39m\u001b[23m 0, 0, 0, NA, 0, 0, 0, 0, 0, NA, 0, 0, 0, …\n",
      "$ AMT_REQ_CREDIT_BUREAU_WEEK   \u001b[3m\u001b[90m<dbl>\u001b[39m\u001b[23m 0, 0, 0, NA, 0, 0, 0, 0, 0, NA, 0, 0, 0, …\n",
      "$ AMT_REQ_CREDIT_BUREAU_MON    \u001b[3m\u001b[90m<dbl>\u001b[39m\u001b[23m 0, 0, 0, NA, 0, 0, 1, 0, 0, NA, 1, 0, 1, …\n",
      "$ AMT_REQ_CREDIT_BUREAU_QRT    \u001b[3m\u001b[90m<dbl>\u001b[39m\u001b[23m 0, 0, 0, NA, 0, 1, 1, 0, 0, NA, 0, 0, 0, …\n",
      "$ AMT_REQ_CREDIT_BUREAU_YEAR   \u001b[3m\u001b[90m<dbl>\u001b[39m\u001b[23m 1, 0, 0, NA, 0, 1, 2, 0, 1, NA, 0, 2, 0, …\n",
      "$ CREDIT_ACTIVE_mean           \u001b[3m\u001b[90m<dbl>\u001b[39m\u001b[23m 2.500000, 2.500000, 3.000000, NA, 3.00000…\n",
      "$ CREDIT_CURRENCY_mean         \u001b[3m\u001b[90m<dbl>\u001b[39m\u001b[23m 1, 1, 1, NA, 1, 1, 1, 1, 1, NA, 1, 1, 1, …\n",
      "$ DAYS_CREDIT_mean             \u001b[3m\u001b[90m<dbl>\u001b[39m\u001b[23m -874.0000, -1400.7500, -867.0000, NA, -11…\n",
      "$ CREDIT_DAY_OVERDUE_mean      \u001b[3m\u001b[90m<dbl>\u001b[39m\u001b[23m 0, 0, 0, NA, 0, 0, 0, 0, 0, NA, 0, 0, 0, …\n",
      "$ DAYS_CREDIT_ENDDATE_mean     \u001b[3m\u001b[90m<dbl>\u001b[39m\u001b[23m NA, -544.5000, -488.5000, NA, -783.0000, …\n",
      "$ DAYS_ENDDATE_FACT_mean       \u001b[3m\u001b[90m<dbl>\u001b[39m\u001b[23m NA, NA, -532.500, NA, -783.000, NA, NA, N…\n",
      "$ AMT_CREDIT_MAX_OVERDUE_mean  \u001b[3m\u001b[90m<dbl>\u001b[39m\u001b[23m NA, 0, NA, NA, 0, NA, NA, NA, NA, NA, NA,…\n",
      "$ CNT_CREDIT_PROLONG_mean      \u001b[3m\u001b[90m<dbl>\u001b[39m\u001b[23m 0, 0, 0, NA, 0, 0, 0, 0, 0, NA, 0, 0, 0, …\n",
      "$ AMT_CREDIT_SUM_mean          \u001b[3m\u001b[90m<dbl>\u001b[39m\u001b[23m 108131.95, 254350.12, 94518.90, NA, 14625…\n",
      "$ AMT_CREDIT_SUM_DEBT_mean     \u001b[3m\u001b[90m<dbl>\u001b[39m\u001b[23m NA, 0.00, 0.00, NA, 0.00, 80019.00, NA, 1…\n",
      "$ AMT_CREDIT_SUM_LIMIT_mean    \u001b[3m\u001b[90m<dbl>\u001b[39m\u001b[23m NA, 202500.000, 0.000, NA, 0.000, 0.000, …\n",
      "$ AMT_CREDIT_SUM_OVERDUE_mean  \u001b[3m\u001b[90m<dbl>\u001b[39m\u001b[23m 0, 0, 0, NA, 0, 0, 0, 0, 0, NA, 0, 0, 0, …\n",
      "$ CREDIT_TYPE_mean             \u001b[3m\u001b[90m<dbl>\u001b[39m\u001b[23m 4.500000, 4.500000, 4.000000, NA, 4.00000…\n",
      "$ DAYS_CREDIT_UPDATE_mean      \u001b[3m\u001b[90m<dbl>\u001b[39m\u001b[23m -499.8750, -816.0000, -532.0000, NA, -783…\n",
      "$ AMT_ANNUITY_mean             \u001b[3m\u001b[90m<dbl>\u001b[39m\u001b[23m NA, NA, NA, NA, NA, NA, NA, NA, NA, NA, N…\n",
      "$ MONTHS_BALANCE_mean_mean     \u001b[3m\u001b[90m<dbl>\u001b[39m\u001b[23m -21.875, NA, NA, NA, NA, NA, NA, -46.000,…\n",
      "$ STATUS_mean_mean             \u001b[3m\u001b[90m<dbl>\u001b[39m\u001b[23m 3.441761, NA, NA, NA, NA, NA, NA, 5.33333…\n",
      "$ MONTHS_BALANCE_sd_mean       \u001b[3m\u001b[90m<dbl>\u001b[39m\u001b[23m 4.110042, NA, NA, NA, NA, NA, NA, 10.5356…\n",
      "$ STATUS_sd_mean               \u001b[3m\u001b[90m<dbl>\u001b[39m\u001b[23m 2.629222, NA, NA, NA, NA, NA, NA, 2.72554…\n",
      "$ CREDIT_ACTIVE_sd             \u001b[3m\u001b[90m<dbl>\u001b[39m\u001b[23m 0.9258201, 1.0000000, 0.0000000, NA, NA, …\n",
      "$ CREDIT_CURRENCY_sd           \u001b[3m\u001b[90m<dbl>\u001b[39m\u001b[23m 0, 0, 0, NA, NA, 0, 0, 0, 0, NA, 0, 0, 0,…\n",
      "$ DAYS_CREDIT_sd               \u001b[3m\u001b[90m<dbl>\u001b[39m\u001b[23m 431.45104, 909.82613, 649.12403, NA, NA, …\n",
      "$ CREDIT_DAY_OVERDUE_sd        \u001b[3m\u001b[90m<dbl>\u001b[39m\u001b[23m 0, 0, 0, NA, NA, 0, 0, 0, 0, NA, 0, 0, 0,…\n",
      "$ DAYS_CREDIT_ENDDATE_sd       \u001b[3m\u001b[90m<dbl>\u001b[39m\u001b[23m NA, 1492.7705, 150.6137, NA, NA, 747.4251…\n",
      "$ DAYS_ENDDATE_FACT_sd         \u001b[3m\u001b[90m<dbl>\u001b[39m\u001b[23m NA, NA, 212.8391, NA, NA, NA, NA, NA, 566…\n",
      "$ AMT_CREDIT_MAX_OVERDUE_sd    \u001b[3m\u001b[90m<dbl>\u001b[39m\u001b[23m NA, 0, NA, NA, NA, NA, NA, NA, NA, NA, NA…\n",
      "$ CNT_CREDIT_PROLONG_sd        \u001b[3m\u001b[90m<dbl>\u001b[39m\u001b[23m 0, 0, 0, NA, NA, 0, 0, 0, 0, NA, 0, 0, 0,…\n",
      "$ AMT_CREDIT_SUM_sd            \u001b[3m\u001b[90m<dbl>\u001b[39m\u001b[23m 1.460756e+05, 3.722695e+05, 2.672864e+01,…\n",
      "$ AMT_CREDIT_SUM_DEBT_sd       \u001b[3m\u001b[90m<dbl>\u001b[39m\u001b[23m NA, 0.00, 0.00, NA, NA, 138596.97, NA, 24…\n",
      "$ AMT_CREDIT_SUM_LIMIT_sd      \u001b[3m\u001b[90m<dbl>\u001b[39m\u001b[23m NA, 405000.00, 0.00, NA, NA, 0.00, NA, NA…\n",
      "$ AMT_CREDIT_SUM_OVERDUE_sd    \u001b[3m\u001b[90m<dbl>\u001b[39m\u001b[23m 0, 0, 0, NA, NA, 0, 0, 0, 0, NA, 0, 0, 0,…\n",
      "$ CREDIT_TYPE_sd               \u001b[3m\u001b[90m<dbl>\u001b[39m\u001b[23m 0.5345225, 0.5773503, 0.0000000, NA, NA, …\n",
      "$ DAYS_CREDIT_UPDATE_sd        \u001b[3m\u001b[90m<dbl>\u001b[39m\u001b[23m 518.52247, 908.05396, 212.13203, NA, NA, …\n",
      "$ AMT_ANNUITY_sd               \u001b[3m\u001b[90m<dbl>\u001b[39m\u001b[23m NA, NA, NA, NA, NA, NA, NA, NA, NA, NA, N…\n",
      "$ MONTHS_BALANCE_mean_sd       \u001b[3m\u001b[90m<dbl>\u001b[39m\u001b[23m 12.17653, NA, NA, NA, NA, NA, NA, 37.4766…\n",
      "$ STATUS_mean_sd               \u001b[3m\u001b[90m<dbl>\u001b[39m\u001b[23m 1.371137, NA, NA, NA, NA, NA, NA, 0.00000…\n",
      "$ MONTHS_BALANCE_sd_sd         \u001b[3m\u001b[90m<dbl>\u001b[39m\u001b[23m 1.839789, NA, NA, NA, NA, NA, NA, 0.00000…\n",
      "$ STATUS_sd_sd                 \u001b[3m\u001b[90m<dbl>\u001b[39m\u001b[23m 0.986184, NA, NA, NA, NA, NA, NA, 0.00000…\n",
      "$ na                           \u001b[3m\u001b[90m<int>\u001b[39m\u001b[23m 13, 14, 60, 94, 74, 63, 67, 56, 65, 94, 6…\n",
      "$ DAYS_EMPLOYED_PERC           \u001b[3m\u001b[90m<dbl>\u001b[39m\u001b[23m 0.2594784, 0.2661990, 0.1086899, 0.399881…\n",
      "$ INCOME_CREDIT_PERC           \u001b[3m\u001b[90m<dbl>\u001b[39m\u001b[23m 0.4980355, 0.2087356, 0.5000000, 0.431747…\n",
      "$ INCOME_PER_PERSON            \u001b[3m\u001b[90m<dbl>\u001b[39m\u001b[23m 12.218500, 11.813037, 11.119898, 11.11989…\n",
      "$ ANNUITY_INCOME_PERC          \u001b[3m\u001b[90m<dbl>\u001b[39m\u001b[23m 0.3492523, 0.3636154, 0.3162254, 0.468933…\n",
      "$ LOAN_INCOME_RATIO            \u001b[3m\u001b[90m<dbl>\u001b[39m\u001b[23m 2.007889, 4.790750, 2.000000, 2.316167, 4…\n",
      "$ ANNUITY_LENGTH               \u001b[3m\u001b[90m<dbl>\u001b[39m\u001b[23m 16.46110, 36.23409, 20.00000, 10.53282, 2…\n",
      "$ CHILDREN_RATIO               \u001b[3m\u001b[90m<dbl>\u001b[39m\u001b[23m 0.0000000, 0.0000000, 0.0000000, 0.000000…\n",
      "$ CREDIT_TO_GOODS_RATIO        \u001b[3m\u001b[90m<dbl>\u001b[39m\u001b[23m 1.158397, 1.145199, 1.000000, 1.052803, 1…\n",
      "$ INC_PER_CHLD                 \u001b[3m\u001b[90m<dbl>\u001b[39m\u001b[23m 202500.00, 270000.00, 67500.00, 135000.00…\n",
      "$ SOURCES_PROD                 \u001b[3m\u001b[90m<dbl>\u001b[39m\u001b[23m 0.003043194, NA, NA, NA, NA, NA, 0.276009…\n",
      "$ CAR_TO_BIRTH_RATIO           \u001b[3m\u001b[90m<dbl>\u001b[39m\u001b[23m NA, NA, -0.0013651160, NA, NA, NA, -0.001…\n",
      "$ CAR_TO_EMPLOY_RATIO          \u001b[3m\u001b[90m<dbl>\u001b[39m\u001b[23m NA, NA, -0.115555556, NA, NA, NA, -0.0054…\n",
      "$ PHONE_TO_BIRTH_RATIO         \u001b[3m\u001b[90m<dbl>\u001b[39m\u001b[23m 0.1198604799, 0.0493886072, 0.0427911372,…\n",
      "$ PHONE_TO_EMPLOY_RATIO        \u001b[3m\u001b[90m<dbl>\u001b[39m\u001b[23m 1.780219780, 0.696969697, 3.622222222, 0.…\n"
     ]
    }
   ],
   "source": [
    "train_test = train %>% \n",
    "  dplyr::select(-TARGET) %>% \n",
    "  bind_rows(test) %>% \n",
    "  left_join(sum_bureau, by = \"SK_ID_CURR\") %>% \n",
    "  select(-SK_ID_CURR) %>% \n",
    "  mutate_if(is.character, funs(factor(.) %>% as.integer)) %>% \n",
    "    mutate(na = apply(., 1, function(x) sum(is.na(x))),\n",
    "         DAYS_EMPLOYED = ifelse(DAYS_EMPLOYED == 365243, NA, DAYS_EMPLOYED),\n",
    "         DAYS_EMPLOYED_PERC = sqrt(DAYS_EMPLOYED / DAYS_BIRTH),\n",
    "         INCOME_CREDIT_PERC = AMT_INCOME_TOTAL / AMT_CREDIT,\n",
    "         INCOME_PER_PERSON = log1p(AMT_INCOME_TOTAL / CNT_FAM_MEMBERS),\n",
    "         ANNUITY_INCOME_PERC = sqrt(AMT_ANNUITY / (1 + AMT_INCOME_TOTAL)),\n",
    "         LOAN_INCOME_RATIO = AMT_CREDIT / AMT_INCOME_TOTAL,\n",
    "         ANNUITY_LENGTH = AMT_CREDIT / AMT_ANNUITY,\n",
    "         CHILDREN_RATIO = CNT_CHILDREN / CNT_FAM_MEMBERS, \n",
    "         CREDIT_TO_GOODS_RATIO = AMT_CREDIT / AMT_GOODS_PRICE,\n",
    "         INC_PER_CHLD = AMT_INCOME_TOTAL / (1 + CNT_CHILDREN),\n",
    "         SOURCES_PROD = EXT_SOURCE_1 * EXT_SOURCE_2 * EXT_SOURCE_3,\n",
    "         CAR_TO_BIRTH_RATIO = OWN_CAR_AGE / DAYS_BIRTH,\n",
    "         CAR_TO_EMPLOY_RATIO = OWN_CAR_AGE / DAYS_EMPLOYED,\n",
    "         PHONE_TO_BIRTH_RATIO = DAYS_LAST_PHONE_CHANGE / DAYS_BIRTH,\n",
    "         PHONE_TO_EMPLOY_RATIO = DAYS_LAST_PHONE_CHANGE / DAYS_EMPLOYED) \n",
    "\n",
    "train_test %>% glimpse()"
   ]
  },
  {
   "cell_type": "markdown",
   "id": "959b5334",
   "metadata": {
    "papermill": {
     "duration": 0.146309,
     "end_time": "2021-11-02T17:07:14.837700",
     "exception": false,
     "start_time": "2021-11-02T17:07:14.691391",
     "status": "completed"
    },
    "tags": []
   },
   "source": [
    "## FLAG_DOC \n",
    "- FLAG_DOC은 고객의 문서 제공 횟수를 의미한다. \n",
    "- 이 데이터에서 `ORGANIZATION_TYPE`에 따른 `AMT_INCOME_TOTAL` 중간값을 구하도록 했다. "
   ]
  },
  {
   "cell_type": "code",
   "execution_count": 11,
   "id": "9d1bf436",
   "metadata": {
    "execution": {
     "iopub.execute_input": "2021-11-02T17:07:15.140346Z",
     "iopub.status.busy": "2021-11-02T17:07:15.138819Z",
     "iopub.status.idle": "2021-11-02T17:07:15.206553Z",
     "shell.execute_reply": "2021-11-02T17:07:15.205022Z"
    },
    "papermill": {
     "duration": 0.220928,
     "end_time": "2021-11-02T17:07:15.206707",
     "exception": false,
     "start_time": "2021-11-02T17:07:14.985779",
     "status": "completed"
    },
    "tags": []
   },
   "outputs": [
    {
     "data": {
      "text/html": [
       "<dl>\n",
       "\t<dt>$`1`</dt>\n",
       "\t\t<dd>166500</dd>\n",
       "\t<dt>$`2`</dt>\n",
       "\t\t<dd>135000</dd>\n",
       "\t<dt>$`3`</dt>\n",
       "\t\t<dd>166500</dd>\n",
       "\t<dt>$`4`</dt>\n",
       "\t\t<dd>157500</dd>\n",
       "\t<dt>$`5`</dt>\n",
       "\t\t<dd>157500</dd>\n",
       "</dl>\n"
      ],
      "text/latex": [
       "\\begin{description}\n",
       "\\item[\\$`1`] 166500\n",
       "\\item[\\$`2`] 135000\n",
       "\\item[\\$`3`] 166500\n",
       "\\item[\\$`4`] 157500\n",
       "\\item[\\$`5`] 157500\n",
       "\\end{description}\n"
      ],
      "text/markdown": [
       "$`1`\n",
       ":   166500\n",
       "$`2`\n",
       ":   135000\n",
       "$`3`\n",
       ":   166500\n",
       "$`4`\n",
       ":   157500\n",
       "$`5`\n",
       ":   157500\n",
       "\n",
       "\n"
      ],
      "text/plain": [
       "$`1`\n",
       "[1] 166500\n",
       "\n",
       "$`2`\n",
       "[1] 135000\n",
       "\n",
       "$`3`\n",
       "[1] 166500\n",
       "\n",
       "$`4`\n",
       "[1] 157500\n",
       "\n",
       "$`5`\n",
       "[1] 157500\n"
      ]
     },
     "metadata": {},
     "output_type": "display_data"
    }
   ],
   "source": [
    "docs = str_subset(names(train), \"FLAG_DOC\")\n",
    "live = str_subset(names(train), \"(?!NFLAG_)(?!FLAG_DOC)(?!_FLAG_)FLAG_\")\n",
    "\n",
    "inc_by_org <- train_test %>% \n",
    "  group_by(ORGANIZATION_TYPE) %>% \n",
    "  summarise(m = median(AMT_INCOME_TOTAL)) %$% \n",
    "  setNames(as.list(m), ORGANIZATION_TYPE)\n",
    "\n",
    "inc_by_org[1:5]"
   ]
  },
  {
   "cell_type": "markdown",
   "id": "e9a7b29b",
   "metadata": {
    "papermill": {
     "duration": 0.14802,
     "end_time": "2021-11-02T17:07:15.511862",
     "exception": false,
     "start_time": "2021-11-02T17:07:15.363842",
     "status": "completed"
    },
    "tags": []
   },
   "source": [
    "### 데이터 병합 및 Matrix 변환\n",
    "- 몇가지 문법적인 내용을 소개한다. "
   ]
  },
  {
   "cell_type": "code",
   "execution_count": 12,
   "id": "b27c54a1",
   "metadata": {
    "execution": {
     "iopub.execute_input": "2021-11-02T17:07:15.816080Z",
     "iopub.status.busy": "2021-11-02T17:07:15.814067Z",
     "iopub.status.idle": "2021-11-02T17:07:15.840373Z",
     "shell.execute_reply": "2021-11-02T17:07:15.838539Z"
    },
    "papermill": {
     "duration": 0.179486,
     "end_time": "2021-11-02T17:07:15.840528",
     "exception": false,
     "start_time": "2021-11-02T17:07:15.661042",
     "status": "completed"
    },
    "tags": []
   },
   "outputs": [
    {
     "data": {
      "text/html": [
       "<style>\n",
       ".list-inline {list-style: none; margin:0; padding: 0}\n",
       ".list-inline>li {display: inline-block}\n",
       ".list-inline>li:not(:last-child)::after {content: \"\\00b7\"; padding: 0 .5ex}\n",
       "</style>\n",
       "<ol class=list-inline><li>'banana'</li><li>'apple'</li><li>'carrot'</li><li>'apple'</li><li>'banana'</li><li>'apple'</li><li>'carrot'</li><li>'carrot'</li><li>'banana'</li><li>'banana'</li></ol>\n"
      ],
      "text/latex": [
       "\\begin{enumerate*}\n",
       "\\item 'banana'\n",
       "\\item 'apple'\n",
       "\\item 'carrot'\n",
       "\\item 'apple'\n",
       "\\item 'banana'\n",
       "\\item 'apple'\n",
       "\\item 'carrot'\n",
       "\\item 'carrot'\n",
       "\\item 'banana'\n",
       "\\item 'banana'\n",
       "\\end{enumerate*}\n"
      ],
      "text/markdown": [
       "1. 'banana'\n",
       "2. 'apple'\n",
       "3. 'carrot'\n",
       "4. 'apple'\n",
       "5. 'banana'\n",
       "6. 'apple'\n",
       "7. 'carrot'\n",
       "8. 'carrot'\n",
       "9. 'banana'\n",
       "10. 'banana'\n",
       "\n",
       "\n"
      ],
      "text/plain": [
       " [1] \"banana\" \"apple\"  \"carrot\" \"apple\"  \"banana\" \"apple\"  \"carrot\" \"carrot\"\n",
       " [9] \"banana\" \"banana\""
      ]
     },
     "metadata": {},
     "output_type": "display_data"
    }
   ],
   "source": [
    "library(forcats)\n",
    "\n",
    "level_key <- c(a = \"apple\", b = \"banana\", c = \"carrot\")\n",
    "char_vec <- sample(c(\"a\", \"b\", \"c\"), 10, replace = TRUE)\n",
    "recode(char_vec, !!!level_key)"
   ]
  },
  {
   "cell_type": "markdown",
   "id": "42526507",
   "metadata": {
    "papermill": {
     "duration": 0.153097,
     "end_time": "2021-11-02T17:07:16.146317",
     "exception": false,
     "start_time": "2021-11-02T17:07:15.993220",
     "status": "completed"
    },
    "tags": []
   },
   "source": [
    "- named vector를 적용할 때는 !!!를 추가로 입력한다. \n",
    "  + 관련 내용: https://adv-r.hadley.nz/quasiquotation.html\n",
    "\n",
    "- moments 패키지 내, 첨도(kurtosis)는 평균을 중심으로 얼마나 뾰족하게 분포되어 있는지를 나타냄. 양의 값일 경우 분포가 뾰족하고 음의 값일 경우 분포가 평평함."
   ]
  },
  {
   "cell_type": "code",
   "execution_count": 13,
   "id": "0a94150b",
   "metadata": {
    "execution": {
     "iopub.execute_input": "2021-11-02T17:07:16.455877Z",
     "iopub.status.busy": "2021-11-02T17:07:16.453832Z",
     "iopub.status.idle": "2021-11-02T17:07:36.565084Z",
     "shell.execute_reply": "2021-11-02T17:07:36.563214Z"
    },
    "papermill": {
     "duration": 20.26747,
     "end_time": "2021-11-02T17:07:36.565524",
     "exception": false,
     "start_time": "2021-11-02T17:07:16.298054",
     "status": "completed"
    },
    "tags": []
   },
   "outputs": [
    {
     "data": {
      "text/html": [
       "63413390"
      ],
      "text/latex": [
       "63413390"
      ],
      "text/markdown": [
       "63413390"
      ],
      "text/plain": [
       "[1] 63413390"
      ]
     },
     "metadata": {},
     "output_type": "display_data"
    }
   ],
   "source": [
    "final_df <- train_test %>% \n",
    "  mutate(DOC_IND_KURT = apply(train_test[, docs], 1, moments::kurtosis),\n",
    "         LIVE_IND_SUM = apply(train_test[, live], 1, sum),\n",
    "         NEW_INC_BY_ORG = recode(train_test$ORGANIZATION_TYPE, !!!inc_by_org),\n",
    "         NEW_EXT_SOURCES_MEAN = apply(train_test[, c(\"EXT_SOURCE_1\", \"EXT_SOURCE_2\", \"EXT_SOURCE_3\")], 1, mean),\n",
    "         NEW_SCORES_STD = apply(train_test[, c(\"EXT_SOURCE_1\", \"EXT_SOURCE_2\", \"EXT_SOURCE_3\")], 1, sd))%>%\n",
    "  mutate_all(funs(ifelse(is.nan(.), NA, .))) %>% \n",
    "  mutate_all(funs(ifelse(is.infinite(.), NA, .))) %>% \n",
    "  data.matrix()\n",
    "\n",
    "length(final_df)"
   ]
  },
  {
   "cell_type": "markdown",
   "id": "8d519321",
   "metadata": {
    "papermill": {
     "duration": 0.155149,
     "end_time": "2021-11-02T17:07:36.874944",
     "exception": false,
     "start_time": "2021-11-02T17:07:36.719795",
     "status": "completed"
    },
    "tags": []
   },
   "source": [
    "# 모델링 "
   ]
  },
  {
   "cell_type": "markdown",
   "id": "e1565454",
   "metadata": {
    "papermill": {
     "duration": 0.156132,
     "end_time": "2021-11-02T17:07:37.186852",
     "exception": false,
     "start_time": "2021-11-02T17:07:37.030720",
     "status": "completed"
    },
    "tags": []
   },
   "source": [
    "## XGBoost"
   ]
  },
  {
   "cell_type": "code",
   "execution_count": 14,
   "id": "765ff675",
   "metadata": {
    "execution": {
     "iopub.execute_input": "2021-11-02T17:07:37.503964Z",
     "iopub.status.busy": "2021-11-02T17:07:37.502489Z",
     "iopub.status.idle": "2021-11-02T17:07:40.316200Z",
     "shell.execute_reply": "2021-11-02T17:07:40.314688Z"
    },
    "papermill": {
     "duration": 2.973513,
     "end_time": "2021-11-02T17:07:40.316390",
     "exception": false,
     "start_time": "2021-11-02T17:07:37.342877",
     "status": "completed"
    },
    "tags": []
   },
   "outputs": [
    {
     "name": "stdout",
     "output_type": "stream",
     "text": [
      "Modeling data...\n"
     ]
    },
    {
     "data": {
      "text/html": [
       "63413390"
      ],
      "text/latex": [
       "63413390"
      ],
      "text/markdown": [
       "63413390"
      ],
      "text/plain": [
       "[1] 63413390"
      ]
     },
     "metadata": {},
     "output_type": "display_data"
    }
   ],
   "source": [
    "cat(\"Modeling data...\\n\")\n",
    "length(final_df)\n",
    "dtest <- xgb.DMatrix(data = final_df[-tri, ])\n",
    "\n",
    "tr_te <- final_df[tri, ]\n",
    "train_split <- caret::createDataPartition(y, p = 0.9, list = F) %>% c()\n",
    "dtrain <- xgb.DMatrix(data = tr_te[train_split, ], label = y[train_split])\n",
    "dval <- xgb.DMatrix(data = tr_te[-train_split, ], label = y[-train_split])\n",
    "cols <- colnames(final_df)"
   ]
  },
  {
   "cell_type": "markdown",
   "id": "f55d6170",
   "metadata": {
    "papermill": {
     "duration": 0.158612,
     "end_time": "2021-11-02T17:07:40.635192",
     "exception": false,
     "start_time": "2021-11-02T17:07:40.476580",
     "status": "completed"
    },
    "tags": []
   },
   "source": [
    "- 모형학습을 진행한다. "
   ]
  },
  {
   "cell_type": "code",
   "execution_count": 15,
   "id": "019c5bdf",
   "metadata": {
    "execution": {
     "iopub.execute_input": "2021-11-02T17:07:40.956801Z",
     "iopub.status.busy": "2021-11-02T17:07:40.955521Z",
     "iopub.status.idle": "2021-11-02T17:09:07.749680Z",
     "shell.execute_reply": "2021-11-02T17:09:07.748446Z"
    },
    "papermill": {
     "duration": 86.957218,
     "end_time": "2021-11-02T17:09:07.749967",
     "exception": false,
     "start_time": "2021-11-02T17:07:40.792749",
     "status": "completed"
    },
    "tags": []
   },
   "outputs": [
    {
     "name": "stdout",
     "output_type": "stream",
     "text": [
      "[17:07:40] WARNING: amalgamation/../src/learner.cc:573: \n",
      "Parameters: { \"nrounds\" } might not be used.\n",
      "\n",
      "  This may not be accurate due to some parameters are only used in language bindings but\n",
      "  passed down to XGBoost core.  Or some parameters are not used but slip through this\n",
      "  verification. Please open an issue if you find above cases.\n",
      "\n",
      "\n",
      "[1]\tval-auc:0.701059 \n",
      "Will train until val_auc hasn't improved in 300 rounds.\n",
      "\n",
      "[51]\tval-auc:0.750763 \n",
      "[100]\tval-auc:0.762798 \n"
     ]
    },
    {
     "data": {
      "image/png": "[encoded data removed]"
     },
     "metadata": {
      "image/png": {
       "height": 420,
       "width": 420
      }
     },
     "output_type": "display_data"
    }
   ],
   "source": [
    "p <- list(objective = \"binary:logistic\",\n",
    "          booster = \"gbtree\",\n",
    "          eval_metric = \"auc\",\n",
    "          nthread = 6, \n",
    "          eta = 0.05,\n",
    "          max_depth = 6,\n",
    "          min_child_weight = 30,\n",
    "          gamma = 0,\n",
    "          subsample = 0.85,\n",
    "          colsample_bytree = 0.7,\n",
    "          colsample_bylevel = 0.632,\n",
    "          alpha = 0,\n",
    "          lambda = 0,\n",
    "          nrounds = 100) # 3000\n",
    "\n",
    "set.seed(0)\n",
    "m_xgb <- xgb.train(p, dtrain, p$nrounds, list(val = dval), print_every_n = 50, early_stopping_rounds = 300)\n",
    "\n",
    "xgb.importance(cols, model=m_xgb) %>% \n",
    "  xgb.plot.importance(top_n = 30)"
   ]
  },
  {
   "cell_type": "markdown",
   "id": "e3f8fdf2",
   "metadata": {
    "papermill": {
     "duration": 0.166989,
     "end_time": "2021-11-02T17:09:08.089264",
     "exception": false,
     "start_time": "2021-11-02T17:09:07.922275",
     "status": "completed"
    },
    "tags": []
   },
   "source": [
    "## LightGBM"
   ]
  },
  {
   "cell_type": "markdown",
   "id": "9fd269a2",
   "metadata": {
    "papermill": {
     "duration": 0.16245,
     "end_time": "2021-11-02T17:09:08.414657",
     "exception": false,
     "start_time": "2021-11-02T17:09:08.252207",
     "status": "completed"
    },
    "tags": []
   },
   "source": [
    "- 데이터를 준비한다. "
   ]
  },
  {
   "cell_type": "code",
   "execution_count": 16,
   "id": "d910da1f",
   "metadata": {
    "execution": {
     "iopub.execute_input": "2021-11-02T17:09:08.745194Z",
     "iopub.status.busy": "2021-11-02T17:09:08.743555Z",
     "iopub.status.idle": "2021-11-02T17:09:09.866720Z",
     "shell.execute_reply": "2021-11-02T17:09:09.865537Z"
    },
    "papermill": {
     "duration": 1.29011,
     "end_time": "2021-11-02T17:09:09.866878",
     "exception": false,
     "start_time": "2021-11-02T17:09:08.576768",
     "status": "completed"
    },
    "tags": []
   },
   "outputs": [
    {
     "name": "stdout",
     "output_type": "stream",
     "text": [
      "Modeling data...\n"
     ]
    },
    {
     "data": {
      "text/html": [
       "63413390"
      ],
      "text/latex": [
       "63413390"
      ],
      "text/markdown": [
       "63413390"
      ],
      "text/plain": [
       "[1] 63413390"
      ]
     },
     "metadata": {},
     "output_type": "display_data"
    }
   ],
   "source": [
    "cat(\"Modeling data...\\n\")\n",
    "length(final_df)\n",
    "dtest <- final_df[-tri, ]\n",
    "\n",
    "tr_te <- final_df[tri, ] %>% data.matrix()\n",
    "train_split <- caret::createDataPartition(y, p = 0.9, list = F) %>% c()\n",
    "dtrain <- lgb.Dataset(data = tr_te[train_split, ], label = y[train_split])\n",
    "dval <- lgb.Dataset(data = tr_te[-train_split, ], label = y[-train_split])\n",
    "cols <- colnames(final_df)"
   ]
  },
  {
   "cell_type": "code",
   "execution_count": 17,
   "id": "4ba80ec0",
   "metadata": {
    "execution": {
     "iopub.execute_input": "2021-11-02T17:09:10.208232Z",
     "iopub.status.busy": "2021-11-02T17:09:10.206551Z",
     "iopub.status.idle": "2021-11-02T17:13:42.881571Z",
     "shell.execute_reply": "2021-11-02T17:13:42.882689Z"
    },
    "papermill": {
     "duration": 272.84881,
     "end_time": "2021-11-02T17:13:42.883240",
     "exception": false,
     "start_time": "2021-11-02T17:09:10.034430",
     "status": "completed"
    },
    "tags": []
   },
   "outputs": [
    {
     "name": "stdout",
     "output_type": "stream",
     "text": [
      "[1]:\tval's auc:0.690558 \n",
      "[51]:\tval's auc:0.725036 \n",
      "[101]:\tval's auc:0.737551 \n",
      "[151]:\tval's auc:0.744657 \n",
      "[201]:\tval's auc:0.749136 \n",
      "[251]:\tval's auc:0.75183 \n",
      "[301]:\tval's auc:0.753944 \n",
      "[351]:\tval's auc:0.755925 \n",
      "[401]:\tval's auc:0.757466 \n",
      "[451]:\tval's auc:0.758934 \n",
      "[501]:\tval's auc:0.760214 \n",
      "[551]:\tval's auc:0.761306 \n",
      "[601]:\tval's auc:0.762116 \n",
      "[651]:\tval's auc:0.762808 \n",
      "[701]:\tval's auc:0.763434 \n",
      "[751]:\tval's auc:0.764018 \n",
      "[801]:\tval's auc:0.764443 \n",
      "[851]:\tval's auc:0.764838 \n",
      "[901]:\tval's auc:0.765227 \n",
      "[951]:\tval's auc:0.765579 \n",
      "[1001]:\tval's auc:0.765993 \n",
      "[1051]:\tval's auc:0.766197 \n",
      "[1101]:\tval's auc:0.766682 \n",
      "[1151]:\tval's auc:0.766965 \n",
      "[1201]:\tval's auc:0.767164 \n",
      "[1251]:\tval's auc:0.767414 \n",
      "[1301]:\tval's auc:0.767687 \n",
      "[1351]:\tval's auc:0.767887 \n",
      "[1401]:\tval's auc:0.768104 \n",
      "[1451]:\tval's auc:0.768226 \n",
      "[1501]:\tval's auc:0.768372 \n",
      "[1551]:\tval's auc:0.768564 \n",
      "[1601]:\tval's auc:0.768821 \n",
      "[1651]:\tval's auc:0.768953 \n",
      "[1701]:\tval's auc:0.769173 \n",
      "[1751]:\tval's auc:0.769307 \n",
      "[1801]:\tval's auc:0.769453 \n",
      "[1851]:\tval's auc:0.769619 \n",
      "[1901]:\tval's auc:0.76967 \n",
      "[1951]:\tval's auc:0.769833 \n",
      "[2001]:\tval's auc:0.769937 \n",
      "[2051]:\tval's auc:0.770142 \n",
      "[2101]:\tval's auc:0.770373 \n",
      "[2151]:\tval's auc:0.770486 \n",
      "[2201]:\tval's auc:0.770619 \n",
      "[2251]:\tval's auc:0.770846 \n",
      "[2301]:\tval's auc:0.770979 \n",
      "[2351]:\tval's auc:0.77112 \n",
      "[2401]:\tval's auc:0.771223 \n",
      "[2451]:\tval's auc:0.771351 \n",
      "[2501]:\tval's auc:0.771542 \n",
      "[2551]:\tval's auc:0.77167 \n",
      "[2601]:\tval's auc:0.771834 \n",
      "[2651]:\tval's auc:0.771883 \n",
      "[2701]:\tval's auc:0.772011 \n",
      "[2751]:\tval's auc:0.77213 \n",
      "[2801]:\tval's auc:0.772235 \n",
      "[2851]:\tval's auc:0.772376 \n",
      "[2901]:\tval's auc:0.772431 \n",
      "[2951]:\tval's auc:0.772531 \n",
      "[3000]:\tval's auc:0.772565 \n"
     ]
    },
    {
     "data": {
      "text/plain": [
       "<table>\n",
       " <thead>\n",
       "  <tr>\n",
       "   <th style=\"text-align:left;\"> Feature </th>\n",
       "   <th style=\"text-align:right;\"> Gain </th>\n",
       "   <th style=\"text-align:right;\"> Cover </th>\n",
       "   <th style=\"text-align:right;\"> Frequency </th>\n",
       "  </tr>\n",
       " </thead>\n",
       "<tbody>\n",
       "  <tr>\n",
       "   <td style=\"text-align:left;\"> EXT_SOURCE_3 </td>\n",
       "   <td style=\"text-align:right;\"> 0.2215894 </td>\n",
       "   <td style=\"text-align:right;\"> 0.0433836 </td>\n",
       "   <td style=\"text-align:right;\"> 0.0461444 </td>\n",
       "  </tr>\n",
       "  <tr>\n",
       "   <td style=\"text-align:left;\"> EXT_SOURCE_2 </td>\n",
       "   <td style=\"text-align:right;\"> 0.2096653 </td>\n",
       "   <td style=\"text-align:right;\"> 0.0354669 </td>\n",
       "   <td style=\"text-align:right;\"> 0.0347059 </td>\n",
       "  </tr>\n",
       "  <tr>\n",
       "   <td style=\"text-align:left;\"> ANNUITY_LENGTH </td>\n",
       "   <td style=\"text-align:right;\"> 0.0759017 </td>\n",
       "   <td style=\"text-align:right;\"> 0.1136182 </td>\n",
       "   <td style=\"text-align:right;\"> 0.0918982 </td>\n",
       "  </tr>\n",
       "  <tr>\n",
       "   <td style=\"text-align:left;\"> EXT_SOURCE_1 </td>\n",
       "   <td style=\"text-align:right;\"> 0.0526588 </td>\n",
       "   <td style=\"text-align:right;\"> 0.0320234 </td>\n",
       "   <td style=\"text-align:right;\"> 0.0366031 </td>\n",
       "  </tr>\n",
       "  <tr>\n",
       "   <td style=\"text-align:left;\"> CREDIT_TO_GOODS_RATIO </td>\n",
       "   <td style=\"text-align:right;\"> 0.0381724 </td>\n",
       "   <td style=\"text-align:right;\"> 0.0228937 </td>\n",
       "   <td style=\"text-align:right;\"> 0.0224305 </td>\n",
       "  </tr>\n",
       "  <tr>\n",
       "   <td style=\"text-align:left;\"> DAYS_EMPLOYED </td>\n",
       "   <td style=\"text-align:right;\"> 0.0332383 </td>\n",
       "   <td style=\"text-align:right;\"> 0.0151520 </td>\n",
       "   <td style=\"text-align:right;\"> 0.0151769 </td>\n",
       "  </tr>\n",
       "  <tr>\n",
       "   <td style=\"text-align:left;\"> NEW_EXT_SOURCES_MEAN </td>\n",
       "   <td style=\"text-align:right;\"> 0.0251302 </td>\n",
       "   <td style=\"text-align:right;\"> 0.0161151 </td>\n",
       "   <td style=\"text-align:right;\"> 0.0120522 </td>\n",
       "  </tr>\n",
       "  <tr>\n",
       "   <td style=\"text-align:left;\"> DAYS_BIRTH </td>\n",
       "   <td style=\"text-align:right;\"> 0.0218987 </td>\n",
       "   <td style=\"text-align:right;\"> 0.0374731 </td>\n",
       "   <td style=\"text-align:right;\"> 0.0382212 </td>\n",
       "  </tr>\n",
       "  <tr>\n",
       "   <td style=\"text-align:left;\"> NAME_EDUCATION_TYPE </td>\n",
       "   <td style=\"text-align:right;\"> 0.0197316 </td>\n",
       "   <td style=\"text-align:right;\"> 0.0064236 </td>\n",
       "   <td style=\"text-align:right;\"> 0.0057471 </td>\n",
       "  </tr>\n",
       "  <tr>\n",
       "   <td style=\"text-align:left;\"> CODE_GENDER </td>\n",
       "   <td style=\"text-align:right;\"> 0.0161455 </td>\n",
       "   <td style=\"text-align:right;\"> 0.0102731 </td>\n",
       "   <td style=\"text-align:right;\"> 0.0091508 </td>\n",
       "  </tr>\n",
       "  <tr>\n",
       "   <td style=\"text-align:left;\"> SOURCES_PROD </td>\n",
       "   <td style=\"text-align:right;\"> 0.0157595 </td>\n",
       "   <td style=\"text-align:right;\"> 0.0031581 </td>\n",
       "   <td style=\"text-align:right;\"> 0.0045196 </td>\n",
       "  </tr>\n",
       "  <tr>\n",
       "   <td style=\"text-align:left;\"> AMT_GOODS_PRICE </td>\n",
       "   <td style=\"text-align:right;\"> 0.0129200 </td>\n",
       "   <td style=\"text-align:right;\"> 0.0185485 </td>\n",
       "   <td style=\"text-align:right;\"> 0.0202544 </td>\n",
       "  </tr>\n",
       "  <tr>\n",
       "   <td style=\"text-align:left;\"> AMT_ANNUITY </td>\n",
       "   <td style=\"text-align:right;\"> 0.0125378 </td>\n",
       "   <td style=\"text-align:right;\"> 0.0159520 </td>\n",
       "   <td style=\"text-align:right;\"> 0.0169066 </td>\n",
       "  </tr>\n",
       "  <tr>\n",
       "   <td style=\"text-align:left;\"> DAYS_CREDIT_mean </td>\n",
       "   <td style=\"text-align:right;\"> 0.0101750 </td>\n",
       "   <td style=\"text-align:right;\"> 0.0066460 </td>\n",
       "   <td style=\"text-align:right;\"> 0.0143399 </td>\n",
       "  </tr>\n",
       "  <tr>\n",
       "   <td style=\"text-align:left;\"> AMT_CREDIT_SUM_mean </td>\n",
       "   <td style=\"text-align:right;\"> 0.0098530 </td>\n",
       "   <td style=\"text-align:right;\"> 0.0158846 </td>\n",
       "   <td style=\"text-align:right;\"> 0.0240487 </td>\n",
       "  </tr>\n",
       "  <tr>\n",
       "   <td style=\"text-align:left;\"> OWN_CAR_AGE </td>\n",
       "   <td style=\"text-align:right;\"> 0.0090354 </td>\n",
       "   <td style=\"text-align:right;\"> 0.0080058 </td>\n",
       "   <td style=\"text-align:right;\"> 0.0068631 </td>\n",
       "  </tr>\n",
       "  <tr>\n",
       "   <td style=\"text-align:left;\"> DOC_IND_KURT </td>\n",
       "   <td style=\"text-align:right;\"> 0.0090352 </td>\n",
       "   <td style=\"text-align:right;\"> 0.0087265 </td>\n",
       "   <td style=\"text-align:right;\"> 0.0064167 </td>\n",
       "  </tr>\n",
       "  <tr>\n",
       "   <td style=\"text-align:left;\"> DAYS_EMPLOYED_PERC </td>\n",
       "   <td style=\"text-align:right;\"> 0.0076696 </td>\n",
       "   <td style=\"text-align:right;\"> 0.0075050 </td>\n",
       "   <td style=\"text-align:right;\"> 0.0135588 </td>\n",
       "  </tr>\n",
       "  <tr>\n",
       "   <td style=\"text-align:left;\"> AMT_CREDIT </td>\n",
       "   <td style=\"text-align:right;\"> 0.0076305 </td>\n",
       "   <td style=\"text-align:right;\"> 0.0065737 </td>\n",
       "   <td style=\"text-align:right;\"> 0.0098761 </td>\n",
       "  </tr>\n",
       "  <tr>\n",
       "   <td style=\"text-align:left;\"> DAYS_CREDIT_ENDDATE_mean </td>\n",
       "   <td style=\"text-align:right;\"> 0.0074620 </td>\n",
       "   <td style=\"text-align:right;\"> 0.0143769 </td>\n",
       "   <td style=\"text-align:right;\"> 0.0185805 </td>\n",
       "  </tr>\n",
       "</tbody>\n",
       "</table>"
      ]
     },
     "metadata": {},
     "output_type": "display_data"
    },
    {
     "data": {
      "image/png": "[encoded data removed]"
     },
     "metadata": {
      "image/png": {
       "height": 420,
       "width": 420
      }
     },
     "output_type": "display_data"
    }
   ],
   "source": [
    "params.lgb = list(\n",
    "    objective = \"binary\"\n",
    "    , booster = \"gbtree\"\n",
    "    , metric = \"auc\"\n",
    "    , min_data_in_leaf = 1\n",
    "    , min_sum_hessian_in_leaf = 100\n",
    "    , feature_fraction = 0.9\n",
    "    , bagging_fraction = 0.9\n",
    "    , bagging_freq = 0\n",
    "    , nthread = 4 \n",
    "    , eta = 0.05\n",
    "    , max_depth = 8,\n",
    "    min_child_weight = 22,\n",
    "    colsample_bytree = 0.9497036,\n",
    "    colsample_bylevel = 0.7\n",
    "  )\n",
    "\n",
    "lgb.model <- lgb.train(\n",
    "      params = params.lgb\n",
    "      , data = dtrain\n",
    "      , valids = list(val = dval)\n",
    "      , learning_rate = 0.02\n",
    "      , num_leaves = 7\n",
    "      , num_threads = 2\n",
    "      , nrounds = 3000  \n",
    "      , early_stopping_rounds = 200\n",
    "      , eval_freq = 50\n",
    "    )\n",
    "    \n",
    "# get feature importance\n",
    "lgb.importance(lgb.model, percentage = TRUE) %>% head(20) %>% kable()\n",
    "tree_imp <- lgb.importance(lgb.model, percentage = TRUE) %>% head(20)\n",
    "lgb.plot.importance(tree_imp, measure = \"Gain\")"
   ]
  },
  {
   "cell_type": "markdown",
   "id": "f859bec2",
   "metadata": {
    "papermill": {
     "duration": 0.174967,
     "end_time": "2021-11-02T17:13:43.238870",
     "exception": false,
     "start_time": "2021-11-02T17:13:43.063903",
     "status": "completed"
    },
    "tags": []
   },
   "source": [
    "# 결괏값 제출"
   ]
  },
  {
   "cell_type": "markdown",
   "id": "067f65dc",
   "metadata": {
    "papermill": {
     "duration": 0.172142,
     "end_time": "2021-11-02T17:13:43.583983",
     "exception": false,
     "start_time": "2021-11-02T17:13:43.411841",
     "status": "completed"
    },
    "tags": []
   },
   "source": [
    "- XGBoost"
   ]
  },
  {
   "cell_type": "code",
   "execution_count": 18,
   "id": "790d145b",
   "metadata": {
    "execution": {
     "iopub.execute_input": "2021-11-02T17:13:43.941304Z",
     "iopub.status.busy": "2021-11-02T17:13:43.940554Z",
     "iopub.status.idle": "2021-11-02T17:13:43.950639Z",
     "shell.execute_reply": "2021-11-02T17:13:43.949280Z"
    },
    "papermill": {
     "duration": 0.19159,
     "end_time": "2021-11-02T17:13:43.950797",
     "exception": false,
     "start_time": "2021-11-02T17:13:43.759207",
     "status": "completed"
    },
    "tags": []
   },
   "outputs": [],
   "source": [
    "# read_csv(paste0(DATA_PATH, \"sample_submission.csv\")) %>%  \n",
    "#   mutate(SK_ID_CURR = as.integer(SK_ID_CURR),\n",
    "#          TARGET = predict(m_xgb, dtest)) %>%\n",
    "#  write_csv(\"submission.csv\")"
   ]
  },
  {
   "cell_type": "markdown",
   "id": "11d4caf1",
   "metadata": {
    "papermill": {
     "duration": 0.171149,
     "end_time": "2021-11-02T17:13:44.295248",
     "exception": false,
     "start_time": "2021-11-02T17:13:44.124099",
     "status": "completed"
    },
    "tags": []
   },
   "source": [
    "- LightGBM"
   ]
  },
  {
   "cell_type": "code",
   "execution_count": 19,
   "id": "90e35f70",
   "metadata": {
    "execution": {
     "iopub.execute_input": "2021-11-02T17:13:44.649156Z",
     "iopub.status.busy": "2021-11-02T17:13:44.647566Z",
     "iopub.status.idle": "2021-11-02T17:13:52.443096Z",
     "shell.execute_reply": "2021-11-02T17:13:52.441391Z"
    },
    "papermill": {
     "duration": 7.974309,
     "end_time": "2021-11-02T17:13:52.443344",
     "exception": false,
     "start_time": "2021-11-02T17:13:44.469035",
     "status": "completed"
    },
    "tags": []
   },
   "outputs": [
    {
     "name": "stderr",
     "output_type": "stream",
     "text": [
      "\u001b[1m\u001b[1mRows: \u001b[1m\u001b[22m\u001b[34m\u001b[34m48744\u001b[34m\u001b[39m \u001b[1m\u001b[1mColumns: \u001b[1m\u001b[22m\u001b[34m\u001b[34m2\u001b[34m\u001b[39m\n",
      "\n",
      "\u001b[36m──\u001b[39m \u001b[1m\u001b[1mColumn specification\u001b[1m\u001b[22m \u001b[36m────────────────────────────────────────────────────────\u001b[39m\n",
      "\u001b[1mDelimiter:\u001b[22m \",\"\n",
      "\u001b[32mdbl\u001b[39m (2): SK_ID_CURR, TARGET\n",
      "\n",
      "\n",
      "\u001b[36mℹ\u001b[39m Use \u001b[30m\u001b[47m\u001b[30m\u001b[47m`spec()`\u001b[47m\u001b[30m\u001b[49m\u001b[39m to retrieve the full column specification for this data.\n",
      "\u001b[36mℹ\u001b[39m Specify the column types or set \u001b[30m\u001b[47m\u001b[30m\u001b[47m`show_col_types = FALSE`\u001b[47m\u001b[30m\u001b[49m\u001b[39m to quiet this message.\n",
      "\n"
     ]
    }
   ],
   "source": [
    "read_csv(paste0(DATA_PATH, \"sample_submission.csv\")) %>% \n",
    "    mutate(SK_ID_CURR = as.integer(SK_ID_CURR), \n",
    "           TARGET = predict(lgb.model, data = dtest, n = lgb.model$best_score)) %>%\n",
    "    write_csv(\"submission.csv\")"
   ]
  }
 ],
 "metadata": {
  "kernelspec": {
   "display_name": "R",
   "language": "R",
   "name": "ir"
  },
  "language_info": {
   "codemirror_mode": "r",
   "file_extension": ".r",
   "mimetype": "text/x-r-source",
   "name": "R",
   "pygments_lexer": "r",
   "version": "4.0.5"
  },
  "papermill": {
   "default_parameters": {},
   "duration": 689.919665,
   "end_time": "2021-11-02T17:13:52.931069",
   "environment_variables": {},
   "exception": null,
   "input_path": "__notebook__.ipynb",
   "output_path": "__notebook__.ipynb",
   "parameters": {},
   "start_time": "2021-11-02T17:02:23.011404",
   "version": "2.3.3"
  }
 },
 "nbformat": 4,
 "nbformat_minor": 5
}
