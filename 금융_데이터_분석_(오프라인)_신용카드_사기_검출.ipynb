{
  "nbformat": 4,
  "nbformat_minor": 0,
  "metadata": {
    "colab": {
      "name": "금융 데이터 분석 (오프라인) - 신용카드 사기 검출",
      "provenance": [],
      "collapsed_sections": []
    },
    "kernelspec": {
      "name": "python3",
      "display_name": "Python 3"
    },
    "language_info": {
      "name": "python"
    },
    "accelerator": "GPU"
  },
  "cells": [
    {
      "cell_type": "markdown",
      "metadata": {
        "id": "YjqwShrxqr1Q"
      },
      "source": [
        "신용 카드 사기 탐지 데이터를 데이터프레임으로 로드합니다."
      ]
    },
    {
      "cell_type": "code",
      "metadata": {
        "colab": {
          "base_uri": "https://localhost:8080/",
          "height": 163
        },
        "id": "Si6r8dEiWkdu",
        "outputId": "3ef7f750-5a97-4045-94e7-386423dde160"
      },
      "source": [
        "import pandas as pd\n",
        "import numpy as np \n",
        "import matplotlib.pyplot as plt\n",
        "import warnings\n",
        "warnings.filterwarnings(\"ignore\")\n",
        "%matplotlib inline\n",
        "\n",
        "card_df = pd.read_csv('https://raw.githubusercontent.com/nsethi31/Kaggle-Data-Credit-Card-Fraud-Detection/master/creditcard.csv')\n",
        "card_df.head(3)"
      ],
      "execution_count": null,
      "outputs": [
        {
          "output_type": "execute_result",
          "data": {
            "text/html": [
              "<div>\n",
              "<style scoped>\n",
              "    .dataframe tbody tr th:only-of-type {\n",
              "        vertical-align: middle;\n",
              "    }\n",
              "\n",
              "    .dataframe tbody tr th {\n",
              "        vertical-align: top;\n",
              "    }\n",
              "\n",
              "    .dataframe thead th {\n",
              "        text-align: right;\n",
              "    }\n",
              "</style>\n",
              "<table border=\"1\" class=\"dataframe\">\n",
              "  <thead>\n",
              "    <tr style=\"text-align: right;\">\n",
              "      <th></th>\n",
              "      <th>Time</th>\n",
              "      <th>V1</th>\n",
              "      <th>V2</th>\n",
              "      <th>V3</th>\n",
              "      <th>V4</th>\n",
              "      <th>V5</th>\n",
              "      <th>V6</th>\n",
              "      <th>V7</th>\n",
              "      <th>V8</th>\n",
              "      <th>V9</th>\n",
              "      <th>V10</th>\n",
              "      <th>V11</th>\n",
              "      <th>V12</th>\n",
              "      <th>V13</th>\n",
              "      <th>V14</th>\n",
              "      <th>V15</th>\n",
              "      <th>V16</th>\n",
              "      <th>V17</th>\n",
              "      <th>V18</th>\n",
              "      <th>V19</th>\n",
              "      <th>V20</th>\n",
              "      <th>V21</th>\n",
              "      <th>V22</th>\n",
              "      <th>V23</th>\n",
              "      <th>V24</th>\n",
              "      <th>V25</th>\n",
              "      <th>V26</th>\n",
              "      <th>V27</th>\n",
              "      <th>V28</th>\n",
              "      <th>Amount</th>\n",
              "      <th>Class</th>\n",
              "    </tr>\n",
              "  </thead>\n",
              "  <tbody>\n",
              "    <tr>\n",
              "      <th>0</th>\n",
              "      <td>0.0</td>\n",
              "      <td>-1.359807</td>\n",
              "      <td>-0.072781</td>\n",
              "      <td>2.536347</td>\n",
              "      <td>1.378155</td>\n",
              "      <td>-0.338321</td>\n",
              "      <td>0.462388</td>\n",
              "      <td>0.239599</td>\n",
              "      <td>0.098698</td>\n",
              "      <td>0.363787</td>\n",
              "      <td>0.090794</td>\n",
              "      <td>-0.551600</td>\n",
              "      <td>-0.617801</td>\n",
              "      <td>-0.991390</td>\n",
              "      <td>-0.311169</td>\n",
              "      <td>1.468177</td>\n",
              "      <td>-0.470401</td>\n",
              "      <td>0.207971</td>\n",
              "      <td>0.025791</td>\n",
              "      <td>0.403993</td>\n",
              "      <td>0.251412</td>\n",
              "      <td>-0.018307</td>\n",
              "      <td>0.277838</td>\n",
              "      <td>-0.110474</td>\n",
              "      <td>0.066928</td>\n",
              "      <td>0.128539</td>\n",
              "      <td>-0.189115</td>\n",
              "      <td>0.133558</td>\n",
              "      <td>-0.021053</td>\n",
              "      <td>149.62</td>\n",
              "      <td>0</td>\n",
              "    </tr>\n",
              "    <tr>\n",
              "      <th>1</th>\n",
              "      <td>0.0</td>\n",
              "      <td>1.191857</td>\n",
              "      <td>0.266151</td>\n",
              "      <td>0.166480</td>\n",
              "      <td>0.448154</td>\n",
              "      <td>0.060018</td>\n",
              "      <td>-0.082361</td>\n",
              "      <td>-0.078803</td>\n",
              "      <td>0.085102</td>\n",
              "      <td>-0.255425</td>\n",
              "      <td>-0.166974</td>\n",
              "      <td>1.612727</td>\n",
              "      <td>1.065235</td>\n",
              "      <td>0.489095</td>\n",
              "      <td>-0.143772</td>\n",
              "      <td>0.635558</td>\n",
              "      <td>0.463917</td>\n",
              "      <td>-0.114805</td>\n",
              "      <td>-0.183361</td>\n",
              "      <td>-0.145783</td>\n",
              "      <td>-0.069083</td>\n",
              "      <td>-0.225775</td>\n",
              "      <td>-0.638672</td>\n",
              "      <td>0.101288</td>\n",
              "      <td>-0.339846</td>\n",
              "      <td>0.167170</td>\n",
              "      <td>0.125895</td>\n",
              "      <td>-0.008983</td>\n",
              "      <td>0.014724</td>\n",
              "      <td>2.69</td>\n",
              "      <td>0</td>\n",
              "    </tr>\n",
              "    <tr>\n",
              "      <th>2</th>\n",
              "      <td>1.0</td>\n",
              "      <td>-1.358354</td>\n",
              "      <td>-1.340163</td>\n",
              "      <td>1.773209</td>\n",
              "      <td>0.379780</td>\n",
              "      <td>-0.503198</td>\n",
              "      <td>1.800499</td>\n",
              "      <td>0.791461</td>\n",
              "      <td>0.247676</td>\n",
              "      <td>-1.514654</td>\n",
              "      <td>0.207643</td>\n",
              "      <td>0.624501</td>\n",
              "      <td>0.066084</td>\n",
              "      <td>0.717293</td>\n",
              "      <td>-0.165946</td>\n",
              "      <td>2.345865</td>\n",
              "      <td>-2.890083</td>\n",
              "      <td>1.109969</td>\n",
              "      <td>-0.121359</td>\n",
              "      <td>-2.261857</td>\n",
              "      <td>0.524980</td>\n",
              "      <td>0.247998</td>\n",
              "      <td>0.771679</td>\n",
              "      <td>0.909412</td>\n",
              "      <td>-0.689281</td>\n",
              "      <td>-0.327642</td>\n",
              "      <td>-0.139097</td>\n",
              "      <td>-0.055353</td>\n",
              "      <td>-0.059752</td>\n",
              "      <td>378.66</td>\n",
              "      <td>0</td>\n",
              "    </tr>\n",
              "  </tbody>\n",
              "</table>\n",
              "</div>"
            ],
            "text/plain": [
              "   Time        V1        V2        V3  ...       V27       V28  Amount  Class\n",
              "0   0.0 -1.359807 -0.072781  2.536347  ...  0.133558 -0.021053  149.62      0\n",
              "1   0.0  1.191857  0.266151  0.166480  ... -0.008983  0.014724    2.69      0\n",
              "2   1.0 -1.358354 -1.340163  1.773209  ... -0.055353 -0.059752  378.66      0\n",
              "\n",
              "[3 rows x 31 columns]"
            ]
          },
          "metadata": {
            "tags": []
          },
          "execution_count": 1
        }
      ]
    },
    {
      "cell_type": "code",
      "metadata": {
        "colab": {
          "base_uri": "https://localhost:8080/"
        },
        "id": "_dWqabIVW_VU",
        "outputId": "b7c02156-7353-4b81-82cd-eaf4e2c3df27"
      },
      "source": [
        "card_df.shape"
      ],
      "execution_count": null,
      "outputs": [
        {
          "output_type": "execute_result",
          "data": {
            "text/plain": [
              "(284807, 31)"
            ]
          },
          "metadata": {
            "tags": []
          },
          "execution_count": 2
        }
      ]
    },
    {
      "cell_type": "markdown",
      "metadata": {
        "id": "6e30KxnIXUEF"
      },
      "source": [
        "이 데이터는 총 28만여개의 행과 31개의 열을 가지고 있습니다."
      ]
    },
    {
      "cell_type": "code",
      "metadata": {
        "colab": {
          "base_uri": "https://localhost:8080/"
        },
        "id": "2IWf9Vf-XHVK",
        "outputId": "dc1f7d66-8d78-4a36-99c6-30c56ccc2ab4"
      },
      "source": [
        "card_df.info()"
      ],
      "execution_count": null,
      "outputs": [
        {
          "output_type": "stream",
          "text": [
            "<class 'pandas.core.frame.DataFrame'>\n",
            "RangeIndex: 284807 entries, 0 to 284806\n",
            "Data columns (total 31 columns):\n",
            " #   Column  Non-Null Count   Dtype  \n",
            "---  ------  --------------   -----  \n",
            " 0   Time    284807 non-null  float64\n",
            " 1   V1      284807 non-null  float64\n",
            " 2   V2      284807 non-null  float64\n",
            " 3   V3      284807 non-null  float64\n",
            " 4   V4      284807 non-null  float64\n",
            " 5   V5      284807 non-null  float64\n",
            " 6   V6      284807 non-null  float64\n",
            " 7   V7      284807 non-null  float64\n",
            " 8   V8      284807 non-null  float64\n",
            " 9   V9      284807 non-null  float64\n",
            " 10  V10     284807 non-null  float64\n",
            " 11  V11     284807 non-null  float64\n",
            " 12  V12     284807 non-null  float64\n",
            " 13  V13     284807 non-null  float64\n",
            " 14  V14     284807 non-null  float64\n",
            " 15  V15     284807 non-null  float64\n",
            " 16  V16     284807 non-null  float64\n",
            " 17  V17     284807 non-null  float64\n",
            " 18  V18     284807 non-null  float64\n",
            " 19  V19     284807 non-null  float64\n",
            " 20  V20     284807 non-null  float64\n",
            " 21  V21     284807 non-null  float64\n",
            " 22  V22     284807 non-null  float64\n",
            " 23  V23     284807 non-null  float64\n",
            " 24  V24     284807 non-null  float64\n",
            " 25  V25     284807 non-null  float64\n",
            " 26  V26     284807 non-null  float64\n",
            " 27  V27     284807 non-null  float64\n",
            " 28  V28     284807 non-null  float64\n",
            " 29  Amount  284807 non-null  float64\n",
            " 30  Class   284807 non-null  int64  \n",
            "dtypes: float64(30), int64(1)\n",
            "memory usage: 67.4 MB\n"
          ],
          "name": "stdout"
        }
      ]
    },
    {
      "cell_type": "markdown",
      "metadata": {
        "id": "qp8dBuzDXaUU"
      },
      "source": [
        "데이터는 사기여부를 나타내는 Class 열을 제외하고는 전부 실수형 타입입니다."
      ]
    },
    {
      "cell_type": "code",
      "metadata": {
        "colab": {
          "base_uri": "https://localhost:8080/"
        },
        "id": "SHUb5jFDXfSc",
        "outputId": "86268346-30c8-43ae-c7c9-1f57174c0f41"
      },
      "source": [
        "card_df.isnull().sum()"
      ],
      "execution_count": null,
      "outputs": [
        {
          "output_type": "execute_result",
          "data": {
            "text/plain": [
              "Time      0\n",
              "V1        0\n",
              "V2        0\n",
              "V3        0\n",
              "V4        0\n",
              "V5        0\n",
              "V6        0\n",
              "V7        0\n",
              "V8        0\n",
              "V9        0\n",
              "V10       0\n",
              "V11       0\n",
              "V12       0\n",
              "V13       0\n",
              "V14       0\n",
              "V15       0\n",
              "V16       0\n",
              "V17       0\n",
              "V18       0\n",
              "V19       0\n",
              "V20       0\n",
              "V21       0\n",
              "V22       0\n",
              "V23       0\n",
              "V24       0\n",
              "V25       0\n",
              "V26       0\n",
              "V27       0\n",
              "V28       0\n",
              "Amount    0\n",
              "Class     0\n",
              "dtype: int64"
            ]
          },
          "metadata": {
            "tags": []
          },
          "execution_count": 4
        }
      ]
    },
    {
      "cell_type": "markdown",
      "metadata": {
        "id": "2YcLt3w5XghP"
      },
      "source": [
        "결측값은 존재하지 않습니다."
      ]
    },
    {
      "cell_type": "code",
      "metadata": {
        "colab": {
          "base_uri": "https://localhost:8080/"
        },
        "id": "cqwvHnJCXpds",
        "outputId": "c7e09d98-18d4-4c2e-e833-e2850ade27d8"
      },
      "source": [
        "card_df[\"Class\"].value_counts()"
      ],
      "execution_count": null,
      "outputs": [
        {
          "output_type": "execute_result",
          "data": {
            "text/plain": [
              "0    284315\n",
              "1       492\n",
              "Name: Class, dtype: int64"
            ]
          },
          "metadata": {
            "tags": []
          },
          "execution_count": 5
        }
      ]
    },
    {
      "cell_type": "markdown",
      "metadata": {
        "id": "oNyM1vrtYCT0"
      },
      "source": [
        "이를 비율로 계산해봅시다."
      ]
    },
    {
      "cell_type": "code",
      "metadata": {
        "colab": {
          "base_uri": "https://localhost:8080/"
        },
        "id": "PRHQGSpPXrmt",
        "outputId": "db4be3d7-af58-4c6c-d796-5fb5c0541a25"
      },
      "source": [
        "print(f'정상 거래 비율 = {round(card_df[\"Class\"].value_counts()[0]/len(card_df) * 100,3)}%')\n",
        "print(f'사기 탐지 = {round(card_df[\"Class\"].value_counts()[1]/len(card_df) * 100,3)}%')"
      ],
      "execution_count": null,
      "outputs": [
        {
          "output_type": "stream",
          "text": [
            "정상 거래 비율 = 99.827%\n",
            "사기 탐지 = 0.173%\n"
          ],
          "name": "stdout"
        }
      ]
    },
    {
      "cell_type": "markdown",
      "metadata": {
        "id": "c_C4Uq2gX0hM"
      },
      "source": [
        "정상 거래 비율이 99.827%로 데이터의 레이블이 굉장히 불균형합니다. 사실 신용카드의 거래 대부분이 정상이고, 사기 건수는 일반적이지 않은 경우이기 때문입니다. 전체 데이터 28만여개 중 신용카드 사기 건수의 데이터가 500건도 안 되기 때문에 이런 경우는 사기 거래를 탐지하는 시스템을 만들기 쉽지 않습니다. 클래스가 1인 경우(사기)와 0인 경우(정상 거래)의 통계치를 다음과 같이 확인할 수 있습니다."
      ]
    },
    {
      "cell_type": "code",
      "metadata": {
        "colab": {
          "base_uri": "https://localhost:8080/",
          "height": 317
        },
        "id": "_1SHqbQPXJGS",
        "outputId": "62babf6b-bfb9-47e9-cb28-4b461d46144e"
      },
      "source": [
        "card_df[card_df['Class']==1].describe()"
      ],
      "execution_count": null,
      "outputs": [
        {
          "output_type": "execute_result",
          "data": {
            "text/html": [
              "<div>\n",
              "<style scoped>\n",
              "    .dataframe tbody tr th:only-of-type {\n",
              "        vertical-align: middle;\n",
              "    }\n",
              "\n",
              "    .dataframe tbody tr th {\n",
              "        vertical-align: top;\n",
              "    }\n",
              "\n",
              "    .dataframe thead th {\n",
              "        text-align: right;\n",
              "    }\n",
              "</style>\n",
              "<table border=\"1\" class=\"dataframe\">\n",
              "  <thead>\n",
              "    <tr style=\"text-align: right;\">\n",
              "      <th></th>\n",
              "      <th>Time</th>\n",
              "      <th>V1</th>\n",
              "      <th>V2</th>\n",
              "      <th>V3</th>\n",
              "      <th>V4</th>\n",
              "      <th>V5</th>\n",
              "      <th>V6</th>\n",
              "      <th>V7</th>\n",
              "      <th>V8</th>\n",
              "      <th>V9</th>\n",
              "      <th>V10</th>\n",
              "      <th>V11</th>\n",
              "      <th>V12</th>\n",
              "      <th>V13</th>\n",
              "      <th>V14</th>\n",
              "      <th>V15</th>\n",
              "      <th>V16</th>\n",
              "      <th>V17</th>\n",
              "      <th>V18</th>\n",
              "      <th>V19</th>\n",
              "      <th>V20</th>\n",
              "      <th>V21</th>\n",
              "      <th>V22</th>\n",
              "      <th>V23</th>\n",
              "      <th>V24</th>\n",
              "      <th>V25</th>\n",
              "      <th>V26</th>\n",
              "      <th>V27</th>\n",
              "      <th>V28</th>\n",
              "      <th>Amount</th>\n",
              "      <th>Class</th>\n",
              "    </tr>\n",
              "  </thead>\n",
              "  <tbody>\n",
              "    <tr>\n",
              "      <th>count</th>\n",
              "      <td>492.000000</td>\n",
              "      <td>492.000000</td>\n",
              "      <td>492.000000</td>\n",
              "      <td>492.000000</td>\n",
              "      <td>492.000000</td>\n",
              "      <td>492.000000</td>\n",
              "      <td>492.000000</td>\n",
              "      <td>492.000000</td>\n",
              "      <td>492.000000</td>\n",
              "      <td>492.000000</td>\n",
              "      <td>492.000000</td>\n",
              "      <td>492.000000</td>\n",
              "      <td>492.000000</td>\n",
              "      <td>492.000000</td>\n",
              "      <td>492.000000</td>\n",
              "      <td>492.000000</td>\n",
              "      <td>492.000000</td>\n",
              "      <td>492.000000</td>\n",
              "      <td>492.000000</td>\n",
              "      <td>492.000000</td>\n",
              "      <td>492.000000</td>\n",
              "      <td>492.000000</td>\n",
              "      <td>492.000000</td>\n",
              "      <td>492.000000</td>\n",
              "      <td>492.000000</td>\n",
              "      <td>492.000000</td>\n",
              "      <td>492.000000</td>\n",
              "      <td>492.000000</td>\n",
              "      <td>492.000000</td>\n",
              "      <td>492.000000</td>\n",
              "      <td>492.0</td>\n",
              "    </tr>\n",
              "    <tr>\n",
              "      <th>mean</th>\n",
              "      <td>80746.806911</td>\n",
              "      <td>-4.771948</td>\n",
              "      <td>3.623778</td>\n",
              "      <td>-7.033281</td>\n",
              "      <td>4.542029</td>\n",
              "      <td>-3.151225</td>\n",
              "      <td>-1.397737</td>\n",
              "      <td>-5.568731</td>\n",
              "      <td>0.570636</td>\n",
              "      <td>-2.581123</td>\n",
              "      <td>-5.676883</td>\n",
              "      <td>3.800173</td>\n",
              "      <td>-6.259393</td>\n",
              "      <td>-0.109334</td>\n",
              "      <td>-6.971723</td>\n",
              "      <td>-0.092929</td>\n",
              "      <td>-4.139946</td>\n",
              "      <td>-6.665836</td>\n",
              "      <td>-2.246308</td>\n",
              "      <td>0.680659</td>\n",
              "      <td>0.372319</td>\n",
              "      <td>0.713588</td>\n",
              "      <td>0.014049</td>\n",
              "      <td>-0.040308</td>\n",
              "      <td>-0.105130</td>\n",
              "      <td>0.041449</td>\n",
              "      <td>0.051648</td>\n",
              "      <td>0.170575</td>\n",
              "      <td>0.075667</td>\n",
              "      <td>122.211321</td>\n",
              "      <td>1.0</td>\n",
              "    </tr>\n",
              "    <tr>\n",
              "      <th>std</th>\n",
              "      <td>47835.365138</td>\n",
              "      <td>6.783687</td>\n",
              "      <td>4.291216</td>\n",
              "      <td>7.110937</td>\n",
              "      <td>2.873318</td>\n",
              "      <td>5.372468</td>\n",
              "      <td>1.858124</td>\n",
              "      <td>7.206773</td>\n",
              "      <td>6.797831</td>\n",
              "      <td>2.500896</td>\n",
              "      <td>4.897341</td>\n",
              "      <td>2.678605</td>\n",
              "      <td>4.654458</td>\n",
              "      <td>1.104518</td>\n",
              "      <td>4.278940</td>\n",
              "      <td>1.049915</td>\n",
              "      <td>3.865035</td>\n",
              "      <td>6.970618</td>\n",
              "      <td>2.899366</td>\n",
              "      <td>1.539853</td>\n",
              "      <td>1.346635</td>\n",
              "      <td>3.869304</td>\n",
              "      <td>1.494602</td>\n",
              "      <td>1.579642</td>\n",
              "      <td>0.515577</td>\n",
              "      <td>0.797205</td>\n",
              "      <td>0.471679</td>\n",
              "      <td>1.376766</td>\n",
              "      <td>0.547291</td>\n",
              "      <td>256.683288</td>\n",
              "      <td>0.0</td>\n",
              "    </tr>\n",
              "    <tr>\n",
              "      <th>min</th>\n",
              "      <td>406.000000</td>\n",
              "      <td>-30.552380</td>\n",
              "      <td>-8.402154</td>\n",
              "      <td>-31.103685</td>\n",
              "      <td>-1.313275</td>\n",
              "      <td>-22.105532</td>\n",
              "      <td>-6.406267</td>\n",
              "      <td>-43.557242</td>\n",
              "      <td>-41.044261</td>\n",
              "      <td>-13.434066</td>\n",
              "      <td>-24.588262</td>\n",
              "      <td>-1.702228</td>\n",
              "      <td>-18.683715</td>\n",
              "      <td>-3.127795</td>\n",
              "      <td>-19.214325</td>\n",
              "      <td>-4.498945</td>\n",
              "      <td>-14.129855</td>\n",
              "      <td>-25.162799</td>\n",
              "      <td>-9.498746</td>\n",
              "      <td>-3.681904</td>\n",
              "      <td>-4.128186</td>\n",
              "      <td>-22.797604</td>\n",
              "      <td>-8.887017</td>\n",
              "      <td>-19.254328</td>\n",
              "      <td>-2.028024</td>\n",
              "      <td>-4.781606</td>\n",
              "      <td>-1.152671</td>\n",
              "      <td>-7.263482</td>\n",
              "      <td>-1.869290</td>\n",
              "      <td>0.000000</td>\n",
              "      <td>1.0</td>\n",
              "    </tr>\n",
              "    <tr>\n",
              "      <th>25%</th>\n",
              "      <td>41241.500000</td>\n",
              "      <td>-6.036063</td>\n",
              "      <td>1.188226</td>\n",
              "      <td>-8.643489</td>\n",
              "      <td>2.373050</td>\n",
              "      <td>-4.792835</td>\n",
              "      <td>-2.501511</td>\n",
              "      <td>-7.965295</td>\n",
              "      <td>-0.195336</td>\n",
              "      <td>-3.872383</td>\n",
              "      <td>-7.756698</td>\n",
              "      <td>1.973397</td>\n",
              "      <td>-8.688177</td>\n",
              "      <td>-0.979117</td>\n",
              "      <td>-9.692723</td>\n",
              "      <td>-0.643539</td>\n",
              "      <td>-6.562915</td>\n",
              "      <td>-11.945057</td>\n",
              "      <td>-4.664576</td>\n",
              "      <td>-0.299423</td>\n",
              "      <td>-0.171760</td>\n",
              "      <td>0.041787</td>\n",
              "      <td>-0.533764</td>\n",
              "      <td>-0.342175</td>\n",
              "      <td>-0.436809</td>\n",
              "      <td>-0.314348</td>\n",
              "      <td>-0.259416</td>\n",
              "      <td>-0.020025</td>\n",
              "      <td>-0.108868</td>\n",
              "      <td>1.000000</td>\n",
              "      <td>1.0</td>\n",
              "    </tr>\n",
              "    <tr>\n",
              "      <th>50%</th>\n",
              "      <td>75568.500000</td>\n",
              "      <td>-2.342497</td>\n",
              "      <td>2.717869</td>\n",
              "      <td>-5.075257</td>\n",
              "      <td>4.177147</td>\n",
              "      <td>-1.522962</td>\n",
              "      <td>-1.424616</td>\n",
              "      <td>-3.034402</td>\n",
              "      <td>0.621508</td>\n",
              "      <td>-2.208768</td>\n",
              "      <td>-4.578825</td>\n",
              "      <td>3.586218</td>\n",
              "      <td>-5.502530</td>\n",
              "      <td>-0.065566</td>\n",
              "      <td>-6.729720</td>\n",
              "      <td>-0.057227</td>\n",
              "      <td>-3.549795</td>\n",
              "      <td>-5.302949</td>\n",
              "      <td>-1.664346</td>\n",
              "      <td>0.646807</td>\n",
              "      <td>0.284693</td>\n",
              "      <td>0.592146</td>\n",
              "      <td>0.048434</td>\n",
              "      <td>-0.073135</td>\n",
              "      <td>-0.060795</td>\n",
              "      <td>0.088371</td>\n",
              "      <td>0.004321</td>\n",
              "      <td>0.394926</td>\n",
              "      <td>0.146344</td>\n",
              "      <td>9.250000</td>\n",
              "      <td>1.0</td>\n",
              "    </tr>\n",
              "    <tr>\n",
              "      <th>75%</th>\n",
              "      <td>128483.000000</td>\n",
              "      <td>-0.419200</td>\n",
              "      <td>4.971257</td>\n",
              "      <td>-2.276185</td>\n",
              "      <td>6.348729</td>\n",
              "      <td>0.214562</td>\n",
              "      <td>-0.413216</td>\n",
              "      <td>-0.945954</td>\n",
              "      <td>1.764879</td>\n",
              "      <td>-0.787850</td>\n",
              "      <td>-2.614184</td>\n",
              "      <td>5.307078</td>\n",
              "      <td>-2.974088</td>\n",
              "      <td>0.672964</td>\n",
              "      <td>-4.282821</td>\n",
              "      <td>0.609189</td>\n",
              "      <td>-1.226043</td>\n",
              "      <td>-1.341940</td>\n",
              "      <td>0.091772</td>\n",
              "      <td>1.649318</td>\n",
              "      <td>0.822445</td>\n",
              "      <td>1.244611</td>\n",
              "      <td>0.617474</td>\n",
              "      <td>0.308378</td>\n",
              "      <td>0.285328</td>\n",
              "      <td>0.456515</td>\n",
              "      <td>0.396733</td>\n",
              "      <td>0.826029</td>\n",
              "      <td>0.381152</td>\n",
              "      <td>105.890000</td>\n",
              "      <td>1.0</td>\n",
              "    </tr>\n",
              "    <tr>\n",
              "      <th>max</th>\n",
              "      <td>170348.000000</td>\n",
              "      <td>2.132386</td>\n",
              "      <td>22.057729</td>\n",
              "      <td>2.250210</td>\n",
              "      <td>12.114672</td>\n",
              "      <td>11.095089</td>\n",
              "      <td>6.474115</td>\n",
              "      <td>5.802537</td>\n",
              "      <td>20.007208</td>\n",
              "      <td>3.353525</td>\n",
              "      <td>4.031435</td>\n",
              "      <td>12.018913</td>\n",
              "      <td>1.375941</td>\n",
              "      <td>2.815440</td>\n",
              "      <td>3.442422</td>\n",
              "      <td>2.471358</td>\n",
              "      <td>3.139656</td>\n",
              "      <td>6.739384</td>\n",
              "      <td>3.790316</td>\n",
              "      <td>5.228342</td>\n",
              "      <td>11.059004</td>\n",
              "      <td>27.202839</td>\n",
              "      <td>8.361985</td>\n",
              "      <td>5.466230</td>\n",
              "      <td>1.091435</td>\n",
              "      <td>2.208209</td>\n",
              "      <td>2.745261</td>\n",
              "      <td>3.052358</td>\n",
              "      <td>1.779364</td>\n",
              "      <td>2125.870000</td>\n",
              "      <td>1.0</td>\n",
              "    </tr>\n",
              "  </tbody>\n",
              "</table>\n",
              "</div>"
            ],
            "text/plain": [
              "                Time          V1          V2  ...         V28       Amount  Class\n",
              "count     492.000000  492.000000  492.000000  ...  492.000000   492.000000  492.0\n",
              "mean    80746.806911   -4.771948    3.623778  ...    0.075667   122.211321    1.0\n",
              "std     47835.365138    6.783687    4.291216  ...    0.547291   256.683288    0.0\n",
              "min       406.000000  -30.552380   -8.402154  ...   -1.869290     0.000000    1.0\n",
              "25%     41241.500000   -6.036063    1.188226  ...   -0.108868     1.000000    1.0\n",
              "50%     75568.500000   -2.342497    2.717869  ...    0.146344     9.250000    1.0\n",
              "75%    128483.000000   -0.419200    4.971257  ...    0.381152   105.890000    1.0\n",
              "max    170348.000000    2.132386   22.057729  ...    1.779364  2125.870000    1.0\n",
              "\n",
              "[8 rows x 31 columns]"
            ]
          },
          "metadata": {
            "tags": []
          },
          "execution_count": 7
        }
      ]
    },
    {
      "cell_type": "code",
      "metadata": {
        "colab": {
          "base_uri": "https://localhost:8080/",
          "height": 317
        },
        "id": "3M-ecCUbXNkb",
        "outputId": "74098ba2-2f7a-4a10-f9f1-c03bb72bc78a"
      },
      "source": [
        "card_df[card_df['Class']==0].describe()"
      ],
      "execution_count": null,
      "outputs": [
        {
          "output_type": "execute_result",
          "data": {
            "text/html": [
              "<div>\n",
              "<style scoped>\n",
              "    .dataframe tbody tr th:only-of-type {\n",
              "        vertical-align: middle;\n",
              "    }\n",
              "\n",
              "    .dataframe tbody tr th {\n",
              "        vertical-align: top;\n",
              "    }\n",
              "\n",
              "    .dataframe thead th {\n",
              "        text-align: right;\n",
              "    }\n",
              "</style>\n",
              "<table border=\"1\" class=\"dataframe\">\n",
              "  <thead>\n",
              "    <tr style=\"text-align: right;\">\n",
              "      <th></th>\n",
              "      <th>Time</th>\n",
              "      <th>V1</th>\n",
              "      <th>V2</th>\n",
              "      <th>V3</th>\n",
              "      <th>V4</th>\n",
              "      <th>V5</th>\n",
              "      <th>V6</th>\n",
              "      <th>V7</th>\n",
              "      <th>V8</th>\n",
              "      <th>V9</th>\n",
              "      <th>V10</th>\n",
              "      <th>V11</th>\n",
              "      <th>V12</th>\n",
              "      <th>V13</th>\n",
              "      <th>V14</th>\n",
              "      <th>V15</th>\n",
              "      <th>V16</th>\n",
              "      <th>V17</th>\n",
              "      <th>V18</th>\n",
              "      <th>V19</th>\n",
              "      <th>V20</th>\n",
              "      <th>V21</th>\n",
              "      <th>V22</th>\n",
              "      <th>V23</th>\n",
              "      <th>V24</th>\n",
              "      <th>V25</th>\n",
              "      <th>V26</th>\n",
              "      <th>V27</th>\n",
              "      <th>V28</th>\n",
              "      <th>Amount</th>\n",
              "      <th>Class</th>\n",
              "    </tr>\n",
              "  </thead>\n",
              "  <tbody>\n",
              "    <tr>\n",
              "      <th>count</th>\n",
              "      <td>284315.000000</td>\n",
              "      <td>284315.000000</td>\n",
              "      <td>284315.000000</td>\n",
              "      <td>284315.000000</td>\n",
              "      <td>284315.000000</td>\n",
              "      <td>284315.000000</td>\n",
              "      <td>284315.000000</td>\n",
              "      <td>284315.000000</td>\n",
              "      <td>284315.000000</td>\n",
              "      <td>284315.000000</td>\n",
              "      <td>284315.000000</td>\n",
              "      <td>284315.000000</td>\n",
              "      <td>284315.000000</td>\n",
              "      <td>284315.000000</td>\n",
              "      <td>284315.000000</td>\n",
              "      <td>284315.000000</td>\n",
              "      <td>284315.000000</td>\n",
              "      <td>284315.000000</td>\n",
              "      <td>284315.000000</td>\n",
              "      <td>284315.000000</td>\n",
              "      <td>284315.000000</td>\n",
              "      <td>284315.000000</td>\n",
              "      <td>284315.000000</td>\n",
              "      <td>284315.000000</td>\n",
              "      <td>284315.000000</td>\n",
              "      <td>284315.000000</td>\n",
              "      <td>284315.000000</td>\n",
              "      <td>284315.000000</td>\n",
              "      <td>284315.000000</td>\n",
              "      <td>284315.000000</td>\n",
              "      <td>284315.0</td>\n",
              "    </tr>\n",
              "    <tr>\n",
              "      <th>mean</th>\n",
              "      <td>94838.202258</td>\n",
              "      <td>0.008258</td>\n",
              "      <td>-0.006271</td>\n",
              "      <td>0.012171</td>\n",
              "      <td>-0.007860</td>\n",
              "      <td>0.005453</td>\n",
              "      <td>0.002419</td>\n",
              "      <td>0.009637</td>\n",
              "      <td>-0.000987</td>\n",
              "      <td>0.004467</td>\n",
              "      <td>0.009824</td>\n",
              "      <td>-0.006576</td>\n",
              "      <td>0.010832</td>\n",
              "      <td>0.000189</td>\n",
              "      <td>0.012064</td>\n",
              "      <td>0.000161</td>\n",
              "      <td>0.007164</td>\n",
              "      <td>0.011535</td>\n",
              "      <td>0.003887</td>\n",
              "      <td>-0.001178</td>\n",
              "      <td>-0.000644</td>\n",
              "      <td>-0.001235</td>\n",
              "      <td>-0.000024</td>\n",
              "      <td>0.000070</td>\n",
              "      <td>0.000182</td>\n",
              "      <td>-0.000072</td>\n",
              "      <td>-0.000089</td>\n",
              "      <td>-0.000295</td>\n",
              "      <td>-0.000131</td>\n",
              "      <td>88.291022</td>\n",
              "      <td>0.0</td>\n",
              "    </tr>\n",
              "    <tr>\n",
              "      <th>std</th>\n",
              "      <td>47484.015786</td>\n",
              "      <td>1.929814</td>\n",
              "      <td>1.636146</td>\n",
              "      <td>1.459429</td>\n",
              "      <td>1.399333</td>\n",
              "      <td>1.356952</td>\n",
              "      <td>1.329913</td>\n",
              "      <td>1.178812</td>\n",
              "      <td>1.161283</td>\n",
              "      <td>1.089372</td>\n",
              "      <td>1.044204</td>\n",
              "      <td>1.003112</td>\n",
              "      <td>0.945939</td>\n",
              "      <td>0.995067</td>\n",
              "      <td>0.897007</td>\n",
              "      <td>0.915060</td>\n",
              "      <td>0.844772</td>\n",
              "      <td>0.749457</td>\n",
              "      <td>0.824919</td>\n",
              "      <td>0.811733</td>\n",
              "      <td>0.769404</td>\n",
              "      <td>0.716743</td>\n",
              "      <td>0.723668</td>\n",
              "      <td>0.621541</td>\n",
              "      <td>0.605776</td>\n",
              "      <td>0.520673</td>\n",
              "      <td>0.482241</td>\n",
              "      <td>0.399847</td>\n",
              "      <td>0.329570</td>\n",
              "      <td>250.105092</td>\n",
              "      <td>0.0</td>\n",
              "    </tr>\n",
              "    <tr>\n",
              "      <th>min</th>\n",
              "      <td>0.000000</td>\n",
              "      <td>-56.407510</td>\n",
              "      <td>-72.715728</td>\n",
              "      <td>-48.325589</td>\n",
              "      <td>-5.683171</td>\n",
              "      <td>-113.743307</td>\n",
              "      <td>-26.160506</td>\n",
              "      <td>-31.764946</td>\n",
              "      <td>-73.216718</td>\n",
              "      <td>-6.290730</td>\n",
              "      <td>-14.741096</td>\n",
              "      <td>-4.797473</td>\n",
              "      <td>-15.144988</td>\n",
              "      <td>-5.791881</td>\n",
              "      <td>-18.392091</td>\n",
              "      <td>-4.391307</td>\n",
              "      <td>-10.115560</td>\n",
              "      <td>-17.098444</td>\n",
              "      <td>-5.366660</td>\n",
              "      <td>-7.213527</td>\n",
              "      <td>-54.497720</td>\n",
              "      <td>-34.830382</td>\n",
              "      <td>-10.933144</td>\n",
              "      <td>-44.807735</td>\n",
              "      <td>-2.836627</td>\n",
              "      <td>-10.295397</td>\n",
              "      <td>-2.604551</td>\n",
              "      <td>-22.565679</td>\n",
              "      <td>-15.430084</td>\n",
              "      <td>0.000000</td>\n",
              "      <td>0.0</td>\n",
              "    </tr>\n",
              "    <tr>\n",
              "      <th>25%</th>\n",
              "      <td>54230.000000</td>\n",
              "      <td>-0.917544</td>\n",
              "      <td>-0.599473</td>\n",
              "      <td>-0.884541</td>\n",
              "      <td>-0.850077</td>\n",
              "      <td>-0.689399</td>\n",
              "      <td>-0.766847</td>\n",
              "      <td>-0.551442</td>\n",
              "      <td>-0.208633</td>\n",
              "      <td>-0.640412</td>\n",
              "      <td>-0.532880</td>\n",
              "      <td>-0.763447</td>\n",
              "      <td>-0.402102</td>\n",
              "      <td>-0.648067</td>\n",
              "      <td>-0.422453</td>\n",
              "      <td>-0.582812</td>\n",
              "      <td>-0.465543</td>\n",
              "      <td>-0.482644</td>\n",
              "      <td>-0.497414</td>\n",
              "      <td>-0.456366</td>\n",
              "      <td>-0.211764</td>\n",
              "      <td>-0.228509</td>\n",
              "      <td>-0.542403</td>\n",
              "      <td>-0.161702</td>\n",
              "      <td>-0.354425</td>\n",
              "      <td>-0.317145</td>\n",
              "      <td>-0.327074</td>\n",
              "      <td>-0.070852</td>\n",
              "      <td>-0.052950</td>\n",
              "      <td>5.650000</td>\n",
              "      <td>0.0</td>\n",
              "    </tr>\n",
              "    <tr>\n",
              "      <th>50%</th>\n",
              "      <td>84711.000000</td>\n",
              "      <td>0.020023</td>\n",
              "      <td>0.064070</td>\n",
              "      <td>0.182158</td>\n",
              "      <td>-0.022405</td>\n",
              "      <td>-0.053457</td>\n",
              "      <td>-0.273123</td>\n",
              "      <td>0.041138</td>\n",
              "      <td>0.022041</td>\n",
              "      <td>-0.049964</td>\n",
              "      <td>-0.091872</td>\n",
              "      <td>-0.034923</td>\n",
              "      <td>0.141679</td>\n",
              "      <td>-0.013547</td>\n",
              "      <td>0.051947</td>\n",
              "      <td>0.048294</td>\n",
              "      <td>0.067377</td>\n",
              "      <td>-0.064833</td>\n",
              "      <td>-0.002787</td>\n",
              "      <td>0.003117</td>\n",
              "      <td>-0.062646</td>\n",
              "      <td>-0.029821</td>\n",
              "      <td>0.006736</td>\n",
              "      <td>-0.011147</td>\n",
              "      <td>0.041082</td>\n",
              "      <td>0.016417</td>\n",
              "      <td>-0.052227</td>\n",
              "      <td>0.001230</td>\n",
              "      <td>0.011199</td>\n",
              "      <td>22.000000</td>\n",
              "      <td>0.0</td>\n",
              "    </tr>\n",
              "    <tr>\n",
              "      <th>75%</th>\n",
              "      <td>139333.000000</td>\n",
              "      <td>1.316218</td>\n",
              "      <td>0.800446</td>\n",
              "      <td>1.028372</td>\n",
              "      <td>0.737624</td>\n",
              "      <td>0.612181</td>\n",
              "      <td>0.399619</td>\n",
              "      <td>0.571019</td>\n",
              "      <td>0.326200</td>\n",
              "      <td>0.598230</td>\n",
              "      <td>0.455135</td>\n",
              "      <td>0.736362</td>\n",
              "      <td>0.619207</td>\n",
              "      <td>0.662492</td>\n",
              "      <td>0.494104</td>\n",
              "      <td>0.648842</td>\n",
              "      <td>0.523738</td>\n",
              "      <td>0.399922</td>\n",
              "      <td>0.501103</td>\n",
              "      <td>0.457499</td>\n",
              "      <td>0.132401</td>\n",
              "      <td>0.185626</td>\n",
              "      <td>0.528407</td>\n",
              "      <td>0.147522</td>\n",
              "      <td>0.439869</td>\n",
              "      <td>0.350594</td>\n",
              "      <td>0.240671</td>\n",
              "      <td>0.090573</td>\n",
              "      <td>0.077962</td>\n",
              "      <td>77.050000</td>\n",
              "      <td>0.0</td>\n",
              "    </tr>\n",
              "    <tr>\n",
              "      <th>max</th>\n",
              "      <td>172792.000000</td>\n",
              "      <td>2.454930</td>\n",
              "      <td>18.902453</td>\n",
              "      <td>9.382558</td>\n",
              "      <td>16.875344</td>\n",
              "      <td>34.801666</td>\n",
              "      <td>73.301626</td>\n",
              "      <td>120.589494</td>\n",
              "      <td>18.709255</td>\n",
              "      <td>15.594995</td>\n",
              "      <td>23.745136</td>\n",
              "      <td>10.002190</td>\n",
              "      <td>7.848392</td>\n",
              "      <td>7.126883</td>\n",
              "      <td>10.526766</td>\n",
              "      <td>8.877742</td>\n",
              "      <td>17.315112</td>\n",
              "      <td>9.253526</td>\n",
              "      <td>5.041069</td>\n",
              "      <td>5.591971</td>\n",
              "      <td>39.420904</td>\n",
              "      <td>22.614889</td>\n",
              "      <td>10.503090</td>\n",
              "      <td>22.528412</td>\n",
              "      <td>4.584549</td>\n",
              "      <td>7.519589</td>\n",
              "      <td>3.517346</td>\n",
              "      <td>31.612198</td>\n",
              "      <td>33.847808</td>\n",
              "      <td>25691.160000</td>\n",
              "      <td>0.0</td>\n",
              "    </tr>\n",
              "  </tbody>\n",
              "</table>\n",
              "</div>"
            ],
            "text/plain": [
              "                Time             V1  ...         Amount     Class\n",
              "count  284315.000000  284315.000000  ...  284315.000000  284315.0\n",
              "mean    94838.202258       0.008258  ...      88.291022       0.0\n",
              "std     47484.015786       1.929814  ...     250.105092       0.0\n",
              "min         0.000000     -56.407510  ...       0.000000       0.0\n",
              "25%     54230.000000      -0.917544  ...       5.650000       0.0\n",
              "50%     84711.000000       0.020023  ...      22.000000       0.0\n",
              "75%    139333.000000       1.316218  ...      77.050000       0.0\n",
              "max    172792.000000       2.454930  ...   25691.160000       0.0\n",
              "\n",
              "[8 rows x 31 columns]"
            ]
          },
          "metadata": {
            "tags": []
          },
          "execution_count": 8
        }
      ]
    },
    {
      "cell_type": "markdown",
      "metadata": {
        "id": "tn6nEe2jJ4bh"
      },
      "source": [
        "이제 데이터의 각 열에 대해서 값을 시각화해보겠습니다. 패키지 seaborn을 임포트합니다."
      ]
    },
    {
      "cell_type": "code",
      "metadata": {
        "id": "y1F3hNmlbM3S"
      },
      "source": [
        "import seaborn as sns"
      ],
      "execution_count": null,
      "outputs": []
    },
    {
      "cell_type": "markdown",
      "metadata": {
        "id": "B-EZ78JyKAiB"
      },
      "source": [
        "시각화를 할 대상으로 V로 시작되는 열에 대해서만 추출합니다."
      ]
    },
    {
      "cell_type": "code",
      "metadata": {
        "id": "HjOxPaEgZSzM"
      },
      "source": [
        "# V로 시작되는 열만 추출. V라는 이름의 dataframe의 shape는 (284807, 28)\n",
        "V = card_df[[col for col in card_df.columns if 'V' in col]]"
      ],
      "execution_count": null,
      "outputs": []
    },
    {
      "cell_type": "code",
      "metadata": {
        "colab": {
          "base_uri": "https://localhost:8080/",
          "height": 224
        },
        "id": "jdeWimUlcdK6",
        "outputId": "9dd03910-ca20-4cd8-ed51-c0af41cbc610"
      },
      "source": [
        "V.head()"
      ],
      "execution_count": null,
      "outputs": [
        {
          "output_type": "execute_result",
          "data": {
            "text/html": [
              "<div>\n",
              "<style scoped>\n",
              "    .dataframe tbody tr th:only-of-type {\n",
              "        vertical-align: middle;\n",
              "    }\n",
              "\n",
              "    .dataframe tbody tr th {\n",
              "        vertical-align: top;\n",
              "    }\n",
              "\n",
              "    .dataframe thead th {\n",
              "        text-align: right;\n",
              "    }\n",
              "</style>\n",
              "<table border=\"1\" class=\"dataframe\">\n",
              "  <thead>\n",
              "    <tr style=\"text-align: right;\">\n",
              "      <th></th>\n",
              "      <th>V1</th>\n",
              "      <th>V2</th>\n",
              "      <th>V3</th>\n",
              "      <th>V4</th>\n",
              "      <th>V5</th>\n",
              "      <th>V6</th>\n",
              "      <th>V7</th>\n",
              "      <th>V8</th>\n",
              "      <th>V9</th>\n",
              "      <th>V10</th>\n",
              "      <th>V11</th>\n",
              "      <th>V12</th>\n",
              "      <th>V13</th>\n",
              "      <th>V14</th>\n",
              "      <th>V15</th>\n",
              "      <th>V16</th>\n",
              "      <th>V17</th>\n",
              "      <th>V18</th>\n",
              "      <th>V19</th>\n",
              "      <th>V20</th>\n",
              "      <th>V21</th>\n",
              "      <th>V22</th>\n",
              "      <th>V23</th>\n",
              "      <th>V24</th>\n",
              "      <th>V25</th>\n",
              "      <th>V26</th>\n",
              "      <th>V27</th>\n",
              "      <th>V28</th>\n",
              "    </tr>\n",
              "  </thead>\n",
              "  <tbody>\n",
              "    <tr>\n",
              "      <th>0</th>\n",
              "      <td>-1.359807</td>\n",
              "      <td>-0.072781</td>\n",
              "      <td>2.536347</td>\n",
              "      <td>1.378155</td>\n",
              "      <td>-0.338321</td>\n",
              "      <td>0.462388</td>\n",
              "      <td>0.239599</td>\n",
              "      <td>0.098698</td>\n",
              "      <td>0.363787</td>\n",
              "      <td>0.090794</td>\n",
              "      <td>-0.551600</td>\n",
              "      <td>-0.617801</td>\n",
              "      <td>-0.991390</td>\n",
              "      <td>-0.311169</td>\n",
              "      <td>1.468177</td>\n",
              "      <td>-0.470401</td>\n",
              "      <td>0.207971</td>\n",
              "      <td>0.025791</td>\n",
              "      <td>0.403993</td>\n",
              "      <td>0.251412</td>\n",
              "      <td>-0.018307</td>\n",
              "      <td>0.277838</td>\n",
              "      <td>-0.110474</td>\n",
              "      <td>0.066928</td>\n",
              "      <td>0.128539</td>\n",
              "      <td>-0.189115</td>\n",
              "      <td>0.133558</td>\n",
              "      <td>-0.021053</td>\n",
              "    </tr>\n",
              "    <tr>\n",
              "      <th>1</th>\n",
              "      <td>1.191857</td>\n",
              "      <td>0.266151</td>\n",
              "      <td>0.166480</td>\n",
              "      <td>0.448154</td>\n",
              "      <td>0.060018</td>\n",
              "      <td>-0.082361</td>\n",
              "      <td>-0.078803</td>\n",
              "      <td>0.085102</td>\n",
              "      <td>-0.255425</td>\n",
              "      <td>-0.166974</td>\n",
              "      <td>1.612727</td>\n",
              "      <td>1.065235</td>\n",
              "      <td>0.489095</td>\n",
              "      <td>-0.143772</td>\n",
              "      <td>0.635558</td>\n",
              "      <td>0.463917</td>\n",
              "      <td>-0.114805</td>\n",
              "      <td>-0.183361</td>\n",
              "      <td>-0.145783</td>\n",
              "      <td>-0.069083</td>\n",
              "      <td>-0.225775</td>\n",
              "      <td>-0.638672</td>\n",
              "      <td>0.101288</td>\n",
              "      <td>-0.339846</td>\n",
              "      <td>0.167170</td>\n",
              "      <td>0.125895</td>\n",
              "      <td>-0.008983</td>\n",
              "      <td>0.014724</td>\n",
              "    </tr>\n",
              "    <tr>\n",
              "      <th>2</th>\n",
              "      <td>-1.358354</td>\n",
              "      <td>-1.340163</td>\n",
              "      <td>1.773209</td>\n",
              "      <td>0.379780</td>\n",
              "      <td>-0.503198</td>\n",
              "      <td>1.800499</td>\n",
              "      <td>0.791461</td>\n",
              "      <td>0.247676</td>\n",
              "      <td>-1.514654</td>\n",
              "      <td>0.207643</td>\n",
              "      <td>0.624501</td>\n",
              "      <td>0.066084</td>\n",
              "      <td>0.717293</td>\n",
              "      <td>-0.165946</td>\n",
              "      <td>2.345865</td>\n",
              "      <td>-2.890083</td>\n",
              "      <td>1.109969</td>\n",
              "      <td>-0.121359</td>\n",
              "      <td>-2.261857</td>\n",
              "      <td>0.524980</td>\n",
              "      <td>0.247998</td>\n",
              "      <td>0.771679</td>\n",
              "      <td>0.909412</td>\n",
              "      <td>-0.689281</td>\n",
              "      <td>-0.327642</td>\n",
              "      <td>-0.139097</td>\n",
              "      <td>-0.055353</td>\n",
              "      <td>-0.059752</td>\n",
              "    </tr>\n",
              "    <tr>\n",
              "      <th>3</th>\n",
              "      <td>-0.966272</td>\n",
              "      <td>-0.185226</td>\n",
              "      <td>1.792993</td>\n",
              "      <td>-0.863291</td>\n",
              "      <td>-0.010309</td>\n",
              "      <td>1.247203</td>\n",
              "      <td>0.237609</td>\n",
              "      <td>0.377436</td>\n",
              "      <td>-1.387024</td>\n",
              "      <td>-0.054952</td>\n",
              "      <td>-0.226487</td>\n",
              "      <td>0.178228</td>\n",
              "      <td>0.507757</td>\n",
              "      <td>-0.287924</td>\n",
              "      <td>-0.631418</td>\n",
              "      <td>-1.059647</td>\n",
              "      <td>-0.684093</td>\n",
              "      <td>1.965775</td>\n",
              "      <td>-1.232622</td>\n",
              "      <td>-0.208038</td>\n",
              "      <td>-0.108300</td>\n",
              "      <td>0.005274</td>\n",
              "      <td>-0.190321</td>\n",
              "      <td>-1.175575</td>\n",
              "      <td>0.647376</td>\n",
              "      <td>-0.221929</td>\n",
              "      <td>0.062723</td>\n",
              "      <td>0.061458</td>\n",
              "    </tr>\n",
              "    <tr>\n",
              "      <th>4</th>\n",
              "      <td>-1.158233</td>\n",
              "      <td>0.877737</td>\n",
              "      <td>1.548718</td>\n",
              "      <td>0.403034</td>\n",
              "      <td>-0.407193</td>\n",
              "      <td>0.095921</td>\n",
              "      <td>0.592941</td>\n",
              "      <td>-0.270533</td>\n",
              "      <td>0.817739</td>\n",
              "      <td>0.753074</td>\n",
              "      <td>-0.822843</td>\n",
              "      <td>0.538196</td>\n",
              "      <td>1.345852</td>\n",
              "      <td>-1.119670</td>\n",
              "      <td>0.175121</td>\n",
              "      <td>-0.451449</td>\n",
              "      <td>-0.237033</td>\n",
              "      <td>-0.038195</td>\n",
              "      <td>0.803487</td>\n",
              "      <td>0.408542</td>\n",
              "      <td>-0.009431</td>\n",
              "      <td>0.798278</td>\n",
              "      <td>-0.137458</td>\n",
              "      <td>0.141267</td>\n",
              "      <td>-0.206010</td>\n",
              "      <td>0.502292</td>\n",
              "      <td>0.219422</td>\n",
              "      <td>0.215153</td>\n",
              "    </tr>\n",
              "  </tbody>\n",
              "</table>\n",
              "</div>"
            ],
            "text/plain": [
              "         V1        V2        V3  ...       V26       V27       V28\n",
              "0 -1.359807 -0.072781  2.536347  ... -0.189115  0.133558 -0.021053\n",
              "1  1.191857  0.266151  0.166480  ...  0.125895 -0.008983  0.014724\n",
              "2 -1.358354 -1.340163  1.773209  ... -0.139097 -0.055353 -0.059752\n",
              "3 -0.966272 -0.185226  1.792993  ... -0.221929  0.062723  0.061458\n",
              "4 -1.158233  0.877737  1.548718  ...  0.502292  0.219422  0.215153\n",
              "\n",
              "[5 rows x 28 columns]"
            ]
          },
          "metadata": {
            "tags": []
          },
          "execution_count": 11
        }
      ]
    },
    {
      "cell_type": "markdown",
      "metadata": {
        "id": "m5nbq_uiKBra"
      },
      "source": [
        "V로 시작되는 총 28개의 열에 대해서만 추출됩니다. (V1 ~ V28)\n",
        "\n",
        "28개의 열에 대해서 시각화하기 전에 다수의 차트를 그리는 연습을 먼저 해봅시다.\n",
        "\n",
        "3강의 자전거 대여 수요 예측에서 배웠던 내용입니다.\n",
        "\n",
        "3행 2열의 차트를 배치하는 코드는 다음과 같습니다."
      ]
    },
    {
      "cell_type": "code",
      "metadata": {
        "colab": {
          "base_uri": "https://localhost:8080/",
          "height": 468
        },
        "id": "3eJM-84oadc8",
        "outputId": "d651ac53-a503-4b7e-a123-ac926fa64b2d"
      },
      "source": [
        "# 3개의 행과 2개의 열의 공간을 확보. fig_size는 차트의 크기를 조절하는 값.\n",
        "f, ax = plt.subplots(nrows = 3, ncols = 2, figsize=(4, 5))\n",
        "\n",
        "# ax의 크기는 3행 2열. 즉, 3 x 2의 크기를 가진다.\n",
        "print('ax의 shape:', ax.shape)\n",
        "\n",
        "# 총 6개의 값을 출력\n",
        "print('ax 의 값을 출력 :', ax)\n",
        "\n",
        "# 6개의 공간. 비유하자면 액자를 출력 (3행 2열)\n",
        "print('그리고 할당한 공간을 출력')"
      ],
      "execution_count": null,
      "outputs": [
        {
          "output_type": "stream",
          "text": [
            "ax의 shape: (3, 2)\n",
            "ax 의 값을 출력 : [[<matplotlib.axes._subplots.AxesSubplot object at 0x7f5b51b32950>\n",
            "  <matplotlib.axes._subplots.AxesSubplot object at 0x7f5b51aa17d0>]\n",
            " [<matplotlib.axes._subplots.AxesSubplot object at 0x7f5b51a5ae10>\n",
            "  <matplotlib.axes._subplots.AxesSubplot object at 0x7f5b51a1a490>]\n",
            " [<matplotlib.axes._subplots.AxesSubplot object at 0x7f5b51a4fad0>\n",
            "  <matplotlib.axes._subplots.AxesSubplot object at 0x7f5b51991150>]]\n",
            "그리고 할당한 공간을 출력\n"
          ],
          "name": "stdout"
        },
        {
          "output_type": "display_data",
          "data": {
            "image/png": "[encoded data removed]",
            "text/plain": [
              "<Figure size 288x360 with 6 Axes>"
            ]
          },
          "metadata": {
            "tags": [],
            "needs_background": "light"
          }
        }
      ]
    },
    {
      "cell_type": "markdown",
      "metadata": {
        "id": "z-t-n9yiKKHs"
      },
      "source": [
        "3행 2열의 공간이 출력됩니다. 실질적으로 데이터를 넣지 않았으므로 차트는 출력되지만, 빈 공간만이 출력됩니다. 이번에는 실질적으로 데이터를 넣으면서 총 28개의 차트를 출력해봅시다. 28개의 차트를 14행, 2열의 구조로 출력해보겠습니다."
      ]
    },
    {
      "cell_type": "code",
      "metadata": {
        "colab": {
          "base_uri": "https://localhost:8080/",
          "height": 1000
        },
        "id": "RRATH21jaunN",
        "outputId": "2197323f-f295-4b58-9389-f153a615e8c2"
      },
      "source": [
        "# V로 시작되는 열만 추출. V라는 이름의 dataframe의 shape는 (284807, 28)\n",
        "V = card_df[[col for col in card_df.columns if 'V' in col]]\n",
        "\n",
        "# 14개의 행과 2개의 열의 공간을 확보. fig_size는 차트의 크기를 조절하는 값.\n",
        "f, ax = plt.subplots(ncols = 2, nrows = 14, figsize=(15, 60))\n",
        "\n",
        "# for문을 통해서 ax의 공간값과 V의 열의 이름을 하나씩 꺼내온다.\n",
        "for i, column_name in zip(ax.flatten(), V.columns):\n",
        "\n",
        "    # 하나씩 꺼내온 것을 순차적으로 시각화\n",
        "    sns.distplot(V[column_name], ax = i)"
      ],
      "execution_count": null,
      "outputs": [
        {
          "output_type": "display_data",
          "data": {
            "image/png": "[encoded data removed]",
            "text/plain": [
              "<Figure size 1080x4320 with 28 Axes>"
            ]
          },
          "metadata": {
            "tags": [],
            "needs_background": "light"
          }
        }
      ]
    },
    {
      "cell_type": "markdown",
      "metadata": {
        "id": "nJrLRRGsKO01"
      },
      "source": [
        "각 데이터들에 대한 분포를 시각화했습니다. 이제 각 데이터의 분포가 적절한지를 판단해야 합니다. 특히, 모델의 예측에 강한 영향을 주는 특성(열)이라면 해당 데이터의 분포가 모델의 예측에 직접적인 영향을 줄 수 있습니다."
      ]
    },
    {
      "cell_type": "markdown",
      "metadata": {
        "id": "ZFlOEvUmKSvT"
      },
      "source": [
        "이제 로지스틱 회귀 모델을 통해서 학습해봅시다.\n",
        "\n",
        "우선 전체 데이터에서 별 다른 의미가 없는 Time 열은 제거해줍니다."
      ]
    },
    {
      "cell_type": "code",
      "metadata": {
        "colab": {
          "base_uri": "https://localhost:8080/"
        },
        "id": "WwJesFPyeJ-u",
        "outputId": "b2735c94-a464-4ce5-d381-07e1a147f88a"
      },
      "source": [
        "# 원본 데이터를 복사\n",
        "card_df_copy = card_df.copy()\n",
        "\n",
        "# 아무런 의미없는 Time 열을 제거\n",
        "card_df_copy.drop('Time', axis=1, inplace=True)\n",
        "\n",
        "# 열의 개수 1개 감소\n",
        "print(card_df.shape) "
      ],
      "execution_count": null,
      "outputs": [
        {
          "output_type": "stream",
          "text": [
            "(284807, 31)\n"
          ],
          "name": "stdout"
        }
      ]
    },
    {
      "cell_type": "markdown",
      "metadata": {
        "id": "2QYWgT9NKV0P"
      },
      "source": [
        "의 개수가 32개에서 31개로 줄었습니다. 이제 종속 변수에 해당하는 y열과 독립 변수들에 해당하는 X 데이터를 분리하는 작업을 해줍니다. 이는 Class 열을 분리하면 됩니다."
      ]
    },
    {
      "cell_type": "code",
      "metadata": {
        "colab": {
          "base_uri": "https://localhost:8080/"
        },
        "id": "RCEZVzfafFX4",
        "outputId": "549e571a-5f3b-4b90-c4c5-9f269d43d4dc"
      },
      "source": [
        "# Class 열을 제외한 열만을 뽑아온다.\n",
        "X_data = card_df_copy.iloc[:, :-1]\n",
        "\n",
        "# Class 열만을 뽑아온다.\n",
        "y_data = card_df_copy.iloc[:, -1]\n",
        "\n",
        "# 열의 개수가 1개 감소\n",
        "print(X_data.shape)\n",
        "\n",
        "# 열의 개수가 1개\n",
        "print(y_data.shape)"
      ],
      "execution_count": null,
      "outputs": [
        {
          "output_type": "stream",
          "text": [
            "(284807, 29)\n",
            "(284807,)\n"
          ],
          "name": "stdout"
        }
      ]
    },
    {
      "cell_type": "markdown",
      "metadata": {
        "id": "OJSmixpFKft7"
      },
      "source": [
        "X 데이터는 29개의 열을 가지고, y 데이터는 1개의 열을 가집니다.\n",
        "\n",
        "이제 훈련 데이터와 테스트 데이터를 7:3의 비율로 분리해봅시다.\n",
        "\n",
        "현재 레이블이 굉장히 불균형하기 때문에 분리 후에도\n",
        "\n",
        "훈련 데이터와 테스트 데이터의 레이블 비율이 유지되도록 해줍시다.\n",
        "\n",
        "이는 인자로서 **stratify=y데이터**를 사용하여 가능합니다."
      ]
    },
    {
      "cell_type": "code",
      "metadata": {
        "id": "mBWtwvrBm8Ru"
      },
      "source": [
        "from sklearn.model_selection import train_test_split\n",
        "\n",
        "# X_data와 y_data를 7:3 비율로 분할\n",
        "X_train, X_test, y_train, y_test = train_test_split(X_data, y_data, test_size=0.3, random_state=0, stratify=y_data)"
      ],
      "execution_count": null,
      "outputs": []
    },
    {
      "cell_type": "markdown",
      "metadata": {
        "id": "ZBqmIW-OKhaX"
      },
      "source": [
        "X_train은 훈련 데이터의 독립 변수 데이터\n",
        "\n",
        "y_train은 훈련 데이터의 레이블\n",
        "\n",
        "X_test는 테스트 데이터의 독립 변수 데이터\n",
        "\n",
        "y_test는 테스트 데이터의 레이블에 해당됩니다.\n",
        "\n",
        "데이터 분리 시에 레이블 비율이 유지되도록 해주었으므로\n",
        "\n",
        "훈련 데이터와 테스트 데이터의 레이블 비율이 동등하게 유지되는지 확인해봅시다."
      ]
    },
    {
      "cell_type": "code",
      "metadata": {
        "colab": {
          "base_uri": "https://localhost:8080/"
        },
        "id": "4ajNQn2qnI2M",
        "outputId": "bc7f3b58-745f-4f84-abfb-69b4552639ef"
      },
      "source": [
        "print('--------훈련 데이터의 비율-----------')\n",
        "print(f'정상 거래 비율 = {round(y_train.value_counts()[0]/len(y_train) * 100,3)}%')\n",
        "print(f'사기 탐지 = {round(y_train.value_counts()[1]/len(y_train) * 100,3)}%')"
      ],
      "execution_count": null,
      "outputs": [
        {
          "output_type": "stream",
          "text": [
            "--------훈련 데이터의 비율-----------\n",
            "정상 거래 비율 = 99.827%\n",
            "사기 탐지 = 0.173%\n"
          ],
          "name": "stdout"
        }
      ]
    },
    {
      "cell_type": "markdown",
      "metadata": {
        "id": "dU4A4EzYKk2z"
      },
      "source": [
        "훈련 데이터에서 레이블이 1인 비중은 0.173%입니다."
      ]
    },
    {
      "cell_type": "code",
      "metadata": {
        "colab": {
          "base_uri": "https://localhost:8080/"
        },
        "id": "P1BDUOWWndQa",
        "outputId": "9489c279-47a1-450f-c43e-36f0fbb94690"
      },
      "source": [
        "print('--------테스트 데이터의 비율-----------')\n",
        "print(f'정상 거래 비율 = {round(y_test.value_counts()[0]/len(y_test) * 100,3)}%')\n",
        "print(f'사기 탐지 = {round(y_test.value_counts()[1]/len(y_test) * 100,3)}%')"
      ],
      "execution_count": null,
      "outputs": [
        {
          "output_type": "stream",
          "text": [
            "--------테스트 데이터의 비율-----------\n",
            "정상 거래 비율 = 99.827%\n",
            "사기 탐지 = 0.173%\n"
          ],
          "name": "stdout"
        }
      ]
    },
    {
      "cell_type": "markdown",
      "metadata": {
        "id": "dMvV7zsIKmGK"
      },
      "source": [
        "마찬가지로 테스트 데이터에서도 레이블이 1인 비중은 0.173%입니다."
      ]
    },
    {
      "cell_type": "markdown",
      "metadata": {
        "id": "28Mh6G29Kn__"
      },
      "source": [
        "현재 데이터가 레이블이 굉장히 불균형한 상태이기 때문에\n",
        "\n",
        "f1-score를 도입하여 모델을 평가하도록 합니다.\n",
        "\n",
        "사이킷런에서는 precision, recall, f1_score를 이미 함수로서 제공하고 있으므로\n",
        "\n",
        "이를 사용하도록 하고, 여러번 평가를 진행할 것이므로 평가 자체를 위한 함수를 만듭니다."
      ]
    },
    {
      "cell_type": "code",
      "metadata": {
        "id": "79TYB3QeoK0X"
      },
      "source": [
        "from sklearn.metrics import precision_score, recall_score, f1_score, accuracy_score"
      ],
      "execution_count": null,
      "outputs": []
    },
    {
      "cell_type": "code",
      "metadata": {
        "id": "QxY2Ig8Dngmy"
      },
      "source": [
        "def metrics(y_test, pred):\n",
        "  accuracy = accuracy_score(y_test, pred)\n",
        "  precision = precision_score(y_test, pred)\n",
        "  recall = recall_score(y_test, pred)\n",
        "  f1 = f1_score(y_test, pred)\n",
        "  print('정확도 : {0:.4f}, 정밀도 : {1:.4f}, 재현률 : {2:.4f}'.format(accuracy, precision, recall))\n",
        "  print('f1-score : {0:.4f}'.format(f1))"
      ],
      "execution_count": null,
      "outputs": []
    },
    {
      "cell_type": "markdown",
      "metadata": {
        "id": "YVtR1aJnKp-4"
      },
      "source": [
        "이제 분류 문제를 위한 모델인 로지스틱 회귀를 수행합니다."
      ]
    },
    {
      "cell_type": "code",
      "metadata": {
        "id": "oRoI15naUu83"
      },
      "source": [
        "from tensorflow.keras.models import Sequential\n",
        "from tensorflow.keras.layers import Dense, LSTM, Dropout\n",
        "from tensorflow.keras.models import load_model\n",
        "from tensorflow.keras.callbacks import ModelCheckpoint"
      ],
      "execution_count": null,
      "outputs": []
    },
    {
      "cell_type": "code",
      "metadata": {
        "id": "lOc4yl2SU_fX"
      },
      "source": [
        "#모델 구성하기\n",
        "model = Sequential()\n",
        "model.add(Dense(32, input_dim=len(X_train.columns), activation=\"relu\"))\n",
        "model.add(Dense(32,activation=\"relu\"))\n",
        "model.add(Dense(32,activation=\"relu\"))\n",
        "model.add(Dense(1, activation='sigmoid'))"
      ],
      "execution_count": null,
      "outputs": []
    },
    {
      "cell_type": "markdown",
      "metadata": {
        "id": "zudtqv10h39t"
      },
      "source": [
        "딥 러닝을 할 때, Dense열에서 출력층을 제외한 은닉층에서는 일반적으로 relu 함수를 activation 함수로 사용합니다."
      ]
    },
    {
      "cell_type": "markdown",
      "metadata": {
        "id": "edh07eCriCAK"
      },
      "source": [
        "optimizer에서 'sgd'는 경사 하강법이고, 'adam'은 sgd를 좀 더 업그레이드한 버전으로 'sgd'보다 성능이 더 좋다."
      ]
    },
    {
      "cell_type": "code",
      "metadata": {
        "id": "yOOEh4oiVDzG"
      },
      "source": [
        "model.compile(loss='binary_crossentropy', optimizer='adam',  metrics=['acc'])"
      ],
      "execution_count": null,
      "outputs": []
    },
    {
      "cell_type": "code",
      "metadata": {
        "id": "RSo_o9mTYMOu"
      },
      "source": [
        "mc = ModelCheckpoint('best_model.h5', monitor='val_acc', mode='max', verbose=1, save_best_only=True)"
      ],
      "execution_count": null,
      "outputs": []
    },
    {
      "cell_type": "code",
      "metadata": {
        "colab": {
          "base_uri": "https://localhost:8080/"
        },
        "id": "9y9_IaP_VGJr",
        "outputId": "0cd4e0d4-d1ee-4844-921a-f97ba7eb7c43"
      },
      "source": [
        "hist = model.fit(X_train, y_train, epochs=10, callbacks=[mc], batch_size=64, validation_data=(X_test, y_test))"
      ],
      "execution_count": null,
      "outputs": [
        {
          "output_type": "stream",
          "text": [
            "Epoch 1/10\n",
            "3116/3116 [==============================] - 11s 3ms/step - loss: 0.0369 - acc: 0.9974 - val_loss: 0.0074 - val_acc: 0.9983\n",
            "\n",
            "Epoch 00001: val_acc improved from -inf to 0.99827, saving model to best_model.h5\n",
            "Epoch 2/10\n",
            "3116/3116 [==============================] - 10s 3ms/step - loss: 0.0100 - acc: 0.9984 - val_loss: 0.0059 - val_acc: 0.9988\n",
            "\n",
            "Epoch 00002: val_acc improved from 0.99827 to 0.99884, saving model to best_model.h5\n",
            "Epoch 3/10\n",
            "3116/3116 [==============================] - 10s 3ms/step - loss: 0.0076 - acc: 0.9989 - val_loss: 0.0045 - val_acc: 0.9992\n",
            "\n",
            "Epoch 00003: val_acc improved from 0.99884 to 0.99924, saving model to best_model.h5\n",
            "Epoch 4/10\n",
            "3116/3116 [==============================] - 10s 3ms/step - loss: 0.0055 - acc: 0.9990 - val_loss: 0.0049 - val_acc: 0.9992\n",
            "\n",
            "Epoch 00004: val_acc did not improve from 0.99924\n",
            "Epoch 5/10\n",
            "3116/3116 [==============================] - 10s 3ms/step - loss: 0.0060 - acc: 0.9991 - val_loss: 0.0046 - val_acc: 0.9993\n",
            "\n",
            "Epoch 00005: val_acc improved from 0.99924 to 0.99931, saving model to best_model.h5\n",
            "Epoch 6/10\n",
            "3116/3116 [==============================] - 10s 3ms/step - loss: 0.0047 - acc: 0.9992 - val_loss: 0.0036 - val_acc: 0.9989\n",
            "\n",
            "Epoch 00006: val_acc did not improve from 0.99931\n",
            "Epoch 7/10\n",
            "3116/3116 [==============================] - 9s 3ms/step - loss: 0.0049 - acc: 0.9991 - val_loss: 0.0050 - val_acc: 0.9993\n",
            "\n",
            "Epoch 00007: val_acc did not improve from 0.99931\n",
            "Epoch 8/10\n",
            "3116/3116 [==============================] - 10s 3ms/step - loss: 0.0050 - acc: 0.9992 - val_loss: 0.0040 - val_acc: 0.9992\n",
            "\n",
            "Epoch 00008: val_acc did not improve from 0.99931\n",
            "Epoch 9/10\n",
            "3116/3116 [==============================] - 9s 3ms/step - loss: 0.0046 - acc: 0.9991 - val_loss: 0.0041 - val_acc: 0.9993\n",
            "\n",
            "Epoch 00009: val_acc did not improve from 0.99931\n",
            "Epoch 10/10\n",
            "3116/3116 [==============================] - 11s 3ms/step - loss: 0.0046 - acc: 0.9992 - val_loss: 0.0032 - val_acc: 0.9993\n",
            "\n",
            "Epoch 00010: val_acc improved from 0.99931 to 0.99932, saving model to best_model.h5\n"
          ],
          "name": "stdout"
        }
      ]
    },
    {
      "cell_type": "code",
      "metadata": {
        "id": "MMlyl4e7YOzy"
      },
      "source": [
        "model = load_model('best_model.h5')"
      ],
      "execution_count": null,
      "outputs": []
    },
    {
      "cell_type": "code",
      "metadata": {
        "id": "gsHYdkboVu34"
      },
      "source": [
        "y_pred = model.predict_classes(X_test)"
      ],
      "execution_count": null,
      "outputs": []
    },
    {
      "cell_type": "code",
      "metadata": {
        "colab": {
          "base_uri": "https://localhost:8080/"
        },
        "id": "rqsKssXIWKTO",
        "outputId": "38935769-8d37-44a9-bcdf-729e279045e4"
      },
      "source": [
        "y_pred"
      ],
      "execution_count": null,
      "outputs": [
        {
          "output_type": "execute_result",
          "data": {
            "text/plain": [
              "array([[0],\n",
              "       [0],\n",
              "       [0],\n",
              "       ...,\n",
              "       [0],\n",
              "       [0],\n",
              "       [0]], dtype=int32)"
            ]
          },
          "metadata": {
            "tags": []
          },
          "execution_count": 28
        }
      ]
    },
    {
      "cell_type": "code",
      "metadata": {
        "colab": {
          "base_uri": "https://localhost:8080/"
        },
        "id": "t_0NMRvvVuRe",
        "outputId": "9e0044ac-676e-461d-a132-2b4a3477c368"
      },
      "source": [
        "metrics(y_test, y_pred)"
      ],
      "execution_count": null,
      "outputs": [
        {
          "output_type": "stream",
          "text": [
            "정확도 : 0.9993, 정밀도 : 0.8409, 재현률 : 0.7500\n",
            "f1-score : 0.7929\n"
          ],
          "name": "stdout"
        }
      ]
    },
    {
      "cell_type": "markdown",
      "metadata": {
        "id": "xxYlMTi4XS_r"
      },
      "source": [
        "다른 머신 러닝 모델들과도 비교해봅시다."
      ]
    },
    {
      "cell_type": "code",
      "metadata": {
        "id": "vgtch4fEqHe-"
      },
      "source": [
        "from sklearn.linear_model import LogisticRegression\n",
        "\n",
        "model = LogisticRegression()\n",
        "model.fit(X_train, y_train)\n",
        "y_pred = model.predict(X_test)"
      ],
      "execution_count": null,
      "outputs": []
    },
    {
      "cell_type": "markdown",
      "metadata": {
        "id": "byv3K1qgKtYa"
      },
      "source": [
        "테스트 데이터의 예측값 상위 5개를 출력해봅시다.\n",
        "\n",
        "상위 5개는 전부 정상 데이터로 예측했습니다."
      ]
    },
    {
      "cell_type": "code",
      "metadata": {
        "colab": {
          "base_uri": "https://localhost:8080/"
        },
        "id": "TPjWnxz1qiOU",
        "outputId": "811b1cd7-6eec-4974-b4a2-ee58620f966f"
      },
      "source": [
        "y_pred[:5]"
      ],
      "execution_count": null,
      "outputs": [
        {
          "output_type": "execute_result",
          "data": {
            "text/plain": [
              "array([0, 0, 0, 0, 0])"
            ]
          },
          "metadata": {
            "tags": []
          },
          "execution_count": 31
        }
      ]
    },
    {
      "cell_type": "markdown",
      "metadata": {
        "id": "dzlKGWwVKvSz"
      },
      "source": [
        "이제 테스트 데이터에 대해서 이미 만들어둔 metrics 함수를 통해 모델의 성능을 평가합니다."
      ]
    },
    {
      "cell_type": "code",
      "metadata": {
        "colab": {
          "base_uri": "https://localhost:8080/"
        },
        "id": "ecvzySaqsALf",
        "outputId": "8ce0c557-d5f7-4975-b05e-63020f304e24"
      },
      "source": [
        "metrics(y_test, y_pred)"
      ],
      "execution_count": null,
      "outputs": [
        {
          "output_type": "stream",
          "text": [
            "정확도 : 0.9991, 정밀도 : 0.8776, 재현률 : 0.5811\n",
            "f1-score : 0.6992\n"
          ],
          "name": "stdout"
        }
      ]
    },
    {
      "cell_type": "markdown",
      "metadata": {
        "id": "N7GqQYNQasB3"
      },
      "source": [
        "---"
      ]
    },
    {
      "cell_type": "markdown",
      "metadata": {
        "id": "G8tUKCAmavA1"
      },
      "source": [
        "아래서부터는 심화 과정입니다. 여기서부터는 교재를 참고해서 더 공부하실 분들은 공부하시면 됩니다. 개요를 살펴봅시다."
      ]
    },
    {
      "cell_type": "markdown",
      "metadata": {
        "id": "zPrkd20OZEk2"
      },
      "source": [
        "# Credit Card Fault Detection ML 구축\n",
        "- 매우 불균형한 데이터. 99%가 정상, 1%정도만 비정상.\n",
        "\n",
        "# 학습목표\n",
        "- 다양한 feature engineering 방식을 변경해본다\n",
        "    - 비대칭 데이터(skewed data)에 대한 분포변경(로그변환)\n",
        "    - 이상치 제거 => 이상치 제거시 알고리즘 효과가 극적으로 좋아지는 경우가 많다.\n",
        "        \n",
        "### 로그변환이란?\n",
        ": 왜곡된 분포를 가진 데이터셋을 비교적 정규분포에 가깝도록 바로 변환해주는 `매우 훌륭한 feature engineering 방식`이다.  \n",
        "    - 데이터가 치우쳐져 있다? => 일단 로그변환을 적용해본다!   \n",
        "    - 로그변환을 하면 왜곡된 분포도를 가진 데이터셋을 쉽게 정규분포의 형태로 변환할 수 있다.\n",
        "    \n",
        "### IQR을 이용한 이상치 제거\n",
        "    - IQR을 가장 쉽고 효과적으로 시각화해주는 것이 바로 boxplot"
      ]
    },
    {
      "cell_type": "markdown",
      "metadata": {
        "id": "HfM3VjURVN_7"
      },
      "source": [
        "---"
      ]
    },
    {
      "cell_type": "markdown",
      "metadata": {
        "id": "_QBg3myUAoKd"
      },
      "source": [
        "데이터를 분석하는데 중요한 역할을 하는 열(Column), 머신 러닝 용어로는 특성(feature)은 제대로 된 예측을 위해 정규 분포를 유지하는 것이 중요합니다. Amount는 신용카드 사용 금액으로 정상/사기 트랜잭션을 예측하는데 매우 중요한 특성입니다. 분포를 확인해봅시다."
      ]
    },
    {
      "cell_type": "code",
      "metadata": {
        "colab": {
          "base_uri": "https://localhost:8080/",
          "height": 297
        },
        "id": "yIh79yFrByVh",
        "outputId": "bb2df172-9894-4a4e-baba-b827d7fba959"
      },
      "source": [
        "plt.figure(figsize=(8, 4))\n",
        "sns.distplot(card_df['Amount'])"
      ],
      "execution_count": null,
      "outputs": [
        {
          "output_type": "execute_result",
          "data": {
            "text/plain": [
              "<matplotlib.axes._subplots.AxesSubplot at 0x7f5a9cd71f10>"
            ]
          },
          "metadata": {
            "tags": []
          },
          "execution_count": 33
        },
        {
          "output_type": "display_data",
          "data": {
            "image/png": "[encoded data removed]",
            "text/plain": [
              "<Figure size 576x288 with 1 Axes>"
            ]
          },
          "metadata": {
            "tags": [],
            "needs_background": "light"
          }
        }
      ]
    },
    {
      "cell_type": "markdown",
      "metadata": {
        "id": "9wgfPcugAS1p"
      },
      "source": [
        "카드 사용금액이 1000불 이하인 데이터가 대부분이며, 27000불까지는 드물지만 데이터가 존재하면서 꼬리가 매우 긴 형태의 분포를 보입니다. 이렇게 데이터의 분포가 커지면 머신 러닝 모델 예측에 악영향을 줄 수 있습니다. 이렇게 분포가 고르지 않을 경우에는 대게 데이터 정규화라는 과정을 거칩니다. 정규화에는 몇 가지 방법이 존재하는데, 여기서는 이 중 사이킷런의 StandardScaler를 사용합니다."
      ]
    },
    {
      "cell_type": "code",
      "metadata": {
        "id": "iJs5VsNnsQ8F"
      },
      "source": [
        "from sklearn.preprocessing import StandardScaler\n",
        "\n",
        "standard_card_df_copy = card_df.copy()\n",
        "scaler = StandardScaler()\n",
        "amount_n = scaler.fit_transform(standard_card_df_copy['Amount'].values.reshape(-1, 1))\n",
        "# 변환된 Amount를 Amount_Scaled로 피처명 변경후 DataFrame맨 앞 컬럼으로 입력\n",
        "standard_card_df_copy.insert(0, 'Amount_Scaled', amount_n)\n",
        "# 기존 Time, Amount 피처 삭제\n",
        "standard_card_df_copy.drop(['Time','Amount'], axis=1, inplace=True)"
      ],
      "execution_count": null,
      "outputs": []
    },
    {
      "cell_type": "code",
      "metadata": {
        "colab": {
          "base_uri": "https://localhost:8080/",
          "height": 224
        },
        "id": "J763_Xz_skhk",
        "outputId": "50633ce3-030e-455b-cb99-72eda8b75038"
      },
      "source": [
        "standard_card_df_copy.head()"
      ],
      "execution_count": null,
      "outputs": [
        {
          "output_type": "execute_result",
          "data": {
            "text/html": [
              "<div>\n",
              "<style scoped>\n",
              "    .dataframe tbody tr th:only-of-type {\n",
              "        vertical-align: middle;\n",
              "    }\n",
              "\n",
              "    .dataframe tbody tr th {\n",
              "        vertical-align: top;\n",
              "    }\n",
              "\n",
              "    .dataframe thead th {\n",
              "        text-align: right;\n",
              "    }\n",
              "</style>\n",
              "<table border=\"1\" class=\"dataframe\">\n",
              "  <thead>\n",
              "    <tr style=\"text-align: right;\">\n",
              "      <th></th>\n",
              "      <th>Amount_Scaled</th>\n",
              "      <th>V1</th>\n",
              "      <th>V2</th>\n",
              "      <th>V3</th>\n",
              "      <th>V4</th>\n",
              "      <th>V5</th>\n",
              "      <th>V6</th>\n",
              "      <th>V7</th>\n",
              "      <th>V8</th>\n",
              "      <th>V9</th>\n",
              "      <th>V10</th>\n",
              "      <th>V11</th>\n",
              "      <th>V12</th>\n",
              "      <th>V13</th>\n",
              "      <th>V14</th>\n",
              "      <th>V15</th>\n",
              "      <th>V16</th>\n",
              "      <th>V17</th>\n",
              "      <th>V18</th>\n",
              "      <th>V19</th>\n",
              "      <th>V20</th>\n",
              "      <th>V21</th>\n",
              "      <th>V22</th>\n",
              "      <th>V23</th>\n",
              "      <th>V24</th>\n",
              "      <th>V25</th>\n",
              "      <th>V26</th>\n",
              "      <th>V27</th>\n",
              "      <th>V28</th>\n",
              "      <th>Class</th>\n",
              "    </tr>\n",
              "  </thead>\n",
              "  <tbody>\n",
              "    <tr>\n",
              "      <th>0</th>\n",
              "      <td>0.244964</td>\n",
              "      <td>-1.359807</td>\n",
              "      <td>-0.072781</td>\n",
              "      <td>2.536347</td>\n",
              "      <td>1.378155</td>\n",
              "      <td>-0.338321</td>\n",
              "      <td>0.462388</td>\n",
              "      <td>0.239599</td>\n",
              "      <td>0.098698</td>\n",
              "      <td>0.363787</td>\n",
              "      <td>0.090794</td>\n",
              "      <td>-0.551600</td>\n",
              "      <td>-0.617801</td>\n",
              "      <td>-0.991390</td>\n",
              "      <td>-0.311169</td>\n",
              "      <td>1.468177</td>\n",
              "      <td>-0.470401</td>\n",
              "      <td>0.207971</td>\n",
              "      <td>0.025791</td>\n",
              "      <td>0.403993</td>\n",
              "      <td>0.251412</td>\n",
              "      <td>-0.018307</td>\n",
              "      <td>0.277838</td>\n",
              "      <td>-0.110474</td>\n",
              "      <td>0.066928</td>\n",
              "      <td>0.128539</td>\n",
              "      <td>-0.189115</td>\n",
              "      <td>0.133558</td>\n",
              "      <td>-0.021053</td>\n",
              "      <td>0</td>\n",
              "    </tr>\n",
              "    <tr>\n",
              "      <th>1</th>\n",
              "      <td>-0.342475</td>\n",
              "      <td>1.191857</td>\n",
              "      <td>0.266151</td>\n",
              "      <td>0.166480</td>\n",
              "      <td>0.448154</td>\n",
              "      <td>0.060018</td>\n",
              "      <td>-0.082361</td>\n",
              "      <td>-0.078803</td>\n",
              "      <td>0.085102</td>\n",
              "      <td>-0.255425</td>\n",
              "      <td>-0.166974</td>\n",
              "      <td>1.612727</td>\n",
              "      <td>1.065235</td>\n",
              "      <td>0.489095</td>\n",
              "      <td>-0.143772</td>\n",
              "      <td>0.635558</td>\n",
              "      <td>0.463917</td>\n",
              "      <td>-0.114805</td>\n",
              "      <td>-0.183361</td>\n",
              "      <td>-0.145783</td>\n",
              "      <td>-0.069083</td>\n",
              "      <td>-0.225775</td>\n",
              "      <td>-0.638672</td>\n",
              "      <td>0.101288</td>\n",
              "      <td>-0.339846</td>\n",
              "      <td>0.167170</td>\n",
              "      <td>0.125895</td>\n",
              "      <td>-0.008983</td>\n",
              "      <td>0.014724</td>\n",
              "      <td>0</td>\n",
              "    </tr>\n",
              "    <tr>\n",
              "      <th>2</th>\n",
              "      <td>1.160686</td>\n",
              "      <td>-1.358354</td>\n",
              "      <td>-1.340163</td>\n",
              "      <td>1.773209</td>\n",
              "      <td>0.379780</td>\n",
              "      <td>-0.503198</td>\n",
              "      <td>1.800499</td>\n",
              "      <td>0.791461</td>\n",
              "      <td>0.247676</td>\n",
              "      <td>-1.514654</td>\n",
              "      <td>0.207643</td>\n",
              "      <td>0.624501</td>\n",
              "      <td>0.066084</td>\n",
              "      <td>0.717293</td>\n",
              "      <td>-0.165946</td>\n",
              "      <td>2.345865</td>\n",
              "      <td>-2.890083</td>\n",
              "      <td>1.109969</td>\n",
              "      <td>-0.121359</td>\n",
              "      <td>-2.261857</td>\n",
              "      <td>0.524980</td>\n",
              "      <td>0.247998</td>\n",
              "      <td>0.771679</td>\n",
              "      <td>0.909412</td>\n",
              "      <td>-0.689281</td>\n",
              "      <td>-0.327642</td>\n",
              "      <td>-0.139097</td>\n",
              "      <td>-0.055353</td>\n",
              "      <td>-0.059752</td>\n",
              "      <td>0</td>\n",
              "    </tr>\n",
              "    <tr>\n",
              "      <th>3</th>\n",
              "      <td>0.140534</td>\n",
              "      <td>-0.966272</td>\n",
              "      <td>-0.185226</td>\n",
              "      <td>1.792993</td>\n",
              "      <td>-0.863291</td>\n",
              "      <td>-0.010309</td>\n",
              "      <td>1.247203</td>\n",
              "      <td>0.237609</td>\n",
              "      <td>0.377436</td>\n",
              "      <td>-1.387024</td>\n",
              "      <td>-0.054952</td>\n",
              "      <td>-0.226487</td>\n",
              "      <td>0.178228</td>\n",
              "      <td>0.507757</td>\n",
              "      <td>-0.287924</td>\n",
              "      <td>-0.631418</td>\n",
              "      <td>-1.059647</td>\n",
              "      <td>-0.684093</td>\n",
              "      <td>1.965775</td>\n",
              "      <td>-1.232622</td>\n",
              "      <td>-0.208038</td>\n",
              "      <td>-0.108300</td>\n",
              "      <td>0.005274</td>\n",
              "      <td>-0.190321</td>\n",
              "      <td>-1.175575</td>\n",
              "      <td>0.647376</td>\n",
              "      <td>-0.221929</td>\n",
              "      <td>0.062723</td>\n",
              "      <td>0.061458</td>\n",
              "      <td>0</td>\n",
              "    </tr>\n",
              "    <tr>\n",
              "      <th>4</th>\n",
              "      <td>-0.073403</td>\n",
              "      <td>-1.158233</td>\n",
              "      <td>0.877737</td>\n",
              "      <td>1.548718</td>\n",
              "      <td>0.403034</td>\n",
              "      <td>-0.407193</td>\n",
              "      <td>0.095921</td>\n",
              "      <td>0.592941</td>\n",
              "      <td>-0.270533</td>\n",
              "      <td>0.817739</td>\n",
              "      <td>0.753074</td>\n",
              "      <td>-0.822843</td>\n",
              "      <td>0.538196</td>\n",
              "      <td>1.345852</td>\n",
              "      <td>-1.119670</td>\n",
              "      <td>0.175121</td>\n",
              "      <td>-0.451449</td>\n",
              "      <td>-0.237033</td>\n",
              "      <td>-0.038195</td>\n",
              "      <td>0.803487</td>\n",
              "      <td>0.408542</td>\n",
              "      <td>-0.009431</td>\n",
              "      <td>0.798278</td>\n",
              "      <td>-0.137458</td>\n",
              "      <td>0.141267</td>\n",
              "      <td>-0.206010</td>\n",
              "      <td>0.502292</td>\n",
              "      <td>0.219422</td>\n",
              "      <td>0.215153</td>\n",
              "      <td>0</td>\n",
              "    </tr>\n",
              "  </tbody>\n",
              "</table>\n",
              "</div>"
            ],
            "text/plain": [
              "   Amount_Scaled        V1        V2  ...       V27       V28  Class\n",
              "0       0.244964 -1.359807 -0.072781  ...  0.133558 -0.021053      0\n",
              "1      -0.342475  1.191857  0.266151  ... -0.008983  0.014724      0\n",
              "2       1.160686 -1.358354 -1.340163  ... -0.055353 -0.059752      0\n",
              "3       0.140534 -0.966272 -0.185226  ...  0.062723  0.061458      0\n",
              "4      -0.073403 -1.158233  0.877737  ...  0.219422  0.215153      0\n",
              "\n",
              "[5 rows x 30 columns]"
            ]
          },
          "metadata": {
            "tags": []
          },
          "execution_count": 35
        }
      ]
    },
    {
      "cell_type": "code",
      "metadata": {
        "colab": {
          "base_uri": "https://localhost:8080/",
          "height": 298
        },
        "id": "JcQ1bXBPBTt_",
        "outputId": "3a50977d-0512-4454-89eb-33eb0728ae07"
      },
      "source": [
        "plt.figure(figsize=(8, 4))\n",
        "sns.distplot(standard_card_df_copy['Amount_Scaled'])"
      ],
      "execution_count": null,
      "outputs": [
        {
          "output_type": "execute_result",
          "data": {
            "text/plain": [
              "<matplotlib.axes._subplots.AxesSubplot at 0x7f5a9b55e690>"
            ]
          },
          "metadata": {
            "tags": []
          },
          "execution_count": 36
        },
        {
          "output_type": "display_data",
          "data": {
            "image/png": "[encoded data removed]",
            "text/plain": [
              "<Figure size 576x288 with 1 Axes>"
            ]
          },
          "metadata": {
            "tags": [],
            "needs_background": "light"
          }
        }
      ]
    },
    {
      "cell_type": "markdown",
      "metadata": {
        "id": "XZ26ZeeNC9tz"
      },
      "source": [
        "데이터의 분포가 0~25000까지 크게 펼쳐져 있던 것에서 많이 개선되었습니다."
      ]
    },
    {
      "cell_type": "code",
      "metadata": {
        "colab": {
          "base_uri": "https://localhost:8080/"
        },
        "id": "F9fBXTAlsxIy",
        "outputId": "6d2e74ad-0ba5-47fd-e259-e7e6a9f6fb80"
      },
      "source": [
        "# Class 열을 제외한 열만을 뽑아온다.\n",
        "X_data = standard_card_df_copy.iloc[:, :-1]\n",
        "\n",
        "# Class 열만을 뽑아온다.\n",
        "y_data = standard_card_df_copy.iloc[:, -1]\n",
        "\n",
        "# 열의 개수가 1개 감소\n",
        "print(X_data.shape)\n",
        "\n",
        "# 열의 개수가 1개\n",
        "print(y_data.shape)"
      ],
      "execution_count": null,
      "outputs": [
        {
          "output_type": "stream",
          "text": [
            "(284807, 29)\n",
            "(284807,)\n"
          ],
          "name": "stdout"
        }
      ]
    },
    {
      "cell_type": "code",
      "metadata": {
        "id": "2EFkWqSLtBPr"
      },
      "source": [
        "# X_data와 y_data를 7:3 비율로 분할\n",
        "X_train, X_test, y_train, y_test = train_test_split(X_data, y_data, test_size=0.3, random_state=0, stratify=y_data)"
      ],
      "execution_count": null,
      "outputs": []
    },
    {
      "cell_type": "code",
      "metadata": {
        "id": "B791i-xnsmXd"
      },
      "source": [
        "model = LogisticRegression()\n",
        "model.fit(X_train, y_train)\n",
        "y_pred = model.predict(X_test)"
      ],
      "execution_count": null,
      "outputs": []
    },
    {
      "cell_type": "code",
      "metadata": {
        "colab": {
          "base_uri": "https://localhost:8080/"
        },
        "id": "QLNOIh0RtD3k",
        "outputId": "4e3cf64b-2928-46c5-f182-7e71c7dfd6b7"
      },
      "source": [
        "metrics(y_test, y_pred)"
      ],
      "execution_count": null,
      "outputs": [
        {
          "output_type": "stream",
          "text": [
            "정확도 : 0.9992, 정밀도 : 0.8654, 재현률 : 0.6081\n",
            "f1-score : 0.7143\n"
          ],
          "name": "stdout"
        }
      ]
    },
    {
      "cell_type": "markdown",
      "metadata": {
        "id": "4bD4ld_-Tcer"
      },
      "source": [
        "다소 성능에 변화가 생겼습니다."
      ]
    },
    {
      "cell_type": "markdown",
      "metadata": {
        "id": "X3_DMZJDUHYD"
      },
      "source": [
        "이번에는 데이터 분포도가 심각하게 왜곡되어 있을 경우 사용하는 방법인 로그 변환으로 진행해봅시다."
      ]
    },
    {
      "cell_type": "code",
      "metadata": {
        "id": "_Md-wUOnUJ7q"
      },
      "source": [
        "log_card_df_copy = card_df.copy()\n",
        "amount_n = np.log1p(log_card_df_copy['Amount'])\n",
        "log_card_df_copy.insert(0, 'Amount_Scaled', amount_n) # 추가\n",
        "log_card_df_copy.drop(['Time','Amount'], axis=1, inplace=True) # 제거"
      ],
      "execution_count": null,
      "outputs": []
    },
    {
      "cell_type": "code",
      "metadata": {
        "colab": {
          "base_uri": "https://localhost:8080/",
          "height": 299
        },
        "id": "mFQMLmz1UkzT",
        "outputId": "ab28c133-72c6-4724-ab75-0d99e6fef7c4"
      },
      "source": [
        "plt.figure(figsize=(8, 4))\n",
        "sns.distplot(log_card_df_copy['Amount_Scaled'])"
      ],
      "execution_count": null,
      "outputs": [
        {
          "output_type": "execute_result",
          "data": {
            "text/plain": [
              "<matplotlib.axes._subplots.AxesSubplot at 0x7f5a9b47fb10>"
            ]
          },
          "metadata": {
            "tags": []
          },
          "execution_count": 42
        },
        {
          "output_type": "display_data",
          "data": {
            "image/png": "[encoded data removed]",
            "text/plain": [
              "<Figure size 576x288 with 1 Axes>"
            ]
          },
          "metadata": {
            "tags": [],
            "needs_background": "light"
          }
        }
      ]
    },
    {
      "cell_type": "markdown",
      "metadata": {
        "id": "d6Mps0tKUpcf"
      },
      "source": [
        "분포도가 확연하게 바뀐 것을 확인할 수 있습니다. 해당 데이터로 로지스틱 회귀를 진행해봅시다."
      ]
    },
    {
      "cell_type": "code",
      "metadata": {
        "colab": {
          "base_uri": "https://localhost:8080/"
        },
        "id": "p9kDsZixUrog",
        "outputId": "65777704-a528-4e7c-99f8-285f3caebdbb"
      },
      "source": [
        "# Class 열을 제외한 열만을 뽑아온다.\n",
        "X_data = log_card_df_copy.iloc[:, :-1]\n",
        "\n",
        "# Class 열만을 뽑아온다.\n",
        "y_data = log_card_df_copy.iloc[:, -1]\n",
        "\n",
        "# 열의 개수가 1개 감소\n",
        "print(X_data.shape)\n",
        "\n",
        "# 열의 개수가 1개\n",
        "print(y_data.shape)"
      ],
      "execution_count": null,
      "outputs": [
        {
          "output_type": "stream",
          "text": [
            "(284807, 29)\n",
            "(284807,)\n"
          ],
          "name": "stdout"
        }
      ]
    },
    {
      "cell_type": "code",
      "metadata": {
        "id": "PMiCjfAOUyoN"
      },
      "source": [
        "# X_data와 y_data를 7:3 비율로 분할\n",
        "X_train, X_test, y_train, y_test = train_test_split(X_data, y_data, test_size=0.3, random_state=0, stratify=y_data)"
      ],
      "execution_count": null,
      "outputs": []
    },
    {
      "cell_type": "code",
      "metadata": {
        "id": "GzFjXIabU0q7"
      },
      "source": [
        "model = LogisticRegression()\n",
        "model.fit(X_train, y_train)\n",
        "y_pred = model.predict(X_test)"
      ],
      "execution_count": null,
      "outputs": []
    },
    {
      "cell_type": "code",
      "metadata": {
        "colab": {
          "base_uri": "https://localhost:8080/"
        },
        "id": "-5Jc74-TU17Y",
        "outputId": "31cba213-8d69-4b1c-f1a9-bae56f20b895"
      },
      "source": [
        "metrics(y_test, y_pred)"
      ],
      "execution_count": null,
      "outputs": [
        {
          "output_type": "stream",
          "text": [
            "정확도 : 0.9992, 정밀도 : 0.8812, 재현률 : 0.6014\n",
            "f1-score : 0.7149\n"
          ],
          "name": "stdout"
        }
      ]
    },
    {
      "cell_type": "markdown",
      "metadata": {
        "id": "b6SbMzDzU5ij"
      },
      "source": [
        "전반적으로 StandardScaler를 사용했을 때보다는 좋지 않은 성능을 얻었습니다."
      ]
    },
    {
      "cell_type": "markdown",
      "metadata": {
        "id": "oGz_vZ6RDwzD"
      },
      "source": [
        "이상치 데이터(Outlier, 아웃라이어)는 전체 데이터의 일반적인 패턴과는 다른 양상을 보이는 데이터입니다. 일반적이지 않은 패턴이기 때문에 머신 러닝 예측 성능에 영향을 줄 수 있는 요소가 됩니다. 여전히 많은 데이터 사이언티스들이 이상치 탐지를 위한 연구를 진행해오고 있습니다.  \n",
        "\n",
        "이상치 탐지 방법 중에서는 IRQ(Inter Qunatile Range) 방법이  있습니다. IRQ는 데이터의 사분위 값(Quantile)의 편차를 이용합니다. 사분위란 무엇일까요?  \n",
        "\n",
        "사분위는 전체 데이터들을 오름차순으로 정렬하고, 정확히 4등분(25%, 50%, 75%, 100%)으로 나눕니다. 여기서 75% 지점의 값과 25% 지점의 값의 차이를 IQR이라고 합니다. 이 IQR에 1.5를 곱해서 75% 지점의 값에 더하면 최댓값, 25% 지점의 값에서 빼면 최솟값으로 결정합니다. 이 때, 결정된 최댓값보다 크거나 최솟값보다 작은 값을 이상치 라고 간주합니다. 이 1.5라는 값은 사용자의 판단에 따라서 다른 값을 사용할 수도 있지만, 일반적으로는 1.5를 사용합니다."
      ]
    },
    {
      "cell_type": "markdown",
      "metadata": {
        "id": "VEnmj1zJNxR1"
      },
      "source": [
        "이제 이상치를 제거할 특성을 골라야 합니다. 모든 특성에 대해서 이상치를 제거하는 것은 시간적으로도 비효율적이고, 결과적으로 효과적이지도 않습니다. 레이블과 상관도가 높은 특성을 위주로 이상치를 제거하는 것이 좋습니다. 이러한 특성을 고르기 위해서 상관 분석을 진행해봅시다."
      ]
    },
    {
      "cell_type": "code",
      "metadata": {
        "colab": {
          "base_uri": "https://localhost:8080/",
          "height": 643
        },
        "id": "xcQjvo8AuRpe",
        "outputId": "2ffa822c-166e-41e5-e378-bb69f63fadd0"
      },
      "source": [
        "plt.figure(figsize=(15,10))\n",
        "sns.heatmap(card_df.corr(), annot = True, fmt = '.1f')"
      ],
      "execution_count": null,
      "outputs": [
        {
          "output_type": "execute_result",
          "data": {
            "text/plain": [
              "<matplotlib.axes._subplots.AxesSubplot at 0x7f5ab60c6490>"
            ]
          },
          "metadata": {
            "tags": []
          },
          "execution_count": 47
        },
        {
          "output_type": "display_data",
          "data": {
            "image/png": "[encoded data removed]",
            "text/plain": [
              "<Figure size 1080x720 with 2 Axes>"
            ]
          },
          "metadata": {
            "tags": [],
            "needs_background": "light"
          }
        }
      ]
    },
    {
      "cell_type": "markdown",
      "metadata": {
        "id": "yCvi5d16ORZ0"
      },
      "source": [
        "Class와 가장 상관관계가 높은 특성은 무엇인가요? V12, V14, V17이 -0.3으로 가장 음의 상관도가 높습니다. 여기서는 V14를 임의로 고르고 V14에 대한 이상치를 제거하는 방향으로 진행해봅시다."
      ]
    },
    {
      "cell_type": "code",
      "metadata": {
        "id": "NwsxXyQ1uWfO"
      },
      "source": [
        "import numpy as np\n",
        "\n",
        "def remove_outlier(df, column):\n",
        "    fraud = df[df['Class']==1][column]\n",
        "    quantile_25 = np.percentile(fraud.values, 25)\n",
        "    quantile_75 = np.percentile(fraud.values, 75)\n",
        "\n",
        "    # IQR에 1.5를 곱한다.\n",
        "    iqr = quantile_75 - quantile_25\n",
        "    iqr_weight = iqr * 1.5\n",
        "\n",
        "    # 최댓갑과 최솟값 연산.\n",
        "    lowest_val = quantile_25 - iqr_weight\n",
        "    highest_val = quantile_75 + iqr_weight\n",
        "\n",
        "    # 아웃라이어 필터링 후 아웃라이어에 해당되는 인덱스 리턴\n",
        "    outlier_index = fraud[(fraud < lowest_val) | (fraud > highest_val)].index\n",
        "    return outlier_index"
      ],
      "execution_count": null,
      "outputs": []
    },
    {
      "cell_type": "code",
      "metadata": {
        "colab": {
          "base_uri": "https://localhost:8080/"
        },
        "id": "6JX0yaCzukru",
        "outputId": "165b8504-5bc8-4f81-ab8a-cc9dfd26d5b1"
      },
      "source": [
        "outlier_index = remove_outlier(df=card_df, column='V14')\n",
        "print('이상치 샘플의 인덱스:', outlier_index)"
      ],
      "execution_count": null,
      "outputs": [
        {
          "output_type": "stream",
          "text": [
            "이상치 샘플의 인덱스: Int64Index([8296, 8615, 9035, 9252], dtype='int64')\n"
          ],
          "name": "stdout"
        }
      ]
    },
    {
      "cell_type": "markdown",
      "metadata": {
        "id": "na7foqmsTg7Z"
      },
      "source": [
        "총 4개의 데이터가 이상치 데이터로 뽑혔습니다. 이번에는 정규화 + 이상치 데이터 검출을 진행한 데이터로 평가해봅시다."
      ]
    },
    {
      "cell_type": "code",
      "metadata": {
        "id": "7YXc9YBKVWJJ"
      },
      "source": [
        "outlier_index = remove_outlier(df=standard_card_df_copy, column='V14')\n",
        "standard_card_df_copy.drop(outlier_index, axis=0, inplace=True)"
      ],
      "execution_count": null,
      "outputs": []
    },
    {
      "cell_type": "code",
      "metadata": {
        "colab": {
          "base_uri": "https://localhost:8080/"
        },
        "id": "VSS41SAAVlwy",
        "outputId": "111eed2f-6cc7-48c6-fdd8-39350020c155"
      },
      "source": [
        "len(standard_card_df_copy)"
      ],
      "execution_count": null,
      "outputs": [
        {
          "output_type": "execute_result",
          "data": {
            "text/plain": [
              "284803"
            ]
          },
          "metadata": {
            "tags": []
          },
          "execution_count": 51
        }
      ]
    },
    {
      "cell_type": "markdown",
      "metadata": {
        "id": "OmIpeIGLVqDa"
      },
      "source": [
        "기존에는 284807의 샘플수였으나 현재 4개가 감소된 284803의 데이터를 가진다."
      ]
    },
    {
      "cell_type": "code",
      "metadata": {
        "colab": {
          "base_uri": "https://localhost:8080/"
        },
        "id": "yvf7SCj6V6VZ",
        "outputId": "c1688950-bc0c-4546-f1c0-9e0d17759882"
      },
      "source": [
        "# Class 열을 제외한 열만을 뽑아온다.\n",
        "X_data = standard_card_df_copy.iloc[:, :-1]\n",
        "\n",
        "# Class 열만을 뽑아온다.\n",
        "y_data = standard_card_df_copy.iloc[:, -1]\n",
        "\n",
        "# 열의 개수가 1개 감소\n",
        "print(X_data.shape)\n",
        "\n",
        "# 열의 개수가 1개\n",
        "print(y_data.shape)"
      ],
      "execution_count": null,
      "outputs": [
        {
          "output_type": "stream",
          "text": [
            "(284803, 29)\n",
            "(284803,)\n"
          ],
          "name": "stdout"
        }
      ]
    },
    {
      "cell_type": "code",
      "metadata": {
        "id": "i8SXZg4fVt0s"
      },
      "source": [
        "# X_data와 y_data를 7:3 비율로 분할\n",
        "X_train, X_test, y_train, y_test = train_test_split(X_data, y_data, test_size=0.3, random_state=0, stratify=y_data)"
      ],
      "execution_count": null,
      "outputs": []
    },
    {
      "cell_type": "code",
      "metadata": {
        "id": "S5dK2tG-Vw0Y"
      },
      "source": [
        "model = LogisticRegression()\n",
        "model.fit(X_train, y_train)\n",
        "y_pred = model.predict(X_test)"
      ],
      "execution_count": null,
      "outputs": []
    },
    {
      "cell_type": "code",
      "metadata": {
        "colab": {
          "base_uri": "https://localhost:8080/"
        },
        "id": "DHoOc2FnVyTG",
        "outputId": "384d0543-a7d0-4964-e7e9-d622ae0c84e0"
      },
      "source": [
        "metrics(y_test, y_pred)"
      ],
      "execution_count": null,
      "outputs": [
        {
          "output_type": "stream",
          "text": [
            "정확도 : 0.9993, 정밀도 : 0.8596, 재현률 : 0.6712\n",
            "f1-score : 0.7538\n"
          ],
          "name": "stdout"
        }
      ]
    },
    {
      "cell_type": "markdown",
      "metadata": {
        "id": "CxLwtEaIzzMP"
      },
      "source": [
        "재현률과 f1 score가 상승하였습니다."
      ]
    },
    {
      "cell_type": "code",
      "metadata": {
        "id": "fqi8RMvfZ32n"
      },
      "source": [
        "#모델 구성하기\n",
        "model = Sequential()\n",
        "model.add(Dense(32,input_dim=len(X_train.columns) ,activation=\"relu\"))\n",
        "model.add(Dropout(0.3))\n",
        "for i in range(2):\n",
        "    model.add(Dense(32,activation=\"relu\"))\n",
        "    model.add(Dropout(0.3))\n",
        "model.add(Dense(1, kernel_initializer='uniform', activation='sigmoid'))"
      ],
      "execution_count": null,
      "outputs": []
    },
    {
      "cell_type": "code",
      "metadata": {
        "id": "N96QWce3Z6dx"
      },
      "source": [
        "model.compile(loss='binary_crossentropy', optimizer='adam',  metrics=['acc'])"
      ],
      "execution_count": null,
      "outputs": []
    },
    {
      "cell_type": "code",
      "metadata": {
        "id": "hWQgd3Q3Z80W"
      },
      "source": [
        "mc = ModelCheckpoint('best_model.h5', monitor='val_acc', mode='max', verbose=1, save_best_only=True)"
      ],
      "execution_count": null,
      "outputs": []
    },
    {
      "cell_type": "code",
      "metadata": {
        "colab": {
          "base_uri": "https://localhost:8080/"
        },
        "id": "BLRUWGvyZ-7e",
        "outputId": "bd482c76-d377-48c5-9cb4-ac86b995ff04"
      },
      "source": [
        "hist = model.fit(X_train, y_train, epochs=10, callbacks=[mc], batch_size=64, validation_data=(X_test, y_test))"
      ],
      "execution_count": null,
      "outputs": [
        {
          "output_type": "stream",
          "text": [
            "Epoch 1/10\n",
            "3116/3116 [==============================] - 10s 3ms/step - loss: 0.0165 - acc: 0.9979 - val_loss: 0.0038 - val_acc: 0.9991\n",
            "\n",
            "Epoch 00001: val_acc improved from -inf to 0.99909, saving model to best_model.h5\n",
            "Epoch 2/10\n",
            "3116/3116 [==============================] - 10s 3ms/step - loss: 0.0043 - acc: 0.9992 - val_loss: 0.0036 - val_acc: 0.9994\n",
            "\n",
            "Epoch 00002: val_acc improved from 0.99909 to 0.99940, saving model to best_model.h5\n",
            "Epoch 3/10\n",
            "3116/3116 [==============================] - 9s 3ms/step - loss: 0.0040 - acc: 0.9993 - val_loss: 0.0033 - val_acc: 0.9994\n",
            "\n",
            "Epoch 00003: val_acc did not improve from 0.99940\n",
            "Epoch 4/10\n",
            "3116/3116 [==============================] - 10s 3ms/step - loss: 0.0036 - acc: 0.9993 - val_loss: 0.0032 - val_acc: 0.9994\n",
            "\n",
            "Epoch 00004: val_acc improved from 0.99940 to 0.99944, saving model to best_model.h5\n",
            "Epoch 5/10\n",
            "3116/3116 [==============================] - 10s 3ms/step - loss: 0.0035 - acc: 0.9994 - val_loss: 0.0029 - val_acc: 0.9994\n",
            "\n",
            "Epoch 00005: val_acc improved from 0.99944 to 0.99945, saving model to best_model.h5\n",
            "Epoch 6/10\n",
            "3116/3116 [==============================] - 10s 3ms/step - loss: 0.0032 - acc: 0.9994 - val_loss: 0.0036 - val_acc: 0.9994\n",
            "\n",
            "Epoch 00006: val_acc did not improve from 0.99945\n",
            "Epoch 7/10\n",
            "3116/3116 [==============================] - 10s 3ms/step - loss: 0.0032 - acc: 0.9994 - val_loss: 0.0030 - val_acc: 0.9995\n",
            "\n",
            "Epoch 00007: val_acc improved from 0.99945 to 0.99946, saving model to best_model.h5\n",
            "Epoch 8/10\n",
            "3116/3116 [==============================] - 10s 3ms/step - loss: 0.0033 - acc: 0.9994 - val_loss: 0.0030 - val_acc: 0.9995\n",
            "\n",
            "Epoch 00008: val_acc improved from 0.99946 to 0.99947, saving model to best_model.h5\n",
            "Epoch 9/10\n",
            "3116/3116 [==============================] - 9s 3ms/step - loss: 0.0030 - acc: 0.9994 - val_loss: 0.0036 - val_acc: 0.9994\n",
            "\n",
            "Epoch 00009: val_acc did not improve from 0.99947\n",
            "Epoch 10/10\n",
            "3116/3116 [==============================] - 9s 3ms/step - loss: 0.0032 - acc: 0.9994 - val_loss: 0.0031 - val_acc: 0.9994\n",
            "\n",
            "Epoch 00010: val_acc did not improve from 0.99947\n"
          ],
          "name": "stdout"
        }
      ]
    },
    {
      "cell_type": "code",
      "metadata": {
        "id": "SnA2mRkMaBNu"
      },
      "source": [
        "model = load_model('best_model.h5')"
      ],
      "execution_count": null,
      "outputs": []
    },
    {
      "cell_type": "code",
      "metadata": {
        "id": "Uy-O9H6laEE8"
      },
      "source": [
        "y_pred = model.predict_classes(X_test)"
      ],
      "execution_count": null,
      "outputs": []
    },
    {
      "cell_type": "code",
      "metadata": {
        "colab": {
          "base_uri": "https://localhost:8080/"
        },
        "id": "2RNcgVQDaGVP",
        "outputId": "0ef1eef0-0847-4761-d738-29a0daceb852"
      },
      "source": [
        "y_pred"
      ],
      "execution_count": null,
      "outputs": [
        {
          "output_type": "execute_result",
          "data": {
            "text/plain": [
              "array([[0],\n",
              "       [0],\n",
              "       [0],\n",
              "       ...,\n",
              "       [0],\n",
              "       [0],\n",
              "       [0]], dtype=int32)"
            ]
          },
          "metadata": {
            "tags": []
          },
          "execution_count": 62
        }
      ]
    },
    {
      "cell_type": "code",
      "metadata": {
        "colab": {
          "base_uri": "https://localhost:8080/"
        },
        "id": "bkj1c-j8aHGr",
        "outputId": "235e0c67-e173-4861-e1f3-d7c4028ecbf0"
      },
      "source": [
        "metrics(y_test, y_pred)"
      ],
      "execution_count": null,
      "outputs": [
        {
          "output_type": "stream",
          "text": [
            "정확도 : 0.9995, 정밀도 : 0.8797, 재현률 : 0.8014\n",
            "f1-score : 0.8387\n"
          ],
          "name": "stdout"
        }
      ]
    }
  ]
}